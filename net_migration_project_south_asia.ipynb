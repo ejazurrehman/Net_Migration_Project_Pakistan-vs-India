{
 "cells": [
  {
   "cell_type": "markdown",
   "id": "61704224",
   "metadata": {},
   "source": [
    "## Net Migration Project South Asia\n",
    "Prepared By: Ejaz-ur-Rehman\\\n",
    "Date: 23-04-2025\\\n",
    "Email ID: ijazfinance@gmail.com"
   ]
  },
  {
   "cell_type": "code",
   "execution_count": 4,
   "id": "0159daee",
   "metadata": {},
   "outputs": [],
   "source": [
    "# Import liabraries\n",
    "import pandas as pd\n",
    "import numpy as np\n",
    "import matplotlib.pyplot as plt\n",
    "import seaborn as sns\n",
    "import plotly.express as px"
   ]
  },
  {
   "cell_type": "code",
   "execution_count": 5,
   "id": "3f09617c",
   "metadata": {},
   "outputs": [
    {
     "data": {
      "text/html": [
       "<div>\n",
       "<style scoped>\n",
       "    .dataframe tbody tr th:only-of-type {\n",
       "        vertical-align: middle;\n",
       "    }\n",
       "\n",
       "    .dataframe tbody tr th {\n",
       "        vertical-align: top;\n",
       "    }\n",
       "\n",
       "    .dataframe thead th {\n",
       "        text-align: right;\n",
       "    }\n",
       "</style>\n",
       "<table border=\"1\" class=\"dataframe\">\n",
       "  <thead>\n",
       "    <tr style=\"text-align: right;\">\n",
       "      <th></th>\n",
       "      <th>Years</th>\n",
       "      <th>Pakistan</th>\n",
       "      <th>India</th>\n",
       "    </tr>\n",
       "  </thead>\n",
       "  <tbody>\n",
       "    <tr>\n",
       "      <th>0</th>\n",
       "      <td>1960</td>\n",
       "      <td>0</td>\n",
       "      <td>146955</td>\n",
       "    </tr>\n",
       "    <tr>\n",
       "      <th>1</th>\n",
       "      <td>1961</td>\n",
       "      <td>-66991</td>\n",
       "      <td>295177</td>\n",
       "    </tr>\n",
       "    <tr>\n",
       "      <th>2</th>\n",
       "      <td>1962</td>\n",
       "      <td>-65780</td>\n",
       "      <td>-70514</td>\n",
       "    </tr>\n",
       "    <tr>\n",
       "      <th>3</th>\n",
       "      <td>1963</td>\n",
       "      <td>-64552</td>\n",
       "      <td>21640</td>\n",
       "    </tr>\n",
       "    <tr>\n",
       "      <th>4</th>\n",
       "      <td>1964</td>\n",
       "      <td>-63298</td>\n",
       "      <td>-141916</td>\n",
       "    </tr>\n",
       "  </tbody>\n",
       "</table>\n",
       "</div>"
      ],
      "text/plain": [
       "   Years  Pakistan   India\n",
       "0   1960         0  146955\n",
       "1   1961    -66991  295177\n",
       "2   1962    -65780  -70514\n",
       "3   1963    -64552   21640\n",
       "4   1964    -63298 -141916"
      ]
     },
     "execution_count": 5,
     "metadata": {},
     "output_type": "execute_result"
    }
   ],
   "source": [
    "# load the dataset\n",
    "df = pd.read_csv('./data_set/data_net_migration.csv')\n",
    "df.head()"
   ]
  },
  {
   "cell_type": "code",
   "execution_count": 6,
   "id": "1c20712b",
   "metadata": {},
   "outputs": [
    {
     "name": "stdout",
     "output_type": "stream",
     "text": [
      "<class 'pandas.core.frame.DataFrame'>\n",
      "RangeIndex: 65 entries, 0 to 64\n",
      "Data columns (total 3 columns):\n",
      " #   Column    Non-Null Count  Dtype\n",
      "---  ------    --------------  -----\n",
      " 0   Years     65 non-null     int64\n",
      " 1   Pakistan  65 non-null     int64\n",
      " 2   India     65 non-null     int64\n",
      "dtypes: int64(3)\n",
      "memory usage: 1.7 KB\n"
     ]
    }
   ],
   "source": [
    "df.info()"
   ]
  },
  {
   "cell_type": "markdown",
   "id": "d27f40c6",
   "metadata": {},
   "source": [
    "## Data Span\n",
    "- We get Net Migration data from 1690 to 2024 for both Pakistan and India. \n",
    "  - The data includes annual figures, allowing for a detailed analysis of migration trends over the years.\n",
    "  - The data is sourced from the World Bank, ensuring its reliability and accuracy.\n",
    "  \n",
    "Net Migration:\n",
    "> \n",
    ">  Net Migration is the difference between the number of people entering a country (immigrants) and the number of people leaving the country (emigrants) over a specific period of time.\n",
    "> \n",
    "> Formula:\n",
    "$$\n",
    "\\text{Net Migration} = \\text{Immigrants} - \\text{Emigrants}\n",
    "$$\n",
    ">\n",
    "> Explanation:\n",
    "  - If the result is 'positive', more people are entering the country than leaving (net in-migration).\n",
    "  - If the result is 'negative', more people are leaving the country than entering (net out-migration).\n",
    "\n",
    "Net Migration Rate:\n",
    "$$\n",
    "\\text{Net Migration Rate} = \\left( \\frac{\\text{Immigrants} - \\text{Emigrants}}{\\text{Total Population}} \\right) \\times 1000\n",
    "$$\n",
    "\n"
   ]
  },
  {
   "cell_type": "code",
   "execution_count": 7,
   "id": "23df8d09",
   "metadata": {},
   "outputs": [
    {
     "name": "stdout",
     "output_type": "stream",
     "text": [
      "Defaulting to user installation because normal site-packages is not writeable\n",
      "Requirement already satisfied: wbdata in c:\\users\\dell\\appdata\\local\\packages\\pythonsoftwarefoundation.python.3.13_qbz5n2kfra8p0\\localcache\\local-packages\\python313\\site-packages (1.0.0)\n",
      "Requirement already satisfied: pandas in c:\\users\\dell\\appdata\\local\\packages\\pythonsoftwarefoundation.python.3.13_qbz5n2kfra8p0\\localcache\\local-packages\\python313\\site-packages (2.2.3)\n",
      "Requirement already satisfied: appdirs<2.0,>=1.4 in c:\\users\\dell\\appdata\\local\\packages\\pythonsoftwarefoundation.python.3.13_qbz5n2kfra8p0\\localcache\\local-packages\\python313\\site-packages (from wbdata) (1.4.4)\n",
      "Requirement already satisfied: backoff<3.0.0,>=2.2.1 in c:\\users\\dell\\appdata\\local\\packages\\pythonsoftwarefoundation.python.3.13_qbz5n2kfra8p0\\localcache\\local-packages\\python313\\site-packages (from wbdata) (2.2.1)\n",
      "Requirement already satisfied: cachetools<6.0.0,>=5.3.2 in c:\\users\\dell\\appdata\\local\\packages\\pythonsoftwarefoundation.python.3.13_qbz5n2kfra8p0\\localcache\\local-packages\\python313\\site-packages (from wbdata) (5.5.2)\n",
      "Requirement already satisfied: dateparser<2.0.0,>=1.2.0 in c:\\users\\dell\\appdata\\local\\packages\\pythonsoftwarefoundation.python.3.13_qbz5n2kfra8p0\\localcache\\local-packages\\python313\\site-packages (from wbdata) (1.2.1)\n",
      "Requirement already satisfied: decorator<6.0.0,>=5.1.1 in c:\\users\\dell\\appdata\\local\\packages\\pythonsoftwarefoundation.python.3.13_qbz5n2kfra8p0\\localcache\\local-packages\\python313\\site-packages (from wbdata) (5.1.1)\n",
      "Requirement already satisfied: requests<3.0,>=2.0 in c:\\users\\dell\\appdata\\local\\packages\\pythonsoftwarefoundation.python.3.13_qbz5n2kfra8p0\\localcache\\local-packages\\python313\\site-packages (from wbdata) (2.32.3)\n",
      "Requirement already satisfied: shelved-cache<0.4.0,>=0.3.1 in c:\\users\\dell\\appdata\\local\\packages\\pythonsoftwarefoundation.python.3.13_qbz5n2kfra8p0\\localcache\\local-packages\\python313\\site-packages (from wbdata) (0.3.1)\n",
      "Requirement already satisfied: tabulate<0.9.0,>=0.8.5 in c:\\users\\dell\\appdata\\local\\packages\\pythonsoftwarefoundation.python.3.13_qbz5n2kfra8p0\\localcache\\local-packages\\python313\\site-packages (from wbdata) (0.8.10)\n",
      "Requirement already satisfied: numpy>=1.26.0 in c:\\users\\dell\\appdata\\local\\packages\\pythonsoftwarefoundation.python.3.13_qbz5n2kfra8p0\\localcache\\local-packages\\python313\\site-packages (from pandas) (2.2.2)\n",
      "Requirement already satisfied: python-dateutil>=2.8.2 in c:\\users\\dell\\appdata\\local\\packages\\pythonsoftwarefoundation.python.3.13_qbz5n2kfra8p0\\localcache\\local-packages\\python313\\site-packages (from pandas) (2.9.0.post0)\n",
      "Requirement already satisfied: pytz>=2020.1 in c:\\users\\dell\\appdata\\local\\packages\\pythonsoftwarefoundation.python.3.13_qbz5n2kfra8p0\\localcache\\local-packages\\python313\\site-packages (from pandas) (2024.2)\n",
      "Requirement already satisfied: tzdata>=2022.7 in c:\\users\\dell\\appdata\\local\\packages\\pythonsoftwarefoundation.python.3.13_qbz5n2kfra8p0\\localcache\\local-packages\\python313\\site-packages (from pandas) (2025.1)\n",
      "Requirement already satisfied: regex!=2019.02.19,!=2021.8.27,>=2015.06.24 in c:\\users\\dell\\appdata\\local\\packages\\pythonsoftwarefoundation.python.3.13_qbz5n2kfra8p0\\localcache\\local-packages\\python313\\site-packages (from dateparser<2.0.0,>=1.2.0->wbdata) (2024.11.6)\n",
      "Requirement already satisfied: tzlocal>=0.2 in c:\\users\\dell\\appdata\\local\\packages\\pythonsoftwarefoundation.python.3.13_qbz5n2kfra8p0\\localcache\\local-packages\\python313\\site-packages (from dateparser<2.0.0,>=1.2.0->wbdata) (5.3.1)\n",
      "Requirement already satisfied: six>=1.5 in c:\\users\\dell\\appdata\\local\\packages\\pythonsoftwarefoundation.python.3.13_qbz5n2kfra8p0\\localcache\\local-packages\\python313\\site-packages (from python-dateutil>=2.8.2->pandas) (1.17.0)\n",
      "Requirement already satisfied: charset-normalizer<4,>=2 in c:\\users\\dell\\appdata\\local\\packages\\pythonsoftwarefoundation.python.3.13_qbz5n2kfra8p0\\localcache\\local-packages\\python313\\site-packages (from requests<3.0,>=2.0->wbdata) (3.4.1)\n",
      "Requirement already satisfied: idna<4,>=2.5 in c:\\users\\dell\\appdata\\local\\packages\\pythonsoftwarefoundation.python.3.13_qbz5n2kfra8p0\\localcache\\local-packages\\python313\\site-packages (from requests<3.0,>=2.0->wbdata) (3.10)\n",
      "Requirement already satisfied: urllib3<3,>=1.21.1 in c:\\users\\dell\\appdata\\local\\packages\\pythonsoftwarefoundation.python.3.13_qbz5n2kfra8p0\\localcache\\local-packages\\python313\\site-packages (from requests<3.0,>=2.0->wbdata) (2.3.0)\n",
      "Requirement already satisfied: certifi>=2017.4.17 in c:\\users\\dell\\appdata\\local\\packages\\pythonsoftwarefoundation.python.3.13_qbz5n2kfra8p0\\localcache\\local-packages\\python313\\site-packages (from requests<3.0,>=2.0->wbdata) (2025.1.31)\n",
      "Note: you may need to restart the kernel to use updated packages.\n"
     ]
    }
   ],
   "source": [
    "pip install wbdata pandas\n"
   ]
  },
  {
   "cell_type": "markdown",
   "id": "25e3d67f",
   "metadata": {},
   "source": [
    "- We don't have the data for Populaiton of Pakistan and India. We will get the populaito data from world bank API.\n",
    "- Further, we will add with Net Migration data set too for the analysis of demographic trends."
   ]
  },
  {
   "cell_type": "code",
   "execution_count": 8,
   "id": "a558f714",
   "metadata": {},
   "outputs": [
    {
     "data": {
      "text/html": [
       "<div>\n",
       "<style scoped>\n",
       "    .dataframe tbody tr th:only-of-type {\n",
       "        vertical-align: middle;\n",
       "    }\n",
       "\n",
       "    .dataframe tbody tr th {\n",
       "        vertical-align: top;\n",
       "    }\n",
       "\n",
       "    .dataframe thead tr th {\n",
       "        text-align: left;\n",
       "    }\n",
       "\n",
       "    .dataframe thead tr:last-of-type th {\n",
       "        text-align: right;\n",
       "    }\n",
       "</style>\n",
       "<table border=\"1\" class=\"dataframe\">\n",
       "  <thead>\n",
       "    <tr>\n",
       "      <th></th>\n",
       "      <th colspan=\"2\" halign=\"left\">net_migration</th>\n",
       "      <th colspan=\"2\" halign=\"left\">total_population</th>\n",
       "    </tr>\n",
       "    <tr>\n",
       "      <th>country</th>\n",
       "      <th>India</th>\n",
       "      <th>Pakistan</th>\n",
       "      <th>India</th>\n",
       "      <th>Pakistan</th>\n",
       "    </tr>\n",
       "    <tr>\n",
       "      <th>year</th>\n",
       "      <th></th>\n",
       "      <th></th>\n",
       "      <th></th>\n",
       "      <th></th>\n",
       "    </tr>\n",
       "  </thead>\n",
       "  <tbody>\n",
       "    <tr>\n",
       "      <th>1960</th>\n",
       "      <td>146955.0</td>\n",
       "      <td>0.0</td>\n",
       "      <td>435990338.0</td>\n",
       "      <td>45709310.0</td>\n",
       "    </tr>\n",
       "    <tr>\n",
       "      <th>1961</th>\n",
       "      <td>295177.0</td>\n",
       "      <td>-66991.0</td>\n",
       "      <td>446564729.0</td>\n",
       "      <td>46921277.0</td>\n",
       "    </tr>\n",
       "    <tr>\n",
       "      <th>1962</th>\n",
       "      <td>-70514.0</td>\n",
       "      <td>-65780.0</td>\n",
       "      <td>457283090.0</td>\n",
       "      <td>48156128.0</td>\n",
       "    </tr>\n",
       "    <tr>\n",
       "      <th>1963</th>\n",
       "      <td>21640.0</td>\n",
       "      <td>-64552.0</td>\n",
       "      <td>468138575.0</td>\n",
       "      <td>49447776.0</td>\n",
       "    </tr>\n",
       "    <tr>\n",
       "      <th>1964</th>\n",
       "      <td>-141916.0</td>\n",
       "      <td>-63298.0</td>\n",
       "      <td>479229598.0</td>\n",
       "      <td>50799999.0</td>\n",
       "    </tr>\n",
       "  </tbody>\n",
       "</table>\n",
       "</div>"
      ],
      "text/plain": [
       "        net_migration          total_population            \n",
       "country         India Pakistan            India    Pakistan\n",
       "year                                                       \n",
       "1960         146955.0      0.0      435990338.0  45709310.0\n",
       "1961         295177.0 -66991.0      446564729.0  46921277.0\n",
       "1962         -70514.0 -65780.0      457283090.0  48156128.0\n",
       "1963          21640.0 -64552.0      468138575.0  49447776.0\n",
       "1964        -141916.0 -63298.0      479229598.0  50799999.0"
      ]
     },
     "execution_count": 8,
     "metadata": {},
     "output_type": "execute_result"
    }
   ],
   "source": [
    "import wbdata\n",
    "import pandas as pd\n",
    "\n",
    "# Country codes for Pakistan and India\n",
    "countries = [\"PAK\", \"IND\"]\n",
    "\n",
    "# Indicators: Population and Net Migration\n",
    "indicators = {\n",
    "    \"SP.POP.TOTL\": \"total_population\",\n",
    "    \"SM.POP.NETM\": \"net_migration\",\n",
    "}\n",
    "\n",
    "# Download data\n",
    "df = wbdata.get_dataframe(indicators, country=countries)\n",
    "\n",
    "# Reset index to work with columns\n",
    "df = df.reset_index()\n",
    "\n",
    "# Convert 'date' to datetime format\n",
    "df['date'] = pd.to_datetime(df['date'], errors='coerce')\n",
    "\n",
    "# Extract only the year (no need for full date)\n",
    "df['year'] = df['date'].dt.year\n",
    "\n",
    "# Filter data from 1960 to 2024\n",
    "df = df[(df['year'] >= 1960) & (df['year'] <= 2024)]\n",
    "\n",
    "# Pivot to make data more readable\n",
    "df_pivot = df.pivot_table(index=\"year\", columns=[\"country\"], values=[\"total_population\", \"net_migration\"])\n",
    "df_pivot = df_pivot.sort_index()\n",
    "\n",
    "# Save the combined data\n",
    "df_pivot.to_csv(\"./data_set/indo_pak_total_pop_net_migration.csv\")\n",
    "df_pivot.head()\n",
    "\n"
   ]
  },
  {
   "cell_type": "code",
   "execution_count": 9,
   "id": "2b3f74da",
   "metadata": {},
   "outputs": [],
   "source": [
    "df = df_pivot.copy()"
   ]
  },
  {
   "cell_type": "code",
   "execution_count": 10,
   "id": "1a4a5e08",
   "metadata": {},
   "outputs": [
    {
     "name": "stdout",
     "output_type": "stream",
     "text": [
      "<class 'wbdata.client.DataFrame'>\n",
      "Index: 65 entries, 1960 to 2024\n",
      "Data columns (total 4 columns):\n",
      " #   Column                        Non-Null Count  Dtype  \n",
      "---  ------                        --------------  -----  \n",
      " 0   (net_migration, India)        65 non-null     float64\n",
      " 1   (net_migration, Pakistan)     65 non-null     float64\n",
      " 2   (total_population, India)     64 non-null     float64\n",
      " 3   (total_population, Pakistan)  64 non-null     float64\n",
      "dtypes: float64(4)\n",
      "memory usage: 2.3 KB\n"
     ]
    }
   ],
   "source": [
    "df.info()"
   ]
  },
  {
   "cell_type": "code",
   "execution_count": 11,
   "id": "fa298870",
   "metadata": {},
   "outputs": [
    {
     "data": {
      "text/html": [
       "<div>\n",
       "<style scoped>\n",
       "    .dataframe tbody tr th:only-of-type {\n",
       "        vertical-align: middle;\n",
       "    }\n",
       "\n",
       "    .dataframe tbody tr th {\n",
       "        vertical-align: top;\n",
       "    }\n",
       "\n",
       "    .dataframe thead th {\n",
       "        text-align: right;\n",
       "    }\n",
       "</style>\n",
       "<table border=\"1\" class=\"dataframe\">\n",
       "  <thead>\n",
       "    <tr style=\"text-align: right;\">\n",
       "      <th></th>\n",
       "      <th>Country</th>\n",
       "      <th>Year</th>\n",
       "      <th>total_population</th>\n",
       "      <th>net_migration</th>\n",
       "    </tr>\n",
       "  </thead>\n",
       "  <tbody>\n",
       "    <tr>\n",
       "      <th>64</th>\n",
       "      <td>India</td>\n",
       "      <td>1960</td>\n",
       "      <td>435990338.0</td>\n",
       "      <td>146955.0</td>\n",
       "    </tr>\n",
       "    <tr>\n",
       "      <th>63</th>\n",
       "      <td>India</td>\n",
       "      <td>1961</td>\n",
       "      <td>446564729.0</td>\n",
       "      <td>295177.0</td>\n",
       "    </tr>\n",
       "    <tr>\n",
       "      <th>62</th>\n",
       "      <td>India</td>\n",
       "      <td>1962</td>\n",
       "      <td>457283090.0</td>\n",
       "      <td>-70514.0</td>\n",
       "    </tr>\n",
       "    <tr>\n",
       "      <th>61</th>\n",
       "      <td>India</td>\n",
       "      <td>1963</td>\n",
       "      <td>468138575.0</td>\n",
       "      <td>21640.0</td>\n",
       "    </tr>\n",
       "    <tr>\n",
       "      <th>60</th>\n",
       "      <td>India</td>\n",
       "      <td>1964</td>\n",
       "      <td>479229598.0</td>\n",
       "      <td>-141916.0</td>\n",
       "    </tr>\n",
       "  </tbody>\n",
       "</table>\n",
       "</div>"
      ],
      "text/plain": [
       "   Country  Year  total_population  net_migration\n",
       "64   India  1960       435990338.0       146955.0\n",
       "63   India  1961       446564729.0       295177.0\n",
       "62   India  1962       457283090.0       -70514.0\n",
       "61   India  1963       468138575.0        21640.0\n",
       "60   India  1964       479229598.0      -141916.0"
      ]
     },
     "execution_count": 11,
     "metadata": {},
     "output_type": "execute_result"
    }
   ],
   "source": [
    "import wbdata\n",
    "import pandas as pd\n",
    "\n",
    "# Country codes\n",
    "countries = [\"PAK\", \"IND\"]\n",
    "\n",
    "# Indicators\n",
    "indicators = {\n",
    "    \"SP.POP.TOTL\": \"total_population\",\n",
    "    \"SM.POP.NETM\": \"net_migration\"\n",
    "}\n",
    "\n",
    "# Download data\n",
    "df = wbdata.get_dataframe(indicators, country=countries)\n",
    "\n",
    "# Reset index\n",
    "df = df.reset_index()\n",
    "\n",
    "# Convert date to datetime, then extract year\n",
    "df['date'] = pd.to_datetime(df['date'], errors='coerce')\n",
    "df['Year'] = df['date'].dt.year\n",
    "\n",
    "# Rename columns for consistency\n",
    "df = df.rename(columns={'country': 'Country'})\n",
    "\n",
    "# Keep only the necessary columns in the right order\n",
    "df_cleaned = df[['Country', 'Year', 'total_population', 'net_migration']]\n",
    "\n",
    "# Filter data between 1960 and 2024\n",
    "df_cleaned = df_cleaned[(df_cleaned['Year'] >= 1960) & (df_cleaned['Year'] <= 2024)]\n",
    "\n",
    "# Optional: Sort the data for better readability\n",
    "df_cleaned = df_cleaned.sort_values(by=['Country', 'Year'])\n",
    "\n",
    "# Save to CSV\n",
    "df_cleaned.to_csv(\"./data_set/population_netmigration.csv\", index=False)\n",
    "df_cleaned.head()\n",
    "\n"
   ]
  },
  {
   "cell_type": "markdown",
   "id": "96ec0a1a",
   "metadata": {},
   "source": [
    "- Here, we are taking the data for South Asia, include Pakistan, India, Bangladesh, Sri Lanka and Afghanistan.\n",
    "- These countries are characterized by diverse cultures, languages, and economic conditions.\n",
    "- The data set created via World Bank API for the reliability."
   ]
  },
  {
   "cell_type": "code",
   "execution_count": 12,
   "id": "15daacf0",
   "metadata": {},
   "outputs": [
    {
     "data": {
      "text/html": [
       "<div>\n",
       "<style scoped>\n",
       "    .dataframe tbody tr th:only-of-type {\n",
       "        vertical-align: middle;\n",
       "    }\n",
       "\n",
       "    .dataframe tbody tr th {\n",
       "        vertical-align: top;\n",
       "    }\n",
       "\n",
       "    .dataframe thead th {\n",
       "        text-align: right;\n",
       "    }\n",
       "</style>\n",
       "<table border=\"1\" class=\"dataframe\">\n",
       "  <thead>\n",
       "    <tr style=\"text-align: right;\">\n",
       "      <th></th>\n",
       "      <th>Country</th>\n",
       "      <th>Year</th>\n",
       "      <th>total_population</th>\n",
       "      <th>net_migration</th>\n",
       "    </tr>\n",
       "  </thead>\n",
       "  <tbody>\n",
       "    <tr>\n",
       "      <th>64</th>\n",
       "      <td>Afghanistan</td>\n",
       "      <td>1960</td>\n",
       "      <td>9035043.0</td>\n",
       "      <td>2606.0</td>\n",
       "    </tr>\n",
       "    <tr>\n",
       "      <th>63</th>\n",
       "      <td>Afghanistan</td>\n",
       "      <td>1961</td>\n",
       "      <td>9214083.0</td>\n",
       "      <td>6109.0</td>\n",
       "    </tr>\n",
       "    <tr>\n",
       "      <th>62</th>\n",
       "      <td>Afghanistan</td>\n",
       "      <td>1962</td>\n",
       "      <td>9404406.0</td>\n",
       "      <td>7016.0</td>\n",
       "    </tr>\n",
       "    <tr>\n",
       "      <th>61</th>\n",
       "      <td>Afghanistan</td>\n",
       "      <td>1963</td>\n",
       "      <td>9604487.0</td>\n",
       "      <td>6681.0</td>\n",
       "    </tr>\n",
       "    <tr>\n",
       "      <th>60</th>\n",
       "      <td>Afghanistan</td>\n",
       "      <td>1964</td>\n",
       "      <td>9814318.0</td>\n",
       "      <td>7079.0</td>\n",
       "    </tr>\n",
       "  </tbody>\n",
       "</table>\n",
       "</div>"
      ],
      "text/plain": [
       "        Country  Year  total_population  net_migration\n",
       "64  Afghanistan  1960         9035043.0         2606.0\n",
       "63  Afghanistan  1961         9214083.0         6109.0\n",
       "62  Afghanistan  1962         9404406.0         7016.0\n",
       "61  Afghanistan  1963         9604487.0         6681.0\n",
       "60  Afghanistan  1964         9814318.0         7079.0"
      ]
     },
     "execution_count": 12,
     "metadata": {},
     "output_type": "execute_result"
    }
   ],
   "source": [
    "import wbdata\n",
    "import pandas as pd\n",
    "\n",
    "# Country codes for: Pakistan, India, Bangladesh, Sri Lanka, Afghanistan\n",
    "countries = [\"PAK\", \"IND\", \"BGD\", \"LKA\", \"AFG\"]\n",
    "\n",
    "# Indicators: Total Population and Net Migration\n",
    "indicators = {\n",
    "    \"SP.POP.TOTL\": \"total_population\",\n",
    "    \"SM.POP.NETM\": \"net_migration\"\n",
    "}\n",
    "\n",
    "# Download data\n",
    "df = wbdata.get_dataframe(indicators, country=countries)\n",
    "\n",
    "# Reset index to access columns\n",
    "df = df.reset_index()\n",
    "\n",
    "# Convert date to datetime and extract the year\n",
    "df['date'] = pd.to_datetime(df['date'], errors='coerce')\n",
    "df['Year'] = df['date'].dt.year\n",
    "\n",
    "# Rename country column\n",
    "df = df.rename(columns={'country': 'Country'})\n",
    "\n",
    "# Select and reorder necessary columns\n",
    "df_cleaned = df[['Country', 'Year', 'total_population', 'net_migration']]\n",
    "\n",
    "# Filter years 1960 to 2024\n",
    "df_cleaned = df_cleaned[(df_cleaned['Year'] >= 1960) & (df_cleaned['Year'] <= 2024)]\n",
    "\n",
    "# Sort by country and year for readability\n",
    "df_cleaned = df_cleaned.sort_values(by=['Country', 'Year'])\n",
    "\n",
    "# Save the final data to a CSV file\n",
    "df_cleaned.to_csv(\"./data_set/population_netmigration_south_asia.csv\", index=False)\n",
    "df_cleaned.head()\n"
   ]
  },
  {
   "cell_type": "code",
   "execution_count": 13,
   "id": "6b471ec7",
   "metadata": {},
   "outputs": [],
   "source": [
    "df = df_cleaned.copy()"
   ]
  },
  {
   "cell_type": "code",
   "execution_count": 14,
   "id": "362369f3",
   "metadata": {},
   "outputs": [
    {
     "name": "stdout",
     "output_type": "stream",
     "text": [
      "<class 'wbdata.client.DataFrame'>\n",
      "Index: 325 entries, 64 to 195\n",
      "Data columns (total 4 columns):\n",
      " #   Column            Non-Null Count  Dtype  \n",
      "---  ------            --------------  -----  \n",
      " 0   Country           325 non-null    object \n",
      " 1   Year              325 non-null    int32  \n",
      " 2   total_population  320 non-null    float64\n",
      " 3   net_migration     325 non-null    float64\n",
      "dtypes: float64(2), int32(1), object(1)\n",
      "memory usage: 11.4+ KB\n"
     ]
    }
   ],
   "source": [
    "df.info()"
   ]
  },
  {
   "cell_type": "code",
   "execution_count": 15,
   "id": "8ffdc7ae",
   "metadata": {},
   "outputs": [
    {
     "data": {
      "text/plain": [
       "array(['Afghanistan', 'Bangladesh', 'India', 'Pakistan', 'Sri Lanka'],\n",
       "      dtype=object)"
      ]
     },
     "execution_count": 15,
     "metadata": {},
     "output_type": "execute_result"
    }
   ],
   "source": [
    "df['Country'].unique()"
   ]
  },
  {
   "cell_type": "code",
   "execution_count": 16,
   "id": "94f5756d",
   "metadata": {},
   "outputs": [
    {
     "data": {
      "text/plain": [
       "Country\n",
       "Afghanistan    65\n",
       "Bangladesh     65\n",
       "India          65\n",
       "Pakistan       65\n",
       "Sri Lanka      65\n",
       "Name: count, dtype: int64"
      ]
     },
     "execution_count": 16,
     "metadata": {},
     "output_type": "execute_result"
    }
   ],
   "source": [
    "df['Country'].value_counts()"
   ]
  },
  {
   "cell_type": "code",
   "execution_count": 17,
   "id": "decd921e",
   "metadata": {},
   "outputs": [
    {
     "data": {
      "text/plain": [
       "array([1960, 1961, 1962, 1963, 1964, 1965, 1966, 1967, 1968, 1969, 1970,\n",
       "       1971, 1972, 1973, 1974, 1975, 1976, 1977, 1978, 1979, 1980, 1981,\n",
       "       1982, 1983, 1984, 1985, 1986, 1987, 1988, 1989, 1990, 1991, 1992,\n",
       "       1993, 1994, 1995, 1996, 1997, 1998, 1999, 2000, 2001, 2002, 2003,\n",
       "       2004, 2005, 2006, 2007, 2008, 2009, 2010, 2011, 2012, 2013, 2014,\n",
       "       2015, 2016, 2017, 2018, 2019, 2020, 2021, 2022, 2023, 2024],\n",
       "      dtype=int32)"
      ]
     },
     "execution_count": 17,
     "metadata": {},
     "output_type": "execute_result"
    }
   ],
   "source": [
    "df['Year'].unique()"
   ]
  },
  {
   "cell_type": "code",
   "execution_count": 18,
   "id": "0d900c16",
   "metadata": {},
   "outputs": [
    {
     "data": {
      "text/html": [
       "<div>\n",
       "<style scoped>\n",
       "    .dataframe tbody tr th:only-of-type {\n",
       "        vertical-align: middle;\n",
       "    }\n",
       "\n",
       "    .dataframe tbody tr th {\n",
       "        vertical-align: top;\n",
       "    }\n",
       "\n",
       "    .dataframe thead th {\n",
       "        text-align: right;\n",
       "    }\n",
       "</style>\n",
       "<table border=\"1\" class=\"dataframe\">\n",
       "  <thead>\n",
       "    <tr style=\"text-align: right;\">\n",
       "      <th></th>\n",
       "      <th>total_population</th>\n",
       "      <th>net_migration</th>\n",
       "    </tr>\n",
       "  </thead>\n",
       "  <tbody>\n",
       "    <tr>\n",
       "      <th>count</th>\n",
       "      <td>3.200000e+02</td>\n",
       "      <td>3.250000e+02</td>\n",
       "    </tr>\n",
       "    <tr>\n",
       "      <th>mean</th>\n",
       "      <td>2.384586e+08</td>\n",
       "      <td>-2.267304e+05</td>\n",
       "    </tr>\n",
       "    <tr>\n",
       "      <th>std</th>\n",
       "      <td>3.701459e+08</td>\n",
       "      <td>4.769833e+05</td>\n",
       "    </tr>\n",
       "    <tr>\n",
       "      <th>min</th>\n",
       "      <td>9.035043e+06</td>\n",
       "      <td>-2.290411e+06</td>\n",
       "    </tr>\n",
       "    <tr>\n",
       "      <th>25%</th>\n",
       "      <td>1.952354e+07</td>\n",
       "      <td>-3.421770e+05</td>\n",
       "    </tr>\n",
       "    <tr>\n",
       "      <th>50%</th>\n",
       "      <td>7.487059e+07</td>\n",
       "      <td>-6.699100e+04</td>\n",
       "    </tr>\n",
       "    <tr>\n",
       "      <th>75%</th>\n",
       "      <td>1.857447e+08</td>\n",
       "      <td>8.800000e+02</td>\n",
       "    </tr>\n",
       "    <tr>\n",
       "      <th>max</th>\n",
       "      <td>1.438070e+09</td>\n",
       "      <td>1.197329e+06</td>\n",
       "    </tr>\n",
       "  </tbody>\n",
       "</table>\n",
       "</div>"
      ],
      "text/plain": [
       "       total_population  net_migration\n",
       "count      3.200000e+02   3.250000e+02\n",
       "mean       2.384586e+08  -2.267304e+05\n",
       "std        3.701459e+08   4.769833e+05\n",
       "min        9.035043e+06  -2.290411e+06\n",
       "25%        1.952354e+07  -3.421770e+05\n",
       "50%        7.487059e+07  -6.699100e+04\n",
       "75%        1.857447e+08   8.800000e+02\n",
       "max        1.438070e+09   1.197329e+06"
      ]
     },
     "execution_count": 18,
     "metadata": {},
     "output_type": "execute_result"
    }
   ],
   "source": [
    "df[['total_population','net_migration']].describe()"
   ]
  },
  {
   "cell_type": "code",
   "execution_count": 21,
   "id": "a762870d",
   "metadata": {},
   "outputs": [
    {
     "data": {
      "image/png": "[encoded data removed]",
      "text/plain": [
       "<Figure size 1000x600 with 1 Axes>"
      ]
     },
     "metadata": {},
     "output_type": "display_data"
    },
    {
     "data": {
      "image/png": "[encoded data removed]",
      "text/plain": [
       "<Figure size 1000x600 with 1 Axes>"
      ]
     },
     "metadata": {},
     "output_type": "display_data"
    }
   ],
   "source": [
    "# Histogram of Total Population\n",
    "plt.figure(figsize=(10, 6))\n",
    "plt.hist(df['total_population'], bins=30, color='skyblue', edgecolor='black')\n",
    "plt.title('Histogram of Total Population')\n",
    "plt.xlabel('Total Population')\n",
    "plt.ylabel('Frequency')\n",
    "plt.grid(axis='y', alpha=0.75)\n",
    "plt.show()\n",
    "# Histogram of Net Migration\n",
    "plt.figure(figsize=(10, 6))\n",
    "plt.hist(df['net_migration'], bins=30, color='salmon', edgecolor='black')\n",
    "plt.title('Histogram of Net Migration')\n",
    "plt.xlabel('Net Migration')\n",
    "plt.ylabel('Frequency')\n",
    "plt.grid(axis='y', alpha=0.75)\n",
    "plt.show()"
   ]
  }
 ],
 "metadata": {
  "kernelspec": {
   "display_name": "Python 3",
   "language": "python",
   "name": "python3"
  },
  "language_info": {
   "codemirror_mode": {
    "name": "ipython",
    "version": 3
   },
   "file_extension": ".py",
   "mimetype": "text/x-python",
   "name": "python",
   "nbconvert_exporter": "python",
   "pygments_lexer": "ipython3",
   "version": "3.13.3"
  }
 },
 "nbformat": 4,
 "nbformat_minor": 5
}
