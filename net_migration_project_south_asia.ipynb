{
 "cells": [
  {
   "cell_type": "markdown",
   "id": "61704224",
   "metadata": {},
   "source": [
    "# Author Info\n",
    "---\n",
    "Name: **Ejaz-ur-Rehman**\\\n",
    "Business Unit Head | Data Analyst\\\n",
    "MBA (Accounting & Finance), MS (Finance)\\\n",
    "Crystal Tech (Project of MUZHAB Group)\\\n",
    "Karachi, Pakistan\n",
    "\n",
    "![Date](https://img.shields.io/badge/Date-23--April--2025-green?logo=google-calendar)\n",
    "[![Email](https://img.shields.io/badge/Email-ijazfinance%40gmail.com-blue?logo=gmail)](mailto:ijazfinance@gmail.com)\n",
    "[![LinkedIn](https://img.shields.io/badge/LinkedIn-Ejaz--ur--Rehman-blue?logo=linkedin)](https://www.linkedin.com/in/ejaz-ur-rehman/)\n",
    "[![GitHub](https://img.shields.io/badge/GitHub-ejazurrehman-black?logo=github)](https://github.com/ejazurrehman)"
   ]
  },
  {
   "cell_type": "markdown",
   "id": "ab206bf4",
   "metadata": {},
   "source": [
    "# Net Migration Project South Asia\n",
    "---"
   ]
  },
  {
   "cell_type": "markdown",
   "id": "d27f40c6",
   "metadata": {},
   "source": [
    "## Data Span\n",
    "---\n",
    "- We get Net Migration data from 1690 to 2024 for both Pakistan and India. \n",
    "  - The data includes annual figures, allowing for a detailed analysis of migration trends over the years.\n",
    "  - The data is sourced from the World Bank, ensuring its reliability and accuracy.\n",
    "  \n",
    "Net Migration:\n",
    "> \n",
    ">  Net Migration is the difference between the number of people entering a country (immigrants) and the number of people leaving the country (emigrants) over a specific period of time.\n",
    "> \n",
    "> Formula:\n",
    "$$\n",
    "\\text{Net Migration} = \\text{Immigrants} - \\text{Emigrants}\n",
    "$$\n",
    ">\n",
    "> Explanation:\n",
    "  - If the result is 'positive', more people are entering the country than leaving (net in-migration).\n",
    "  - If the result is 'negative', more people are leaving the country than entering (net out-migration).\n",
    "\n",
    "Net Migration Rate:\n",
    "$$\n",
    "\\text{Net Migration Rate} = \\left( \\frac{\\text{Immigrants} - \\text{Emigrants}}{\\text{Total Population}} \\right) \\times 1000\n",
    "$$\n",
    "\n"
   ]
  },
  {
   "cell_type": "code",
   "execution_count": 4,
   "id": "0159daee",
   "metadata": {},
   "outputs": [],
   "source": [
    "# Import liabraries\n",
    "import pandas as pd\n",
    "import numpy as np\n",
    "import matplotlib.pyplot as plt\n",
    "import seaborn as sns\n",
    "import plotly.express as px"
   ]
  },
  {
   "cell_type": "code",
   "execution_count": 5,
   "id": "3f09617c",
   "metadata": {},
   "outputs": [
    {
     "data": {
      "text/html": [
       "<div>\n",
       "<style scoped>\n",
       "    .dataframe tbody tr th:only-of-type {\n",
       "        vertical-align: middle;\n",
       "    }\n",
       "\n",
       "    .dataframe tbody tr th {\n",
       "        vertical-align: top;\n",
       "    }\n",
       "\n",
       "    .dataframe thead th {\n",
       "        text-align: right;\n",
       "    }\n",
       "</style>\n",
       "<table border=\"1\" class=\"dataframe\">\n",
       "  <thead>\n",
       "    <tr style=\"text-align: right;\">\n",
       "      <th></th>\n",
       "      <th>Years</th>\n",
       "      <th>Pakistan</th>\n",
       "      <th>India</th>\n",
       "    </tr>\n",
       "  </thead>\n",
       "  <tbody>\n",
       "    <tr>\n",
       "      <th>0</th>\n",
       "      <td>1960</td>\n",
       "      <td>0</td>\n",
       "      <td>146955</td>\n",
       "    </tr>\n",
       "    <tr>\n",
       "      <th>1</th>\n",
       "      <td>1961</td>\n",
       "      <td>-66991</td>\n",
       "      <td>295177</td>\n",
       "    </tr>\n",
       "    <tr>\n",
       "      <th>2</th>\n",
       "      <td>1962</td>\n",
       "      <td>-65780</td>\n",
       "      <td>-70514</td>\n",
       "    </tr>\n",
       "    <tr>\n",
       "      <th>3</th>\n",
       "      <td>1963</td>\n",
       "      <td>-64552</td>\n",
       "      <td>21640</td>\n",
       "    </tr>\n",
       "    <tr>\n",
       "      <th>4</th>\n",
       "      <td>1964</td>\n",
       "      <td>-63298</td>\n",
       "      <td>-141916</td>\n",
       "    </tr>\n",
       "  </tbody>\n",
       "</table>\n",
       "</div>"
      ],
      "text/plain": [
       "   Years  Pakistan   India\n",
       "0   1960         0  146955\n",
       "1   1961    -66991  295177\n",
       "2   1962    -65780  -70514\n",
       "3   1963    -64552   21640\n",
       "4   1964    -63298 -141916"
      ]
     },
     "execution_count": 5,
     "metadata": {},
     "output_type": "execute_result"
    }
   ],
   "source": [
    "# load the dataset\n",
    "df = pd.read_csv('./data_set/data_net_migration.csv')\n",
    "df.head()"
   ]
  },
  {
   "cell_type": "code",
   "execution_count": 6,
   "id": "1c20712b",
   "metadata": {},
   "outputs": [
    {
     "name": "stdout",
     "output_type": "stream",
     "text": [
      "<class 'pandas.core.frame.DataFrame'>\n",
      "RangeIndex: 65 entries, 0 to 64\n",
      "Data columns (total 3 columns):\n",
      " #   Column    Non-Null Count  Dtype\n",
      "---  ------    --------------  -----\n",
      " 0   Years     65 non-null     int64\n",
      " 1   Pakistan  65 non-null     int64\n",
      " 2   India     65 non-null     int64\n",
      "dtypes: int64(3)\n",
      "memory usage: 1.7 KB\n"
     ]
    }
   ],
   "source": [
    "df.info()"
   ]
  },
  {
   "cell_type": "code",
   "execution_count": 7,
   "id": "23df8d09",
   "metadata": {},
   "outputs": [
    {
     "name": "stdout",
     "output_type": "stream",
     "text": [
      "Defaulting to user installation because normal site-packages is not writeable\n",
      "Requirement already satisfied: wbdata in c:\\users\\dell\\appdata\\local\\packages\\pythonsoftwarefoundation.python.3.13_qbz5n2kfra8p0\\localcache\\local-packages\\python313\\site-packages (1.0.0)\n",
      "Requirement already satisfied: pandas in c:\\users\\dell\\appdata\\local\\packages\\pythonsoftwarefoundation.python.3.13_qbz5n2kfra8p0\\localcache\\local-packages\\python313\\site-packages (2.2.3)\n",
      "Requirement already satisfied: appdirs<2.0,>=1.4 in c:\\users\\dell\\appdata\\local\\packages\\pythonsoftwarefoundation.python.3.13_qbz5n2kfra8p0\\localcache\\local-packages\\python313\\site-packages (from wbdata) (1.4.4)\n",
      "Requirement already satisfied: backoff<3.0.0,>=2.2.1 in c:\\users\\dell\\appdata\\local\\packages\\pythonsoftwarefoundation.python.3.13_qbz5n2kfra8p0\\localcache\\local-packages\\python313\\site-packages (from wbdata) (2.2.1)\n",
      "Requirement already satisfied: cachetools<6.0.0,>=5.3.2 in c:\\users\\dell\\appdata\\local\\packages\\pythonsoftwarefoundation.python.3.13_qbz5n2kfra8p0\\localcache\\local-packages\\python313\\site-packages (from wbdata) (5.5.2)\n",
      "Requirement already satisfied: dateparser<2.0.0,>=1.2.0 in c:\\users\\dell\\appdata\\local\\packages\\pythonsoftwarefoundation.python.3.13_qbz5n2kfra8p0\\localcache\\local-packages\\python313\\site-packages (from wbdata) (1.2.1)\n",
      "Requirement already satisfied: decorator<6.0.0,>=5.1.1 in c:\\users\\dell\\appdata\\local\\packages\\pythonsoftwarefoundation.python.3.13_qbz5n2kfra8p0\\localcache\\local-packages\\python313\\site-packages (from wbdata) (5.1.1)\n",
      "Requirement already satisfied: requests<3.0,>=2.0 in c:\\users\\dell\\appdata\\local\\packages\\pythonsoftwarefoundation.python.3.13_qbz5n2kfra8p0\\localcache\\local-packages\\python313\\site-packages (from wbdata) (2.32.3)\n",
      "Requirement already satisfied: shelved-cache<0.4.0,>=0.3.1 in c:\\users\\dell\\appdata\\local\\packages\\pythonsoftwarefoundation.python.3.13_qbz5n2kfra8p0\\localcache\\local-packages\\python313\\site-packages (from wbdata) (0.3.1)\n",
      "Requirement already satisfied: tabulate<0.9.0,>=0.8.5 in c:\\users\\dell\\appdata\\local\\packages\\pythonsoftwarefoundation.python.3.13_qbz5n2kfra8p0\\localcache\\local-packages\\python313\\site-packages (from wbdata) (0.8.10)\n",
      "Requirement already satisfied: numpy>=1.26.0 in c:\\users\\dell\\appdata\\local\\packages\\pythonsoftwarefoundation.python.3.13_qbz5n2kfra8p0\\localcache\\local-packages\\python313\\site-packages (from pandas) (2.2.2)\n",
      "Requirement already satisfied: python-dateutil>=2.8.2 in c:\\users\\dell\\appdata\\local\\packages\\pythonsoftwarefoundation.python.3.13_qbz5n2kfra8p0\\localcache\\local-packages\\python313\\site-packages (from pandas) (2.9.0.post0)\n",
      "Requirement already satisfied: pytz>=2020.1 in c:\\users\\dell\\appdata\\local\\packages\\pythonsoftwarefoundation.python.3.13_qbz5n2kfra8p0\\localcache\\local-packages\\python313\\site-packages (from pandas) (2024.2)\n",
      "Requirement already satisfied: tzdata>=2022.7 in c:\\users\\dell\\appdata\\local\\packages\\pythonsoftwarefoundation.python.3.13_qbz5n2kfra8p0\\localcache\\local-packages\\python313\\site-packages (from pandas) (2025.1)\n",
      "Requirement already satisfied: regex!=2019.02.19,!=2021.8.27,>=2015.06.24 in c:\\users\\dell\\appdata\\local\\packages\\pythonsoftwarefoundation.python.3.13_qbz5n2kfra8p0\\localcache\\local-packages\\python313\\site-packages (from dateparser<2.0.0,>=1.2.0->wbdata) (2024.11.6)\n",
      "Requirement already satisfied: tzlocal>=0.2 in c:\\users\\dell\\appdata\\local\\packages\\pythonsoftwarefoundation.python.3.13_qbz5n2kfra8p0\\localcache\\local-packages\\python313\\site-packages (from dateparser<2.0.0,>=1.2.0->wbdata) (5.3.1)\n",
      "Requirement already satisfied: six>=1.5 in c:\\users\\dell\\appdata\\local\\packages\\pythonsoftwarefoundation.python.3.13_qbz5n2kfra8p0\\localcache\\local-packages\\python313\\site-packages (from python-dateutil>=2.8.2->pandas) (1.17.0)\n",
      "Requirement already satisfied: charset-normalizer<4,>=2 in c:\\users\\dell\\appdata\\local\\packages\\pythonsoftwarefoundation.python.3.13_qbz5n2kfra8p0\\localcache\\local-packages\\python313\\site-packages (from requests<3.0,>=2.0->wbdata) (3.4.1)\n",
      "Requirement already satisfied: idna<4,>=2.5 in c:\\users\\dell\\appdata\\local\\packages\\pythonsoftwarefoundation.python.3.13_qbz5n2kfra8p0\\localcache\\local-packages\\python313\\site-packages (from requests<3.0,>=2.0->wbdata) (3.10)\n",
      "Requirement already satisfied: urllib3<3,>=1.21.1 in c:\\users\\dell\\appdata\\local\\packages\\pythonsoftwarefoundation.python.3.13_qbz5n2kfra8p0\\localcache\\local-packages\\python313\\site-packages (from requests<3.0,>=2.0->wbdata) (2.3.0)\n",
      "Requirement already satisfied: certifi>=2017.4.17 in c:\\users\\dell\\appdata\\local\\packages\\pythonsoftwarefoundation.python.3.13_qbz5n2kfra8p0\\localcache\\local-packages\\python313\\site-packages (from requests<3.0,>=2.0->wbdata) (2025.1.31)\n",
      "Note: you may need to restart the kernel to use updated packages.\n"
     ]
    }
   ],
   "source": [
    "pip install wbdata pandas\n"
   ]
  },
  {
   "cell_type": "markdown",
   "id": "25e3d67f",
   "metadata": {},
   "source": [
    "- We don't have the data for Populaiton of Pakistan and India. We will get the populaito data from world bank API.\n",
    "- Further, we will add with Net Migration data set too for the analysis of demographic trends."
   ]
  },
  {
   "cell_type": "code",
   "execution_count": 8,
   "id": "a558f714",
   "metadata": {},
   "outputs": [
    {
     "data": {
      "text/html": [
       "<div>\n",
       "<style scoped>\n",
       "    .dataframe tbody tr th:only-of-type {\n",
       "        vertical-align: middle;\n",
       "    }\n",
       "\n",
       "    .dataframe tbody tr th {\n",
       "        vertical-align: top;\n",
       "    }\n",
       "\n",
       "    .dataframe thead tr th {\n",
       "        text-align: left;\n",
       "    }\n",
       "\n",
       "    .dataframe thead tr:last-of-type th {\n",
       "        text-align: right;\n",
       "    }\n",
       "</style>\n",
       "<table border=\"1\" class=\"dataframe\">\n",
       "  <thead>\n",
       "    <tr>\n",
       "      <th></th>\n",
       "      <th colspan=\"2\" halign=\"left\">net_migration</th>\n",
       "      <th colspan=\"2\" halign=\"left\">total_population</th>\n",
       "    </tr>\n",
       "    <tr>\n",
       "      <th>country</th>\n",
       "      <th>India</th>\n",
       "      <th>Pakistan</th>\n",
       "      <th>India</th>\n",
       "      <th>Pakistan</th>\n",
       "    </tr>\n",
       "    <tr>\n",
       "      <th>year</th>\n",
       "      <th></th>\n",
       "      <th></th>\n",
       "      <th></th>\n",
       "      <th></th>\n",
       "    </tr>\n",
       "  </thead>\n",
       "  <tbody>\n",
       "    <tr>\n",
       "      <th>1960</th>\n",
       "      <td>146955.0</td>\n",
       "      <td>0.0</td>\n",
       "      <td>435990338.0</td>\n",
       "      <td>45709310.0</td>\n",
       "    </tr>\n",
       "    <tr>\n",
       "      <th>1961</th>\n",
       "      <td>295177.0</td>\n",
       "      <td>-66991.0</td>\n",
       "      <td>446564729.0</td>\n",
       "      <td>46921277.0</td>\n",
       "    </tr>\n",
       "    <tr>\n",
       "      <th>1962</th>\n",
       "      <td>-70514.0</td>\n",
       "      <td>-65780.0</td>\n",
       "      <td>457283090.0</td>\n",
       "      <td>48156128.0</td>\n",
       "    </tr>\n",
       "    <tr>\n",
       "      <th>1963</th>\n",
       "      <td>21640.0</td>\n",
       "      <td>-64552.0</td>\n",
       "      <td>468138575.0</td>\n",
       "      <td>49447776.0</td>\n",
       "    </tr>\n",
       "    <tr>\n",
       "      <th>1964</th>\n",
       "      <td>-141916.0</td>\n",
       "      <td>-63298.0</td>\n",
       "      <td>479229598.0</td>\n",
       "      <td>50799999.0</td>\n",
       "    </tr>\n",
       "  </tbody>\n",
       "</table>\n",
       "</div>"
      ],
      "text/plain": [
       "        net_migration          total_population            \n",
       "country         India Pakistan            India    Pakistan\n",
       "year                                                       \n",
       "1960         146955.0      0.0      435990338.0  45709310.0\n",
       "1961         295177.0 -66991.0      446564729.0  46921277.0\n",
       "1962         -70514.0 -65780.0      457283090.0  48156128.0\n",
       "1963          21640.0 -64552.0      468138575.0  49447776.0\n",
       "1964        -141916.0 -63298.0      479229598.0  50799999.0"
      ]
     },
     "execution_count": 8,
     "metadata": {},
     "output_type": "execute_result"
    }
   ],
   "source": [
    "import wbdata\n",
    "import pandas as pd\n",
    "\n",
    "# Country codes for Pakistan and India\n",
    "countries = [\"PAK\", \"IND\"]\n",
    "\n",
    "# Indicators: Population and Net Migration\n",
    "indicators = {\n",
    "    \"SP.POP.TOTL\": \"total_population\",\n",
    "    \"SM.POP.NETM\": \"net_migration\",\n",
    "}\n",
    "\n",
    "# Download data\n",
    "df = wbdata.get_dataframe(indicators, country=countries)\n",
    "\n",
    "# Reset index to work with columns\n",
    "df = df.reset_index()\n",
    "\n",
    "# Convert 'date' to datetime format\n",
    "df['date'] = pd.to_datetime(df['date'], errors='coerce')\n",
    "\n",
    "# Extract only the year (no need for full date)\n",
    "df['year'] = df['date'].dt.year\n",
    "\n",
    "# Filter data from 1960 to 2024\n",
    "df = df[(df['year'] >= 1960) & (df['year'] <= 2024)]\n",
    "\n",
    "# Pivot to make data more readable\n",
    "df_pivot = df.pivot_table(index=\"year\", columns=[\"country\"], values=[\"total_population\", \"net_migration\"])\n",
    "df_pivot = df_pivot.sort_index()\n",
    "\n",
    "# Save the combined data\n",
    "df_pivot.to_csv(\"./data_set/indo_pak_total_pop_net_migration.csv\")\n",
    "df_pivot.head()\n",
    "\n"
   ]
  },
  {
   "cell_type": "code",
   "execution_count": 9,
   "id": "2b3f74da",
   "metadata": {},
   "outputs": [],
   "source": [
    "df = df_pivot.copy()"
   ]
  },
  {
   "cell_type": "code",
   "execution_count": 10,
   "id": "1a4a5e08",
   "metadata": {},
   "outputs": [
    {
     "name": "stdout",
     "output_type": "stream",
     "text": [
      "<class 'wbdata.client.DataFrame'>\n",
      "Index: 65 entries, 1960 to 2024\n",
      "Data columns (total 4 columns):\n",
      " #   Column                        Non-Null Count  Dtype  \n",
      "---  ------                        --------------  -----  \n",
      " 0   (net_migration, India)        65 non-null     float64\n",
      " 1   (net_migration, Pakistan)     65 non-null     float64\n",
      " 2   (total_population, India)     64 non-null     float64\n",
      " 3   (total_population, Pakistan)  64 non-null     float64\n",
      "dtypes: float64(4)\n",
      "memory usage: 2.3 KB\n"
     ]
    }
   ],
   "source": [
    "df.info()"
   ]
  },
  {
   "cell_type": "code",
   "execution_count": 11,
   "id": "fa298870",
   "metadata": {},
   "outputs": [
    {
     "data": {
      "text/html": [
       "<div>\n",
       "<style scoped>\n",
       "    .dataframe tbody tr th:only-of-type {\n",
       "        vertical-align: middle;\n",
       "    }\n",
       "\n",
       "    .dataframe tbody tr th {\n",
       "        vertical-align: top;\n",
       "    }\n",
       "\n",
       "    .dataframe thead th {\n",
       "        text-align: right;\n",
       "    }\n",
       "</style>\n",
       "<table border=\"1\" class=\"dataframe\">\n",
       "  <thead>\n",
       "    <tr style=\"text-align: right;\">\n",
       "      <th></th>\n",
       "      <th>Country</th>\n",
       "      <th>Year</th>\n",
       "      <th>total_population</th>\n",
       "      <th>net_migration</th>\n",
       "    </tr>\n",
       "  </thead>\n",
       "  <tbody>\n",
       "    <tr>\n",
       "      <th>64</th>\n",
       "      <td>India</td>\n",
       "      <td>1960</td>\n",
       "      <td>435990338.0</td>\n",
       "      <td>146955.0</td>\n",
       "    </tr>\n",
       "    <tr>\n",
       "      <th>63</th>\n",
       "      <td>India</td>\n",
       "      <td>1961</td>\n",
       "      <td>446564729.0</td>\n",
       "      <td>295177.0</td>\n",
       "    </tr>\n",
       "    <tr>\n",
       "      <th>62</th>\n",
       "      <td>India</td>\n",
       "      <td>1962</td>\n",
       "      <td>457283090.0</td>\n",
       "      <td>-70514.0</td>\n",
       "    </tr>\n",
       "    <tr>\n",
       "      <th>61</th>\n",
       "      <td>India</td>\n",
       "      <td>1963</td>\n",
       "      <td>468138575.0</td>\n",
       "      <td>21640.0</td>\n",
       "    </tr>\n",
       "    <tr>\n",
       "      <th>60</th>\n",
       "      <td>India</td>\n",
       "      <td>1964</td>\n",
       "      <td>479229598.0</td>\n",
       "      <td>-141916.0</td>\n",
       "    </tr>\n",
       "  </tbody>\n",
       "</table>\n",
       "</div>"
      ],
      "text/plain": [
       "   Country  Year  total_population  net_migration\n",
       "64   India  1960       435990338.0       146955.0\n",
       "63   India  1961       446564729.0       295177.0\n",
       "62   India  1962       457283090.0       -70514.0\n",
       "61   India  1963       468138575.0        21640.0\n",
       "60   India  1964       479229598.0      -141916.0"
      ]
     },
     "execution_count": 11,
     "metadata": {},
     "output_type": "execute_result"
    }
   ],
   "source": [
    "import wbdata\n",
    "import pandas as pd\n",
    "\n",
    "# Country codes\n",
    "countries = [\"PAK\", \"IND\"]\n",
    "\n",
    "# Indicators\n",
    "indicators = {\n",
    "    \"SP.POP.TOTL\": \"total_population\",\n",
    "    \"SM.POP.NETM\": \"net_migration\"\n",
    "}\n",
    "\n",
    "# Download data\n",
    "df = wbdata.get_dataframe(indicators, country=countries)\n",
    "\n",
    "# Reset index\n",
    "df = df.reset_index()\n",
    "\n",
    "# Convert date to datetime, then extract year\n",
    "df['date'] = pd.to_datetime(df['date'], errors='coerce')\n",
    "df['Year'] = df['date'].dt.year\n",
    "\n",
    "# Rename columns for consistency\n",
    "df = df.rename(columns={'country': 'Country'})\n",
    "\n",
    "# Keep only the necessary columns in the right order\n",
    "df_cleaned = df[['Country', 'Year', 'total_population', 'net_migration']]\n",
    "\n",
    "# Filter data between 1960 and 2024\n",
    "df_cleaned = df_cleaned[(df_cleaned['Year'] >= 1960) & (df_cleaned['Year'] <= 2024)]\n",
    "\n",
    "# Optional: Sort the data for better readability\n",
    "df_cleaned = df_cleaned.sort_values(by=['Country', 'Year'])\n",
    "\n",
    "# Save to CSV\n",
    "df_cleaned.to_csv(\"./data_set/population_netmigration.csv\", index=False)\n",
    "df_cleaned.head()\n",
    "\n"
   ]
  },
  {
   "cell_type": "markdown",
   "id": "96ec0a1a",
   "metadata": {},
   "source": [
    "- Here, we are taking the data for South Asia, include Pakistan, India, Bangladesh, Sri Lanka and Afghanistan.\n",
    "- These countries are characterized by diverse cultures, languages, and economic conditions.\n",
    "- The data set created via World Bank API for the reliability."
   ]
  },
  {
   "cell_type": "code",
   "execution_count": 12,
   "id": "15daacf0",
   "metadata": {},
   "outputs": [
    {
     "data": {
      "text/html": [
       "<div>\n",
       "<style scoped>\n",
       "    .dataframe tbody tr th:only-of-type {\n",
       "        vertical-align: middle;\n",
       "    }\n",
       "\n",
       "    .dataframe tbody tr th {\n",
       "        vertical-align: top;\n",
       "    }\n",
       "\n",
       "    .dataframe thead th {\n",
       "        text-align: right;\n",
       "    }\n",
       "</style>\n",
       "<table border=\"1\" class=\"dataframe\">\n",
       "  <thead>\n",
       "    <tr style=\"text-align: right;\">\n",
       "      <th></th>\n",
       "      <th>Country</th>\n",
       "      <th>Year</th>\n",
       "      <th>total_population</th>\n",
       "      <th>net_migration</th>\n",
       "    </tr>\n",
       "  </thead>\n",
       "  <tbody>\n",
       "    <tr>\n",
       "      <th>64</th>\n",
       "      <td>Afghanistan</td>\n",
       "      <td>1960</td>\n",
       "      <td>9035043.0</td>\n",
       "      <td>2606.0</td>\n",
       "    </tr>\n",
       "    <tr>\n",
       "      <th>63</th>\n",
       "      <td>Afghanistan</td>\n",
       "      <td>1961</td>\n",
       "      <td>9214083.0</td>\n",
       "      <td>6109.0</td>\n",
       "    </tr>\n",
       "    <tr>\n",
       "      <th>62</th>\n",
       "      <td>Afghanistan</td>\n",
       "      <td>1962</td>\n",
       "      <td>9404406.0</td>\n",
       "      <td>7016.0</td>\n",
       "    </tr>\n",
       "    <tr>\n",
       "      <th>61</th>\n",
       "      <td>Afghanistan</td>\n",
       "      <td>1963</td>\n",
       "      <td>9604487.0</td>\n",
       "      <td>6681.0</td>\n",
       "    </tr>\n",
       "    <tr>\n",
       "      <th>60</th>\n",
       "      <td>Afghanistan</td>\n",
       "      <td>1964</td>\n",
       "      <td>9814318.0</td>\n",
       "      <td>7079.0</td>\n",
       "    </tr>\n",
       "  </tbody>\n",
       "</table>\n",
       "</div>"
      ],
      "text/plain": [
       "        Country  Year  total_population  net_migration\n",
       "64  Afghanistan  1960         9035043.0         2606.0\n",
       "63  Afghanistan  1961         9214083.0         6109.0\n",
       "62  Afghanistan  1962         9404406.0         7016.0\n",
       "61  Afghanistan  1963         9604487.0         6681.0\n",
       "60  Afghanistan  1964         9814318.0         7079.0"
      ]
     },
     "execution_count": 12,
     "metadata": {},
     "output_type": "execute_result"
    }
   ],
   "source": [
    "import wbdata\n",
    "import pandas as pd\n",
    "\n",
    "# Country codes for: Pakistan, India, Bangladesh, Sri Lanka, Afghanistan\n",
    "countries = [\"PAK\", \"IND\", \"BGD\", \"LKA\", \"AFG\"]\n",
    "\n",
    "# Indicators: Total Population and Net Migration\n",
    "indicators = {\n",
    "    \"SP.POP.TOTL\": \"total_population\",\n",
    "    \"SM.POP.NETM\": \"net_migration\"\n",
    "}\n",
    "\n",
    "# Download data\n",
    "df = wbdata.get_dataframe(indicators, country=countries)\n",
    "\n",
    "# Reset index to access columns\n",
    "df = df.reset_index()\n",
    "\n",
    "# Convert date to datetime and extract the year\n",
    "df['date'] = pd.to_datetime(df['date'], errors='coerce')\n",
    "df['Year'] = df['date'].dt.year\n",
    "\n",
    "# Rename country column\n",
    "df = df.rename(columns={'country': 'Country'})\n",
    "\n",
    "# Select and reorder necessary columns\n",
    "df_cleaned = df[['Country', 'Year', 'total_population', 'net_migration']]\n",
    "\n",
    "# Filter years 1960 to 2024\n",
    "df_cleaned = df_cleaned[(df_cleaned['Year'] >= 1960) & (df_cleaned['Year'] <= 2024)]\n",
    "\n",
    "# Sort by country and year for readability\n",
    "df_cleaned = df_cleaned.sort_values(by=['Country', 'Year'])\n",
    "\n",
    "# Save the final data to a CSV file\n",
    "df_cleaned.to_csv(\"./data_set/population_netmigration_south_asia.csv\", index=False)\n",
    "df_cleaned.head()\n"
   ]
  },
  {
   "cell_type": "code",
   "execution_count": 13,
   "id": "6b471ec7",
   "metadata": {},
   "outputs": [],
   "source": [
    "df = df_cleaned.copy()"
   ]
  },
  {
   "cell_type": "code",
   "execution_count": 14,
   "id": "362369f3",
   "metadata": {},
   "outputs": [
    {
     "name": "stdout",
     "output_type": "stream",
     "text": [
      "<class 'wbdata.client.DataFrame'>\n",
      "Index: 325 entries, 64 to 195\n",
      "Data columns (total 4 columns):\n",
      " #   Column            Non-Null Count  Dtype  \n",
      "---  ------            --------------  -----  \n",
      " 0   Country           325 non-null    object \n",
      " 1   Year              325 non-null    int32  \n",
      " 2   total_population  320 non-null    float64\n",
      " 3   net_migration     325 non-null    float64\n",
      "dtypes: float64(2), int32(1), object(1)\n",
      "memory usage: 11.4+ KB\n"
     ]
    }
   ],
   "source": [
    "df.info()"
   ]
  },
  {
   "cell_type": "code",
   "execution_count": 15,
   "id": "8ffdc7ae",
   "metadata": {},
   "outputs": [
    {
     "data": {
      "text/plain": [
       "array(['Afghanistan', 'Bangladesh', 'India', 'Pakistan', 'Sri Lanka'],\n",
       "      dtype=object)"
      ]
     },
     "execution_count": 15,
     "metadata": {},
     "output_type": "execute_result"
    }
   ],
   "source": [
    "df['Country'].unique()"
   ]
  },
  {
   "cell_type": "code",
   "execution_count": 16,
   "id": "94f5756d",
   "metadata": {},
   "outputs": [
    {
     "data": {
      "text/plain": [
       "Country\n",
       "Afghanistan    65\n",
       "Bangladesh     65\n",
       "India          65\n",
       "Pakistan       65\n",
       "Sri Lanka      65\n",
       "Name: count, dtype: int64"
      ]
     },
     "execution_count": 16,
     "metadata": {},
     "output_type": "execute_result"
    }
   ],
   "source": [
    "df['Country'].value_counts()"
   ]
  },
  {
   "cell_type": "code",
   "execution_count": 17,
   "id": "decd921e",
   "metadata": {},
   "outputs": [
    {
     "data": {
      "text/plain": [
       "array([1960, 1961, 1962, 1963, 1964, 1965, 1966, 1967, 1968, 1969, 1970,\n",
       "       1971, 1972, 1973, 1974, 1975, 1976, 1977, 1978, 1979, 1980, 1981,\n",
       "       1982, 1983, 1984, 1985, 1986, 1987, 1988, 1989, 1990, 1991, 1992,\n",
       "       1993, 1994, 1995, 1996, 1997, 1998, 1999, 2000, 2001, 2002, 2003,\n",
       "       2004, 2005, 2006, 2007, 2008, 2009, 2010, 2011, 2012, 2013, 2014,\n",
       "       2015, 2016, 2017, 2018, 2019, 2020, 2021, 2022, 2023, 2024],\n",
       "      dtype=int32)"
      ]
     },
     "execution_count": 17,
     "metadata": {},
     "output_type": "execute_result"
    }
   ],
   "source": [
    "df['Year'].unique()"
   ]
  },
  {
   "cell_type": "code",
   "execution_count": 18,
   "id": "0d900c16",
   "metadata": {},
   "outputs": [
    {
     "data": {
      "text/html": [
       "<div>\n",
       "<style scoped>\n",
       "    .dataframe tbody tr th:only-of-type {\n",
       "        vertical-align: middle;\n",
       "    }\n",
       "\n",
       "    .dataframe tbody tr th {\n",
       "        vertical-align: top;\n",
       "    }\n",
       "\n",
       "    .dataframe thead th {\n",
       "        text-align: right;\n",
       "    }\n",
       "</style>\n",
       "<table border=\"1\" class=\"dataframe\">\n",
       "  <thead>\n",
       "    <tr style=\"text-align: right;\">\n",
       "      <th></th>\n",
       "      <th>total_population</th>\n",
       "      <th>net_migration</th>\n",
       "    </tr>\n",
       "  </thead>\n",
       "  <tbody>\n",
       "    <tr>\n",
       "      <th>count</th>\n",
       "      <td>3.200000e+02</td>\n",
       "      <td>3.250000e+02</td>\n",
       "    </tr>\n",
       "    <tr>\n",
       "      <th>mean</th>\n",
       "      <td>2.384586e+08</td>\n",
       "      <td>-2.267304e+05</td>\n",
       "    </tr>\n",
       "    <tr>\n",
       "      <th>std</th>\n",
       "      <td>3.701459e+08</td>\n",
       "      <td>4.769833e+05</td>\n",
       "    </tr>\n",
       "    <tr>\n",
       "      <th>min</th>\n",
       "      <td>9.035043e+06</td>\n",
       "      <td>-2.290411e+06</td>\n",
       "    </tr>\n",
       "    <tr>\n",
       "      <th>25%</th>\n",
       "      <td>1.952354e+07</td>\n",
       "      <td>-3.421770e+05</td>\n",
       "    </tr>\n",
       "    <tr>\n",
       "      <th>50%</th>\n",
       "      <td>7.487059e+07</td>\n",
       "      <td>-6.699100e+04</td>\n",
       "    </tr>\n",
       "    <tr>\n",
       "      <th>75%</th>\n",
       "      <td>1.857447e+08</td>\n",
       "      <td>8.800000e+02</td>\n",
       "    </tr>\n",
       "    <tr>\n",
       "      <th>max</th>\n",
       "      <td>1.438070e+09</td>\n",
       "      <td>1.197329e+06</td>\n",
       "    </tr>\n",
       "  </tbody>\n",
       "</table>\n",
       "</div>"
      ],
      "text/plain": [
       "       total_population  net_migration\n",
       "count      3.200000e+02   3.250000e+02\n",
       "mean       2.384586e+08  -2.267304e+05\n",
       "std        3.701459e+08   4.769833e+05\n",
       "min        9.035043e+06  -2.290411e+06\n",
       "25%        1.952354e+07  -3.421770e+05\n",
       "50%        7.487059e+07  -6.699100e+04\n",
       "75%        1.857447e+08   8.800000e+02\n",
       "max        1.438070e+09   1.197329e+06"
      ]
     },
     "execution_count": 18,
     "metadata": {},
     "output_type": "execute_result"
    }
   ],
   "source": [
    "df[['total_population','net_migration']].describe()"
   ]
  },
  {
   "cell_type": "code",
   "execution_count": 21,
   "id": "a762870d",
   "metadata": {},
   "outputs": [
    {
     "data": {
      "image/png": "[encoded data removed]",
      "text/plain": [
       "<Figure size 1000x600 with 1 Axes>"
      ]
     },
     "metadata": {},
     "output_type": "display_data"
    },
    {
     "data": {
      "image/png": "[encoded data removed]",
      "text/plain": [
       "<Figure size 1000x600 with 1 Axes>"
      ]
     },
     "metadata": {},
     "output_type": "display_data"
    }
   ],
   "source": [
    "# Histogram of Total Population\n",
    "plt.figure(figsize=(10, 6))\n",
    "plt.hist(df['total_population'], bins=30, color='skyblue', edgecolor='black')\n",
    "plt.title('Histogram of Total Population')\n",
    "plt.xlabel('Total Population')\n",
    "plt.ylabel('Frequency')\n",
    "plt.grid(axis='y', alpha=0.75)\n",
    "plt.show()\n",
    "# Histogram of Net Migration\n",
    "plt.figure(figsize=(10, 6))\n",
    "plt.hist(df['net_migration'], bins=30, color='salmon', edgecolor='black')\n",
    "plt.title('Histogram of Net Migration')\n",
    "plt.xlabel('Net Migration')\n",
    "plt.ylabel('Frequency')\n",
    "plt.grid(axis='y', alpha=0.75)\n",
    "plt.show()"
   ]
  },
  {
   "cell_type": "code",
   "execution_count": 25,
   "id": "aeab2735",
   "metadata": {},
   "outputs": [
    {
     "data": {
      "application/vnd.plotly.v1+json": {
       "config": {
        "plotlyServerURL": "https://plot.ly"
       },
       "data": [
        {
         "hovertemplate": "Country=Afghanistan<br>Year=%{x}<br>Total Population=%{y}<extra></extra>",
         "legendgroup": "Afghanistan",
         "line": {
          "color": "#636efa",
          "dash": "solid"
         },
         "marker": {
          "symbol": "circle"
         },
         "mode": "lines+markers",
         "name": "Afghanistan",
         "orientation": "v",
         "showlegend": true,
         "type": "scatter",
         "x": [
          1960,
          1961,
          1962,
          1963,
          1964,
          1965,
          1966,
          1967,
          1968,
          1969,
          1970,
          1971,
          1972,
          1973,
          1974,
          1975,
          1976,
          1977,
          1978,
          1979,
          1980,
          1981,
          1982,
          1983,
          1984,
          1985,
          1986,
          1987,
          1988,
          1989,
          1990,
          1991,
          1992,
          1993,
          1994,
          1995,
          1996,
          1997,
          1998,
          1999,
          2000,
          2001,
          2002,
          2003,
          2004,
          2005,
          2006,
          2007,
          2008,
          2009,
          2010,
          2011,
          2012,
          2013,
          2014,
          2015,
          2016,
          2017,
          2018,
          2019,
          2020,
          2021,
          2022,
          2023,
          2024
         ],
         "xaxis": "x",
         "y": [
          9035043,
          9214083,
          9404406,
          9604487,
          9814318,
          10036008,
          10266395,
          10505959,
          10756922,
          11017409,
          11290128,
          11567667,
          11853696,
          12157999,
          12469127,
          12773954,
          13059851,
          13340756,
          13611441,
          13655567,
          13169311,
          11937581,
          10991378,
          10917982,
          11190221,
          11426852,
          11420074,
          11387818,
          11523298,
          11874088,
          12045660,
          12238879,
          13278974,
          14943172,
          16250794,
          17065836,
          17763266,
          18452091,
          19159996,
          19887785,
          20130327,
          20284307,
          21378117,
          22733049,
          23560654,
          24404567,
          25424094,
          25909852,
          26482622,
          27466101,
          28284089,
          29347708,
          30560034,
          31622704,
          32792523,
          33831764,
          34700612,
          35688935,
          36743039,
          37856121,
          39068979,
          40000412,
          40578842,
          41454761,
          null
         ],
         "yaxis": "y"
        },
        {
         "hovertemplate": "Country=Bangladesh<br>Year=%{x}<br>Total Population=%{y}<extra></extra>",
         "legendgroup": "Bangladesh",
         "line": {
          "color": "#EF553B",
          "dash": "solid"
         },
         "marker": {
          "symbol": "circle"
         },
         "mode": "lines+markers",
         "name": "Bangladesh",
         "orientation": "v",
         "showlegend": true,
         "type": "scatter",
         "x": [
          1960,
          1961,
          1962,
          1963,
          1964,
          1965,
          1966,
          1967,
          1968,
          1969,
          1970,
          1971,
          1972,
          1973,
          1974,
          1975,
          1976,
          1977,
          1978,
          1979,
          1980,
          1981,
          1982,
          1983,
          1984,
          1985,
          1986,
          1987,
          1988,
          1989,
          1990,
          1991,
          1992,
          1993,
          1994,
          1995,
          1996,
          1997,
          1998,
          1999,
          2000,
          2001,
          2002,
          2003,
          2004,
          2005,
          2006,
          2007,
          2008,
          2009,
          2010,
          2011,
          2012,
          2013,
          2014,
          2015,
          2016,
          2017,
          2018,
          2019,
          2020,
          2021,
          2022,
          2023,
          2024
         ],
         "xaxis": "x",
         "y": [
          51828660,
          53310348,
          54881146,
          56504402,
          58178374,
          59902519,
          61669806,
          63510929,
          65408276,
          67294133,
          69058894,
          70276758,
          71641519,
          73722294,
          75839348,
          77854351,
          79855318,
          81867264,
          83889655,
          85935072,
          88016432,
          90303105,
          92814507,
          95335155,
          97814966,
          100253825,
          102635572,
          104959291,
          107216008,
          109433799,
          111633717,
          113787109,
          115952192,
          118132360,
          120343179,
          122600370,
          124862179,
          127198069,
          129622332,
          132108065,
          134544304,
          136805810,
          138933658,
          140970351,
          142902856,
          144715786,
          146405973,
          147989278,
          149474264,
          150873714,
          152201981,
          153591076,
          155070101,
          156532141,
          157964929,
          159383179,
          160811932,
          162186147,
          163523103,
          164913055,
          166298024,
          167658854,
          169384897,
          171466990,
          null
         ],
         "yaxis": "y"
        },
        {
         "hovertemplate": "Country=India<br>Year=%{x}<br>Total Population=%{y}<extra></extra>",
         "legendgroup": "India",
         "line": {
          "color": "#00cc96",
          "dash": "solid"
         },
         "marker": {
          "symbol": "circle"
         },
         "mode": "lines+markers",
         "name": "India",
         "orientation": "v",
         "showlegend": true,
         "type": "scatter",
         "x": [
          1960,
          1961,
          1962,
          1963,
          1964,
          1965,
          1966,
          1967,
          1968,
          1969,
          1970,
          1971,
          1972,
          1973,
          1974,
          1975,
          1976,
          1977,
          1978,
          1979,
          1980,
          1981,
          1982,
          1983,
          1984,
          1985,
          1986,
          1987,
          1988,
          1989,
          1990,
          1991,
          1992,
          1993,
          1994,
          1995,
          1996,
          1997,
          1998,
          1999,
          2000,
          2001,
          2002,
          2003,
          2004,
          2005,
          2006,
          2007,
          2008,
          2009,
          2010,
          2011,
          2012,
          2013,
          2014,
          2015,
          2016,
          2017,
          2018,
          2019,
          2020,
          2021,
          2022,
          2023,
          2024
         ],
         "xaxis": "x",
         "y": [
          435990338,
          446564729,
          457283090,
          468138575,
          479229598,
          490140146,
          500740247,
          511606372,
          522716889,
          533880544,
          545864268,
          558096387,
          570482142,
          583465598,
          597041391,
          611309535,
          625861883,
          640801103,
          655728229,
          671155747,
          687354025,
          703696250,
          720313473,
          737372681,
          754875449,
          772647793,
          790689978,
          808931270,
          827342990,
          846039529,
          864972221,
          883927600,
          902957070,
          922118387,
          941163767,
          960301044,
          979678458,
          999133762,
          1018665080,
          1038225823,
          1057922733,
          1077898575,
          1097600380,
          1116803006,
          1135991513,
          1154676322,
          1172878890,
          1190676021,
          1207930964,
          1225524753,
          1243481564,
          1261224954,
          1278674502,
          1295829511,
          1312277191,
          1328024498,
          1343944296,
          1359657400,
          1374659064,
          1389030312,
          1402617695,
          1414203896,
          1425423212,
          1438069596,
          null
         ],
         "yaxis": "y"
        },
        {
         "hovertemplate": "Country=Pakistan<br>Year=%{x}<br>Total Population=%{y}<extra></extra>",
         "legendgroup": "Pakistan",
         "line": {
          "color": "#ab63fa",
          "dash": "solid"
         },
         "marker": {
          "symbol": "circle"
         },
         "mode": "lines+markers",
         "name": "Pakistan",
         "orientation": "v",
         "showlegend": true,
         "type": "scatter",
         "x": [
          1960,
          1961,
          1962,
          1963,
          1964,
          1965,
          1966,
          1967,
          1968,
          1969,
          1970,
          1971,
          1972,
          1973,
          1974,
          1975,
          1976,
          1977,
          1978,
          1979,
          1980,
          1981,
          1982,
          1983,
          1984,
          1985,
          1986,
          1987,
          1988,
          1989,
          1990,
          1991,
          1992,
          1993,
          1994,
          1995,
          1996,
          1997,
          1998,
          1999,
          2000,
          2001,
          2002,
          2003,
          2004,
          2005,
          2006,
          2007,
          2008,
          2009,
          2010,
          2011,
          2012,
          2013,
          2014,
          2015,
          2016,
          2017,
          2018,
          2019,
          2020,
          2021,
          2022,
          2023,
          2024
         ],
         "xaxis": "x",
         "y": [
          45709310,
          46921277,
          48156128,
          49447776,
          50799999,
          52209010,
          53678667,
          55214768,
          56810507,
          58460939,
          60166719,
          61847899,
          63583194,
          65461912,
          67415487,
          69461175,
          71620254,
          73901827,
          76307379,
          78997039,
          82291010,
          85802049,
          89089246,
          92227711,
          95164936,
          98229285,
          101606764,
          105130717,
          108724739,
          112336629,
          116155576,
          120060406,
          123546848,
          127020117,
          130748083,
          134582253,
          138557092,
          142531804,
          146522356,
          150565377,
          154879127,
          159270907,
          163222549,
          167110248,
          171286000,
          175453212,
          179682690,
          184493231,
          189499113,
          194376534,
          199239047,
          203746065,
          207667125,
          211073978,
          214264647,
          217290883,
          220138869,
          223273967,
          226928892,
          230800899,
          235001746,
          239477801,
          243700667,
          247504495,
          null
         ],
         "yaxis": "y"
        },
        {
         "hovertemplate": "Country=Sri Lanka<br>Year=%{x}<br>Total Population=%{y}<extra></extra>",
         "legendgroup": "Sri Lanka",
         "line": {
          "color": "#FFA15A",
          "dash": "solid"
         },
         "marker": {
          "symbol": "circle"
         },
         "mode": "lines+markers",
         "name": "Sri Lanka",
         "orientation": "v",
         "showlegend": true,
         "type": "scatter",
         "x": [
          1960,
          1961,
          1962,
          1963,
          1964,
          1965,
          1966,
          1967,
          1968,
          1969,
          1970,
          1971,
          1972,
          1973,
          1974,
          1975,
          1976,
          1977,
          1978,
          1979,
          1980,
          1981,
          1982,
          1983,
          1984,
          1985,
          1986,
          1987,
          1988,
          1989,
          1990,
          1991,
          1992,
          1993,
          1994,
          1995,
          1996,
          1997,
          1998,
          1999,
          2000,
          2001,
          2002,
          2003,
          2004,
          2005,
          2006,
          2007,
          2008,
          2009,
          2010,
          2011,
          2012,
          2013,
          2014,
          2015,
          2016,
          2017,
          2018,
          2019,
          2020,
          2021,
          2022,
          2023,
          2024
         ],
         "xaxis": "x",
         "y": [
          9661389,
          9899372,
          10143754,
          10395040,
          10653397,
          10916965,
          11183928,
          11457328,
          11736088,
          12013858,
          12287110,
          12551910,
          12809205,
          13060916,
          13305693,
          13548984,
          13796770,
          14049371,
          14310128,
          14579614,
          14847974,
          15099414,
          15286567,
          15388794,
          15441860,
          15544154,
          15731256,
          15916576,
          16078621,
          16248557,
          16352458,
          16475354,
          16739284,
          17025918,
          17275773,
          17564068,
          17905018,
          18248200,
          18596003,
          18944731,
          19293054,
          19600362,
          19805752,
          19951521,
          20087605,
          20216524,
          20352411,
          20492545,
          20629378,
          20756435,
          20879089,
          21009048,
          21169458,
          20585000,
          20778000,
          20970000,
          21209000,
          21444000,
          21670000,
          21803000,
          21919000,
          22156000,
          22181000,
          22037000,
          null
         ],
         "yaxis": "y"
        }
       ],
       "layout": {
        "legend": {
         "title": {
          "text": "Country"
         },
         "tracegroupgap": 0
        },
        "template": {
         "data": {
          "bar": [
           {
            "error_x": {
             "color": "#2a3f5f"
            },
            "error_y": {
             "color": "#2a3f5f"
            },
            "marker": {
             "line": {
              "color": "#E5ECF6",
              "width": 0.5
             },
             "pattern": {
              "fillmode": "overlay",
              "size": 10,
              "solidity": 0.2
             }
            },
            "type": "bar"
           }
          ],
          "barpolar": [
           {
            "marker": {
             "line": {
              "color": "#E5ECF6",
              "width": 0.5
             },
             "pattern": {
              "fillmode": "overlay",
              "size": 10,
              "solidity": 0.2
             }
            },
            "type": "barpolar"
           }
          ],
          "carpet": [
           {
            "aaxis": {
             "endlinecolor": "#2a3f5f",
             "gridcolor": "white",
             "linecolor": "white",
             "minorgridcolor": "white",
             "startlinecolor": "#2a3f5f"
            },
            "baxis": {
             "endlinecolor": "#2a3f5f",
             "gridcolor": "white",
             "linecolor": "white",
             "minorgridcolor": "white",
             "startlinecolor": "#2a3f5f"
            },
            "type": "carpet"
           }
          ],
          "choropleth": [
           {
            "colorbar": {
             "outlinewidth": 0,
             "ticks": ""
            },
            "type": "choropleth"
           }
          ],
          "contour": [
           {
            "colorbar": {
             "outlinewidth": 0,
             "ticks": ""
            },
            "colorscale": [
             [
              0,
              "#0d0887"
             ],
             [
              0.1111111111111111,
              "#46039f"
             ],
             [
              0.2222222222222222,
              "#7201a8"
             ],
             [
              0.3333333333333333,
              "#9c179e"
             ],
             [
              0.4444444444444444,
              "#bd3786"
             ],
             [
              0.5555555555555556,
              "#d8576b"
             ],
             [
              0.6666666666666666,
              "#ed7953"
             ],
             [
              0.7777777777777778,
              "#fb9f3a"
             ],
             [
              0.8888888888888888,
              "#fdca26"
             ],
             [
              1,
              "#f0f921"
             ]
            ],
            "type": "contour"
           }
          ],
          "contourcarpet": [
           {
            "colorbar": {
             "outlinewidth": 0,
             "ticks": ""
            },
            "type": "contourcarpet"
           }
          ],
          "heatmap": [
           {
            "colorbar": {
             "outlinewidth": 0,
             "ticks": ""
            },
            "colorscale": [
             [
              0,
              "#0d0887"
             ],
             [
              0.1111111111111111,
              "#46039f"
             ],
             [
              0.2222222222222222,
              "#7201a8"
             ],
             [
              0.3333333333333333,
              "#9c179e"
             ],
             [
              0.4444444444444444,
              "#bd3786"
             ],
             [
              0.5555555555555556,
              "#d8576b"
             ],
             [
              0.6666666666666666,
              "#ed7953"
             ],
             [
              0.7777777777777778,
              "#fb9f3a"
             ],
             [
              0.8888888888888888,
              "#fdca26"
             ],
             [
              1,
              "#f0f921"
             ]
            ],
            "type": "heatmap"
           }
          ],
          "heatmapgl": [
           {
            "colorbar": {
             "outlinewidth": 0,
             "ticks": ""
            },
            "colorscale": [
             [
              0,
              "#0d0887"
             ],
             [
              0.1111111111111111,
              "#46039f"
             ],
             [
              0.2222222222222222,
              "#7201a8"
             ],
             [
              0.3333333333333333,
              "#9c179e"
             ],
             [
              0.4444444444444444,
              "#bd3786"
             ],
             [
              0.5555555555555556,
              "#d8576b"
             ],
             [
              0.6666666666666666,
              "#ed7953"
             ],
             [
              0.7777777777777778,
              "#fb9f3a"
             ],
             [
              0.8888888888888888,
              "#fdca26"
             ],
             [
              1,
              "#f0f921"
             ]
            ],
            "type": "heatmapgl"
           }
          ],
          "histogram": [
           {
            "marker": {
             "pattern": {
              "fillmode": "overlay",
              "size": 10,
              "solidity": 0.2
             }
            },
            "type": "histogram"
           }
          ],
          "histogram2d": [
           {
            "colorbar": {
             "outlinewidth": 0,
             "ticks": ""
            },
            "colorscale": [
             [
              0,
              "#0d0887"
             ],
             [
              0.1111111111111111,
              "#46039f"
             ],
             [
              0.2222222222222222,
              "#7201a8"
             ],
             [
              0.3333333333333333,
              "#9c179e"
             ],
             [
              0.4444444444444444,
              "#bd3786"
             ],
             [
              0.5555555555555556,
              "#d8576b"
             ],
             [
              0.6666666666666666,
              "#ed7953"
             ],
             [
              0.7777777777777778,
              "#fb9f3a"
             ],
             [
              0.8888888888888888,
              "#fdca26"
             ],
             [
              1,
              "#f0f921"
             ]
            ],
            "type": "histogram2d"
           }
          ],
          "histogram2dcontour": [
           {
            "colorbar": {
             "outlinewidth": 0,
             "ticks": ""
            },
            "colorscale": [
             [
              0,
              "#0d0887"
             ],
             [
              0.1111111111111111,
              "#46039f"
             ],
             [
              0.2222222222222222,
              "#7201a8"
             ],
             [
              0.3333333333333333,
              "#9c179e"
             ],
             [
              0.4444444444444444,
              "#bd3786"
             ],
             [
              0.5555555555555556,
              "#d8576b"
             ],
             [
              0.6666666666666666,
              "#ed7953"
             ],
             [
              0.7777777777777778,
              "#fb9f3a"
             ],
             [
              0.8888888888888888,
              "#fdca26"
             ],
             [
              1,
              "#f0f921"
             ]
            ],
            "type": "histogram2dcontour"
           }
          ],
          "mesh3d": [
           {
            "colorbar": {
             "outlinewidth": 0,
             "ticks": ""
            },
            "type": "mesh3d"
           }
          ],
          "parcoords": [
           {
            "line": {
             "colorbar": {
              "outlinewidth": 0,
              "ticks": ""
             }
            },
            "type": "parcoords"
           }
          ],
          "pie": [
           {
            "automargin": true,
            "type": "pie"
           }
          ],
          "scatter": [
           {
            "fillpattern": {
             "fillmode": "overlay",
             "size": 10,
             "solidity": 0.2
            },
            "type": "scatter"
           }
          ],
          "scatter3d": [
           {
            "line": {
             "colorbar": {
              "outlinewidth": 0,
              "ticks": ""
             }
            },
            "marker": {
             "colorbar": {
              "outlinewidth": 0,
              "ticks": ""
             }
            },
            "type": "scatter3d"
           }
          ],
          "scattercarpet": [
           {
            "marker": {
             "colorbar": {
              "outlinewidth": 0,
              "ticks": ""
             }
            },
            "type": "scattercarpet"
           }
          ],
          "scattergeo": [
           {
            "marker": {
             "colorbar": {
              "outlinewidth": 0,
              "ticks": ""
             }
            },
            "type": "scattergeo"
           }
          ],
          "scattergl": [
           {
            "marker": {
             "colorbar": {
              "outlinewidth": 0,
              "ticks": ""
             }
            },
            "type": "scattergl"
           }
          ],
          "scattermapbox": [
           {
            "marker": {
             "colorbar": {
              "outlinewidth": 0,
              "ticks": ""
             }
            },
            "type": "scattermapbox"
           }
          ],
          "scatterpolar": [
           {
            "marker": {
             "colorbar": {
              "outlinewidth": 0,
              "ticks": ""
             }
            },
            "type": "scatterpolar"
           }
          ],
          "scatterpolargl": [
           {
            "marker": {
             "colorbar": {
              "outlinewidth": 0,
              "ticks": ""
             }
            },
            "type": "scatterpolargl"
           }
          ],
          "scatterternary": [
           {
            "marker": {
             "colorbar": {
              "outlinewidth": 0,
              "ticks": ""
             }
            },
            "type": "scatterternary"
           }
          ],
          "surface": [
           {
            "colorbar": {
             "outlinewidth": 0,
             "ticks": ""
            },
            "colorscale": [
             [
              0,
              "#0d0887"
             ],
             [
              0.1111111111111111,
              "#46039f"
             ],
             [
              0.2222222222222222,
              "#7201a8"
             ],
             [
              0.3333333333333333,
              "#9c179e"
             ],
             [
              0.4444444444444444,
              "#bd3786"
             ],
             [
              0.5555555555555556,
              "#d8576b"
             ],
             [
              0.6666666666666666,
              "#ed7953"
             ],
             [
              0.7777777777777778,
              "#fb9f3a"
             ],
             [
              0.8888888888888888,
              "#fdca26"
             ],
             [
              1,
              "#f0f921"
             ]
            ],
            "type": "surface"
           }
          ],
          "table": [
           {
            "cells": {
             "fill": {
              "color": "#EBF0F8"
             },
             "line": {
              "color": "white"
             }
            },
            "header": {
             "fill": {
              "color": "#C8D4E3"
             },
             "line": {
              "color": "white"
             }
            },
            "type": "table"
           }
          ]
         },
         "layout": {
          "annotationdefaults": {
           "arrowcolor": "#2a3f5f",
           "arrowhead": 0,
           "arrowwidth": 1
          },
          "autotypenumbers": "strict",
          "coloraxis": {
           "colorbar": {
            "outlinewidth": 0,
            "ticks": ""
           }
          },
          "colorscale": {
           "diverging": [
            [
             0,
             "#8e0152"
            ],
            [
             0.1,
             "#c51b7d"
            ],
            [
             0.2,
             "#de77ae"
            ],
            [
             0.3,
             "#f1b6da"
            ],
            [
             0.4,
             "#fde0ef"
            ],
            [
             0.5,
             "#f7f7f7"
            ],
            [
             0.6,
             "#e6f5d0"
            ],
            [
             0.7,
             "#b8e186"
            ],
            [
             0.8,
             "#7fbc41"
            ],
            [
             0.9,
             "#4d9221"
            ],
            [
             1,
             "#276419"
            ]
           ],
           "sequential": [
            [
             0,
             "#0d0887"
            ],
            [
             0.1111111111111111,
             "#46039f"
            ],
            [
             0.2222222222222222,
             "#7201a8"
            ],
            [
             0.3333333333333333,
             "#9c179e"
            ],
            [
             0.4444444444444444,
             "#bd3786"
            ],
            [
             0.5555555555555556,
             "#d8576b"
            ],
            [
             0.6666666666666666,
             "#ed7953"
            ],
            [
             0.7777777777777778,
             "#fb9f3a"
            ],
            [
             0.8888888888888888,
             "#fdca26"
            ],
            [
             1,
             "#f0f921"
            ]
           ],
           "sequentialminus": [
            [
             0,
             "#0d0887"
            ],
            [
             0.1111111111111111,
             "#46039f"
            ],
            [
             0.2222222222222222,
             "#7201a8"
            ],
            [
             0.3333333333333333,
             "#9c179e"
            ],
            [
             0.4444444444444444,
             "#bd3786"
            ],
            [
             0.5555555555555556,
             "#d8576b"
            ],
            [
             0.6666666666666666,
             "#ed7953"
            ],
            [
             0.7777777777777778,
             "#fb9f3a"
            ],
            [
             0.8888888888888888,
             "#fdca26"
            ],
            [
             1,
             "#f0f921"
            ]
           ]
          },
          "colorway": [
           "#636efa",
           "#EF553B",
           "#00cc96",
           "#ab63fa",
           "#FFA15A",
           "#19d3f3",
           "#FF6692",
           "#B6E880",
           "#FF97FF",
           "#FECB52"
          ],
          "font": {
           "color": "#2a3f5f"
          },
          "geo": {
           "bgcolor": "white",
           "lakecolor": "white",
           "landcolor": "#E5ECF6",
           "showlakes": true,
           "showland": true,
           "subunitcolor": "white"
          },
          "hoverlabel": {
           "align": "left"
          },
          "hovermode": "closest",
          "mapbox": {
           "style": "light"
          },
          "paper_bgcolor": "white",
          "plot_bgcolor": "#E5ECF6",
          "polar": {
           "angularaxis": {
            "gridcolor": "white",
            "linecolor": "white",
            "ticks": ""
           },
           "bgcolor": "#E5ECF6",
           "radialaxis": {
            "gridcolor": "white",
            "linecolor": "white",
            "ticks": ""
           }
          },
          "scene": {
           "xaxis": {
            "backgroundcolor": "#E5ECF6",
            "gridcolor": "white",
            "gridwidth": 2,
            "linecolor": "white",
            "showbackground": true,
            "ticks": "",
            "zerolinecolor": "white"
           },
           "yaxis": {
            "backgroundcolor": "#E5ECF6",
            "gridcolor": "white",
            "gridwidth": 2,
            "linecolor": "white",
            "showbackground": true,
            "ticks": "",
            "zerolinecolor": "white"
           },
           "zaxis": {
            "backgroundcolor": "#E5ECF6",
            "gridcolor": "white",
            "gridwidth": 2,
            "linecolor": "white",
            "showbackground": true,
            "ticks": "",
            "zerolinecolor": "white"
           }
          },
          "shapedefaults": {
           "line": {
            "color": "#2a3f5f"
           }
          },
          "ternary": {
           "aaxis": {
            "gridcolor": "white",
            "linecolor": "white",
            "ticks": ""
           },
           "baxis": {
            "gridcolor": "white",
            "linecolor": "white",
            "ticks": ""
           },
           "bgcolor": "#E5ECF6",
           "caxis": {
            "gridcolor": "white",
            "linecolor": "white",
            "ticks": ""
           }
          },
          "title": {
           "x": 0.05
          },
          "xaxis": {
           "automargin": true,
           "gridcolor": "white",
           "linecolor": "white",
           "ticks": "",
           "title": {
            "standoff": 15
           },
           "zerolinecolor": "white",
           "zerolinewidth": 2
          },
          "yaxis": {
           "automargin": true,
           "gridcolor": "white",
           "linecolor": "white",
           "ticks": "",
           "title": {
            "standoff": 15
           },
           "zerolinecolor": "white",
           "zerolinewidth": 2
          }
         }
        },
        "title": {
         "text": "Total Population Over Years in South Asia",
         "x": 0.5
        },
        "xaxis": {
         "anchor": "y",
         "domain": [
          0,
          1
         ],
         "title": {
          "text": "Year"
         }
        },
        "yaxis": {
         "anchor": "x",
         "domain": [
          0,
          1
         ],
         "title": {
          "text": "Total Population"
         }
        }
       }
      }
     },
     "metadata": {},
     "output_type": "display_data"
    }
   ],
   "source": [
    "# Line plot using years as x-axis and total population as y-axis\n",
    "fig = px.line(df, x='Year', y='total_population', color='Country',\n",
    "                 title='Total Population Over Years in South Asia',\n",
    "                 labels={'total_population': 'Total Population', 'Year': 'Year'})\n",
    "fig.update_traces(mode='lines+markers')\n",
    "fig.update_layout(title_x=0.5, xaxis_title='Year', yaxis_title='Total Population')\n",
    "fig.show()"
   ]
  },
  {
   "cell_type": "code",
   "execution_count": 30,
   "id": "4ff286dd",
   "metadata": {},
   "outputs": [
    {
     "data": {
      "application/vnd.plotly.v1+json": {
       "config": {
        "plotlyServerURL": "https://plot.ly"
       },
       "data": [
        {
         "hovertemplate": "Country=Afghanistan<br>Year=%{x}<br>Total Population=%{y}<extra></extra>",
         "legendgroup": "Afghanistan",
         "line": {
          "color": "#636efa",
          "dash": "solid"
         },
         "marker": {
          "symbol": "circle"
         },
         "mode": "lines",
         "name": "Afghanistan",
         "orientation": "v",
         "showlegend": true,
         "type": "scatter",
         "x": [
          1960,
          1961,
          1962,
          1963,
          1964,
          1965,
          1966,
          1967,
          1968,
          1969,
          1970,
          1971,
          1972,
          1973,
          1974,
          1975,
          1976,
          1977,
          1978,
          1979,
          1980,
          1981,
          1982,
          1983,
          1984,
          1985,
          1986,
          1987,
          1988,
          1989,
          1990,
          1991,
          1992,
          1993,
          1994,
          1995,
          1996,
          1997,
          1998,
          1999,
          2000,
          2001,
          2002,
          2003,
          2004,
          2005,
          2006,
          2007,
          2008,
          2009,
          2010,
          2011,
          2012,
          2013,
          2014,
          2015,
          2016,
          2017,
          2018,
          2019,
          2020,
          2021,
          2022,
          2023,
          2024
         ],
         "xaxis": "x",
         "y": [
          9035043,
          9214083,
          9404406,
          9604487,
          9814318,
          10036008,
          10266395,
          10505959,
          10756922,
          11017409,
          11290128,
          11567667,
          11853696,
          12157999,
          12469127,
          12773954,
          13059851,
          13340756,
          13611441,
          13655567,
          13169311,
          11937581,
          10991378,
          10917982,
          11190221,
          11426852,
          11420074,
          11387818,
          11523298,
          11874088,
          12045660,
          12238879,
          13278974,
          14943172,
          16250794,
          17065836,
          17763266,
          18452091,
          19159996,
          19887785,
          20130327,
          20284307,
          21378117,
          22733049,
          23560654,
          24404567,
          25424094,
          25909852,
          26482622,
          27466101,
          28284089,
          29347708,
          30560034,
          31622704,
          32792523,
          33831764,
          34700612,
          35688935,
          36743039,
          37856121,
          39068979,
          40000412,
          40578842,
          41454761,
          null
         ],
         "yaxis": "y"
        },
        {
         "hovertemplate": "Country=Bangladesh<br>Year=%{x}<br>Total Population=%{y}<extra></extra>",
         "legendgroup": "Bangladesh",
         "line": {
          "color": "#EF553B",
          "dash": "solid"
         },
         "marker": {
          "symbol": "circle"
         },
         "mode": "lines",
         "name": "Bangladesh",
         "orientation": "v",
         "showlegend": true,
         "type": "scatter",
         "x": [
          1960,
          1961,
          1962,
          1963,
          1964,
          1965,
          1966,
          1967,
          1968,
          1969,
          1970,
          1971,
          1972,
          1973,
          1974,
          1975,
          1976,
          1977,
          1978,
          1979,
          1980,
          1981,
          1982,
          1983,
          1984,
          1985,
          1986,
          1987,
          1988,
          1989,
          1990,
          1991,
          1992,
          1993,
          1994,
          1995,
          1996,
          1997,
          1998,
          1999,
          2000,
          2001,
          2002,
          2003,
          2004,
          2005,
          2006,
          2007,
          2008,
          2009,
          2010,
          2011,
          2012,
          2013,
          2014,
          2015,
          2016,
          2017,
          2018,
          2019,
          2020,
          2021,
          2022,
          2023,
          2024
         ],
         "xaxis": "x2",
         "y": [
          51828660,
          53310348,
          54881146,
          56504402,
          58178374,
          59902519,
          61669806,
          63510929,
          65408276,
          67294133,
          69058894,
          70276758,
          71641519,
          73722294,
          75839348,
          77854351,
          79855318,
          81867264,
          83889655,
          85935072,
          88016432,
          90303105,
          92814507,
          95335155,
          97814966,
          100253825,
          102635572,
          104959291,
          107216008,
          109433799,
          111633717,
          113787109,
          115952192,
          118132360,
          120343179,
          122600370,
          124862179,
          127198069,
          129622332,
          132108065,
          134544304,
          136805810,
          138933658,
          140970351,
          142902856,
          144715786,
          146405973,
          147989278,
          149474264,
          150873714,
          152201981,
          153591076,
          155070101,
          156532141,
          157964929,
          159383179,
          160811932,
          162186147,
          163523103,
          164913055,
          166298024,
          167658854,
          169384897,
          171466990,
          null
         ],
         "yaxis": "y2"
        },
        {
         "hovertemplate": "Country=India<br>Year=%{x}<br>Total Population=%{y}<extra></extra>",
         "legendgroup": "India",
         "line": {
          "color": "#00cc96",
          "dash": "solid"
         },
         "marker": {
          "symbol": "circle"
         },
         "mode": "lines",
         "name": "India",
         "orientation": "v",
         "showlegend": true,
         "type": "scatter",
         "x": [
          1960,
          1961,
          1962,
          1963,
          1964,
          1965,
          1966,
          1967,
          1968,
          1969,
          1970,
          1971,
          1972,
          1973,
          1974,
          1975,
          1976,
          1977,
          1978,
          1979,
          1980,
          1981,
          1982,
          1983,
          1984,
          1985,
          1986,
          1987,
          1988,
          1989,
          1990,
          1991,
          1992,
          1993,
          1994,
          1995,
          1996,
          1997,
          1998,
          1999,
          2000,
          2001,
          2002,
          2003,
          2004,
          2005,
          2006,
          2007,
          2008,
          2009,
          2010,
          2011,
          2012,
          2013,
          2014,
          2015,
          2016,
          2017,
          2018,
          2019,
          2020,
          2021,
          2022,
          2023,
          2024
         ],
         "xaxis": "x3",
         "y": [
          435990338,
          446564729,
          457283090,
          468138575,
          479229598,
          490140146,
          500740247,
          511606372,
          522716889,
          533880544,
          545864268,
          558096387,
          570482142,
          583465598,
          597041391,
          611309535,
          625861883,
          640801103,
          655728229,
          671155747,
          687354025,
          703696250,
          720313473,
          737372681,
          754875449,
          772647793,
          790689978,
          808931270,
          827342990,
          846039529,
          864972221,
          883927600,
          902957070,
          922118387,
          941163767,
          960301044,
          979678458,
          999133762,
          1018665080,
          1038225823,
          1057922733,
          1077898575,
          1097600380,
          1116803006,
          1135991513,
          1154676322,
          1172878890,
          1190676021,
          1207930964,
          1225524753,
          1243481564,
          1261224954,
          1278674502,
          1295829511,
          1312277191,
          1328024498,
          1343944296,
          1359657400,
          1374659064,
          1389030312,
          1402617695,
          1414203896,
          1425423212,
          1438069596,
          null
         ],
         "yaxis": "y3"
        },
        {
         "hovertemplate": "Country=Pakistan<br>Year=%{x}<br>Total Population=%{y}<extra></extra>",
         "legendgroup": "Pakistan",
         "line": {
          "color": "#ab63fa",
          "dash": "solid"
         },
         "marker": {
          "symbol": "circle"
         },
         "mode": "lines",
         "name": "Pakistan",
         "orientation": "v",
         "showlegend": true,
         "type": "scatter",
         "x": [
          1960,
          1961,
          1962,
          1963,
          1964,
          1965,
          1966,
          1967,
          1968,
          1969,
          1970,
          1971,
          1972,
          1973,
          1974,
          1975,
          1976,
          1977,
          1978,
          1979,
          1980,
          1981,
          1982,
          1983,
          1984,
          1985,
          1986,
          1987,
          1988,
          1989,
          1990,
          1991,
          1992,
          1993,
          1994,
          1995,
          1996,
          1997,
          1998,
          1999,
          2000,
          2001,
          2002,
          2003,
          2004,
          2005,
          2006,
          2007,
          2008,
          2009,
          2010,
          2011,
          2012,
          2013,
          2014,
          2015,
          2016,
          2017,
          2018,
          2019,
          2020,
          2021,
          2022,
          2023,
          2024
         ],
         "xaxis": "x4",
         "y": [
          45709310,
          46921277,
          48156128,
          49447776,
          50799999,
          52209010,
          53678667,
          55214768,
          56810507,
          58460939,
          60166719,
          61847899,
          63583194,
          65461912,
          67415487,
          69461175,
          71620254,
          73901827,
          76307379,
          78997039,
          82291010,
          85802049,
          89089246,
          92227711,
          95164936,
          98229285,
          101606764,
          105130717,
          108724739,
          112336629,
          116155576,
          120060406,
          123546848,
          127020117,
          130748083,
          134582253,
          138557092,
          142531804,
          146522356,
          150565377,
          154879127,
          159270907,
          163222549,
          167110248,
          171286000,
          175453212,
          179682690,
          184493231,
          189499113,
          194376534,
          199239047,
          203746065,
          207667125,
          211073978,
          214264647,
          217290883,
          220138869,
          223273967,
          226928892,
          230800899,
          235001746,
          239477801,
          243700667,
          247504495,
          null
         ],
         "yaxis": "y4"
        },
        {
         "hovertemplate": "Country=Sri Lanka<br>Year=%{x}<br>Total Population=%{y}<extra></extra>",
         "legendgroup": "Sri Lanka",
         "line": {
          "color": "#FFA15A",
          "dash": "solid"
         },
         "marker": {
          "symbol": "circle"
         },
         "mode": "lines",
         "name": "Sri Lanka",
         "orientation": "v",
         "showlegend": true,
         "type": "scatter",
         "x": [
          1960,
          1961,
          1962,
          1963,
          1964,
          1965,
          1966,
          1967,
          1968,
          1969,
          1970,
          1971,
          1972,
          1973,
          1974,
          1975,
          1976,
          1977,
          1978,
          1979,
          1980,
          1981,
          1982,
          1983,
          1984,
          1985,
          1986,
          1987,
          1988,
          1989,
          1990,
          1991,
          1992,
          1993,
          1994,
          1995,
          1996,
          1997,
          1998,
          1999,
          2000,
          2001,
          2002,
          2003,
          2004,
          2005,
          2006,
          2007,
          2008,
          2009,
          2010,
          2011,
          2012,
          2013,
          2014,
          2015,
          2016,
          2017,
          2018,
          2019,
          2020,
          2021,
          2022,
          2023,
          2024
         ],
         "xaxis": "x5",
         "y": [
          9661389,
          9899372,
          10143754,
          10395040,
          10653397,
          10916965,
          11183928,
          11457328,
          11736088,
          12013858,
          12287110,
          12551910,
          12809205,
          13060916,
          13305693,
          13548984,
          13796770,
          14049371,
          14310128,
          14579614,
          14847974,
          15099414,
          15286567,
          15388794,
          15441860,
          15544154,
          15731256,
          15916576,
          16078621,
          16248557,
          16352458,
          16475354,
          16739284,
          17025918,
          17275773,
          17564068,
          17905018,
          18248200,
          18596003,
          18944731,
          19293054,
          19600362,
          19805752,
          19951521,
          20087605,
          20216524,
          20352411,
          20492545,
          20629378,
          20756435,
          20879089,
          21009048,
          21169458,
          20585000,
          20778000,
          20970000,
          21209000,
          21444000,
          21670000,
          21803000,
          21919000,
          22156000,
          22181000,
          22037000,
          null
         ],
         "yaxis": "y5"
        }
       ],
       "layout": {
        "annotations": [
         {
          "font": {},
          "showarrow": false,
          "text": "Country=Afghanistan",
          "x": 0.09200000000000001,
          "xanchor": "center",
          "xref": "paper",
          "y": 1,
          "yanchor": "bottom",
          "yref": "paper"
         },
         {
          "font": {},
          "showarrow": false,
          "text": "Country=Bangladesh",
          "x": 0.29600000000000004,
          "xanchor": "center",
          "xref": "paper",
          "y": 1,
          "yanchor": "bottom",
          "yref": "paper"
         },
         {
          "font": {},
          "showarrow": false,
          "text": "Country=India",
          "x": 0.5,
          "xanchor": "center",
          "xref": "paper",
          "y": 1,
          "yanchor": "bottom",
          "yref": "paper"
         },
         {
          "font": {},
          "showarrow": false,
          "text": "Country=Pakistan",
          "x": 0.7040000000000002,
          "xanchor": "center",
          "xref": "paper",
          "y": 1,
          "yanchor": "bottom",
          "yref": "paper"
         },
         {
          "font": {},
          "showarrow": false,
          "text": "Country=Sri Lanka",
          "x": 0.908,
          "xanchor": "center",
          "xref": "paper",
          "y": 1,
          "yanchor": "bottom",
          "yref": "paper"
         }
        ],
        "legend": {
         "title": {
          "text": "Country"
         },
         "tracegroupgap": 0
        },
        "template": {
         "data": {
          "bar": [
           {
            "error_x": {
             "color": "#2a3f5f"
            },
            "error_y": {
             "color": "#2a3f5f"
            },
            "marker": {
             "line": {
              "color": "#E5ECF6",
              "width": 0.5
             },
             "pattern": {
              "fillmode": "overlay",
              "size": 10,
              "solidity": 0.2
             }
            },
            "type": "bar"
           }
          ],
          "barpolar": [
           {
            "marker": {
             "line": {
              "color": "#E5ECF6",
              "width": 0.5
             },
             "pattern": {
              "fillmode": "overlay",
              "size": 10,
              "solidity": 0.2
             }
            },
            "type": "barpolar"
           }
          ],
          "carpet": [
           {
            "aaxis": {
             "endlinecolor": "#2a3f5f",
             "gridcolor": "white",
             "linecolor": "white",
             "minorgridcolor": "white",
             "startlinecolor": "#2a3f5f"
            },
            "baxis": {
             "endlinecolor": "#2a3f5f",
             "gridcolor": "white",
             "linecolor": "white",
             "minorgridcolor": "white",
             "startlinecolor": "#2a3f5f"
            },
            "type": "carpet"
           }
          ],
          "choropleth": [
           {
            "colorbar": {
             "outlinewidth": 0,
             "ticks": ""
            },
            "type": "choropleth"
           }
          ],
          "contour": [
           {
            "colorbar": {
             "outlinewidth": 0,
             "ticks": ""
            },
            "colorscale": [
             [
              0,
              "#0d0887"
             ],
             [
              0.1111111111111111,
              "#46039f"
             ],
             [
              0.2222222222222222,
              "#7201a8"
             ],
             [
              0.3333333333333333,
              "#9c179e"
             ],
             [
              0.4444444444444444,
              "#bd3786"
             ],
             [
              0.5555555555555556,
              "#d8576b"
             ],
             [
              0.6666666666666666,
              "#ed7953"
             ],
             [
              0.7777777777777778,
              "#fb9f3a"
             ],
             [
              0.8888888888888888,
              "#fdca26"
             ],
             [
              1,
              "#f0f921"
             ]
            ],
            "type": "contour"
           }
          ],
          "contourcarpet": [
           {
            "colorbar": {
             "outlinewidth": 0,
             "ticks": ""
            },
            "type": "contourcarpet"
           }
          ],
          "heatmap": [
           {
            "colorbar": {
             "outlinewidth": 0,
             "ticks": ""
            },
            "colorscale": [
             [
              0,
              "#0d0887"
             ],
             [
              0.1111111111111111,
              "#46039f"
             ],
             [
              0.2222222222222222,
              "#7201a8"
             ],
             [
              0.3333333333333333,
              "#9c179e"
             ],
             [
              0.4444444444444444,
              "#bd3786"
             ],
             [
              0.5555555555555556,
              "#d8576b"
             ],
             [
              0.6666666666666666,
              "#ed7953"
             ],
             [
              0.7777777777777778,
              "#fb9f3a"
             ],
             [
              0.8888888888888888,
              "#fdca26"
             ],
             [
              1,
              "#f0f921"
             ]
            ],
            "type": "heatmap"
           }
          ],
          "heatmapgl": [
           {
            "colorbar": {
             "outlinewidth": 0,
             "ticks": ""
            },
            "colorscale": [
             [
              0,
              "#0d0887"
             ],
             [
              0.1111111111111111,
              "#46039f"
             ],
             [
              0.2222222222222222,
              "#7201a8"
             ],
             [
              0.3333333333333333,
              "#9c179e"
             ],
             [
              0.4444444444444444,
              "#bd3786"
             ],
             [
              0.5555555555555556,
              "#d8576b"
             ],
             [
              0.6666666666666666,
              "#ed7953"
             ],
             [
              0.7777777777777778,
              "#fb9f3a"
             ],
             [
              0.8888888888888888,
              "#fdca26"
             ],
             [
              1,
              "#f0f921"
             ]
            ],
            "type": "heatmapgl"
           }
          ],
          "histogram": [
           {
            "marker": {
             "pattern": {
              "fillmode": "overlay",
              "size": 10,
              "solidity": 0.2
             }
            },
            "type": "histogram"
           }
          ],
          "histogram2d": [
           {
            "colorbar": {
             "outlinewidth": 0,
             "ticks": ""
            },
            "colorscale": [
             [
              0,
              "#0d0887"
             ],
             [
              0.1111111111111111,
              "#46039f"
             ],
             [
              0.2222222222222222,
              "#7201a8"
             ],
             [
              0.3333333333333333,
              "#9c179e"
             ],
             [
              0.4444444444444444,
              "#bd3786"
             ],
             [
              0.5555555555555556,
              "#d8576b"
             ],
             [
              0.6666666666666666,
              "#ed7953"
             ],
             [
              0.7777777777777778,
              "#fb9f3a"
             ],
             [
              0.8888888888888888,
              "#fdca26"
             ],
             [
              1,
              "#f0f921"
             ]
            ],
            "type": "histogram2d"
           }
          ],
          "histogram2dcontour": [
           {
            "colorbar": {
             "outlinewidth": 0,
             "ticks": ""
            },
            "colorscale": [
             [
              0,
              "#0d0887"
             ],
             [
              0.1111111111111111,
              "#46039f"
             ],
             [
              0.2222222222222222,
              "#7201a8"
             ],
             [
              0.3333333333333333,
              "#9c179e"
             ],
             [
              0.4444444444444444,
              "#bd3786"
             ],
             [
              0.5555555555555556,
              "#d8576b"
             ],
             [
              0.6666666666666666,
              "#ed7953"
             ],
             [
              0.7777777777777778,
              "#fb9f3a"
             ],
             [
              0.8888888888888888,
              "#fdca26"
             ],
             [
              1,
              "#f0f921"
             ]
            ],
            "type": "histogram2dcontour"
           }
          ],
          "mesh3d": [
           {
            "colorbar": {
             "outlinewidth": 0,
             "ticks": ""
            },
            "type": "mesh3d"
           }
          ],
          "parcoords": [
           {
            "line": {
             "colorbar": {
              "outlinewidth": 0,
              "ticks": ""
             }
            },
            "type": "parcoords"
           }
          ],
          "pie": [
           {
            "automargin": true,
            "type": "pie"
           }
          ],
          "scatter": [
           {
            "fillpattern": {
             "fillmode": "overlay",
             "size": 10,
             "solidity": 0.2
            },
            "type": "scatter"
           }
          ],
          "scatter3d": [
           {
            "line": {
             "colorbar": {
              "outlinewidth": 0,
              "ticks": ""
             }
            },
            "marker": {
             "colorbar": {
              "outlinewidth": 0,
              "ticks": ""
             }
            },
            "type": "scatter3d"
           }
          ],
          "scattercarpet": [
           {
            "marker": {
             "colorbar": {
              "outlinewidth": 0,
              "ticks": ""
             }
            },
            "type": "scattercarpet"
           }
          ],
          "scattergeo": [
           {
            "marker": {
             "colorbar": {
              "outlinewidth": 0,
              "ticks": ""
             }
            },
            "type": "scattergeo"
           }
          ],
          "scattergl": [
           {
            "marker": {
             "colorbar": {
              "outlinewidth": 0,
              "ticks": ""
             }
            },
            "type": "scattergl"
           }
          ],
          "scattermapbox": [
           {
            "marker": {
             "colorbar": {
              "outlinewidth": 0,
              "ticks": ""
             }
            },
            "type": "scattermapbox"
           }
          ],
          "scatterpolar": [
           {
            "marker": {
             "colorbar": {
              "outlinewidth": 0,
              "ticks": ""
             }
            },
            "type": "scatterpolar"
           }
          ],
          "scatterpolargl": [
           {
            "marker": {
             "colorbar": {
              "outlinewidth": 0,
              "ticks": ""
             }
            },
            "type": "scatterpolargl"
           }
          ],
          "scatterternary": [
           {
            "marker": {
             "colorbar": {
              "outlinewidth": 0,
              "ticks": ""
             }
            },
            "type": "scatterternary"
           }
          ],
          "surface": [
           {
            "colorbar": {
             "outlinewidth": 0,
             "ticks": ""
            },
            "colorscale": [
             [
              0,
              "#0d0887"
             ],
             [
              0.1111111111111111,
              "#46039f"
             ],
             [
              0.2222222222222222,
              "#7201a8"
             ],
             [
              0.3333333333333333,
              "#9c179e"
             ],
             [
              0.4444444444444444,
              "#bd3786"
             ],
             [
              0.5555555555555556,
              "#d8576b"
             ],
             [
              0.6666666666666666,
              "#ed7953"
             ],
             [
              0.7777777777777778,
              "#fb9f3a"
             ],
             [
              0.8888888888888888,
              "#fdca26"
             ],
             [
              1,
              "#f0f921"
             ]
            ],
            "type": "surface"
           }
          ],
          "table": [
           {
            "cells": {
             "fill": {
              "color": "#EBF0F8"
             },
             "line": {
              "color": "white"
             }
            },
            "header": {
             "fill": {
              "color": "#C8D4E3"
             },
             "line": {
              "color": "white"
             }
            },
            "type": "table"
           }
          ]
         },
         "layout": {
          "annotationdefaults": {
           "arrowcolor": "#2a3f5f",
           "arrowhead": 0,
           "arrowwidth": 1
          },
          "autotypenumbers": "strict",
          "coloraxis": {
           "colorbar": {
            "outlinewidth": 0,
            "ticks": ""
           }
          },
          "colorscale": {
           "diverging": [
            [
             0,
             "#8e0152"
            ],
            [
             0.1,
             "#c51b7d"
            ],
            [
             0.2,
             "#de77ae"
            ],
            [
             0.3,
             "#f1b6da"
            ],
            [
             0.4,
             "#fde0ef"
            ],
            [
             0.5,
             "#f7f7f7"
            ],
            [
             0.6,
             "#e6f5d0"
            ],
            [
             0.7,
             "#b8e186"
            ],
            [
             0.8,
             "#7fbc41"
            ],
            [
             0.9,
             "#4d9221"
            ],
            [
             1,
             "#276419"
            ]
           ],
           "sequential": [
            [
             0,
             "#0d0887"
            ],
            [
             0.1111111111111111,
             "#46039f"
            ],
            [
             0.2222222222222222,
             "#7201a8"
            ],
            [
             0.3333333333333333,
             "#9c179e"
            ],
            [
             0.4444444444444444,
             "#bd3786"
            ],
            [
             0.5555555555555556,
             "#d8576b"
            ],
            [
             0.6666666666666666,
             "#ed7953"
            ],
            [
             0.7777777777777778,
             "#fb9f3a"
            ],
            [
             0.8888888888888888,
             "#fdca26"
            ],
            [
             1,
             "#f0f921"
            ]
           ],
           "sequentialminus": [
            [
             0,
             "#0d0887"
            ],
            [
             0.1111111111111111,
             "#46039f"
            ],
            [
             0.2222222222222222,
             "#7201a8"
            ],
            [
             0.3333333333333333,
             "#9c179e"
            ],
            [
             0.4444444444444444,
             "#bd3786"
            ],
            [
             0.5555555555555556,
             "#d8576b"
            ],
            [
             0.6666666666666666,
             "#ed7953"
            ],
            [
             0.7777777777777778,
             "#fb9f3a"
            ],
            [
             0.8888888888888888,
             "#fdca26"
            ],
            [
             1,
             "#f0f921"
            ]
           ]
          },
          "colorway": [
           "#636efa",
           "#EF553B",
           "#00cc96",
           "#ab63fa",
           "#FFA15A",
           "#19d3f3",
           "#FF6692",
           "#B6E880",
           "#FF97FF",
           "#FECB52"
          ],
          "font": {
           "color": "#2a3f5f"
          },
          "geo": {
           "bgcolor": "white",
           "lakecolor": "white",
           "landcolor": "#E5ECF6",
           "showlakes": true,
           "showland": true,
           "subunitcolor": "white"
          },
          "hoverlabel": {
           "align": "left"
          },
          "hovermode": "closest",
          "mapbox": {
           "style": "light"
          },
          "paper_bgcolor": "white",
          "plot_bgcolor": "#E5ECF6",
          "polar": {
           "angularaxis": {
            "gridcolor": "white",
            "linecolor": "white",
            "ticks": ""
           },
           "bgcolor": "#E5ECF6",
           "radialaxis": {
            "gridcolor": "white",
            "linecolor": "white",
            "ticks": ""
           }
          },
          "scene": {
           "xaxis": {
            "backgroundcolor": "#E5ECF6",
            "gridcolor": "white",
            "gridwidth": 2,
            "linecolor": "white",
            "showbackground": true,
            "ticks": "",
            "zerolinecolor": "white"
           },
           "yaxis": {
            "backgroundcolor": "#E5ECF6",
            "gridcolor": "white",
            "gridwidth": 2,
            "linecolor": "white",
            "showbackground": true,
            "ticks": "",
            "zerolinecolor": "white"
           },
           "zaxis": {
            "backgroundcolor": "#E5ECF6",
            "gridcolor": "white",
            "gridwidth": 2,
            "linecolor": "white",
            "showbackground": true,
            "ticks": "",
            "zerolinecolor": "white"
           }
          },
          "shapedefaults": {
           "line": {
            "color": "#2a3f5f"
           }
          },
          "ternary": {
           "aaxis": {
            "gridcolor": "white",
            "linecolor": "white",
            "ticks": ""
           },
           "baxis": {
            "gridcolor": "white",
            "linecolor": "white",
            "ticks": ""
           },
           "bgcolor": "#E5ECF6",
           "caxis": {
            "gridcolor": "white",
            "linecolor": "white",
            "ticks": ""
           }
          },
          "title": {
           "x": 0.05
          },
          "xaxis": {
           "automargin": true,
           "gridcolor": "white",
           "linecolor": "white",
           "ticks": "",
           "title": {
            "standoff": 15
           },
           "zerolinecolor": "white",
           "zerolinewidth": 2
          },
          "yaxis": {
           "automargin": true,
           "gridcolor": "white",
           "linecolor": "white",
           "ticks": "",
           "title": {
            "standoff": 15
           },
           "zerolinecolor": "white",
           "zerolinewidth": 2
          }
         }
        },
        "title": {
         "text": "Total Population Over Years in South Asia",
         "x": 0.5
        },
        "xaxis": {
         "anchor": "y",
         "domain": [
          0,
          0.18400000000000002
         ],
         "title": {
          "text": "Year"
         }
        },
        "xaxis2": {
         "anchor": "y2",
         "domain": [
          0.20400000000000001,
          0.388
         ],
         "matches": "x",
         "title": {
          "text": "Year"
         }
        },
        "xaxis3": {
         "anchor": "y3",
         "domain": [
          0.40800000000000003,
          0.5920000000000001
         ],
         "matches": "x",
         "title": {
          "text": "Year"
         }
        },
        "xaxis4": {
         "anchor": "y4",
         "domain": [
          0.6120000000000001,
          0.7960000000000002
         ],
         "matches": "x",
         "title": {
          "text": "Year"
         }
        },
        "xaxis5": {
         "anchor": "y5",
         "domain": [
          0.8160000000000001,
          1
         ],
         "matches": "x",
         "title": {
          "text": "Year"
         }
        },
        "yaxis": {
         "anchor": "x",
         "domain": [
          0,
          1
         ],
         "title": {
          "text": "Total Population"
         }
        },
        "yaxis2": {
         "anchor": "x2",
         "domain": [
          0,
          1
         ],
         "matches": "y",
         "showticklabels": false
        },
        "yaxis3": {
         "anchor": "x3",
         "domain": [
          0,
          1
         ],
         "matches": "y",
         "showticklabels": false
        },
        "yaxis4": {
         "anchor": "x4",
         "domain": [
          0,
          1
         ],
         "matches": "y",
         "showticklabels": false
        },
        "yaxis5": {
         "anchor": "x5",
         "domain": [
          0,
          1
         ],
         "matches": "y",
         "showticklabels": false
        }
       }
      }
     },
     "metadata": {},
     "output_type": "display_data"
    }
   ],
   "source": [
    "# Line plot using years as x-axis and total population as y-axis\n",
    "\n",
    "fig = px.line(df, x='Year', y='total_population', color='Country',\n",
    "                    facet_col='Country',\n",
    "                 title='Total Population Over Years in South Asia',\n",
    "                 labels={'total_population': 'Total Population', 'Year': 'Year'})\n",
    "fig.update_layout(title_x=0.5, xaxis_title='Year', yaxis_title='Total Population')\n",
    "fig.show()"
   ]
  },
  {
   "cell_type": "code",
   "execution_count": 33,
   "id": "dafe7f25",
   "metadata": {},
   "outputs": [
    {
     "data": {
      "application/vnd.plotly.v1+json": {
       "config": {
        "plotlyServerURL": "https://plot.ly"
       },
       "data": [
        {
         "mode": "lines",
         "name": "Afghanistan",
         "type": "scatter",
         "x": [
          1960,
          1961,
          1962,
          1963,
          1964,
          1965,
          1966,
          1967,
          1968,
          1969,
          1970,
          1971,
          1972,
          1973,
          1974,
          1975,
          1976,
          1977,
          1978,
          1979,
          1980,
          1981,
          1982,
          1983,
          1984,
          1985,
          1986,
          1987,
          1988,
          1989,
          1990,
          1991,
          1992,
          1993,
          1994,
          1995,
          1996,
          1997,
          1998,
          1999,
          2000,
          2001,
          2002,
          2003,
          2004,
          2005,
          2006,
          2007,
          2008,
          2009,
          2010,
          2011,
          2012,
          2013,
          2014,
          2015,
          2016,
          2017,
          2018,
          2019,
          2020,
          2021,
          2022,
          2023,
          2024
         ],
         "xaxis": "x",
         "y": [
          9035043,
          9214083,
          9404406,
          9604487,
          9814318,
          10036008,
          10266395,
          10505959,
          10756922,
          11017409,
          11290128,
          11567667,
          11853696,
          12157999,
          12469127,
          12773954,
          13059851,
          13340756,
          13611441,
          13655567,
          13169311,
          11937581,
          10991378,
          10917982,
          11190221,
          11426852,
          11420074,
          11387818,
          11523298,
          11874088,
          12045660,
          12238879,
          13278974,
          14943172,
          16250794,
          17065836,
          17763266,
          18452091,
          19159996,
          19887785,
          20130327,
          20284307,
          21378117,
          22733049,
          23560654,
          24404567,
          25424094,
          25909852,
          26482622,
          27466101,
          28284089,
          29347708,
          30560034,
          31622704,
          32792523,
          33831764,
          34700612,
          35688935,
          36743039,
          37856121,
          39068979,
          40000412,
          40578842,
          41454761,
          null
         ],
         "yaxis": "y"
        },
        {
         "mode": "lines",
         "name": "Bangladesh",
         "type": "scatter",
         "x": [
          1960,
          1961,
          1962,
          1963,
          1964,
          1965,
          1966,
          1967,
          1968,
          1969,
          1970,
          1971,
          1972,
          1973,
          1974,
          1975,
          1976,
          1977,
          1978,
          1979,
          1980,
          1981,
          1982,
          1983,
          1984,
          1985,
          1986,
          1987,
          1988,
          1989,
          1990,
          1991,
          1992,
          1993,
          1994,
          1995,
          1996,
          1997,
          1998,
          1999,
          2000,
          2001,
          2002,
          2003,
          2004,
          2005,
          2006,
          2007,
          2008,
          2009,
          2010,
          2011,
          2012,
          2013,
          2014,
          2015,
          2016,
          2017,
          2018,
          2019,
          2020,
          2021,
          2022,
          2023,
          2024
         ],
         "xaxis": "x2",
         "y": [
          51828660,
          53310348,
          54881146,
          56504402,
          58178374,
          59902519,
          61669806,
          63510929,
          65408276,
          67294133,
          69058894,
          70276758,
          71641519,
          73722294,
          75839348,
          77854351,
          79855318,
          81867264,
          83889655,
          85935072,
          88016432,
          90303105,
          92814507,
          95335155,
          97814966,
          100253825,
          102635572,
          104959291,
          107216008,
          109433799,
          111633717,
          113787109,
          115952192,
          118132360,
          120343179,
          122600370,
          124862179,
          127198069,
          129622332,
          132108065,
          134544304,
          136805810,
          138933658,
          140970351,
          142902856,
          144715786,
          146405973,
          147989278,
          149474264,
          150873714,
          152201981,
          153591076,
          155070101,
          156532141,
          157964929,
          159383179,
          160811932,
          162186147,
          163523103,
          164913055,
          166298024,
          167658854,
          169384897,
          171466990,
          null
         ],
         "yaxis": "y2"
        },
        {
         "mode": "lines",
         "name": "India",
         "type": "scatter",
         "x": [
          1960,
          1961,
          1962,
          1963,
          1964,
          1965,
          1966,
          1967,
          1968,
          1969,
          1970,
          1971,
          1972,
          1973,
          1974,
          1975,
          1976,
          1977,
          1978,
          1979,
          1980,
          1981,
          1982,
          1983,
          1984,
          1985,
          1986,
          1987,
          1988,
          1989,
          1990,
          1991,
          1992,
          1993,
          1994,
          1995,
          1996,
          1997,
          1998,
          1999,
          2000,
          2001,
          2002,
          2003,
          2004,
          2005,
          2006,
          2007,
          2008,
          2009,
          2010,
          2011,
          2012,
          2013,
          2014,
          2015,
          2016,
          2017,
          2018,
          2019,
          2020,
          2021,
          2022,
          2023,
          2024
         ],
         "xaxis": "x3",
         "y": [
          435990338,
          446564729,
          457283090,
          468138575,
          479229598,
          490140146,
          500740247,
          511606372,
          522716889,
          533880544,
          545864268,
          558096387,
          570482142,
          583465598,
          597041391,
          611309535,
          625861883,
          640801103,
          655728229,
          671155747,
          687354025,
          703696250,
          720313473,
          737372681,
          754875449,
          772647793,
          790689978,
          808931270,
          827342990,
          846039529,
          864972221,
          883927600,
          902957070,
          922118387,
          941163767,
          960301044,
          979678458,
          999133762,
          1018665080,
          1038225823,
          1057922733,
          1077898575,
          1097600380,
          1116803006,
          1135991513,
          1154676322,
          1172878890,
          1190676021,
          1207930964,
          1225524753,
          1243481564,
          1261224954,
          1278674502,
          1295829511,
          1312277191,
          1328024498,
          1343944296,
          1359657400,
          1374659064,
          1389030312,
          1402617695,
          1414203896,
          1425423212,
          1438069596,
          null
         ],
         "yaxis": "y3"
        },
        {
         "mode": "lines",
         "name": "Pakistan",
         "type": "scatter",
         "x": [
          1960,
          1961,
          1962,
          1963,
          1964,
          1965,
          1966,
          1967,
          1968,
          1969,
          1970,
          1971,
          1972,
          1973,
          1974,
          1975,
          1976,
          1977,
          1978,
          1979,
          1980,
          1981,
          1982,
          1983,
          1984,
          1985,
          1986,
          1987,
          1988,
          1989,
          1990,
          1991,
          1992,
          1993,
          1994,
          1995,
          1996,
          1997,
          1998,
          1999,
          2000,
          2001,
          2002,
          2003,
          2004,
          2005,
          2006,
          2007,
          2008,
          2009,
          2010,
          2011,
          2012,
          2013,
          2014,
          2015,
          2016,
          2017,
          2018,
          2019,
          2020,
          2021,
          2022,
          2023,
          2024
         ],
         "xaxis": "x4",
         "y": [
          45709310,
          46921277,
          48156128,
          49447776,
          50799999,
          52209010,
          53678667,
          55214768,
          56810507,
          58460939,
          60166719,
          61847899,
          63583194,
          65461912,
          67415487,
          69461175,
          71620254,
          73901827,
          76307379,
          78997039,
          82291010,
          85802049,
          89089246,
          92227711,
          95164936,
          98229285,
          101606764,
          105130717,
          108724739,
          112336629,
          116155576,
          120060406,
          123546848,
          127020117,
          130748083,
          134582253,
          138557092,
          142531804,
          146522356,
          150565377,
          154879127,
          159270907,
          163222549,
          167110248,
          171286000,
          175453212,
          179682690,
          184493231,
          189499113,
          194376534,
          199239047,
          203746065,
          207667125,
          211073978,
          214264647,
          217290883,
          220138869,
          223273967,
          226928892,
          230800899,
          235001746,
          239477801,
          243700667,
          247504495,
          null
         ],
         "yaxis": "y4"
        },
        {
         "mode": "lines",
         "name": "Sri Lanka",
         "type": "scatter",
         "x": [
          1960,
          1961,
          1962,
          1963,
          1964,
          1965,
          1966,
          1967,
          1968,
          1969,
          1970,
          1971,
          1972,
          1973,
          1974,
          1975,
          1976,
          1977,
          1978,
          1979,
          1980,
          1981,
          1982,
          1983,
          1984,
          1985,
          1986,
          1987,
          1988,
          1989,
          1990,
          1991,
          1992,
          1993,
          1994,
          1995,
          1996,
          1997,
          1998,
          1999,
          2000,
          2001,
          2002,
          2003,
          2004,
          2005,
          2006,
          2007,
          2008,
          2009,
          2010,
          2011,
          2012,
          2013,
          2014,
          2015,
          2016,
          2017,
          2018,
          2019,
          2020,
          2021,
          2022,
          2023,
          2024
         ],
         "xaxis": "x5",
         "y": [
          9661389,
          9899372,
          10143754,
          10395040,
          10653397,
          10916965,
          11183928,
          11457328,
          11736088,
          12013858,
          12287110,
          12551910,
          12809205,
          13060916,
          13305693,
          13548984,
          13796770,
          14049371,
          14310128,
          14579614,
          14847974,
          15099414,
          15286567,
          15388794,
          15441860,
          15544154,
          15731256,
          15916576,
          16078621,
          16248557,
          16352458,
          16475354,
          16739284,
          17025918,
          17275773,
          17564068,
          17905018,
          18248200,
          18596003,
          18944731,
          19293054,
          19600362,
          19805752,
          19951521,
          20087605,
          20216524,
          20352411,
          20492545,
          20629378,
          20756435,
          20879089,
          21009048,
          21169458,
          20585000,
          20778000,
          20970000,
          21209000,
          21444000,
          21670000,
          21803000,
          21919000,
          22156000,
          22181000,
          22037000,
          null
         ],
         "yaxis": "y5"
        }
       ],
       "layout": {
        "annotations": [
         {
          "font": {
           "size": 16
          },
          "showarrow": false,
          "text": "Afghanistan",
          "x": 0.225,
          "xanchor": "center",
          "xref": "paper",
          "y": 1,
          "yanchor": "bottom",
          "yref": "paper"
         },
         {
          "font": {
           "size": 16
          },
          "showarrow": false,
          "text": "Bangladesh",
          "x": 0.775,
          "xanchor": "center",
          "xref": "paper",
          "y": 1,
          "yanchor": "bottom",
          "yref": "paper"
         },
         {
          "font": {
           "size": 16
          },
          "showarrow": false,
          "text": "India",
          "x": 0.225,
          "xanchor": "center",
          "xref": "paper",
          "y": 0.6333333333333333,
          "yanchor": "bottom",
          "yref": "paper"
         },
         {
          "font": {
           "size": 16
          },
          "showarrow": false,
          "text": "Pakistan",
          "x": 0.775,
          "xanchor": "center",
          "xref": "paper",
          "y": 0.6333333333333333,
          "yanchor": "bottom",
          "yref": "paper"
         },
         {
          "font": {
           "size": 16
          },
          "showarrow": false,
          "text": "Sri Lanka",
          "x": 0.225,
          "xanchor": "center",
          "xref": "paper",
          "y": 0.26666666666666666,
          "yanchor": "bottom",
          "yref": "paper"
         }
        ],
        "height": 900,
        "showlegend": false,
        "template": {
         "data": {
          "bar": [
           {
            "error_x": {
             "color": "#2a3f5f"
            },
            "error_y": {
             "color": "#2a3f5f"
            },
            "marker": {
             "line": {
              "color": "#E5ECF6",
              "width": 0.5
             },
             "pattern": {
              "fillmode": "overlay",
              "size": 10,
              "solidity": 0.2
             }
            },
            "type": "bar"
           }
          ],
          "barpolar": [
           {
            "marker": {
             "line": {
              "color": "#E5ECF6",
              "width": 0.5
             },
             "pattern": {
              "fillmode": "overlay",
              "size": 10,
              "solidity": 0.2
             }
            },
            "type": "barpolar"
           }
          ],
          "carpet": [
           {
            "aaxis": {
             "endlinecolor": "#2a3f5f",
             "gridcolor": "white",
             "linecolor": "white",
             "minorgridcolor": "white",
             "startlinecolor": "#2a3f5f"
            },
            "baxis": {
             "endlinecolor": "#2a3f5f",
             "gridcolor": "white",
             "linecolor": "white",
             "minorgridcolor": "white",
             "startlinecolor": "#2a3f5f"
            },
            "type": "carpet"
           }
          ],
          "choropleth": [
           {
            "colorbar": {
             "outlinewidth": 0,
             "ticks": ""
            },
            "type": "choropleth"
           }
          ],
          "contour": [
           {
            "colorbar": {
             "outlinewidth": 0,
             "ticks": ""
            },
            "colorscale": [
             [
              0,
              "#0d0887"
             ],
             [
              0.1111111111111111,
              "#46039f"
             ],
             [
              0.2222222222222222,
              "#7201a8"
             ],
             [
              0.3333333333333333,
              "#9c179e"
             ],
             [
              0.4444444444444444,
              "#bd3786"
             ],
             [
              0.5555555555555556,
              "#d8576b"
             ],
             [
              0.6666666666666666,
              "#ed7953"
             ],
             [
              0.7777777777777778,
              "#fb9f3a"
             ],
             [
              0.8888888888888888,
              "#fdca26"
             ],
             [
              1,
              "#f0f921"
             ]
            ],
            "type": "contour"
           }
          ],
          "contourcarpet": [
           {
            "colorbar": {
             "outlinewidth": 0,
             "ticks": ""
            },
            "type": "contourcarpet"
           }
          ],
          "heatmap": [
           {
            "colorbar": {
             "outlinewidth": 0,
             "ticks": ""
            },
            "colorscale": [
             [
              0,
              "#0d0887"
             ],
             [
              0.1111111111111111,
              "#46039f"
             ],
             [
              0.2222222222222222,
              "#7201a8"
             ],
             [
              0.3333333333333333,
              "#9c179e"
             ],
             [
              0.4444444444444444,
              "#bd3786"
             ],
             [
              0.5555555555555556,
              "#d8576b"
             ],
             [
              0.6666666666666666,
              "#ed7953"
             ],
             [
              0.7777777777777778,
              "#fb9f3a"
             ],
             [
              0.8888888888888888,
              "#fdca26"
             ],
             [
              1,
              "#f0f921"
             ]
            ],
            "type": "heatmap"
           }
          ],
          "heatmapgl": [
           {
            "colorbar": {
             "outlinewidth": 0,
             "ticks": ""
            },
            "colorscale": [
             [
              0,
              "#0d0887"
             ],
             [
              0.1111111111111111,
              "#46039f"
             ],
             [
              0.2222222222222222,
              "#7201a8"
             ],
             [
              0.3333333333333333,
              "#9c179e"
             ],
             [
              0.4444444444444444,
              "#bd3786"
             ],
             [
              0.5555555555555556,
              "#d8576b"
             ],
             [
              0.6666666666666666,
              "#ed7953"
             ],
             [
              0.7777777777777778,
              "#fb9f3a"
             ],
             [
              0.8888888888888888,
              "#fdca26"
             ],
             [
              1,
              "#f0f921"
             ]
            ],
            "type": "heatmapgl"
           }
          ],
          "histogram": [
           {
            "marker": {
             "pattern": {
              "fillmode": "overlay",
              "size": 10,
              "solidity": 0.2
             }
            },
            "type": "histogram"
           }
          ],
          "histogram2d": [
           {
            "colorbar": {
             "outlinewidth": 0,
             "ticks": ""
            },
            "colorscale": [
             [
              0,
              "#0d0887"
             ],
             [
              0.1111111111111111,
              "#46039f"
             ],
             [
              0.2222222222222222,
              "#7201a8"
             ],
             [
              0.3333333333333333,
              "#9c179e"
             ],
             [
              0.4444444444444444,
              "#bd3786"
             ],
             [
              0.5555555555555556,
              "#d8576b"
             ],
             [
              0.6666666666666666,
              "#ed7953"
             ],
             [
              0.7777777777777778,
              "#fb9f3a"
             ],
             [
              0.8888888888888888,
              "#fdca26"
             ],
             [
              1,
              "#f0f921"
             ]
            ],
            "type": "histogram2d"
           }
          ],
          "histogram2dcontour": [
           {
            "colorbar": {
             "outlinewidth": 0,
             "ticks": ""
            },
            "colorscale": [
             [
              0,
              "#0d0887"
             ],
             [
              0.1111111111111111,
              "#46039f"
             ],
             [
              0.2222222222222222,
              "#7201a8"
             ],
             [
              0.3333333333333333,
              "#9c179e"
             ],
             [
              0.4444444444444444,
              "#bd3786"
             ],
             [
              0.5555555555555556,
              "#d8576b"
             ],
             [
              0.6666666666666666,
              "#ed7953"
             ],
             [
              0.7777777777777778,
              "#fb9f3a"
             ],
             [
              0.8888888888888888,
              "#fdca26"
             ],
             [
              1,
              "#f0f921"
             ]
            ],
            "type": "histogram2dcontour"
           }
          ],
          "mesh3d": [
           {
            "colorbar": {
             "outlinewidth": 0,
             "ticks": ""
            },
            "type": "mesh3d"
           }
          ],
          "parcoords": [
           {
            "line": {
             "colorbar": {
              "outlinewidth": 0,
              "ticks": ""
             }
            },
            "type": "parcoords"
           }
          ],
          "pie": [
           {
            "automargin": true,
            "type": "pie"
           }
          ],
          "scatter": [
           {
            "fillpattern": {
             "fillmode": "overlay",
             "size": 10,
             "solidity": 0.2
            },
            "type": "scatter"
           }
          ],
          "scatter3d": [
           {
            "line": {
             "colorbar": {
              "outlinewidth": 0,
              "ticks": ""
             }
            },
            "marker": {
             "colorbar": {
              "outlinewidth": 0,
              "ticks": ""
             }
            },
            "type": "scatter3d"
           }
          ],
          "scattercarpet": [
           {
            "marker": {
             "colorbar": {
              "outlinewidth": 0,
              "ticks": ""
             }
            },
            "type": "scattercarpet"
           }
          ],
          "scattergeo": [
           {
            "marker": {
             "colorbar": {
              "outlinewidth": 0,
              "ticks": ""
             }
            },
            "type": "scattergeo"
           }
          ],
          "scattergl": [
           {
            "marker": {
             "colorbar": {
              "outlinewidth": 0,
              "ticks": ""
             }
            },
            "type": "scattergl"
           }
          ],
          "scattermapbox": [
           {
            "marker": {
             "colorbar": {
              "outlinewidth": 0,
              "ticks": ""
             }
            },
            "type": "scattermapbox"
           }
          ],
          "scatterpolar": [
           {
            "marker": {
             "colorbar": {
              "outlinewidth": 0,
              "ticks": ""
             }
            },
            "type": "scatterpolar"
           }
          ],
          "scatterpolargl": [
           {
            "marker": {
             "colorbar": {
              "outlinewidth": 0,
              "ticks": ""
             }
            },
            "type": "scatterpolargl"
           }
          ],
          "scatterternary": [
           {
            "marker": {
             "colorbar": {
              "outlinewidth": 0,
              "ticks": ""
             }
            },
            "type": "scatterternary"
           }
          ],
          "surface": [
           {
            "colorbar": {
             "outlinewidth": 0,
             "ticks": ""
            },
            "colorscale": [
             [
              0,
              "#0d0887"
             ],
             [
              0.1111111111111111,
              "#46039f"
             ],
             [
              0.2222222222222222,
              "#7201a8"
             ],
             [
              0.3333333333333333,
              "#9c179e"
             ],
             [
              0.4444444444444444,
              "#bd3786"
             ],
             [
              0.5555555555555556,
              "#d8576b"
             ],
             [
              0.6666666666666666,
              "#ed7953"
             ],
             [
              0.7777777777777778,
              "#fb9f3a"
             ],
             [
              0.8888888888888888,
              "#fdca26"
             ],
             [
              1,
              "#f0f921"
             ]
            ],
            "type": "surface"
           }
          ],
          "table": [
           {
            "cells": {
             "fill": {
              "color": "#EBF0F8"
             },
             "line": {
              "color": "white"
             }
            },
            "header": {
             "fill": {
              "color": "#C8D4E3"
             },
             "line": {
              "color": "white"
             }
            },
            "type": "table"
           }
          ]
         },
         "layout": {
          "annotationdefaults": {
           "arrowcolor": "#2a3f5f",
           "arrowhead": 0,
           "arrowwidth": 1
          },
          "autotypenumbers": "strict",
          "coloraxis": {
           "colorbar": {
            "outlinewidth": 0,
            "ticks": ""
           }
          },
          "colorscale": {
           "diverging": [
            [
             0,
             "#8e0152"
            ],
            [
             0.1,
             "#c51b7d"
            ],
            [
             0.2,
             "#de77ae"
            ],
            [
             0.3,
             "#f1b6da"
            ],
            [
             0.4,
             "#fde0ef"
            ],
            [
             0.5,
             "#f7f7f7"
            ],
            [
             0.6,
             "#e6f5d0"
            ],
            [
             0.7,
             "#b8e186"
            ],
            [
             0.8,
             "#7fbc41"
            ],
            [
             0.9,
             "#4d9221"
            ],
            [
             1,
             "#276419"
            ]
           ],
           "sequential": [
            [
             0,
             "#0d0887"
            ],
            [
             0.1111111111111111,
             "#46039f"
            ],
            [
             0.2222222222222222,
             "#7201a8"
            ],
            [
             0.3333333333333333,
             "#9c179e"
            ],
            [
             0.4444444444444444,
             "#bd3786"
            ],
            [
             0.5555555555555556,
             "#d8576b"
            ],
            [
             0.6666666666666666,
             "#ed7953"
            ],
            [
             0.7777777777777778,
             "#fb9f3a"
            ],
            [
             0.8888888888888888,
             "#fdca26"
            ],
            [
             1,
             "#f0f921"
            ]
           ],
           "sequentialminus": [
            [
             0,
             "#0d0887"
            ],
            [
             0.1111111111111111,
             "#46039f"
            ],
            [
             0.2222222222222222,
             "#7201a8"
            ],
            [
             0.3333333333333333,
             "#9c179e"
            ],
            [
             0.4444444444444444,
             "#bd3786"
            ],
            [
             0.5555555555555556,
             "#d8576b"
            ],
            [
             0.6666666666666666,
             "#ed7953"
            ],
            [
             0.7777777777777778,
             "#fb9f3a"
            ],
            [
             0.8888888888888888,
             "#fdca26"
            ],
            [
             1,
             "#f0f921"
            ]
           ]
          },
          "colorway": [
           "#636efa",
           "#EF553B",
           "#00cc96",
           "#ab63fa",
           "#FFA15A",
           "#19d3f3",
           "#FF6692",
           "#B6E880",
           "#FF97FF",
           "#FECB52"
          ],
          "font": {
           "color": "#2a3f5f"
          },
          "geo": {
           "bgcolor": "white",
           "lakecolor": "white",
           "landcolor": "#E5ECF6",
           "showlakes": true,
           "showland": true,
           "subunitcolor": "white"
          },
          "hoverlabel": {
           "align": "left"
          },
          "hovermode": "closest",
          "mapbox": {
           "style": "light"
          },
          "paper_bgcolor": "white",
          "plot_bgcolor": "#E5ECF6",
          "polar": {
           "angularaxis": {
            "gridcolor": "white",
            "linecolor": "white",
            "ticks": ""
           },
           "bgcolor": "#E5ECF6",
           "radialaxis": {
            "gridcolor": "white",
            "linecolor": "white",
            "ticks": ""
           }
          },
          "scene": {
           "xaxis": {
            "backgroundcolor": "#E5ECF6",
            "gridcolor": "white",
            "gridwidth": 2,
            "linecolor": "white",
            "showbackground": true,
            "ticks": "",
            "zerolinecolor": "white"
           },
           "yaxis": {
            "backgroundcolor": "#E5ECF6",
            "gridcolor": "white",
            "gridwidth": 2,
            "linecolor": "white",
            "showbackground": true,
            "ticks": "",
            "zerolinecolor": "white"
           },
           "zaxis": {
            "backgroundcolor": "#E5ECF6",
            "gridcolor": "white",
            "gridwidth": 2,
            "linecolor": "white",
            "showbackground": true,
            "ticks": "",
            "zerolinecolor": "white"
           }
          },
          "shapedefaults": {
           "line": {
            "color": "#2a3f5f"
           }
          },
          "ternary": {
           "aaxis": {
            "gridcolor": "white",
            "linecolor": "white",
            "ticks": ""
           },
           "baxis": {
            "gridcolor": "white",
            "linecolor": "white",
            "ticks": ""
           },
           "bgcolor": "#E5ECF6",
           "caxis": {
            "gridcolor": "white",
            "linecolor": "white",
            "ticks": ""
           }
          },
          "title": {
           "x": 0.05
          },
          "xaxis": {
           "automargin": true,
           "gridcolor": "white",
           "linecolor": "white",
           "ticks": "",
           "title": {
            "standoff": 15
           },
           "zerolinecolor": "white",
           "zerolinewidth": 2
          },
          "yaxis": {
           "automargin": true,
           "gridcolor": "white",
           "linecolor": "white",
           "ticks": "",
           "title": {
            "standoff": 15
           },
           "zerolinecolor": "white",
           "zerolinewidth": 2
          }
         }
        },
        "title": {
         "text": "Total Population Over Years in South Asia",
         "x": 0.5
        },
        "width": 1000,
        "xaxis": {
         "anchor": "y",
         "domain": [
          0,
          0.45
         ],
         "matches": "x5",
         "showticklabels": false
        },
        "xaxis2": {
         "anchor": "y2",
         "domain": [
          0.55,
          1
         ],
         "matches": "x6",
         "showticklabels": false
        },
        "xaxis3": {
         "anchor": "y3",
         "domain": [
          0,
          0.45
         ],
         "matches": "x5",
         "showticklabels": false
        },
        "xaxis4": {
         "anchor": "y4",
         "domain": [
          0.55,
          1
         ],
         "matches": "x6",
         "showticklabels": false
        },
        "xaxis5": {
         "anchor": "y5",
         "domain": [
          0,
          0.45
         ],
         "title": {
          "text": "Year"
         }
        },
        "xaxis6": {
         "anchor": "y6",
         "domain": [
          0.55,
          1
         ]
        },
        "yaxis": {
         "anchor": "x",
         "domain": [
          0.7333333333333334,
          1
         ]
        },
        "yaxis2": {
         "anchor": "x2",
         "domain": [
          0.7333333333333334,
          1
         ]
        },
        "yaxis3": {
         "anchor": "x3",
         "domain": [
          0.3666666666666667,
          0.6333333333333333
         ],
         "title": {
          "text": "Total Population"
         }
        },
        "yaxis4": {
         "anchor": "x4",
         "domain": [
          0.3666666666666667,
          0.6333333333333333
         ]
        },
        "yaxis5": {
         "anchor": "x5",
         "domain": [
          0,
          0.26666666666666666
         ]
        },
        "yaxis6": {
         "anchor": "x6",
         "domain": [
          0,
          0.26666666666666666
         ]
        }
       }
      }
     },
     "metadata": {},
     "output_type": "display_data"
    }
   ],
   "source": [
    "import plotly.graph_objects as go\n",
    "from plotly.subplots import make_subplots\n",
    "\n",
    "# Get unique countries from dataframe\n",
    "countries = df['Country'].unique()\n",
    "\n",
    "# Create 5 subplots in 3 rows and 2 columns\n",
    "fig = make_subplots(rows=3, cols=2, \n",
    "                    subplot_titles=countries,\n",
    "                    shared_xaxes=True,\n",
    "                    shared_yaxes=False,\n",
    "                    vertical_spacing=0.1,\n",
    "                    horizontal_spacing=0.1)\n",
    "\n",
    "# Row and column tracker\n",
    "row_col_map = [(1, 1), (1, 2), (2, 1), (2, 2), (3, 1)]\n",
    "\n",
    "# Add traces for each country\n",
    "for i, country in enumerate(countries):\n",
    "    row, col = row_col_map[i]\n",
    "    country_data = df[df['Country'] == country]\n",
    "    fig.add_trace(\n",
    "        go.Scatter(x=country_data['Year'], y=country_data['total_population'], name=country, mode='lines'),\n",
    "        row=row, col=col\n",
    "    )\n",
    "\n",
    "# Update layout\n",
    "fig.update_layout(\n",
    "    height=900,\n",
    "    width=1000,\n",
    "    title_text=\"Total Population Over Years in South Asia\",\n",
    "    title_x=0.5,\n",
    "    showlegend=False\n",
    ")\n",
    "\n",
    "# Axis labels\n",
    "fig.update_xaxes(title_text=\"Year\", row=3, col=1)\n",
    "fig.update_yaxes(title_text=\"Total Population\", row=2, col=1)\n",
    "\n",
    "fig.show()\n"
   ]
  },
  {
   "cell_type": "code",
   "execution_count": 34,
   "id": "86196c5b",
   "metadata": {},
   "outputs": [
    {
     "data": {
      "application/vnd.plotly.v1+json": {
       "config": {
        "plotlyServerURL": "https://plot.ly"
       },
       "data": [
        {
         "hovertemplate": "Country=Afghanistan<br>Total Population=%{x}<br>Net Migration=%{y}<extra></extra>",
         "legendgroup": "Afghanistan",
         "marker": {
          "color": "#636efa",
          "line": {
           "color": "DarkSlateGrey",
           "width": 2
          },
          "size": 10,
          "symbol": "circle"
         },
         "mode": "markers",
         "name": "Afghanistan",
         "orientation": "v",
         "showlegend": true,
         "type": "scatter",
         "x": [
          9035043,
          9214083,
          9404406,
          9604487,
          9814318,
          10036008,
          10266395,
          10505959,
          10756922,
          11017409,
          11290128,
          11567667,
          11853696,
          12157999,
          12469127,
          12773954,
          13059851,
          13340756,
          13611441,
          13655567,
          13169311,
          11937581,
          10991378,
          10917982,
          11190221,
          11426852,
          11420074,
          11387818,
          11523298,
          11874088,
          12045660,
          12238879,
          13278974,
          14943172,
          16250794,
          17065836,
          17763266,
          18452091,
          19159996,
          19887785,
          20130327,
          20284307,
          21378117,
          22733049,
          23560654,
          24404567,
          25424094,
          25909852,
          26482622,
          27466101,
          28284089,
          29347708,
          30560034,
          31622704,
          32792523,
          33831764,
          34700612,
          35688935,
          36743039,
          37856121,
          39068979,
          40000412,
          40578842,
          41454761,
          null
         ],
         "xaxis": "x",
         "y": [
          2606,
          6109,
          7016,
          6681,
          7079,
          10695,
          3563,
          6824,
          3333,
          2029,
          4458,
          -12801,
          -4050,
          -3030,
          -20009,
          -44418,
          -85430,
          -83115,
          -117186,
          -525413,
          -1174239,
          -1998086,
          -500998,
          -172797,
          248224,
          -208685,
          -343397,
          -345535,
          -56263,
          18296,
          -458737,
          32782,
          1197329,
          1149684,
          315206,
          52505,
          4072,
          -21215,
          7380,
          -32400,
          -1025973,
          -212872,
          860349,
          247317,
          -269194,
          250971,
          57673,
          -851298,
          215753,
          -60602,
          -167460,
          384486,
          68628,
          18119,
          233913,
          -286314,
          -143049,
          -71491,
          -36753,
          9159,
          143634,
          -548784,
          -647402,
          -48958,
          -44089
         ],
         "yaxis": "y"
        },
        {
         "hovertemplate": "Country=Bangladesh<br>Total Population=%{x}<br>Net Migration=%{y}<extra></extra>",
         "legendgroup": "Bangladesh",
         "marker": {
          "color": "#EF553B",
          "line": {
           "color": "DarkSlateGrey",
           "width": 2
          },
          "size": 10,
          "symbol": "circle"
         },
         "mode": "markers",
         "name": "Bangladesh",
         "orientation": "v",
         "showlegend": true,
         "type": "scatter",
         "x": [
          51828660,
          53310348,
          54881146,
          56504402,
          58178374,
          59902519,
          61669806,
          63510929,
          65408276,
          67294133,
          69058894,
          70276758,
          71641519,
          73722294,
          75839348,
          77854351,
          79855318,
          81867264,
          83889655,
          85935072,
          88016432,
          90303105,
          92814507,
          95335155,
          97814966,
          100253825,
          102635572,
          104959291,
          107216008,
          109433799,
          111633717,
          113787109,
          115952192,
          118132360,
          120343179,
          122600370,
          124862179,
          127198069,
          129622332,
          132108065,
          134544304,
          136805810,
          138933658,
          140970351,
          142902856,
          144715786,
          146405973,
          147989278,
          149474264,
          150873714,
          152201981,
          153591076,
          155070101,
          156532141,
          157964929,
          159383179,
          160811932,
          162186147,
          163523103,
          164913055,
          166298024,
          167658854,
          169384897,
          171466990,
          null
         ],
         "xaxis": "x",
         "y": [
          13580,
          26503,
          26533,
          23215,
          25426,
          47610,
          3758,
          23164,
          -7970,
          -125010,
          -73719,
          224369,
          -269033,
          -77324,
          -277545,
          -390212,
          -424970,
          -458491,
          -486721,
          -507354,
          -515918,
          -184884,
          -156729,
          -201909,
          -245693,
          -287872,
          -331992,
          -367475,
          -395408,
          -406910,
          -404105,
          -230852,
          -246914,
          -271677,
          -206958,
          -231304,
          -254239,
          -273442,
          -286966,
          -286256,
          -512422,
          -737740,
          -819909,
          -896335,
          -970264,
          -1036635,
          -1091865,
          -1133553,
          -1158420,
          -1150194,
          -1113727,
          -848910,
          -829875,
          -862944,
          -889222,
          -909223,
          -918770,
          -1037176,
          -1029069,
          -1016796,
          -1002522,
          -994722,
          -549990,
          -549918,
          -473362
         ],
         "yaxis": "y"
        },
        {
         "hovertemplate": "Country=India<br>Total Population=%{x}<br>Net Migration=%{y}<extra></extra>",
         "legendgroup": "India",
         "marker": {
          "color": "#00cc96",
          "line": {
           "color": "DarkSlateGrey",
           "width": 2
          },
          "size": 10,
          "symbol": "circle"
         },
         "mode": "markers",
         "name": "India",
         "orientation": "v",
         "showlegend": true,
         "type": "scatter",
         "x": [
          435990338,
          446564729,
          457283090,
          468138575,
          479229598,
          490140146,
          500740247,
          511606372,
          522716889,
          533880544,
          545864268,
          558096387,
          570482142,
          583465598,
          597041391,
          611309535,
          625861883,
          640801103,
          655728229,
          671155747,
          687354025,
          703696250,
          720313473,
          737372681,
          754875449,
          772647793,
          790689978,
          808931270,
          827342990,
          846039529,
          864972221,
          883927600,
          902957070,
          922118387,
          941163767,
          960301044,
          979678458,
          999133762,
          1018665080,
          1038225823,
          1057922733,
          1077898575,
          1097600380,
          1116803006,
          1135991513,
          1154676322,
          1172878890,
          1190676021,
          1207930964,
          1225524753,
          1243481564,
          1261224954,
          1278674502,
          1295829511,
          1312277191,
          1328024498,
          1343944296,
          1359657400,
          1374659064,
          1389030312,
          1402617695,
          1414203896,
          1425423212,
          1438069596,
          null
         ],
         "xaxis": "x",
         "y": [
          146955,
          295177,
          -70514,
          21640,
          -141916,
          -248299,
          -566982,
          -70314,
          -995416,
          -851844,
          233782,
          -974574,
          -82816,
          -404743,
          347869,
          434205,
          275984,
          590626,
          -210444,
          774094,
          210914,
          33243,
          -10687,
          119694,
          -32313,
          -89991,
          -249545,
          -219150,
          -155676,
          -2907,
          125514,
          -157911,
          35155,
          2364,
          -375253,
          -57297,
          -26388,
          880,
          -1049,
          -95320,
          -143960,
          -70346,
          -732419,
          -606970,
          -206660,
          -929454,
          -342177,
          -1037200,
          -1020047,
          -312905,
          -50905,
          -247017,
          -198935,
          -151372,
          -227263,
          -655085,
          81248,
          -251642,
          -589794,
          -978969,
          -73806,
          -348916,
          -1353478,
          -979179,
          -630830
         ],
         "yaxis": "y"
        },
        {
         "hovertemplate": "Country=Pakistan<br>Total Population=%{x}<br>Net Migration=%{y}<extra></extra>",
         "legendgroup": "Pakistan",
         "marker": {
          "color": "#ab63fa",
          "line": {
           "color": "DarkSlateGrey",
           "width": 2
          },
          "size": 10,
          "symbol": "circle"
         },
         "mode": "markers",
         "name": "Pakistan",
         "orientation": "v",
         "showlegend": true,
         "type": "scatter",
         "x": [
          45709310,
          46921277,
          48156128,
          49447776,
          50799999,
          52209010,
          53678667,
          55214768,
          56810507,
          58460939,
          60166719,
          61847899,
          63583194,
          65461912,
          67415487,
          69461175,
          71620254,
          73901827,
          76307379,
          78997039,
          82291010,
          85802049,
          89089246,
          92227711,
          95164936,
          98229285,
          101606764,
          105130717,
          108724739,
          112336629,
          116155576,
          120060406,
          123546848,
          127020117,
          130748083,
          134582253,
          138557092,
          142531804,
          146522356,
          150565377,
          154879127,
          159270907,
          163222549,
          167110248,
          171286000,
          175453212,
          179682690,
          184493231,
          189499113,
          194376534,
          199239047,
          203746065,
          207667125,
          211073978,
          214264647,
          217290883,
          220138869,
          223273967,
          226928892,
          230800899,
          235001746,
          239477801,
          243700667,
          247504495,
          null
         ],
         "xaxis": "x",
         "y": [
          0,
          -66991,
          -65780,
          -64552,
          -63298,
          -62070,
          -61025,
          -59932,
          -58721,
          -57406,
          -58281,
          -68357,
          -69209,
          -58012,
          -34785,
          -1710,
          48238,
          85250,
          111386,
          450003,
          1078229,
          555032,
          294252,
          -4753,
          -319242,
          68860,
          111045,
          146364,
          38139,
          -17164,
          275242,
          -19668,
          -718387,
          -139493,
          -277100,
          11534,
          -60855,
          -55539,
          -112191,
          -134510,
          252869,
          -54727,
          -653758,
          -219118,
          -64669,
          -189899,
          -183933,
          576349,
          -140746,
          -18298,
          -431902,
          -890633,
          -1647989,
          -1906319,
          -2037920,
          -2172162,
          -2290411,
          -1574585,
          -1309611,
          -1177220,
          -559291,
          -565673,
          -1322625,
          -1619557,
          -1401173
         ],
         "yaxis": "y"
        },
        {
         "hovertemplate": "Country=Sri Lanka<br>Total Population=%{x}<br>Net Migration=%{y}<extra></extra>",
         "legendgroup": "Sri Lanka",
         "marker": {
          "color": "#FFA15A",
          "line": {
           "color": "DarkSlateGrey",
           "width": 2
          },
          "size": 10,
          "symbol": "circle"
         },
         "mode": "markers",
         "name": "Sri Lanka",
         "orientation": "v",
         "showlegend": true,
         "type": "scatter",
         "x": [
          9661389,
          9899372,
          10143754,
          10395040,
          10653397,
          10916965,
          11183928,
          11457328,
          11736088,
          12013858,
          12287110,
          12551910,
          12809205,
          13060916,
          13305693,
          13548984,
          13796770,
          14049371,
          14310128,
          14579614,
          14847974,
          15099414,
          15286567,
          15388794,
          15441860,
          15544154,
          15731256,
          15916576,
          16078621,
          16248557,
          16352458,
          16475354,
          16739284,
          17025918,
          17275773,
          17564068,
          17905018,
          18248200,
          18596003,
          18944731,
          19293054,
          19600362,
          19805752,
          19951521,
          20087605,
          20216524,
          20352411,
          20492545,
          20629378,
          20756435,
          20879089,
          21009048,
          21169458,
          20585000,
          20778000,
          20970000,
          21209000,
          21444000,
          21670000,
          21803000,
          21919000,
          22156000,
          22181000,
          22037000,
          null
         ],
         "xaxis": "x",
         "y": [
          -12610,
          -10144,
          -8909,
          -8118,
          -7614,
          -7249,
          -6794,
          -6696,
          -7163,
          -10152,
          -16299,
          -22021,
          -27071,
          -30582,
          -33979,
          -37475,
          -41258,
          -45383,
          -50189,
          -57683,
          -63541,
          -89824,
          -163987,
          -209362,
          -225450,
          -80950,
          -26460,
          -63105,
          -58415,
          -33305,
          -195736,
          -1047,
          88542,
          36232,
          8323,
          117416,
          127236,
          135636,
          150724,
          138799,
          123894,
          19273,
          -105718,
          -107573,
          -84795,
          -118594,
          -107045,
          -109695,
          -97144,
          -81130,
          -98060,
          -90839,
          -41955,
          -37754,
          -33672,
          -29797,
          -18388,
          -22324,
          -28607,
          -28426,
          -29875,
          -29586,
          -27435,
          -28011,
          -27245
         ],
         "yaxis": "y"
        }
       ],
       "layout": {
        "legend": {
         "title": {
          "text": "Country"
         },
         "tracegroupgap": 0
        },
        "template": {
         "data": {
          "bar": [
           {
            "error_x": {
             "color": "#2a3f5f"
            },
            "error_y": {
             "color": "#2a3f5f"
            },
            "marker": {
             "line": {
              "color": "#E5ECF6",
              "width": 0.5
             },
             "pattern": {
              "fillmode": "overlay",
              "size": 10,
              "solidity": 0.2
             }
            },
            "type": "bar"
           }
          ],
          "barpolar": [
           {
            "marker": {
             "line": {
              "color": "#E5ECF6",
              "width": 0.5
             },
             "pattern": {
              "fillmode": "overlay",
              "size": 10,
              "solidity": 0.2
             }
            },
            "type": "barpolar"
           }
          ],
          "carpet": [
           {
            "aaxis": {
             "endlinecolor": "#2a3f5f",
             "gridcolor": "white",
             "linecolor": "white",
             "minorgridcolor": "white",
             "startlinecolor": "#2a3f5f"
            },
            "baxis": {
             "endlinecolor": "#2a3f5f",
             "gridcolor": "white",
             "linecolor": "white",
             "minorgridcolor": "white",
             "startlinecolor": "#2a3f5f"
            },
            "type": "carpet"
           }
          ],
          "choropleth": [
           {
            "colorbar": {
             "outlinewidth": 0,
             "ticks": ""
            },
            "type": "choropleth"
           }
          ],
          "contour": [
           {
            "colorbar": {
             "outlinewidth": 0,
             "ticks": ""
            },
            "colorscale": [
             [
              0,
              "#0d0887"
             ],
             [
              0.1111111111111111,
              "#46039f"
             ],
             [
              0.2222222222222222,
              "#7201a8"
             ],
             [
              0.3333333333333333,
              "#9c179e"
             ],
             [
              0.4444444444444444,
              "#bd3786"
             ],
             [
              0.5555555555555556,
              "#d8576b"
             ],
             [
              0.6666666666666666,
              "#ed7953"
             ],
             [
              0.7777777777777778,
              "#fb9f3a"
             ],
             [
              0.8888888888888888,
              "#fdca26"
             ],
             [
              1,
              "#f0f921"
             ]
            ],
            "type": "contour"
           }
          ],
          "contourcarpet": [
           {
            "colorbar": {
             "outlinewidth": 0,
             "ticks": ""
            },
            "type": "contourcarpet"
           }
          ],
          "heatmap": [
           {
            "colorbar": {
             "outlinewidth": 0,
             "ticks": ""
            },
            "colorscale": [
             [
              0,
              "#0d0887"
             ],
             [
              0.1111111111111111,
              "#46039f"
             ],
             [
              0.2222222222222222,
              "#7201a8"
             ],
             [
              0.3333333333333333,
              "#9c179e"
             ],
             [
              0.4444444444444444,
              "#bd3786"
             ],
             [
              0.5555555555555556,
              "#d8576b"
             ],
             [
              0.6666666666666666,
              "#ed7953"
             ],
             [
              0.7777777777777778,
              "#fb9f3a"
             ],
             [
              0.8888888888888888,
              "#fdca26"
             ],
             [
              1,
              "#f0f921"
             ]
            ],
            "type": "heatmap"
           }
          ],
          "heatmapgl": [
           {
            "colorbar": {
             "outlinewidth": 0,
             "ticks": ""
            },
            "colorscale": [
             [
              0,
              "#0d0887"
             ],
             [
              0.1111111111111111,
              "#46039f"
             ],
             [
              0.2222222222222222,
              "#7201a8"
             ],
             [
              0.3333333333333333,
              "#9c179e"
             ],
             [
              0.4444444444444444,
              "#bd3786"
             ],
             [
              0.5555555555555556,
              "#d8576b"
             ],
             [
              0.6666666666666666,
              "#ed7953"
             ],
             [
              0.7777777777777778,
              "#fb9f3a"
             ],
             [
              0.8888888888888888,
              "#fdca26"
             ],
             [
              1,
              "#f0f921"
             ]
            ],
            "type": "heatmapgl"
           }
          ],
          "histogram": [
           {
            "marker": {
             "pattern": {
              "fillmode": "overlay",
              "size": 10,
              "solidity": 0.2
             }
            },
            "type": "histogram"
           }
          ],
          "histogram2d": [
           {
            "colorbar": {
             "outlinewidth": 0,
             "ticks": ""
            },
            "colorscale": [
             [
              0,
              "#0d0887"
             ],
             [
              0.1111111111111111,
              "#46039f"
             ],
             [
              0.2222222222222222,
              "#7201a8"
             ],
             [
              0.3333333333333333,
              "#9c179e"
             ],
             [
              0.4444444444444444,
              "#bd3786"
             ],
             [
              0.5555555555555556,
              "#d8576b"
             ],
             [
              0.6666666666666666,
              "#ed7953"
             ],
             [
              0.7777777777777778,
              "#fb9f3a"
             ],
             [
              0.8888888888888888,
              "#fdca26"
             ],
             [
              1,
              "#f0f921"
             ]
            ],
            "type": "histogram2d"
           }
          ],
          "histogram2dcontour": [
           {
            "colorbar": {
             "outlinewidth": 0,
             "ticks": ""
            },
            "colorscale": [
             [
              0,
              "#0d0887"
             ],
             [
              0.1111111111111111,
              "#46039f"
             ],
             [
              0.2222222222222222,
              "#7201a8"
             ],
             [
              0.3333333333333333,
              "#9c179e"
             ],
             [
              0.4444444444444444,
              "#bd3786"
             ],
             [
              0.5555555555555556,
              "#d8576b"
             ],
             [
              0.6666666666666666,
              "#ed7953"
             ],
             [
              0.7777777777777778,
              "#fb9f3a"
             ],
             [
              0.8888888888888888,
              "#fdca26"
             ],
             [
              1,
              "#f0f921"
             ]
            ],
            "type": "histogram2dcontour"
           }
          ],
          "mesh3d": [
           {
            "colorbar": {
             "outlinewidth": 0,
             "ticks": ""
            },
            "type": "mesh3d"
           }
          ],
          "parcoords": [
           {
            "line": {
             "colorbar": {
              "outlinewidth": 0,
              "ticks": ""
             }
            },
            "type": "parcoords"
           }
          ],
          "pie": [
           {
            "automargin": true,
            "type": "pie"
           }
          ],
          "scatter": [
           {
            "fillpattern": {
             "fillmode": "overlay",
             "size": 10,
             "solidity": 0.2
            },
            "type": "scatter"
           }
          ],
          "scatter3d": [
           {
            "line": {
             "colorbar": {
              "outlinewidth": 0,
              "ticks": ""
             }
            },
            "marker": {
             "colorbar": {
              "outlinewidth": 0,
              "ticks": ""
             }
            },
            "type": "scatter3d"
           }
          ],
          "scattercarpet": [
           {
            "marker": {
             "colorbar": {
              "outlinewidth": 0,
              "ticks": ""
             }
            },
            "type": "scattercarpet"
           }
          ],
          "scattergeo": [
           {
            "marker": {
             "colorbar": {
              "outlinewidth": 0,
              "ticks": ""
             }
            },
            "type": "scattergeo"
           }
          ],
          "scattergl": [
           {
            "marker": {
             "colorbar": {
              "outlinewidth": 0,
              "ticks": ""
             }
            },
            "type": "scattergl"
           }
          ],
          "scattermapbox": [
           {
            "marker": {
             "colorbar": {
              "outlinewidth": 0,
              "ticks": ""
             }
            },
            "type": "scattermapbox"
           }
          ],
          "scatterpolar": [
           {
            "marker": {
             "colorbar": {
              "outlinewidth": 0,
              "ticks": ""
             }
            },
            "type": "scatterpolar"
           }
          ],
          "scatterpolargl": [
           {
            "marker": {
             "colorbar": {
              "outlinewidth": 0,
              "ticks": ""
             }
            },
            "type": "scatterpolargl"
           }
          ],
          "scatterternary": [
           {
            "marker": {
             "colorbar": {
              "outlinewidth": 0,
              "ticks": ""
             }
            },
            "type": "scatterternary"
           }
          ],
          "surface": [
           {
            "colorbar": {
             "outlinewidth": 0,
             "ticks": ""
            },
            "colorscale": [
             [
              0,
              "#0d0887"
             ],
             [
              0.1111111111111111,
              "#46039f"
             ],
             [
              0.2222222222222222,
              "#7201a8"
             ],
             [
              0.3333333333333333,
              "#9c179e"
             ],
             [
              0.4444444444444444,
              "#bd3786"
             ],
             [
              0.5555555555555556,
              "#d8576b"
             ],
             [
              0.6666666666666666,
              "#ed7953"
             ],
             [
              0.7777777777777778,
              "#fb9f3a"
             ],
             [
              0.8888888888888888,
              "#fdca26"
             ],
             [
              1,
              "#f0f921"
             ]
            ],
            "type": "surface"
           }
          ],
          "table": [
           {
            "cells": {
             "fill": {
              "color": "#EBF0F8"
             },
             "line": {
              "color": "white"
             }
            },
            "header": {
             "fill": {
              "color": "#C8D4E3"
             },
             "line": {
              "color": "white"
             }
            },
            "type": "table"
           }
          ]
         },
         "layout": {
          "annotationdefaults": {
           "arrowcolor": "#2a3f5f",
           "arrowhead": 0,
           "arrowwidth": 1
          },
          "autotypenumbers": "strict",
          "coloraxis": {
           "colorbar": {
            "outlinewidth": 0,
            "ticks": ""
           }
          },
          "colorscale": {
           "diverging": [
            [
             0,
             "#8e0152"
            ],
            [
             0.1,
             "#c51b7d"
            ],
            [
             0.2,
             "#de77ae"
            ],
            [
             0.3,
             "#f1b6da"
            ],
            [
             0.4,
             "#fde0ef"
            ],
            [
             0.5,
             "#f7f7f7"
            ],
            [
             0.6,
             "#e6f5d0"
            ],
            [
             0.7,
             "#b8e186"
            ],
            [
             0.8,
             "#7fbc41"
            ],
            [
             0.9,
             "#4d9221"
            ],
            [
             1,
             "#276419"
            ]
           ],
           "sequential": [
            [
             0,
             "#0d0887"
            ],
            [
             0.1111111111111111,
             "#46039f"
            ],
            [
             0.2222222222222222,
             "#7201a8"
            ],
            [
             0.3333333333333333,
             "#9c179e"
            ],
            [
             0.4444444444444444,
             "#bd3786"
            ],
            [
             0.5555555555555556,
             "#d8576b"
            ],
            [
             0.6666666666666666,
             "#ed7953"
            ],
            [
             0.7777777777777778,
             "#fb9f3a"
            ],
            [
             0.8888888888888888,
             "#fdca26"
            ],
            [
             1,
             "#f0f921"
            ]
           ],
           "sequentialminus": [
            [
             0,
             "#0d0887"
            ],
            [
             0.1111111111111111,
             "#46039f"
            ],
            [
             0.2222222222222222,
             "#7201a8"
            ],
            [
             0.3333333333333333,
             "#9c179e"
            ],
            [
             0.4444444444444444,
             "#bd3786"
            ],
            [
             0.5555555555555556,
             "#d8576b"
            ],
            [
             0.6666666666666666,
             "#ed7953"
            ],
            [
             0.7777777777777778,
             "#fb9f3a"
            ],
            [
             0.8888888888888888,
             "#fdca26"
            ],
            [
             1,
             "#f0f921"
            ]
           ]
          },
          "colorway": [
           "#636efa",
           "#EF553B",
           "#00cc96",
           "#ab63fa",
           "#FFA15A",
           "#19d3f3",
           "#FF6692",
           "#B6E880",
           "#FF97FF",
           "#FECB52"
          ],
          "font": {
           "color": "#2a3f5f"
          },
          "geo": {
           "bgcolor": "white",
           "lakecolor": "white",
           "landcolor": "#E5ECF6",
           "showlakes": true,
           "showland": true,
           "subunitcolor": "white"
          },
          "hoverlabel": {
           "align": "left"
          },
          "hovermode": "closest",
          "mapbox": {
           "style": "light"
          },
          "paper_bgcolor": "white",
          "plot_bgcolor": "#E5ECF6",
          "polar": {
           "angularaxis": {
            "gridcolor": "white",
            "linecolor": "white",
            "ticks": ""
           },
           "bgcolor": "#E5ECF6",
           "radialaxis": {
            "gridcolor": "white",
            "linecolor": "white",
            "ticks": ""
           }
          },
          "scene": {
           "xaxis": {
            "backgroundcolor": "#E5ECF6",
            "gridcolor": "white",
            "gridwidth": 2,
            "linecolor": "white",
            "showbackground": true,
            "ticks": "",
            "zerolinecolor": "white"
           },
           "yaxis": {
            "backgroundcolor": "#E5ECF6",
            "gridcolor": "white",
            "gridwidth": 2,
            "linecolor": "white",
            "showbackground": true,
            "ticks": "",
            "zerolinecolor": "white"
           },
           "zaxis": {
            "backgroundcolor": "#E5ECF6",
            "gridcolor": "white",
            "gridwidth": 2,
            "linecolor": "white",
            "showbackground": true,
            "ticks": "",
            "zerolinecolor": "white"
           }
          },
          "shapedefaults": {
           "line": {
            "color": "#2a3f5f"
           }
          },
          "ternary": {
           "aaxis": {
            "gridcolor": "white",
            "linecolor": "white",
            "ticks": ""
           },
           "baxis": {
            "gridcolor": "white",
            "linecolor": "white",
            "ticks": ""
           },
           "bgcolor": "#E5ECF6",
           "caxis": {
            "gridcolor": "white",
            "linecolor": "white",
            "ticks": ""
           }
          },
          "title": {
           "x": 0.05
          },
          "xaxis": {
           "automargin": true,
           "gridcolor": "white",
           "linecolor": "white",
           "ticks": "",
           "title": {
            "standoff": 15
           },
           "zerolinecolor": "white",
           "zerolinewidth": 2
          },
          "yaxis": {
           "automargin": true,
           "gridcolor": "white",
           "linecolor": "white",
           "ticks": "",
           "title": {
            "standoff": 15
           },
           "zerolinecolor": "white",
           "zerolinewidth": 2
          }
         }
        },
        "title": {
         "text": "Total Population vs Net Migration in South Asia",
         "x": 0.5
        },
        "xaxis": {
         "anchor": "y",
         "domain": [
          0,
          1
         ],
         "title": {
          "text": "Total Population"
         }
        },
        "yaxis": {
         "anchor": "x",
         "domain": [
          0,
          1
         ],
         "title": {
          "text": "Net Migration"
         }
        }
       }
      }
     },
     "metadata": {},
     "output_type": "display_data"
    }
   ],
   "source": [
    "# scatter plot using plotly express\n",
    "fig = px.scatter(df, x='total_population', y='net_migration', color='Country',\n",
    "                 title='Total Population vs Net Migration in South Asia',\n",
    "                 labels={'total_population': 'Total Population', 'net_migration': 'Net Migration'})\n",
    "fig.update_traces(marker=dict(size=10, line=dict(width=2, color='DarkSlateGrey')))\n",
    "fig.update_layout(title_x=0.5, xaxis_title='Total Population', yaxis_title='Net Migration')\n",
    "fig.show()"
   ]
  },
  {
   "cell_type": "code",
   "execution_count": 35,
   "id": "e76d5f8e",
   "metadata": {},
   "outputs": [
    {
     "data": {
      "application/vnd.plotly.v1+json": {
       "config": {
        "plotlyServerURL": "https://plot.ly"
       },
       "data": [
        {
         "hovertemplate": "Country=Afghanistan<br>Year=1960<br>Total Population=%{x}<br>Net Migration=%{y}<extra></extra>",
         "legendgroup": "Afghanistan",
         "marker": {
          "color": "#636efa",
          "line": {
           "color": "DarkSlateGrey",
           "width": 2
          },
          "size": 10,
          "symbol": "circle"
         },
         "mode": "markers",
         "name": "Afghanistan",
         "orientation": "v",
         "showlegend": true,
         "type": "scatter",
         "x": [
          9035043
         ],
         "xaxis": "x",
         "y": [
          2606
         ],
         "yaxis": "y"
        },
        {
         "hovertemplate": "Country=Bangladesh<br>Year=1960<br>Total Population=%{x}<br>Net Migration=%{y}<extra></extra>",
         "legendgroup": "Bangladesh",
         "marker": {
          "color": "#EF553B",
          "line": {
           "color": "DarkSlateGrey",
           "width": 2
          },
          "size": 10,
          "symbol": "circle"
         },
         "mode": "markers",
         "name": "Bangladesh",
         "orientation": "v",
         "showlegend": true,
         "type": "scatter",
         "x": [
          51828660
         ],
         "xaxis": "x",
         "y": [
          13580
         ],
         "yaxis": "y"
        },
        {
         "hovertemplate": "Country=India<br>Year=1960<br>Total Population=%{x}<br>Net Migration=%{y}<extra></extra>",
         "legendgroup": "India",
         "marker": {
          "color": "#00cc96",
          "line": {
           "color": "DarkSlateGrey",
           "width": 2
          },
          "size": 10,
          "symbol": "circle"
         },
         "mode": "markers",
         "name": "India",
         "orientation": "v",
         "showlegend": true,
         "type": "scatter",
         "x": [
          435990338
         ],
         "xaxis": "x",
         "y": [
          146955
         ],
         "yaxis": "y"
        },
        {
         "hovertemplate": "Country=Pakistan<br>Year=1960<br>Total Population=%{x}<br>Net Migration=%{y}<extra></extra>",
         "legendgroup": "Pakistan",
         "marker": {
          "color": "#ab63fa",
          "line": {
           "color": "DarkSlateGrey",
           "width": 2
          },
          "size": 10,
          "symbol": "circle"
         },
         "mode": "markers",
         "name": "Pakistan",
         "orientation": "v",
         "showlegend": true,
         "type": "scatter",
         "x": [
          45709310
         ],
         "xaxis": "x",
         "y": [
          0
         ],
         "yaxis": "y"
        },
        {
         "hovertemplate": "Country=Sri Lanka<br>Year=1960<br>Total Population=%{x}<br>Net Migration=%{y}<extra></extra>",
         "legendgroup": "Sri Lanka",
         "marker": {
          "color": "#FFA15A",
          "line": {
           "color": "DarkSlateGrey",
           "width": 2
          },
          "size": 10,
          "symbol": "circle"
         },
         "mode": "markers",
         "name": "Sri Lanka",
         "orientation": "v",
         "showlegend": true,
         "type": "scatter",
         "x": [
          9661389
         ],
         "xaxis": "x",
         "y": [
          -12610
         ],
         "yaxis": "y"
        }
       ],
       "frames": [
        {
         "data": [
          {
           "hovertemplate": "Country=Afghanistan<br>Year=1960<br>Total Population=%{x}<br>Net Migration=%{y}<extra></extra>",
           "legendgroup": "Afghanistan",
           "marker": {
            "color": "#636efa",
            "symbol": "circle"
           },
           "mode": "markers",
           "name": "Afghanistan",
           "orientation": "v",
           "showlegend": true,
           "type": "scatter",
           "x": [
            9035043
           ],
           "xaxis": "x",
           "y": [
            2606
           ],
           "yaxis": "y"
          },
          {
           "hovertemplate": "Country=Bangladesh<br>Year=1960<br>Total Population=%{x}<br>Net Migration=%{y}<extra></extra>",
           "legendgroup": "Bangladesh",
           "marker": {
            "color": "#EF553B",
            "symbol": "circle"
           },
           "mode": "markers",
           "name": "Bangladesh",
           "orientation": "v",
           "showlegend": true,
           "type": "scatter",
           "x": [
            51828660
           ],
           "xaxis": "x",
           "y": [
            13580
           ],
           "yaxis": "y"
          },
          {
           "hovertemplate": "Country=India<br>Year=1960<br>Total Population=%{x}<br>Net Migration=%{y}<extra></extra>",
           "legendgroup": "India",
           "marker": {
            "color": "#00cc96",
            "symbol": "circle"
           },
           "mode": "markers",
           "name": "India",
           "orientation": "v",
           "showlegend": true,
           "type": "scatter",
           "x": [
            435990338
           ],
           "xaxis": "x",
           "y": [
            146955
           ],
           "yaxis": "y"
          },
          {
           "hovertemplate": "Country=Pakistan<br>Year=1960<br>Total Population=%{x}<br>Net Migration=%{y}<extra></extra>",
           "legendgroup": "Pakistan",
           "marker": {
            "color": "#ab63fa",
            "symbol": "circle"
           },
           "mode": "markers",
           "name": "Pakistan",
           "orientation": "v",
           "showlegend": true,
           "type": "scatter",
           "x": [
            45709310
           ],
           "xaxis": "x",
           "y": [
            0
           ],
           "yaxis": "y"
          },
          {
           "hovertemplate": "Country=Sri Lanka<br>Year=1960<br>Total Population=%{x}<br>Net Migration=%{y}<extra></extra>",
           "legendgroup": "Sri Lanka",
           "marker": {
            "color": "#FFA15A",
            "symbol": "circle"
           },
           "mode": "markers",
           "name": "Sri Lanka",
           "orientation": "v",
           "showlegend": true,
           "type": "scatter",
           "x": [
            9661389
           ],
           "xaxis": "x",
           "y": [
            -12610
           ],
           "yaxis": "y"
          }
         ],
         "name": "1960"
        },
        {
         "data": [
          {
           "hovertemplate": "Country=Afghanistan<br>Year=1961<br>Total Population=%{x}<br>Net Migration=%{y}<extra></extra>",
           "legendgroup": "Afghanistan",
           "marker": {
            "color": "#636efa",
            "symbol": "circle"
           },
           "mode": "markers",
           "name": "Afghanistan",
           "orientation": "v",
           "showlegend": true,
           "type": "scatter",
           "x": [
            9214083
           ],
           "xaxis": "x",
           "y": [
            6109
           ],
           "yaxis": "y"
          },
          {
           "hovertemplate": "Country=Bangladesh<br>Year=1961<br>Total Population=%{x}<br>Net Migration=%{y}<extra></extra>",
           "legendgroup": "Bangladesh",
           "marker": {
            "color": "#EF553B",
            "symbol": "circle"
           },
           "mode": "markers",
           "name": "Bangladesh",
           "orientation": "v",
           "showlegend": true,
           "type": "scatter",
           "x": [
            53310348
           ],
           "xaxis": "x",
           "y": [
            26503
           ],
           "yaxis": "y"
          },
          {
           "hovertemplate": "Country=India<br>Year=1961<br>Total Population=%{x}<br>Net Migration=%{y}<extra></extra>",
           "legendgroup": "India",
           "marker": {
            "color": "#00cc96",
            "symbol": "circle"
           },
           "mode": "markers",
           "name": "India",
           "orientation": "v",
           "showlegend": true,
           "type": "scatter",
           "x": [
            446564729
           ],
           "xaxis": "x",
           "y": [
            295177
           ],
           "yaxis": "y"
          },
          {
           "hovertemplate": "Country=Pakistan<br>Year=1961<br>Total Population=%{x}<br>Net Migration=%{y}<extra></extra>",
           "legendgroup": "Pakistan",
           "marker": {
            "color": "#ab63fa",
            "symbol": "circle"
           },
           "mode": "markers",
           "name": "Pakistan",
           "orientation": "v",
           "showlegend": true,
           "type": "scatter",
           "x": [
            46921277
           ],
           "xaxis": "x",
           "y": [
            -66991
           ],
           "yaxis": "y"
          },
          {
           "hovertemplate": "Country=Sri Lanka<br>Year=1961<br>Total Population=%{x}<br>Net Migration=%{y}<extra></extra>",
           "legendgroup": "Sri Lanka",
           "marker": {
            "color": "#FFA15A",
            "symbol": "circle"
           },
           "mode": "markers",
           "name": "Sri Lanka",
           "orientation": "v",
           "showlegend": true,
           "type": "scatter",
           "x": [
            9899372
           ],
           "xaxis": "x",
           "y": [
            -10144
           ],
           "yaxis": "y"
          }
         ],
         "name": "1961"
        },
        {
         "data": [
          {
           "hovertemplate": "Country=Afghanistan<br>Year=1962<br>Total Population=%{x}<br>Net Migration=%{y}<extra></extra>",
           "legendgroup": "Afghanistan",
           "marker": {
            "color": "#636efa",
            "symbol": "circle"
           },
           "mode": "markers",
           "name": "Afghanistan",
           "orientation": "v",
           "showlegend": true,
           "type": "scatter",
           "x": [
            9404406
           ],
           "xaxis": "x",
           "y": [
            7016
           ],
           "yaxis": "y"
          },
          {
           "hovertemplate": "Country=Bangladesh<br>Year=1962<br>Total Population=%{x}<br>Net Migration=%{y}<extra></extra>",
           "legendgroup": "Bangladesh",
           "marker": {
            "color": "#EF553B",
            "symbol": "circle"
           },
           "mode": "markers",
           "name": "Bangladesh",
           "orientation": "v",
           "showlegend": true,
           "type": "scatter",
           "x": [
            54881146
           ],
           "xaxis": "x",
           "y": [
            26533
           ],
           "yaxis": "y"
          },
          {
           "hovertemplate": "Country=India<br>Year=1962<br>Total Population=%{x}<br>Net Migration=%{y}<extra></extra>",
           "legendgroup": "India",
           "marker": {
            "color": "#00cc96",
            "symbol": "circle"
           },
           "mode": "markers",
           "name": "India",
           "orientation": "v",
           "showlegend": true,
           "type": "scatter",
           "x": [
            457283090
           ],
           "xaxis": "x",
           "y": [
            -70514
           ],
           "yaxis": "y"
          },
          {
           "hovertemplate": "Country=Pakistan<br>Year=1962<br>Total Population=%{x}<br>Net Migration=%{y}<extra></extra>",
           "legendgroup": "Pakistan",
           "marker": {
            "color": "#ab63fa",
            "symbol": "circle"
           },
           "mode": "markers",
           "name": "Pakistan",
           "orientation": "v",
           "showlegend": true,
           "type": "scatter",
           "x": [
            48156128
           ],
           "xaxis": "x",
           "y": [
            -65780
           ],
           "yaxis": "y"
          },
          {
           "hovertemplate": "Country=Sri Lanka<br>Year=1962<br>Total Population=%{x}<br>Net Migration=%{y}<extra></extra>",
           "legendgroup": "Sri Lanka",
           "marker": {
            "color": "#FFA15A",
            "symbol": "circle"
           },
           "mode": "markers",
           "name": "Sri Lanka",
           "orientation": "v",
           "showlegend": true,
           "type": "scatter",
           "x": [
            10143754
           ],
           "xaxis": "x",
           "y": [
            -8909
           ],
           "yaxis": "y"
          }
         ],
         "name": "1962"
        },
        {
         "data": [
          {
           "hovertemplate": "Country=Afghanistan<br>Year=1963<br>Total Population=%{x}<br>Net Migration=%{y}<extra></extra>",
           "legendgroup": "Afghanistan",
           "marker": {
            "color": "#636efa",
            "symbol": "circle"
           },
           "mode": "markers",
           "name": "Afghanistan",
           "orientation": "v",
           "showlegend": true,
           "type": "scatter",
           "x": [
            9604487
           ],
           "xaxis": "x",
           "y": [
            6681
           ],
           "yaxis": "y"
          },
          {
           "hovertemplate": "Country=Bangladesh<br>Year=1963<br>Total Population=%{x}<br>Net Migration=%{y}<extra></extra>",
           "legendgroup": "Bangladesh",
           "marker": {
            "color": "#EF553B",
            "symbol": "circle"
           },
           "mode": "markers",
           "name": "Bangladesh",
           "orientation": "v",
           "showlegend": true,
           "type": "scatter",
           "x": [
            56504402
           ],
           "xaxis": "x",
           "y": [
            23215
           ],
           "yaxis": "y"
          },
          {
           "hovertemplate": "Country=India<br>Year=1963<br>Total Population=%{x}<br>Net Migration=%{y}<extra></extra>",
           "legendgroup": "India",
           "marker": {
            "color": "#00cc96",
            "symbol": "circle"
           },
           "mode": "markers",
           "name": "India",
           "orientation": "v",
           "showlegend": true,
           "type": "scatter",
           "x": [
            468138575
           ],
           "xaxis": "x",
           "y": [
            21640
           ],
           "yaxis": "y"
          },
          {
           "hovertemplate": "Country=Pakistan<br>Year=1963<br>Total Population=%{x}<br>Net Migration=%{y}<extra></extra>",
           "legendgroup": "Pakistan",
           "marker": {
            "color": "#ab63fa",
            "symbol": "circle"
           },
           "mode": "markers",
           "name": "Pakistan",
           "orientation": "v",
           "showlegend": true,
           "type": "scatter",
           "x": [
            49447776
           ],
           "xaxis": "x",
           "y": [
            -64552
           ],
           "yaxis": "y"
          },
          {
           "hovertemplate": "Country=Sri Lanka<br>Year=1963<br>Total Population=%{x}<br>Net Migration=%{y}<extra></extra>",
           "legendgroup": "Sri Lanka",
           "marker": {
            "color": "#FFA15A",
            "symbol": "circle"
           },
           "mode": "markers",
           "name": "Sri Lanka",
           "orientation": "v",
           "showlegend": true,
           "type": "scatter",
           "x": [
            10395040
           ],
           "xaxis": "x",
           "y": [
            -8118
           ],
           "yaxis": "y"
          }
         ],
         "name": "1963"
        },
        {
         "data": [
          {
           "hovertemplate": "Country=Afghanistan<br>Year=1964<br>Total Population=%{x}<br>Net Migration=%{y}<extra></extra>",
           "legendgroup": "Afghanistan",
           "marker": {
            "color": "#636efa",
            "symbol": "circle"
           },
           "mode": "markers",
           "name": "Afghanistan",
           "orientation": "v",
           "showlegend": true,
           "type": "scatter",
           "x": [
            9814318
           ],
           "xaxis": "x",
           "y": [
            7079
           ],
           "yaxis": "y"
          },
          {
           "hovertemplate": "Country=Bangladesh<br>Year=1964<br>Total Population=%{x}<br>Net Migration=%{y}<extra></extra>",
           "legendgroup": "Bangladesh",
           "marker": {
            "color": "#EF553B",
            "symbol": "circle"
           },
           "mode": "markers",
           "name": "Bangladesh",
           "orientation": "v",
           "showlegend": true,
           "type": "scatter",
           "x": [
            58178374
           ],
           "xaxis": "x",
           "y": [
            25426
           ],
           "yaxis": "y"
          },
          {
           "hovertemplate": "Country=India<br>Year=1964<br>Total Population=%{x}<br>Net Migration=%{y}<extra></extra>",
           "legendgroup": "India",
           "marker": {
            "color": "#00cc96",
            "symbol": "circle"
           },
           "mode": "markers",
           "name": "India",
           "orientation": "v",
           "showlegend": true,
           "type": "scatter",
           "x": [
            479229598
           ],
           "xaxis": "x",
           "y": [
            -141916
           ],
           "yaxis": "y"
          },
          {
           "hovertemplate": "Country=Pakistan<br>Year=1964<br>Total Population=%{x}<br>Net Migration=%{y}<extra></extra>",
           "legendgroup": "Pakistan",
           "marker": {
            "color": "#ab63fa",
            "symbol": "circle"
           },
           "mode": "markers",
           "name": "Pakistan",
           "orientation": "v",
           "showlegend": true,
           "type": "scatter",
           "x": [
            50799999
           ],
           "xaxis": "x",
           "y": [
            -63298
           ],
           "yaxis": "y"
          },
          {
           "hovertemplate": "Country=Sri Lanka<br>Year=1964<br>Total Population=%{x}<br>Net Migration=%{y}<extra></extra>",
           "legendgroup": "Sri Lanka",
           "marker": {
            "color": "#FFA15A",
            "symbol": "circle"
           },
           "mode": "markers",
           "name": "Sri Lanka",
           "orientation": "v",
           "showlegend": true,
           "type": "scatter",
           "x": [
            10653397
           ],
           "xaxis": "x",
           "y": [
            -7614
           ],
           "yaxis": "y"
          }
         ],
         "name": "1964"
        },
        {
         "data": [
          {
           "hovertemplate": "Country=Afghanistan<br>Year=1965<br>Total Population=%{x}<br>Net Migration=%{y}<extra></extra>",
           "legendgroup": "Afghanistan",
           "marker": {
            "color": "#636efa",
            "symbol": "circle"
           },
           "mode": "markers",
           "name": "Afghanistan",
           "orientation": "v",
           "showlegend": true,
           "type": "scatter",
           "x": [
            10036008
           ],
           "xaxis": "x",
           "y": [
            10695
           ],
           "yaxis": "y"
          },
          {
           "hovertemplate": "Country=Bangladesh<br>Year=1965<br>Total Population=%{x}<br>Net Migration=%{y}<extra></extra>",
           "legendgroup": "Bangladesh",
           "marker": {
            "color": "#EF553B",
            "symbol": "circle"
           },
           "mode": "markers",
           "name": "Bangladesh",
           "orientation": "v",
           "showlegend": true,
           "type": "scatter",
           "x": [
            59902519
           ],
           "xaxis": "x",
           "y": [
            47610
           ],
           "yaxis": "y"
          },
          {
           "hovertemplate": "Country=India<br>Year=1965<br>Total Population=%{x}<br>Net Migration=%{y}<extra></extra>",
           "legendgroup": "India",
           "marker": {
            "color": "#00cc96",
            "symbol": "circle"
           },
           "mode": "markers",
           "name": "India",
           "orientation": "v",
           "showlegend": true,
           "type": "scatter",
           "x": [
            490140146
           ],
           "xaxis": "x",
           "y": [
            -248299
           ],
           "yaxis": "y"
          },
          {
           "hovertemplate": "Country=Pakistan<br>Year=1965<br>Total Population=%{x}<br>Net Migration=%{y}<extra></extra>",
           "legendgroup": "Pakistan",
           "marker": {
            "color": "#ab63fa",
            "symbol": "circle"
           },
           "mode": "markers",
           "name": "Pakistan",
           "orientation": "v",
           "showlegend": true,
           "type": "scatter",
           "x": [
            52209010
           ],
           "xaxis": "x",
           "y": [
            -62070
           ],
           "yaxis": "y"
          },
          {
           "hovertemplate": "Country=Sri Lanka<br>Year=1965<br>Total Population=%{x}<br>Net Migration=%{y}<extra></extra>",
           "legendgroup": "Sri Lanka",
           "marker": {
            "color": "#FFA15A",
            "symbol": "circle"
           },
           "mode": "markers",
           "name": "Sri Lanka",
           "orientation": "v",
           "showlegend": true,
           "type": "scatter",
           "x": [
            10916965
           ],
           "xaxis": "x",
           "y": [
            -7249
           ],
           "yaxis": "y"
          }
         ],
         "name": "1965"
        },
        {
         "data": [
          {
           "hovertemplate": "Country=Afghanistan<br>Year=1966<br>Total Population=%{x}<br>Net Migration=%{y}<extra></extra>",
           "legendgroup": "Afghanistan",
           "marker": {
            "color": "#636efa",
            "symbol": "circle"
           },
           "mode": "markers",
           "name": "Afghanistan",
           "orientation": "v",
           "showlegend": true,
           "type": "scatter",
           "x": [
            10266395
           ],
           "xaxis": "x",
           "y": [
            3563
           ],
           "yaxis": "y"
          },
          {
           "hovertemplate": "Country=Bangladesh<br>Year=1966<br>Total Population=%{x}<br>Net Migration=%{y}<extra></extra>",
           "legendgroup": "Bangladesh",
           "marker": {
            "color": "#EF553B",
            "symbol": "circle"
           },
           "mode": "markers",
           "name": "Bangladesh",
           "orientation": "v",
           "showlegend": true,
           "type": "scatter",
           "x": [
            61669806
           ],
           "xaxis": "x",
           "y": [
            3758
           ],
           "yaxis": "y"
          },
          {
           "hovertemplate": "Country=India<br>Year=1966<br>Total Population=%{x}<br>Net Migration=%{y}<extra></extra>",
           "legendgroup": "India",
           "marker": {
            "color": "#00cc96",
            "symbol": "circle"
           },
           "mode": "markers",
           "name": "India",
           "orientation": "v",
           "showlegend": true,
           "type": "scatter",
           "x": [
            500740247
           ],
           "xaxis": "x",
           "y": [
            -566982
           ],
           "yaxis": "y"
          },
          {
           "hovertemplate": "Country=Pakistan<br>Year=1966<br>Total Population=%{x}<br>Net Migration=%{y}<extra></extra>",
           "legendgroup": "Pakistan",
           "marker": {
            "color": "#ab63fa",
            "symbol": "circle"
           },
           "mode": "markers",
           "name": "Pakistan",
           "orientation": "v",
           "showlegend": true,
           "type": "scatter",
           "x": [
            53678667
           ],
           "xaxis": "x",
           "y": [
            -61025
           ],
           "yaxis": "y"
          },
          {
           "hovertemplate": "Country=Sri Lanka<br>Year=1966<br>Total Population=%{x}<br>Net Migration=%{y}<extra></extra>",
           "legendgroup": "Sri Lanka",
           "marker": {
            "color": "#FFA15A",
            "symbol": "circle"
           },
           "mode": "markers",
           "name": "Sri Lanka",
           "orientation": "v",
           "showlegend": true,
           "type": "scatter",
           "x": [
            11183928
           ],
           "xaxis": "x",
           "y": [
            -6794
           ],
           "yaxis": "y"
          }
         ],
         "name": "1966"
        },
        {
         "data": [
          {
           "hovertemplate": "Country=Afghanistan<br>Year=1967<br>Total Population=%{x}<br>Net Migration=%{y}<extra></extra>",
           "legendgroup": "Afghanistan",
           "marker": {
            "color": "#636efa",
            "symbol": "circle"
           },
           "mode": "markers",
           "name": "Afghanistan",
           "orientation": "v",
           "showlegend": true,
           "type": "scatter",
           "x": [
            10505959
           ],
           "xaxis": "x",
           "y": [
            6824
           ],
           "yaxis": "y"
          },
          {
           "hovertemplate": "Country=Bangladesh<br>Year=1967<br>Total Population=%{x}<br>Net Migration=%{y}<extra></extra>",
           "legendgroup": "Bangladesh",
           "marker": {
            "color": "#EF553B",
            "symbol": "circle"
           },
           "mode": "markers",
           "name": "Bangladesh",
           "orientation": "v",
           "showlegend": true,
           "type": "scatter",
           "x": [
            63510929
           ],
           "xaxis": "x",
           "y": [
            23164
           ],
           "yaxis": "y"
          },
          {
           "hovertemplate": "Country=India<br>Year=1967<br>Total Population=%{x}<br>Net Migration=%{y}<extra></extra>",
           "legendgroup": "India",
           "marker": {
            "color": "#00cc96",
            "symbol": "circle"
           },
           "mode": "markers",
           "name": "India",
           "orientation": "v",
           "showlegend": true,
           "type": "scatter",
           "x": [
            511606372
           ],
           "xaxis": "x",
           "y": [
            -70314
           ],
           "yaxis": "y"
          },
          {
           "hovertemplate": "Country=Pakistan<br>Year=1967<br>Total Population=%{x}<br>Net Migration=%{y}<extra></extra>",
           "legendgroup": "Pakistan",
           "marker": {
            "color": "#ab63fa",
            "symbol": "circle"
           },
           "mode": "markers",
           "name": "Pakistan",
           "orientation": "v",
           "showlegend": true,
           "type": "scatter",
           "x": [
            55214768
           ],
           "xaxis": "x",
           "y": [
            -59932
           ],
           "yaxis": "y"
          },
          {
           "hovertemplate": "Country=Sri Lanka<br>Year=1967<br>Total Population=%{x}<br>Net Migration=%{y}<extra></extra>",
           "legendgroup": "Sri Lanka",
           "marker": {
            "color": "#FFA15A",
            "symbol": "circle"
           },
           "mode": "markers",
           "name": "Sri Lanka",
           "orientation": "v",
           "showlegend": true,
           "type": "scatter",
           "x": [
            11457328
           ],
           "xaxis": "x",
           "y": [
            -6696
           ],
           "yaxis": "y"
          }
         ],
         "name": "1967"
        },
        {
         "data": [
          {
           "hovertemplate": "Country=Afghanistan<br>Year=1968<br>Total Population=%{x}<br>Net Migration=%{y}<extra></extra>",
           "legendgroup": "Afghanistan",
           "marker": {
            "color": "#636efa",
            "symbol": "circle"
           },
           "mode": "markers",
           "name": "Afghanistan",
           "orientation": "v",
           "showlegend": true,
           "type": "scatter",
           "x": [
            10756922
           ],
           "xaxis": "x",
           "y": [
            3333
           ],
           "yaxis": "y"
          },
          {
           "hovertemplate": "Country=Bangladesh<br>Year=1968<br>Total Population=%{x}<br>Net Migration=%{y}<extra></extra>",
           "legendgroup": "Bangladesh",
           "marker": {
            "color": "#EF553B",
            "symbol": "circle"
           },
           "mode": "markers",
           "name": "Bangladesh",
           "orientation": "v",
           "showlegend": true,
           "type": "scatter",
           "x": [
            65408276
           ],
           "xaxis": "x",
           "y": [
            -7970
           ],
           "yaxis": "y"
          },
          {
           "hovertemplate": "Country=India<br>Year=1968<br>Total Population=%{x}<br>Net Migration=%{y}<extra></extra>",
           "legendgroup": "India",
           "marker": {
            "color": "#00cc96",
            "symbol": "circle"
           },
           "mode": "markers",
           "name": "India",
           "orientation": "v",
           "showlegend": true,
           "type": "scatter",
           "x": [
            522716889
           ],
           "xaxis": "x",
           "y": [
            -995416
           ],
           "yaxis": "y"
          },
          {
           "hovertemplate": "Country=Pakistan<br>Year=1968<br>Total Population=%{x}<br>Net Migration=%{y}<extra></extra>",
           "legendgroup": "Pakistan",
           "marker": {
            "color": "#ab63fa",
            "symbol": "circle"
           },
           "mode": "markers",
           "name": "Pakistan",
           "orientation": "v",
           "showlegend": true,
           "type": "scatter",
           "x": [
            56810507
           ],
           "xaxis": "x",
           "y": [
            -58721
           ],
           "yaxis": "y"
          },
          {
           "hovertemplate": "Country=Sri Lanka<br>Year=1968<br>Total Population=%{x}<br>Net Migration=%{y}<extra></extra>",
           "legendgroup": "Sri Lanka",
           "marker": {
            "color": "#FFA15A",
            "symbol": "circle"
           },
           "mode": "markers",
           "name": "Sri Lanka",
           "orientation": "v",
           "showlegend": true,
           "type": "scatter",
           "x": [
            11736088
           ],
           "xaxis": "x",
           "y": [
            -7163
           ],
           "yaxis": "y"
          }
         ],
         "name": "1968"
        },
        {
         "data": [
          {
           "hovertemplate": "Country=Afghanistan<br>Year=1969<br>Total Population=%{x}<br>Net Migration=%{y}<extra></extra>",
           "legendgroup": "Afghanistan",
           "marker": {
            "color": "#636efa",
            "symbol": "circle"
           },
           "mode": "markers",
           "name": "Afghanistan",
           "orientation": "v",
           "showlegend": true,
           "type": "scatter",
           "x": [
            11017409
           ],
           "xaxis": "x",
           "y": [
            2029
           ],
           "yaxis": "y"
          },
          {
           "hovertemplate": "Country=Bangladesh<br>Year=1969<br>Total Population=%{x}<br>Net Migration=%{y}<extra></extra>",
           "legendgroup": "Bangladesh",
           "marker": {
            "color": "#EF553B",
            "symbol": "circle"
           },
           "mode": "markers",
           "name": "Bangladesh",
           "orientation": "v",
           "showlegend": true,
           "type": "scatter",
           "x": [
            67294133
           ],
           "xaxis": "x",
           "y": [
            -125010
           ],
           "yaxis": "y"
          },
          {
           "hovertemplate": "Country=India<br>Year=1969<br>Total Population=%{x}<br>Net Migration=%{y}<extra></extra>",
           "legendgroup": "India",
           "marker": {
            "color": "#00cc96",
            "symbol": "circle"
           },
           "mode": "markers",
           "name": "India",
           "orientation": "v",
           "showlegend": true,
           "type": "scatter",
           "x": [
            533880544
           ],
           "xaxis": "x",
           "y": [
            -851844
           ],
           "yaxis": "y"
          },
          {
           "hovertemplate": "Country=Pakistan<br>Year=1969<br>Total Population=%{x}<br>Net Migration=%{y}<extra></extra>",
           "legendgroup": "Pakistan",
           "marker": {
            "color": "#ab63fa",
            "symbol": "circle"
           },
           "mode": "markers",
           "name": "Pakistan",
           "orientation": "v",
           "showlegend": true,
           "type": "scatter",
           "x": [
            58460939
           ],
           "xaxis": "x",
           "y": [
            -57406
           ],
           "yaxis": "y"
          },
          {
           "hovertemplate": "Country=Sri Lanka<br>Year=1969<br>Total Population=%{x}<br>Net Migration=%{y}<extra></extra>",
           "legendgroup": "Sri Lanka",
           "marker": {
            "color": "#FFA15A",
            "symbol": "circle"
           },
           "mode": "markers",
           "name": "Sri Lanka",
           "orientation": "v",
           "showlegend": true,
           "type": "scatter",
           "x": [
            12013858
           ],
           "xaxis": "x",
           "y": [
            -10152
           ],
           "yaxis": "y"
          }
         ],
         "name": "1969"
        },
        {
         "data": [
          {
           "hovertemplate": "Country=Afghanistan<br>Year=1970<br>Total Population=%{x}<br>Net Migration=%{y}<extra></extra>",
           "legendgroup": "Afghanistan",
           "marker": {
            "color": "#636efa",
            "symbol": "circle"
           },
           "mode": "markers",
           "name": "Afghanistan",
           "orientation": "v",
           "showlegend": true,
           "type": "scatter",
           "x": [
            11290128
           ],
           "xaxis": "x",
           "y": [
            4458
           ],
           "yaxis": "y"
          },
          {
           "hovertemplate": "Country=Bangladesh<br>Year=1970<br>Total Population=%{x}<br>Net Migration=%{y}<extra></extra>",
           "legendgroup": "Bangladesh",
           "marker": {
            "color": "#EF553B",
            "symbol": "circle"
           },
           "mode": "markers",
           "name": "Bangladesh",
           "orientation": "v",
           "showlegend": true,
           "type": "scatter",
           "x": [
            69058894
           ],
           "xaxis": "x",
           "y": [
            -73719
           ],
           "yaxis": "y"
          },
          {
           "hovertemplate": "Country=India<br>Year=1970<br>Total Population=%{x}<br>Net Migration=%{y}<extra></extra>",
           "legendgroup": "India",
           "marker": {
            "color": "#00cc96",
            "symbol": "circle"
           },
           "mode": "markers",
           "name": "India",
           "orientation": "v",
           "showlegend": true,
           "type": "scatter",
           "x": [
            545864268
           ],
           "xaxis": "x",
           "y": [
            233782
           ],
           "yaxis": "y"
          },
          {
           "hovertemplate": "Country=Pakistan<br>Year=1970<br>Total Population=%{x}<br>Net Migration=%{y}<extra></extra>",
           "legendgroup": "Pakistan",
           "marker": {
            "color": "#ab63fa",
            "symbol": "circle"
           },
           "mode": "markers",
           "name": "Pakistan",
           "orientation": "v",
           "showlegend": true,
           "type": "scatter",
           "x": [
            60166719
           ],
           "xaxis": "x",
           "y": [
            -58281
           ],
           "yaxis": "y"
          },
          {
           "hovertemplate": "Country=Sri Lanka<br>Year=1970<br>Total Population=%{x}<br>Net Migration=%{y}<extra></extra>",
           "legendgroup": "Sri Lanka",
           "marker": {
            "color": "#FFA15A",
            "symbol": "circle"
           },
           "mode": "markers",
           "name": "Sri Lanka",
           "orientation": "v",
           "showlegend": true,
           "type": "scatter",
           "x": [
            12287110
           ],
           "xaxis": "x",
           "y": [
            -16299
           ],
           "yaxis": "y"
          }
         ],
         "name": "1970"
        },
        {
         "data": [
          {
           "hovertemplate": "Country=Afghanistan<br>Year=1971<br>Total Population=%{x}<br>Net Migration=%{y}<extra></extra>",
           "legendgroup": "Afghanistan",
           "marker": {
            "color": "#636efa",
            "symbol": "circle"
           },
           "mode": "markers",
           "name": "Afghanistan",
           "orientation": "v",
           "showlegend": true,
           "type": "scatter",
           "x": [
            11567667
           ],
           "xaxis": "x",
           "y": [
            -12801
           ],
           "yaxis": "y"
          },
          {
           "hovertemplate": "Country=Bangladesh<br>Year=1971<br>Total Population=%{x}<br>Net Migration=%{y}<extra></extra>",
           "legendgroup": "Bangladesh",
           "marker": {
            "color": "#EF553B",
            "symbol": "circle"
           },
           "mode": "markers",
           "name": "Bangladesh",
           "orientation": "v",
           "showlegend": true,
           "type": "scatter",
           "x": [
            70276758
           ],
           "xaxis": "x",
           "y": [
            224369
           ],
           "yaxis": "y"
          },
          {
           "hovertemplate": "Country=India<br>Year=1971<br>Total Population=%{x}<br>Net Migration=%{y}<extra></extra>",
           "legendgroup": "India",
           "marker": {
            "color": "#00cc96",
            "symbol": "circle"
           },
           "mode": "markers",
           "name": "India",
           "orientation": "v",
           "showlegend": true,
           "type": "scatter",
           "x": [
            558096387
           ],
           "xaxis": "x",
           "y": [
            -974574
           ],
           "yaxis": "y"
          },
          {
           "hovertemplate": "Country=Pakistan<br>Year=1971<br>Total Population=%{x}<br>Net Migration=%{y}<extra></extra>",
           "legendgroup": "Pakistan",
           "marker": {
            "color": "#ab63fa",
            "symbol": "circle"
           },
           "mode": "markers",
           "name": "Pakistan",
           "orientation": "v",
           "showlegend": true,
           "type": "scatter",
           "x": [
            61847899
           ],
           "xaxis": "x",
           "y": [
            -68357
           ],
           "yaxis": "y"
          },
          {
           "hovertemplate": "Country=Sri Lanka<br>Year=1971<br>Total Population=%{x}<br>Net Migration=%{y}<extra></extra>",
           "legendgroup": "Sri Lanka",
           "marker": {
            "color": "#FFA15A",
            "symbol": "circle"
           },
           "mode": "markers",
           "name": "Sri Lanka",
           "orientation": "v",
           "showlegend": true,
           "type": "scatter",
           "x": [
            12551910
           ],
           "xaxis": "x",
           "y": [
            -22021
           ],
           "yaxis": "y"
          }
         ],
         "name": "1971"
        },
        {
         "data": [
          {
           "hovertemplate": "Country=Afghanistan<br>Year=1972<br>Total Population=%{x}<br>Net Migration=%{y}<extra></extra>",
           "legendgroup": "Afghanistan",
           "marker": {
            "color": "#636efa",
            "symbol": "circle"
           },
           "mode": "markers",
           "name": "Afghanistan",
           "orientation": "v",
           "showlegend": true,
           "type": "scatter",
           "x": [
            11853696
           ],
           "xaxis": "x",
           "y": [
            -4050
           ],
           "yaxis": "y"
          },
          {
           "hovertemplate": "Country=Bangladesh<br>Year=1972<br>Total Population=%{x}<br>Net Migration=%{y}<extra></extra>",
           "legendgroup": "Bangladesh",
           "marker": {
            "color": "#EF553B",
            "symbol": "circle"
           },
           "mode": "markers",
           "name": "Bangladesh",
           "orientation": "v",
           "showlegend": true,
           "type": "scatter",
           "x": [
            71641519
           ],
           "xaxis": "x",
           "y": [
            -269033
           ],
           "yaxis": "y"
          },
          {
           "hovertemplate": "Country=India<br>Year=1972<br>Total Population=%{x}<br>Net Migration=%{y}<extra></extra>",
           "legendgroup": "India",
           "marker": {
            "color": "#00cc96",
            "symbol": "circle"
           },
           "mode": "markers",
           "name": "India",
           "orientation": "v",
           "showlegend": true,
           "type": "scatter",
           "x": [
            570482142
           ],
           "xaxis": "x",
           "y": [
            -82816
           ],
           "yaxis": "y"
          },
          {
           "hovertemplate": "Country=Pakistan<br>Year=1972<br>Total Population=%{x}<br>Net Migration=%{y}<extra></extra>",
           "legendgroup": "Pakistan",
           "marker": {
            "color": "#ab63fa",
            "symbol": "circle"
           },
           "mode": "markers",
           "name": "Pakistan",
           "orientation": "v",
           "showlegend": true,
           "type": "scatter",
           "x": [
            63583194
           ],
           "xaxis": "x",
           "y": [
            -69209
           ],
           "yaxis": "y"
          },
          {
           "hovertemplate": "Country=Sri Lanka<br>Year=1972<br>Total Population=%{x}<br>Net Migration=%{y}<extra></extra>",
           "legendgroup": "Sri Lanka",
           "marker": {
            "color": "#FFA15A",
            "symbol": "circle"
           },
           "mode": "markers",
           "name": "Sri Lanka",
           "orientation": "v",
           "showlegend": true,
           "type": "scatter",
           "x": [
            12809205
           ],
           "xaxis": "x",
           "y": [
            -27071
           ],
           "yaxis": "y"
          }
         ],
         "name": "1972"
        },
        {
         "data": [
          {
           "hovertemplate": "Country=Afghanistan<br>Year=1973<br>Total Population=%{x}<br>Net Migration=%{y}<extra></extra>",
           "legendgroup": "Afghanistan",
           "marker": {
            "color": "#636efa",
            "symbol": "circle"
           },
           "mode": "markers",
           "name": "Afghanistan",
           "orientation": "v",
           "showlegend": true,
           "type": "scatter",
           "x": [
            12157999
           ],
           "xaxis": "x",
           "y": [
            -3030
           ],
           "yaxis": "y"
          },
          {
           "hovertemplate": "Country=Bangladesh<br>Year=1973<br>Total Population=%{x}<br>Net Migration=%{y}<extra></extra>",
           "legendgroup": "Bangladesh",
           "marker": {
            "color": "#EF553B",
            "symbol": "circle"
           },
           "mode": "markers",
           "name": "Bangladesh",
           "orientation": "v",
           "showlegend": true,
           "type": "scatter",
           "x": [
            73722294
           ],
           "xaxis": "x",
           "y": [
            -77324
           ],
           "yaxis": "y"
          },
          {
           "hovertemplate": "Country=India<br>Year=1973<br>Total Population=%{x}<br>Net Migration=%{y}<extra></extra>",
           "legendgroup": "India",
           "marker": {
            "color": "#00cc96",
            "symbol": "circle"
           },
           "mode": "markers",
           "name": "India",
           "orientation": "v",
           "showlegend": true,
           "type": "scatter",
           "x": [
            583465598
           ],
           "xaxis": "x",
           "y": [
            -404743
           ],
           "yaxis": "y"
          },
          {
           "hovertemplate": "Country=Pakistan<br>Year=1973<br>Total Population=%{x}<br>Net Migration=%{y}<extra></extra>",
           "legendgroup": "Pakistan",
           "marker": {
            "color": "#ab63fa",
            "symbol": "circle"
           },
           "mode": "markers",
           "name": "Pakistan",
           "orientation": "v",
           "showlegend": true,
           "type": "scatter",
           "x": [
            65461912
           ],
           "xaxis": "x",
           "y": [
            -58012
           ],
           "yaxis": "y"
          },
          {
           "hovertemplate": "Country=Sri Lanka<br>Year=1973<br>Total Population=%{x}<br>Net Migration=%{y}<extra></extra>",
           "legendgroup": "Sri Lanka",
           "marker": {
            "color": "#FFA15A",
            "symbol": "circle"
           },
           "mode": "markers",
           "name": "Sri Lanka",
           "orientation": "v",
           "showlegend": true,
           "type": "scatter",
           "x": [
            13060916
           ],
           "xaxis": "x",
           "y": [
            -30582
           ],
           "yaxis": "y"
          }
         ],
         "name": "1973"
        },
        {
         "data": [
          {
           "hovertemplate": "Country=Afghanistan<br>Year=1974<br>Total Population=%{x}<br>Net Migration=%{y}<extra></extra>",
           "legendgroup": "Afghanistan",
           "marker": {
            "color": "#636efa",
            "symbol": "circle"
           },
           "mode": "markers",
           "name": "Afghanistan",
           "orientation": "v",
           "showlegend": true,
           "type": "scatter",
           "x": [
            12469127
           ],
           "xaxis": "x",
           "y": [
            -20009
           ],
           "yaxis": "y"
          },
          {
           "hovertemplate": "Country=Bangladesh<br>Year=1974<br>Total Population=%{x}<br>Net Migration=%{y}<extra></extra>",
           "legendgroup": "Bangladesh",
           "marker": {
            "color": "#EF553B",
            "symbol": "circle"
           },
           "mode": "markers",
           "name": "Bangladesh",
           "orientation": "v",
           "showlegend": true,
           "type": "scatter",
           "x": [
            75839348
           ],
           "xaxis": "x",
           "y": [
            -277545
           ],
           "yaxis": "y"
          },
          {
           "hovertemplate": "Country=India<br>Year=1974<br>Total Population=%{x}<br>Net Migration=%{y}<extra></extra>",
           "legendgroup": "India",
           "marker": {
            "color": "#00cc96",
            "symbol": "circle"
           },
           "mode": "markers",
           "name": "India",
           "orientation": "v",
           "showlegend": true,
           "type": "scatter",
           "x": [
            597041391
           ],
           "xaxis": "x",
           "y": [
            347869
           ],
           "yaxis": "y"
          },
          {
           "hovertemplate": "Country=Pakistan<br>Year=1974<br>Total Population=%{x}<br>Net Migration=%{y}<extra></extra>",
           "legendgroup": "Pakistan",
           "marker": {
            "color": "#ab63fa",
            "symbol": "circle"
           },
           "mode": "markers",
           "name": "Pakistan",
           "orientation": "v",
           "showlegend": true,
           "type": "scatter",
           "x": [
            67415487
           ],
           "xaxis": "x",
           "y": [
            -34785
           ],
           "yaxis": "y"
          },
          {
           "hovertemplate": "Country=Sri Lanka<br>Year=1974<br>Total Population=%{x}<br>Net Migration=%{y}<extra></extra>",
           "legendgroup": "Sri Lanka",
           "marker": {
            "color": "#FFA15A",
            "symbol": "circle"
           },
           "mode": "markers",
           "name": "Sri Lanka",
           "orientation": "v",
           "showlegend": true,
           "type": "scatter",
           "x": [
            13305693
           ],
           "xaxis": "x",
           "y": [
            -33979
           ],
           "yaxis": "y"
          }
         ],
         "name": "1974"
        },
        {
         "data": [
          {
           "hovertemplate": "Country=Afghanistan<br>Year=1975<br>Total Population=%{x}<br>Net Migration=%{y}<extra></extra>",
           "legendgroup": "Afghanistan",
           "marker": {
            "color": "#636efa",
            "symbol": "circle"
           },
           "mode": "markers",
           "name": "Afghanistan",
           "orientation": "v",
           "showlegend": true,
           "type": "scatter",
           "x": [
            12773954
           ],
           "xaxis": "x",
           "y": [
            -44418
           ],
           "yaxis": "y"
          },
          {
           "hovertemplate": "Country=Bangladesh<br>Year=1975<br>Total Population=%{x}<br>Net Migration=%{y}<extra></extra>",
           "legendgroup": "Bangladesh",
           "marker": {
            "color": "#EF553B",
            "symbol": "circle"
           },
           "mode": "markers",
           "name": "Bangladesh",
           "orientation": "v",
           "showlegend": true,
           "type": "scatter",
           "x": [
            77854351
           ],
           "xaxis": "x",
           "y": [
            -390212
           ],
           "yaxis": "y"
          },
          {
           "hovertemplate": "Country=India<br>Year=1975<br>Total Population=%{x}<br>Net Migration=%{y}<extra></extra>",
           "legendgroup": "India",
           "marker": {
            "color": "#00cc96",
            "symbol": "circle"
           },
           "mode": "markers",
           "name": "India",
           "orientation": "v",
           "showlegend": true,
           "type": "scatter",
           "x": [
            611309535
           ],
           "xaxis": "x",
           "y": [
            434205
           ],
           "yaxis": "y"
          },
          {
           "hovertemplate": "Country=Pakistan<br>Year=1975<br>Total Population=%{x}<br>Net Migration=%{y}<extra></extra>",
           "legendgroup": "Pakistan",
           "marker": {
            "color": "#ab63fa",
            "symbol": "circle"
           },
           "mode": "markers",
           "name": "Pakistan",
           "orientation": "v",
           "showlegend": true,
           "type": "scatter",
           "x": [
            69461175
           ],
           "xaxis": "x",
           "y": [
            -1710
           ],
           "yaxis": "y"
          },
          {
           "hovertemplate": "Country=Sri Lanka<br>Year=1975<br>Total Population=%{x}<br>Net Migration=%{y}<extra></extra>",
           "legendgroup": "Sri Lanka",
           "marker": {
            "color": "#FFA15A",
            "symbol": "circle"
           },
           "mode": "markers",
           "name": "Sri Lanka",
           "orientation": "v",
           "showlegend": true,
           "type": "scatter",
           "x": [
            13548984
           ],
           "xaxis": "x",
           "y": [
            -37475
           ],
           "yaxis": "y"
          }
         ],
         "name": "1975"
        },
        {
         "data": [
          {
           "hovertemplate": "Country=Afghanistan<br>Year=1976<br>Total Population=%{x}<br>Net Migration=%{y}<extra></extra>",
           "legendgroup": "Afghanistan",
           "marker": {
            "color": "#636efa",
            "symbol": "circle"
           },
           "mode": "markers",
           "name": "Afghanistan",
           "orientation": "v",
           "showlegend": true,
           "type": "scatter",
           "x": [
            13059851
           ],
           "xaxis": "x",
           "y": [
            -85430
           ],
           "yaxis": "y"
          },
          {
           "hovertemplate": "Country=Bangladesh<br>Year=1976<br>Total Population=%{x}<br>Net Migration=%{y}<extra></extra>",
           "legendgroup": "Bangladesh",
           "marker": {
            "color": "#EF553B",
            "symbol": "circle"
           },
           "mode": "markers",
           "name": "Bangladesh",
           "orientation": "v",
           "showlegend": true,
           "type": "scatter",
           "x": [
            79855318
           ],
           "xaxis": "x",
           "y": [
            -424970
           ],
           "yaxis": "y"
          },
          {
           "hovertemplate": "Country=India<br>Year=1976<br>Total Population=%{x}<br>Net Migration=%{y}<extra></extra>",
           "legendgroup": "India",
           "marker": {
            "color": "#00cc96",
            "symbol": "circle"
           },
           "mode": "markers",
           "name": "India",
           "orientation": "v",
           "showlegend": true,
           "type": "scatter",
           "x": [
            625861883
           ],
           "xaxis": "x",
           "y": [
            275984
           ],
           "yaxis": "y"
          },
          {
           "hovertemplate": "Country=Pakistan<br>Year=1976<br>Total Population=%{x}<br>Net Migration=%{y}<extra></extra>",
           "legendgroup": "Pakistan",
           "marker": {
            "color": "#ab63fa",
            "symbol": "circle"
           },
           "mode": "markers",
           "name": "Pakistan",
           "orientation": "v",
           "showlegend": true,
           "type": "scatter",
           "x": [
            71620254
           ],
           "xaxis": "x",
           "y": [
            48238
           ],
           "yaxis": "y"
          },
          {
           "hovertemplate": "Country=Sri Lanka<br>Year=1976<br>Total Population=%{x}<br>Net Migration=%{y}<extra></extra>",
           "legendgroup": "Sri Lanka",
           "marker": {
            "color": "#FFA15A",
            "symbol": "circle"
           },
           "mode": "markers",
           "name": "Sri Lanka",
           "orientation": "v",
           "showlegend": true,
           "type": "scatter",
           "x": [
            13796770
           ],
           "xaxis": "x",
           "y": [
            -41258
           ],
           "yaxis": "y"
          }
         ],
         "name": "1976"
        },
        {
         "data": [
          {
           "hovertemplate": "Country=Afghanistan<br>Year=1977<br>Total Population=%{x}<br>Net Migration=%{y}<extra></extra>",
           "legendgroup": "Afghanistan",
           "marker": {
            "color": "#636efa",
            "symbol": "circle"
           },
           "mode": "markers",
           "name": "Afghanistan",
           "orientation": "v",
           "showlegend": true,
           "type": "scatter",
           "x": [
            13340756
           ],
           "xaxis": "x",
           "y": [
            -83115
           ],
           "yaxis": "y"
          },
          {
           "hovertemplate": "Country=Bangladesh<br>Year=1977<br>Total Population=%{x}<br>Net Migration=%{y}<extra></extra>",
           "legendgroup": "Bangladesh",
           "marker": {
            "color": "#EF553B",
            "symbol": "circle"
           },
           "mode": "markers",
           "name": "Bangladesh",
           "orientation": "v",
           "showlegend": true,
           "type": "scatter",
           "x": [
            81867264
           ],
           "xaxis": "x",
           "y": [
            -458491
           ],
           "yaxis": "y"
          },
          {
           "hovertemplate": "Country=India<br>Year=1977<br>Total Population=%{x}<br>Net Migration=%{y}<extra></extra>",
           "legendgroup": "India",
           "marker": {
            "color": "#00cc96",
            "symbol": "circle"
           },
           "mode": "markers",
           "name": "India",
           "orientation": "v",
           "showlegend": true,
           "type": "scatter",
           "x": [
            640801103
           ],
           "xaxis": "x",
           "y": [
            590626
           ],
           "yaxis": "y"
          },
          {
           "hovertemplate": "Country=Pakistan<br>Year=1977<br>Total Population=%{x}<br>Net Migration=%{y}<extra></extra>",
           "legendgroup": "Pakistan",
           "marker": {
            "color": "#ab63fa",
            "symbol": "circle"
           },
           "mode": "markers",
           "name": "Pakistan",
           "orientation": "v",
           "showlegend": true,
           "type": "scatter",
           "x": [
            73901827
           ],
           "xaxis": "x",
           "y": [
            85250
           ],
           "yaxis": "y"
          },
          {
           "hovertemplate": "Country=Sri Lanka<br>Year=1977<br>Total Population=%{x}<br>Net Migration=%{y}<extra></extra>",
           "legendgroup": "Sri Lanka",
           "marker": {
            "color": "#FFA15A",
            "symbol": "circle"
           },
           "mode": "markers",
           "name": "Sri Lanka",
           "orientation": "v",
           "showlegend": true,
           "type": "scatter",
           "x": [
            14049371
           ],
           "xaxis": "x",
           "y": [
            -45383
           ],
           "yaxis": "y"
          }
         ],
         "name": "1977"
        },
        {
         "data": [
          {
           "hovertemplate": "Country=Afghanistan<br>Year=1978<br>Total Population=%{x}<br>Net Migration=%{y}<extra></extra>",
           "legendgroup": "Afghanistan",
           "marker": {
            "color": "#636efa",
            "symbol": "circle"
           },
           "mode": "markers",
           "name": "Afghanistan",
           "orientation": "v",
           "showlegend": true,
           "type": "scatter",
           "x": [
            13611441
           ],
           "xaxis": "x",
           "y": [
            -117186
           ],
           "yaxis": "y"
          },
          {
           "hovertemplate": "Country=Bangladesh<br>Year=1978<br>Total Population=%{x}<br>Net Migration=%{y}<extra></extra>",
           "legendgroup": "Bangladesh",
           "marker": {
            "color": "#EF553B",
            "symbol": "circle"
           },
           "mode": "markers",
           "name": "Bangladesh",
           "orientation": "v",
           "showlegend": true,
           "type": "scatter",
           "x": [
            83889655
           ],
           "xaxis": "x",
           "y": [
            -486721
           ],
           "yaxis": "y"
          },
          {
           "hovertemplate": "Country=India<br>Year=1978<br>Total Population=%{x}<br>Net Migration=%{y}<extra></extra>",
           "legendgroup": "India",
           "marker": {
            "color": "#00cc96",
            "symbol": "circle"
           },
           "mode": "markers",
           "name": "India",
           "orientation": "v",
           "showlegend": true,
           "type": "scatter",
           "x": [
            655728229
           ],
           "xaxis": "x",
           "y": [
            -210444
           ],
           "yaxis": "y"
          },
          {
           "hovertemplate": "Country=Pakistan<br>Year=1978<br>Total Population=%{x}<br>Net Migration=%{y}<extra></extra>",
           "legendgroup": "Pakistan",
           "marker": {
            "color": "#ab63fa",
            "symbol": "circle"
           },
           "mode": "markers",
           "name": "Pakistan",
           "orientation": "v",
           "showlegend": true,
           "type": "scatter",
           "x": [
            76307379
           ],
           "xaxis": "x",
           "y": [
            111386
           ],
           "yaxis": "y"
          },
          {
           "hovertemplate": "Country=Sri Lanka<br>Year=1978<br>Total Population=%{x}<br>Net Migration=%{y}<extra></extra>",
           "legendgroup": "Sri Lanka",
           "marker": {
            "color": "#FFA15A",
            "symbol": "circle"
           },
           "mode": "markers",
           "name": "Sri Lanka",
           "orientation": "v",
           "showlegend": true,
           "type": "scatter",
           "x": [
            14310128
           ],
           "xaxis": "x",
           "y": [
            -50189
           ],
           "yaxis": "y"
          }
         ],
         "name": "1978"
        },
        {
         "data": [
          {
           "hovertemplate": "Country=Afghanistan<br>Year=1979<br>Total Population=%{x}<br>Net Migration=%{y}<extra></extra>",
           "legendgroup": "Afghanistan",
           "marker": {
            "color": "#636efa",
            "symbol": "circle"
           },
           "mode": "markers",
           "name": "Afghanistan",
           "orientation": "v",
           "showlegend": true,
           "type": "scatter",
           "x": [
            13655567
           ],
           "xaxis": "x",
           "y": [
            -525413
           ],
           "yaxis": "y"
          },
          {
           "hovertemplate": "Country=Bangladesh<br>Year=1979<br>Total Population=%{x}<br>Net Migration=%{y}<extra></extra>",
           "legendgroup": "Bangladesh",
           "marker": {
            "color": "#EF553B",
            "symbol": "circle"
           },
           "mode": "markers",
           "name": "Bangladesh",
           "orientation": "v",
           "showlegend": true,
           "type": "scatter",
           "x": [
            85935072
           ],
           "xaxis": "x",
           "y": [
            -507354
           ],
           "yaxis": "y"
          },
          {
           "hovertemplate": "Country=India<br>Year=1979<br>Total Population=%{x}<br>Net Migration=%{y}<extra></extra>",
           "legendgroup": "India",
           "marker": {
            "color": "#00cc96",
            "symbol": "circle"
           },
           "mode": "markers",
           "name": "India",
           "orientation": "v",
           "showlegend": true,
           "type": "scatter",
           "x": [
            671155747
           ],
           "xaxis": "x",
           "y": [
            774094
           ],
           "yaxis": "y"
          },
          {
           "hovertemplate": "Country=Pakistan<br>Year=1979<br>Total Population=%{x}<br>Net Migration=%{y}<extra></extra>",
           "legendgroup": "Pakistan",
           "marker": {
            "color": "#ab63fa",
            "symbol": "circle"
           },
           "mode": "markers",
           "name": "Pakistan",
           "orientation": "v",
           "showlegend": true,
           "type": "scatter",
           "x": [
            78997039
           ],
           "xaxis": "x",
           "y": [
            450003
           ],
           "yaxis": "y"
          },
          {
           "hovertemplate": "Country=Sri Lanka<br>Year=1979<br>Total Population=%{x}<br>Net Migration=%{y}<extra></extra>",
           "legendgroup": "Sri Lanka",
           "marker": {
            "color": "#FFA15A",
            "symbol": "circle"
           },
           "mode": "markers",
           "name": "Sri Lanka",
           "orientation": "v",
           "showlegend": true,
           "type": "scatter",
           "x": [
            14579614
           ],
           "xaxis": "x",
           "y": [
            -57683
           ],
           "yaxis": "y"
          }
         ],
         "name": "1979"
        },
        {
         "data": [
          {
           "hovertemplate": "Country=Afghanistan<br>Year=1980<br>Total Population=%{x}<br>Net Migration=%{y}<extra></extra>",
           "legendgroup": "Afghanistan",
           "marker": {
            "color": "#636efa",
            "symbol": "circle"
           },
           "mode": "markers",
           "name": "Afghanistan",
           "orientation": "v",
           "showlegend": true,
           "type": "scatter",
           "x": [
            13169311
           ],
           "xaxis": "x",
           "y": [
            -1174239
           ],
           "yaxis": "y"
          },
          {
           "hovertemplate": "Country=Bangladesh<br>Year=1980<br>Total Population=%{x}<br>Net Migration=%{y}<extra></extra>",
           "legendgroup": "Bangladesh",
           "marker": {
            "color": "#EF553B",
            "symbol": "circle"
           },
           "mode": "markers",
           "name": "Bangladesh",
           "orientation": "v",
           "showlegend": true,
           "type": "scatter",
           "x": [
            88016432
           ],
           "xaxis": "x",
           "y": [
            -515918
           ],
           "yaxis": "y"
          },
          {
           "hovertemplate": "Country=India<br>Year=1980<br>Total Population=%{x}<br>Net Migration=%{y}<extra></extra>",
           "legendgroup": "India",
           "marker": {
            "color": "#00cc96",
            "symbol": "circle"
           },
           "mode": "markers",
           "name": "India",
           "orientation": "v",
           "showlegend": true,
           "type": "scatter",
           "x": [
            687354025
           ],
           "xaxis": "x",
           "y": [
            210914
           ],
           "yaxis": "y"
          },
          {
           "hovertemplate": "Country=Pakistan<br>Year=1980<br>Total Population=%{x}<br>Net Migration=%{y}<extra></extra>",
           "legendgroup": "Pakistan",
           "marker": {
            "color": "#ab63fa",
            "symbol": "circle"
           },
           "mode": "markers",
           "name": "Pakistan",
           "orientation": "v",
           "showlegend": true,
           "type": "scatter",
           "x": [
            82291010
           ],
           "xaxis": "x",
           "y": [
            1078229
           ],
           "yaxis": "y"
          },
          {
           "hovertemplate": "Country=Sri Lanka<br>Year=1980<br>Total Population=%{x}<br>Net Migration=%{y}<extra></extra>",
           "legendgroup": "Sri Lanka",
           "marker": {
            "color": "#FFA15A",
            "symbol": "circle"
           },
           "mode": "markers",
           "name": "Sri Lanka",
           "orientation": "v",
           "showlegend": true,
           "type": "scatter",
           "x": [
            14847974
           ],
           "xaxis": "x",
           "y": [
            -63541
           ],
           "yaxis": "y"
          }
         ],
         "name": "1980"
        },
        {
         "data": [
          {
           "hovertemplate": "Country=Afghanistan<br>Year=1981<br>Total Population=%{x}<br>Net Migration=%{y}<extra></extra>",
           "legendgroup": "Afghanistan",
           "marker": {
            "color": "#636efa",
            "symbol": "circle"
           },
           "mode": "markers",
           "name": "Afghanistan",
           "orientation": "v",
           "showlegend": true,
           "type": "scatter",
           "x": [
            11937581
           ],
           "xaxis": "x",
           "y": [
            -1998086
           ],
           "yaxis": "y"
          },
          {
           "hovertemplate": "Country=Bangladesh<br>Year=1981<br>Total Population=%{x}<br>Net Migration=%{y}<extra></extra>",
           "legendgroup": "Bangladesh",
           "marker": {
            "color": "#EF553B",
            "symbol": "circle"
           },
           "mode": "markers",
           "name": "Bangladesh",
           "orientation": "v",
           "showlegend": true,
           "type": "scatter",
           "x": [
            90303105
           ],
           "xaxis": "x",
           "y": [
            -184884
           ],
           "yaxis": "y"
          },
          {
           "hovertemplate": "Country=India<br>Year=1981<br>Total Population=%{x}<br>Net Migration=%{y}<extra></extra>",
           "legendgroup": "India",
           "marker": {
            "color": "#00cc96",
            "symbol": "circle"
           },
           "mode": "markers",
           "name": "India",
           "orientation": "v",
           "showlegend": true,
           "type": "scatter",
           "x": [
            703696250
           ],
           "xaxis": "x",
           "y": [
            33243
           ],
           "yaxis": "y"
          },
          {
           "hovertemplate": "Country=Pakistan<br>Year=1981<br>Total Population=%{x}<br>Net Migration=%{y}<extra></extra>",
           "legendgroup": "Pakistan",
           "marker": {
            "color": "#ab63fa",
            "symbol": "circle"
           },
           "mode": "markers",
           "name": "Pakistan",
           "orientation": "v",
           "showlegend": true,
           "type": "scatter",
           "x": [
            85802049
           ],
           "xaxis": "x",
           "y": [
            555032
           ],
           "yaxis": "y"
          },
          {
           "hovertemplate": "Country=Sri Lanka<br>Year=1981<br>Total Population=%{x}<br>Net Migration=%{y}<extra></extra>",
           "legendgroup": "Sri Lanka",
           "marker": {
            "color": "#FFA15A",
            "symbol": "circle"
           },
           "mode": "markers",
           "name": "Sri Lanka",
           "orientation": "v",
           "showlegend": true,
           "type": "scatter",
           "x": [
            15099414
           ],
           "xaxis": "x",
           "y": [
            -89824
           ],
           "yaxis": "y"
          }
         ],
         "name": "1981"
        },
        {
         "data": [
          {
           "hovertemplate": "Country=Afghanistan<br>Year=1982<br>Total Population=%{x}<br>Net Migration=%{y}<extra></extra>",
           "legendgroup": "Afghanistan",
           "marker": {
            "color": "#636efa",
            "symbol": "circle"
           },
           "mode": "markers",
           "name": "Afghanistan",
           "orientation": "v",
           "showlegend": true,
           "type": "scatter",
           "x": [
            10991378
           ],
           "xaxis": "x",
           "y": [
            -500998
           ],
           "yaxis": "y"
          },
          {
           "hovertemplate": "Country=Bangladesh<br>Year=1982<br>Total Population=%{x}<br>Net Migration=%{y}<extra></extra>",
           "legendgroup": "Bangladesh",
           "marker": {
            "color": "#EF553B",
            "symbol": "circle"
           },
           "mode": "markers",
           "name": "Bangladesh",
           "orientation": "v",
           "showlegend": true,
           "type": "scatter",
           "x": [
            92814507
           ],
           "xaxis": "x",
           "y": [
            -156729
           ],
           "yaxis": "y"
          },
          {
           "hovertemplate": "Country=India<br>Year=1982<br>Total Population=%{x}<br>Net Migration=%{y}<extra></extra>",
           "legendgroup": "India",
           "marker": {
            "color": "#00cc96",
            "symbol": "circle"
           },
           "mode": "markers",
           "name": "India",
           "orientation": "v",
           "showlegend": true,
           "type": "scatter",
           "x": [
            720313473
           ],
           "xaxis": "x",
           "y": [
            -10687
           ],
           "yaxis": "y"
          },
          {
           "hovertemplate": "Country=Pakistan<br>Year=1982<br>Total Population=%{x}<br>Net Migration=%{y}<extra></extra>",
           "legendgroup": "Pakistan",
           "marker": {
            "color": "#ab63fa",
            "symbol": "circle"
           },
           "mode": "markers",
           "name": "Pakistan",
           "orientation": "v",
           "showlegend": true,
           "type": "scatter",
           "x": [
            89089246
           ],
           "xaxis": "x",
           "y": [
            294252
           ],
           "yaxis": "y"
          },
          {
           "hovertemplate": "Country=Sri Lanka<br>Year=1982<br>Total Population=%{x}<br>Net Migration=%{y}<extra></extra>",
           "legendgroup": "Sri Lanka",
           "marker": {
            "color": "#FFA15A",
            "symbol": "circle"
           },
           "mode": "markers",
           "name": "Sri Lanka",
           "orientation": "v",
           "showlegend": true,
           "type": "scatter",
           "x": [
            15286567
           ],
           "xaxis": "x",
           "y": [
            -163987
           ],
           "yaxis": "y"
          }
         ],
         "name": "1982"
        },
        {
         "data": [
          {
           "hovertemplate": "Country=Afghanistan<br>Year=1983<br>Total Population=%{x}<br>Net Migration=%{y}<extra></extra>",
           "legendgroup": "Afghanistan",
           "marker": {
            "color": "#636efa",
            "symbol": "circle"
           },
           "mode": "markers",
           "name": "Afghanistan",
           "orientation": "v",
           "showlegend": true,
           "type": "scatter",
           "x": [
            10917982
           ],
           "xaxis": "x",
           "y": [
            -172797
           ],
           "yaxis": "y"
          },
          {
           "hovertemplate": "Country=Bangladesh<br>Year=1983<br>Total Population=%{x}<br>Net Migration=%{y}<extra></extra>",
           "legendgroup": "Bangladesh",
           "marker": {
            "color": "#EF553B",
            "symbol": "circle"
           },
           "mode": "markers",
           "name": "Bangladesh",
           "orientation": "v",
           "showlegend": true,
           "type": "scatter",
           "x": [
            95335155
           ],
           "xaxis": "x",
           "y": [
            -201909
           ],
           "yaxis": "y"
          },
          {
           "hovertemplate": "Country=India<br>Year=1983<br>Total Population=%{x}<br>Net Migration=%{y}<extra></extra>",
           "legendgroup": "India",
           "marker": {
            "color": "#00cc96",
            "symbol": "circle"
           },
           "mode": "markers",
           "name": "India",
           "orientation": "v",
           "showlegend": true,
           "type": "scatter",
           "x": [
            737372681
           ],
           "xaxis": "x",
           "y": [
            119694
           ],
           "yaxis": "y"
          },
          {
           "hovertemplate": "Country=Pakistan<br>Year=1983<br>Total Population=%{x}<br>Net Migration=%{y}<extra></extra>",
           "legendgroup": "Pakistan",
           "marker": {
            "color": "#ab63fa",
            "symbol": "circle"
           },
           "mode": "markers",
           "name": "Pakistan",
           "orientation": "v",
           "showlegend": true,
           "type": "scatter",
           "x": [
            92227711
           ],
           "xaxis": "x",
           "y": [
            -4753
           ],
           "yaxis": "y"
          },
          {
           "hovertemplate": "Country=Sri Lanka<br>Year=1983<br>Total Population=%{x}<br>Net Migration=%{y}<extra></extra>",
           "legendgroup": "Sri Lanka",
           "marker": {
            "color": "#FFA15A",
            "symbol": "circle"
           },
           "mode": "markers",
           "name": "Sri Lanka",
           "orientation": "v",
           "showlegend": true,
           "type": "scatter",
           "x": [
            15388794
           ],
           "xaxis": "x",
           "y": [
            -209362
           ],
           "yaxis": "y"
          }
         ],
         "name": "1983"
        },
        {
         "data": [
          {
           "hovertemplate": "Country=Afghanistan<br>Year=1984<br>Total Population=%{x}<br>Net Migration=%{y}<extra></extra>",
           "legendgroup": "Afghanistan",
           "marker": {
            "color": "#636efa",
            "symbol": "circle"
           },
           "mode": "markers",
           "name": "Afghanistan",
           "orientation": "v",
           "showlegend": true,
           "type": "scatter",
           "x": [
            11190221
           ],
           "xaxis": "x",
           "y": [
            248224
           ],
           "yaxis": "y"
          },
          {
           "hovertemplate": "Country=Bangladesh<br>Year=1984<br>Total Population=%{x}<br>Net Migration=%{y}<extra></extra>",
           "legendgroup": "Bangladesh",
           "marker": {
            "color": "#EF553B",
            "symbol": "circle"
           },
           "mode": "markers",
           "name": "Bangladesh",
           "orientation": "v",
           "showlegend": true,
           "type": "scatter",
           "x": [
            97814966
           ],
           "xaxis": "x",
           "y": [
            -245693
           ],
           "yaxis": "y"
          },
          {
           "hovertemplate": "Country=India<br>Year=1984<br>Total Population=%{x}<br>Net Migration=%{y}<extra></extra>",
           "legendgroup": "India",
           "marker": {
            "color": "#00cc96",
            "symbol": "circle"
           },
           "mode": "markers",
           "name": "India",
           "orientation": "v",
           "showlegend": true,
           "type": "scatter",
           "x": [
            754875449
           ],
           "xaxis": "x",
           "y": [
            -32313
           ],
           "yaxis": "y"
          },
          {
           "hovertemplate": "Country=Pakistan<br>Year=1984<br>Total Population=%{x}<br>Net Migration=%{y}<extra></extra>",
           "legendgroup": "Pakistan",
           "marker": {
            "color": "#ab63fa",
            "symbol": "circle"
           },
           "mode": "markers",
           "name": "Pakistan",
           "orientation": "v",
           "showlegend": true,
           "type": "scatter",
           "x": [
            95164936
           ],
           "xaxis": "x",
           "y": [
            -319242
           ],
           "yaxis": "y"
          },
          {
           "hovertemplate": "Country=Sri Lanka<br>Year=1984<br>Total Population=%{x}<br>Net Migration=%{y}<extra></extra>",
           "legendgroup": "Sri Lanka",
           "marker": {
            "color": "#FFA15A",
            "symbol": "circle"
           },
           "mode": "markers",
           "name": "Sri Lanka",
           "orientation": "v",
           "showlegend": true,
           "type": "scatter",
           "x": [
            15441860
           ],
           "xaxis": "x",
           "y": [
            -225450
           ],
           "yaxis": "y"
          }
         ],
         "name": "1984"
        },
        {
         "data": [
          {
           "hovertemplate": "Country=Afghanistan<br>Year=1985<br>Total Population=%{x}<br>Net Migration=%{y}<extra></extra>",
           "legendgroup": "Afghanistan",
           "marker": {
            "color": "#636efa",
            "symbol": "circle"
           },
           "mode": "markers",
           "name": "Afghanistan",
           "orientation": "v",
           "showlegend": true,
           "type": "scatter",
           "x": [
            11426852
           ],
           "xaxis": "x",
           "y": [
            -208685
           ],
           "yaxis": "y"
          },
          {
           "hovertemplate": "Country=Bangladesh<br>Year=1985<br>Total Population=%{x}<br>Net Migration=%{y}<extra></extra>",
           "legendgroup": "Bangladesh",
           "marker": {
            "color": "#EF553B",
            "symbol": "circle"
           },
           "mode": "markers",
           "name": "Bangladesh",
           "orientation": "v",
           "showlegend": true,
           "type": "scatter",
           "x": [
            100253825
           ],
           "xaxis": "x",
           "y": [
            -287872
           ],
           "yaxis": "y"
          },
          {
           "hovertemplate": "Country=India<br>Year=1985<br>Total Population=%{x}<br>Net Migration=%{y}<extra></extra>",
           "legendgroup": "India",
           "marker": {
            "color": "#00cc96",
            "symbol": "circle"
           },
           "mode": "markers",
           "name": "India",
           "orientation": "v",
           "showlegend": true,
           "type": "scatter",
           "x": [
            772647793
           ],
           "xaxis": "x",
           "y": [
            -89991
           ],
           "yaxis": "y"
          },
          {
           "hovertemplate": "Country=Pakistan<br>Year=1985<br>Total Population=%{x}<br>Net Migration=%{y}<extra></extra>",
           "legendgroup": "Pakistan",
           "marker": {
            "color": "#ab63fa",
            "symbol": "circle"
           },
           "mode": "markers",
           "name": "Pakistan",
           "orientation": "v",
           "showlegend": true,
           "type": "scatter",
           "x": [
            98229285
           ],
           "xaxis": "x",
           "y": [
            68860
           ],
           "yaxis": "y"
          },
          {
           "hovertemplate": "Country=Sri Lanka<br>Year=1985<br>Total Population=%{x}<br>Net Migration=%{y}<extra></extra>",
           "legendgroup": "Sri Lanka",
           "marker": {
            "color": "#FFA15A",
            "symbol": "circle"
           },
           "mode": "markers",
           "name": "Sri Lanka",
           "orientation": "v",
           "showlegend": true,
           "type": "scatter",
           "x": [
            15544154
           ],
           "xaxis": "x",
           "y": [
            -80950
           ],
           "yaxis": "y"
          }
         ],
         "name": "1985"
        },
        {
         "data": [
          {
           "hovertemplate": "Country=Afghanistan<br>Year=1986<br>Total Population=%{x}<br>Net Migration=%{y}<extra></extra>",
           "legendgroup": "Afghanistan",
           "marker": {
            "color": "#636efa",
            "symbol": "circle"
           },
           "mode": "markers",
           "name": "Afghanistan",
           "orientation": "v",
           "showlegend": true,
           "type": "scatter",
           "x": [
            11420074
           ],
           "xaxis": "x",
           "y": [
            -343397
           ],
           "yaxis": "y"
          },
          {
           "hovertemplate": "Country=Bangladesh<br>Year=1986<br>Total Population=%{x}<br>Net Migration=%{y}<extra></extra>",
           "legendgroup": "Bangladesh",
           "marker": {
            "color": "#EF553B",
            "symbol": "circle"
           },
           "mode": "markers",
           "name": "Bangladesh",
           "orientation": "v",
           "showlegend": true,
           "type": "scatter",
           "x": [
            102635572
           ],
           "xaxis": "x",
           "y": [
            -331992
           ],
           "yaxis": "y"
          },
          {
           "hovertemplate": "Country=India<br>Year=1986<br>Total Population=%{x}<br>Net Migration=%{y}<extra></extra>",
           "legendgroup": "India",
           "marker": {
            "color": "#00cc96",
            "symbol": "circle"
           },
           "mode": "markers",
           "name": "India",
           "orientation": "v",
           "showlegend": true,
           "type": "scatter",
           "x": [
            790689978
           ],
           "xaxis": "x",
           "y": [
            -249545
           ],
           "yaxis": "y"
          },
          {
           "hovertemplate": "Country=Pakistan<br>Year=1986<br>Total Population=%{x}<br>Net Migration=%{y}<extra></extra>",
           "legendgroup": "Pakistan",
           "marker": {
            "color": "#ab63fa",
            "symbol": "circle"
           },
           "mode": "markers",
           "name": "Pakistan",
           "orientation": "v",
           "showlegend": true,
           "type": "scatter",
           "x": [
            101606764
           ],
           "xaxis": "x",
           "y": [
            111045
           ],
           "yaxis": "y"
          },
          {
           "hovertemplate": "Country=Sri Lanka<br>Year=1986<br>Total Population=%{x}<br>Net Migration=%{y}<extra></extra>",
           "legendgroup": "Sri Lanka",
           "marker": {
            "color": "#FFA15A",
            "symbol": "circle"
           },
           "mode": "markers",
           "name": "Sri Lanka",
           "orientation": "v",
           "showlegend": true,
           "type": "scatter",
           "x": [
            15731256
           ],
           "xaxis": "x",
           "y": [
            -26460
           ],
           "yaxis": "y"
          }
         ],
         "name": "1986"
        },
        {
         "data": [
          {
           "hovertemplate": "Country=Afghanistan<br>Year=1987<br>Total Population=%{x}<br>Net Migration=%{y}<extra></extra>",
           "legendgroup": "Afghanistan",
           "marker": {
            "color": "#636efa",
            "symbol": "circle"
           },
           "mode": "markers",
           "name": "Afghanistan",
           "orientation": "v",
           "showlegend": true,
           "type": "scatter",
           "x": [
            11387818
           ],
           "xaxis": "x",
           "y": [
            -345535
           ],
           "yaxis": "y"
          },
          {
           "hovertemplate": "Country=Bangladesh<br>Year=1987<br>Total Population=%{x}<br>Net Migration=%{y}<extra></extra>",
           "legendgroup": "Bangladesh",
           "marker": {
            "color": "#EF553B",
            "symbol": "circle"
           },
           "mode": "markers",
           "name": "Bangladesh",
           "orientation": "v",
           "showlegend": true,
           "type": "scatter",
           "x": [
            104959291
           ],
           "xaxis": "x",
           "y": [
            -367475
           ],
           "yaxis": "y"
          },
          {
           "hovertemplate": "Country=India<br>Year=1987<br>Total Population=%{x}<br>Net Migration=%{y}<extra></extra>",
           "legendgroup": "India",
           "marker": {
            "color": "#00cc96",
            "symbol": "circle"
           },
           "mode": "markers",
           "name": "India",
           "orientation": "v",
           "showlegend": true,
           "type": "scatter",
           "x": [
            808931270
           ],
           "xaxis": "x",
           "y": [
            -219150
           ],
           "yaxis": "y"
          },
          {
           "hovertemplate": "Country=Pakistan<br>Year=1987<br>Total Population=%{x}<br>Net Migration=%{y}<extra></extra>",
           "legendgroup": "Pakistan",
           "marker": {
            "color": "#ab63fa",
            "symbol": "circle"
           },
           "mode": "markers",
           "name": "Pakistan",
           "orientation": "v",
           "showlegend": true,
           "type": "scatter",
           "x": [
            105130717
           ],
           "xaxis": "x",
           "y": [
            146364
           ],
           "yaxis": "y"
          },
          {
           "hovertemplate": "Country=Sri Lanka<br>Year=1987<br>Total Population=%{x}<br>Net Migration=%{y}<extra></extra>",
           "legendgroup": "Sri Lanka",
           "marker": {
            "color": "#FFA15A",
            "symbol": "circle"
           },
           "mode": "markers",
           "name": "Sri Lanka",
           "orientation": "v",
           "showlegend": true,
           "type": "scatter",
           "x": [
            15916576
           ],
           "xaxis": "x",
           "y": [
            -63105
           ],
           "yaxis": "y"
          }
         ],
         "name": "1987"
        },
        {
         "data": [
          {
           "hovertemplate": "Country=Afghanistan<br>Year=1988<br>Total Population=%{x}<br>Net Migration=%{y}<extra></extra>",
           "legendgroup": "Afghanistan",
           "marker": {
            "color": "#636efa",
            "symbol": "circle"
           },
           "mode": "markers",
           "name": "Afghanistan",
           "orientation": "v",
           "showlegend": true,
           "type": "scatter",
           "x": [
            11523298
           ],
           "xaxis": "x",
           "y": [
            -56263
           ],
           "yaxis": "y"
          },
          {
           "hovertemplate": "Country=Bangladesh<br>Year=1988<br>Total Population=%{x}<br>Net Migration=%{y}<extra></extra>",
           "legendgroup": "Bangladesh",
           "marker": {
            "color": "#EF553B",
            "symbol": "circle"
           },
           "mode": "markers",
           "name": "Bangladesh",
           "orientation": "v",
           "showlegend": true,
           "type": "scatter",
           "x": [
            107216008
           ],
           "xaxis": "x",
           "y": [
            -395408
           ],
           "yaxis": "y"
          },
          {
           "hovertemplate": "Country=India<br>Year=1988<br>Total Population=%{x}<br>Net Migration=%{y}<extra></extra>",
           "legendgroup": "India",
           "marker": {
            "color": "#00cc96",
            "symbol": "circle"
           },
           "mode": "markers",
           "name": "India",
           "orientation": "v",
           "showlegend": true,
           "type": "scatter",
           "x": [
            827342990
           ],
           "xaxis": "x",
           "y": [
            -155676
           ],
           "yaxis": "y"
          },
          {
           "hovertemplate": "Country=Pakistan<br>Year=1988<br>Total Population=%{x}<br>Net Migration=%{y}<extra></extra>",
           "legendgroup": "Pakistan",
           "marker": {
            "color": "#ab63fa",
            "symbol": "circle"
           },
           "mode": "markers",
           "name": "Pakistan",
           "orientation": "v",
           "showlegend": true,
           "type": "scatter",
           "x": [
            108724739
           ],
           "xaxis": "x",
           "y": [
            38139
           ],
           "yaxis": "y"
          },
          {
           "hovertemplate": "Country=Sri Lanka<br>Year=1988<br>Total Population=%{x}<br>Net Migration=%{y}<extra></extra>",
           "legendgroup": "Sri Lanka",
           "marker": {
            "color": "#FFA15A",
            "symbol": "circle"
           },
           "mode": "markers",
           "name": "Sri Lanka",
           "orientation": "v",
           "showlegend": true,
           "type": "scatter",
           "x": [
            16078621
           ],
           "xaxis": "x",
           "y": [
            -58415
           ],
           "yaxis": "y"
          }
         ],
         "name": "1988"
        },
        {
         "data": [
          {
           "hovertemplate": "Country=Afghanistan<br>Year=1989<br>Total Population=%{x}<br>Net Migration=%{y}<extra></extra>",
           "legendgroup": "Afghanistan",
           "marker": {
            "color": "#636efa",
            "symbol": "circle"
           },
           "mode": "markers",
           "name": "Afghanistan",
           "orientation": "v",
           "showlegend": true,
           "type": "scatter",
           "x": [
            11874088
           ],
           "xaxis": "x",
           "y": [
            18296
           ],
           "yaxis": "y"
          },
          {
           "hovertemplate": "Country=Bangladesh<br>Year=1989<br>Total Population=%{x}<br>Net Migration=%{y}<extra></extra>",
           "legendgroup": "Bangladesh",
           "marker": {
            "color": "#EF553B",
            "symbol": "circle"
           },
           "mode": "markers",
           "name": "Bangladesh",
           "orientation": "v",
           "showlegend": true,
           "type": "scatter",
           "x": [
            109433799
           ],
           "xaxis": "x",
           "y": [
            -406910
           ],
           "yaxis": "y"
          },
          {
           "hovertemplate": "Country=India<br>Year=1989<br>Total Population=%{x}<br>Net Migration=%{y}<extra></extra>",
           "legendgroup": "India",
           "marker": {
            "color": "#00cc96",
            "symbol": "circle"
           },
           "mode": "markers",
           "name": "India",
           "orientation": "v",
           "showlegend": true,
           "type": "scatter",
           "x": [
            846039529
           ],
           "xaxis": "x",
           "y": [
            -2907
           ],
           "yaxis": "y"
          },
          {
           "hovertemplate": "Country=Pakistan<br>Year=1989<br>Total Population=%{x}<br>Net Migration=%{y}<extra></extra>",
           "legendgroup": "Pakistan",
           "marker": {
            "color": "#ab63fa",
            "symbol": "circle"
           },
           "mode": "markers",
           "name": "Pakistan",
           "orientation": "v",
           "showlegend": true,
           "type": "scatter",
           "x": [
            112336629
           ],
           "xaxis": "x",
           "y": [
            -17164
           ],
           "yaxis": "y"
          },
          {
           "hovertemplate": "Country=Sri Lanka<br>Year=1989<br>Total Population=%{x}<br>Net Migration=%{y}<extra></extra>",
           "legendgroup": "Sri Lanka",
           "marker": {
            "color": "#FFA15A",
            "symbol": "circle"
           },
           "mode": "markers",
           "name": "Sri Lanka",
           "orientation": "v",
           "showlegend": true,
           "type": "scatter",
           "x": [
            16248557
           ],
           "xaxis": "x",
           "y": [
            -33305
           ],
           "yaxis": "y"
          }
         ],
         "name": "1989"
        },
        {
         "data": [
          {
           "hovertemplate": "Country=Afghanistan<br>Year=1990<br>Total Population=%{x}<br>Net Migration=%{y}<extra></extra>",
           "legendgroup": "Afghanistan",
           "marker": {
            "color": "#636efa",
            "symbol": "circle"
           },
           "mode": "markers",
           "name": "Afghanistan",
           "orientation": "v",
           "showlegend": true,
           "type": "scatter",
           "x": [
            12045660
           ],
           "xaxis": "x",
           "y": [
            -458737
           ],
           "yaxis": "y"
          },
          {
           "hovertemplate": "Country=Bangladesh<br>Year=1990<br>Total Population=%{x}<br>Net Migration=%{y}<extra></extra>",
           "legendgroup": "Bangladesh",
           "marker": {
            "color": "#EF553B",
            "symbol": "circle"
           },
           "mode": "markers",
           "name": "Bangladesh",
           "orientation": "v",
           "showlegend": true,
           "type": "scatter",
           "x": [
            111633717
           ],
           "xaxis": "x",
           "y": [
            -404105
           ],
           "yaxis": "y"
          },
          {
           "hovertemplate": "Country=India<br>Year=1990<br>Total Population=%{x}<br>Net Migration=%{y}<extra></extra>",
           "legendgroup": "India",
           "marker": {
            "color": "#00cc96",
            "symbol": "circle"
           },
           "mode": "markers",
           "name": "India",
           "orientation": "v",
           "showlegend": true,
           "type": "scatter",
           "x": [
            864972221
           ],
           "xaxis": "x",
           "y": [
            125514
           ],
           "yaxis": "y"
          },
          {
           "hovertemplate": "Country=Pakistan<br>Year=1990<br>Total Population=%{x}<br>Net Migration=%{y}<extra></extra>",
           "legendgroup": "Pakistan",
           "marker": {
            "color": "#ab63fa",
            "symbol": "circle"
           },
           "mode": "markers",
           "name": "Pakistan",
           "orientation": "v",
           "showlegend": true,
           "type": "scatter",
           "x": [
            116155576
           ],
           "xaxis": "x",
           "y": [
            275242
           ],
           "yaxis": "y"
          },
          {
           "hovertemplate": "Country=Sri Lanka<br>Year=1990<br>Total Population=%{x}<br>Net Migration=%{y}<extra></extra>",
           "legendgroup": "Sri Lanka",
           "marker": {
            "color": "#FFA15A",
            "symbol": "circle"
           },
           "mode": "markers",
           "name": "Sri Lanka",
           "orientation": "v",
           "showlegend": true,
           "type": "scatter",
           "x": [
            16352458
           ],
           "xaxis": "x",
           "y": [
            -195736
           ],
           "yaxis": "y"
          }
         ],
         "name": "1990"
        },
        {
         "data": [
          {
           "hovertemplate": "Country=Afghanistan<br>Year=1991<br>Total Population=%{x}<br>Net Migration=%{y}<extra></extra>",
           "legendgroup": "Afghanistan",
           "marker": {
            "color": "#636efa",
            "symbol": "circle"
           },
           "mode": "markers",
           "name": "Afghanistan",
           "orientation": "v",
           "showlegend": true,
           "type": "scatter",
           "x": [
            12238879
           ],
           "xaxis": "x",
           "y": [
            32782
           ],
           "yaxis": "y"
          },
          {
           "hovertemplate": "Country=Bangladesh<br>Year=1991<br>Total Population=%{x}<br>Net Migration=%{y}<extra></extra>",
           "legendgroup": "Bangladesh",
           "marker": {
            "color": "#EF553B",
            "symbol": "circle"
           },
           "mode": "markers",
           "name": "Bangladesh",
           "orientation": "v",
           "showlegend": true,
           "type": "scatter",
           "x": [
            113787109
           ],
           "xaxis": "x",
           "y": [
            -230852
           ],
           "yaxis": "y"
          },
          {
           "hovertemplate": "Country=India<br>Year=1991<br>Total Population=%{x}<br>Net Migration=%{y}<extra></extra>",
           "legendgroup": "India",
           "marker": {
            "color": "#00cc96",
            "symbol": "circle"
           },
           "mode": "markers",
           "name": "India",
           "orientation": "v",
           "showlegend": true,
           "type": "scatter",
           "x": [
            883927600
           ],
           "xaxis": "x",
           "y": [
            -157911
           ],
           "yaxis": "y"
          },
          {
           "hovertemplate": "Country=Pakistan<br>Year=1991<br>Total Population=%{x}<br>Net Migration=%{y}<extra></extra>",
           "legendgroup": "Pakistan",
           "marker": {
            "color": "#ab63fa",
            "symbol": "circle"
           },
           "mode": "markers",
           "name": "Pakistan",
           "orientation": "v",
           "showlegend": true,
           "type": "scatter",
           "x": [
            120060406
           ],
           "xaxis": "x",
           "y": [
            -19668
           ],
           "yaxis": "y"
          },
          {
           "hovertemplate": "Country=Sri Lanka<br>Year=1991<br>Total Population=%{x}<br>Net Migration=%{y}<extra></extra>",
           "legendgroup": "Sri Lanka",
           "marker": {
            "color": "#FFA15A",
            "symbol": "circle"
           },
           "mode": "markers",
           "name": "Sri Lanka",
           "orientation": "v",
           "showlegend": true,
           "type": "scatter",
           "x": [
            16475354
           ],
           "xaxis": "x",
           "y": [
            -1047
           ],
           "yaxis": "y"
          }
         ],
         "name": "1991"
        },
        {
         "data": [
          {
           "hovertemplate": "Country=Afghanistan<br>Year=1992<br>Total Population=%{x}<br>Net Migration=%{y}<extra></extra>",
           "legendgroup": "Afghanistan",
           "marker": {
            "color": "#636efa",
            "symbol": "circle"
           },
           "mode": "markers",
           "name": "Afghanistan",
           "orientation": "v",
           "showlegend": true,
           "type": "scatter",
           "x": [
            13278974
           ],
           "xaxis": "x",
           "y": [
            1197329
           ],
           "yaxis": "y"
          },
          {
           "hovertemplate": "Country=Bangladesh<br>Year=1992<br>Total Population=%{x}<br>Net Migration=%{y}<extra></extra>",
           "legendgroup": "Bangladesh",
           "marker": {
            "color": "#EF553B",
            "symbol": "circle"
           },
           "mode": "markers",
           "name": "Bangladesh",
           "orientation": "v",
           "showlegend": true,
           "type": "scatter",
           "x": [
            115952192
           ],
           "xaxis": "x",
           "y": [
            -246914
           ],
           "yaxis": "y"
          },
          {
           "hovertemplate": "Country=India<br>Year=1992<br>Total Population=%{x}<br>Net Migration=%{y}<extra></extra>",
           "legendgroup": "India",
           "marker": {
            "color": "#00cc96",
            "symbol": "circle"
           },
           "mode": "markers",
           "name": "India",
           "orientation": "v",
           "showlegend": true,
           "type": "scatter",
           "x": [
            902957070
           ],
           "xaxis": "x",
           "y": [
            35155
           ],
           "yaxis": "y"
          },
          {
           "hovertemplate": "Country=Pakistan<br>Year=1992<br>Total Population=%{x}<br>Net Migration=%{y}<extra></extra>",
           "legendgroup": "Pakistan",
           "marker": {
            "color": "#ab63fa",
            "symbol": "circle"
           },
           "mode": "markers",
           "name": "Pakistan",
           "orientation": "v",
           "showlegend": true,
           "type": "scatter",
           "x": [
            123546848
           ],
           "xaxis": "x",
           "y": [
            -718387
           ],
           "yaxis": "y"
          },
          {
           "hovertemplate": "Country=Sri Lanka<br>Year=1992<br>Total Population=%{x}<br>Net Migration=%{y}<extra></extra>",
           "legendgroup": "Sri Lanka",
           "marker": {
            "color": "#FFA15A",
            "symbol": "circle"
           },
           "mode": "markers",
           "name": "Sri Lanka",
           "orientation": "v",
           "showlegend": true,
           "type": "scatter",
           "x": [
            16739284
           ],
           "xaxis": "x",
           "y": [
            88542
           ],
           "yaxis": "y"
          }
         ],
         "name": "1992"
        },
        {
         "data": [
          {
           "hovertemplate": "Country=Afghanistan<br>Year=1993<br>Total Population=%{x}<br>Net Migration=%{y}<extra></extra>",
           "legendgroup": "Afghanistan",
           "marker": {
            "color": "#636efa",
            "symbol": "circle"
           },
           "mode": "markers",
           "name": "Afghanistan",
           "orientation": "v",
           "showlegend": true,
           "type": "scatter",
           "x": [
            14943172
           ],
           "xaxis": "x",
           "y": [
            1149684
           ],
           "yaxis": "y"
          },
          {
           "hovertemplate": "Country=Bangladesh<br>Year=1993<br>Total Population=%{x}<br>Net Migration=%{y}<extra></extra>",
           "legendgroup": "Bangladesh",
           "marker": {
            "color": "#EF553B",
            "symbol": "circle"
           },
           "mode": "markers",
           "name": "Bangladesh",
           "orientation": "v",
           "showlegend": true,
           "type": "scatter",
           "x": [
            118132360
           ],
           "xaxis": "x",
           "y": [
            -271677
           ],
           "yaxis": "y"
          },
          {
           "hovertemplate": "Country=India<br>Year=1993<br>Total Population=%{x}<br>Net Migration=%{y}<extra></extra>",
           "legendgroup": "India",
           "marker": {
            "color": "#00cc96",
            "symbol": "circle"
           },
           "mode": "markers",
           "name": "India",
           "orientation": "v",
           "showlegend": true,
           "type": "scatter",
           "x": [
            922118387
           ],
           "xaxis": "x",
           "y": [
            2364
           ],
           "yaxis": "y"
          },
          {
           "hovertemplate": "Country=Pakistan<br>Year=1993<br>Total Population=%{x}<br>Net Migration=%{y}<extra></extra>",
           "legendgroup": "Pakistan",
           "marker": {
            "color": "#ab63fa",
            "symbol": "circle"
           },
           "mode": "markers",
           "name": "Pakistan",
           "orientation": "v",
           "showlegend": true,
           "type": "scatter",
           "x": [
            127020117
           ],
           "xaxis": "x",
           "y": [
            -139493
           ],
           "yaxis": "y"
          },
          {
           "hovertemplate": "Country=Sri Lanka<br>Year=1993<br>Total Population=%{x}<br>Net Migration=%{y}<extra></extra>",
           "legendgroup": "Sri Lanka",
           "marker": {
            "color": "#FFA15A",
            "symbol": "circle"
           },
           "mode": "markers",
           "name": "Sri Lanka",
           "orientation": "v",
           "showlegend": true,
           "type": "scatter",
           "x": [
            17025918
           ],
           "xaxis": "x",
           "y": [
            36232
           ],
           "yaxis": "y"
          }
         ],
         "name": "1993"
        },
        {
         "data": [
          {
           "hovertemplate": "Country=Afghanistan<br>Year=1994<br>Total Population=%{x}<br>Net Migration=%{y}<extra></extra>",
           "legendgroup": "Afghanistan",
           "marker": {
            "color": "#636efa",
            "symbol": "circle"
           },
           "mode": "markers",
           "name": "Afghanistan",
           "orientation": "v",
           "showlegend": true,
           "type": "scatter",
           "x": [
            16250794
           ],
           "xaxis": "x",
           "y": [
            315206
           ],
           "yaxis": "y"
          },
          {
           "hovertemplate": "Country=Bangladesh<br>Year=1994<br>Total Population=%{x}<br>Net Migration=%{y}<extra></extra>",
           "legendgroup": "Bangladesh",
           "marker": {
            "color": "#EF553B",
            "symbol": "circle"
           },
           "mode": "markers",
           "name": "Bangladesh",
           "orientation": "v",
           "showlegend": true,
           "type": "scatter",
           "x": [
            120343179
           ],
           "xaxis": "x",
           "y": [
            -206958
           ],
           "yaxis": "y"
          },
          {
           "hovertemplate": "Country=India<br>Year=1994<br>Total Population=%{x}<br>Net Migration=%{y}<extra></extra>",
           "legendgroup": "India",
           "marker": {
            "color": "#00cc96",
            "symbol": "circle"
           },
           "mode": "markers",
           "name": "India",
           "orientation": "v",
           "showlegend": true,
           "type": "scatter",
           "x": [
            941163767
           ],
           "xaxis": "x",
           "y": [
            -375253
           ],
           "yaxis": "y"
          },
          {
           "hovertemplate": "Country=Pakistan<br>Year=1994<br>Total Population=%{x}<br>Net Migration=%{y}<extra></extra>",
           "legendgroup": "Pakistan",
           "marker": {
            "color": "#ab63fa",
            "symbol": "circle"
           },
           "mode": "markers",
           "name": "Pakistan",
           "orientation": "v",
           "showlegend": true,
           "type": "scatter",
           "x": [
            130748083
           ],
           "xaxis": "x",
           "y": [
            -277100
           ],
           "yaxis": "y"
          },
          {
           "hovertemplate": "Country=Sri Lanka<br>Year=1994<br>Total Population=%{x}<br>Net Migration=%{y}<extra></extra>",
           "legendgroup": "Sri Lanka",
           "marker": {
            "color": "#FFA15A",
            "symbol": "circle"
           },
           "mode": "markers",
           "name": "Sri Lanka",
           "orientation": "v",
           "showlegend": true,
           "type": "scatter",
           "x": [
            17275773
           ],
           "xaxis": "x",
           "y": [
            8323
           ],
           "yaxis": "y"
          }
         ],
         "name": "1994"
        },
        {
         "data": [
          {
           "hovertemplate": "Country=Afghanistan<br>Year=1995<br>Total Population=%{x}<br>Net Migration=%{y}<extra></extra>",
           "legendgroup": "Afghanistan",
           "marker": {
            "color": "#636efa",
            "symbol": "circle"
           },
           "mode": "markers",
           "name": "Afghanistan",
           "orientation": "v",
           "showlegend": true,
           "type": "scatter",
           "x": [
            17065836
           ],
           "xaxis": "x",
           "y": [
            52505
           ],
           "yaxis": "y"
          },
          {
           "hovertemplate": "Country=Bangladesh<br>Year=1995<br>Total Population=%{x}<br>Net Migration=%{y}<extra></extra>",
           "legendgroup": "Bangladesh",
           "marker": {
            "color": "#EF553B",
            "symbol": "circle"
           },
           "mode": "markers",
           "name": "Bangladesh",
           "orientation": "v",
           "showlegend": true,
           "type": "scatter",
           "x": [
            122600370
           ],
           "xaxis": "x",
           "y": [
            -231304
           ],
           "yaxis": "y"
          },
          {
           "hovertemplate": "Country=India<br>Year=1995<br>Total Population=%{x}<br>Net Migration=%{y}<extra></extra>",
           "legendgroup": "India",
           "marker": {
            "color": "#00cc96",
            "symbol": "circle"
           },
           "mode": "markers",
           "name": "India",
           "orientation": "v",
           "showlegend": true,
           "type": "scatter",
           "x": [
            960301044
           ],
           "xaxis": "x",
           "y": [
            -57297
           ],
           "yaxis": "y"
          },
          {
           "hovertemplate": "Country=Pakistan<br>Year=1995<br>Total Population=%{x}<br>Net Migration=%{y}<extra></extra>",
           "legendgroup": "Pakistan",
           "marker": {
            "color": "#ab63fa",
            "symbol": "circle"
           },
           "mode": "markers",
           "name": "Pakistan",
           "orientation": "v",
           "showlegend": true,
           "type": "scatter",
           "x": [
            134582253
           ],
           "xaxis": "x",
           "y": [
            11534
           ],
           "yaxis": "y"
          },
          {
           "hovertemplate": "Country=Sri Lanka<br>Year=1995<br>Total Population=%{x}<br>Net Migration=%{y}<extra></extra>",
           "legendgroup": "Sri Lanka",
           "marker": {
            "color": "#FFA15A",
            "symbol": "circle"
           },
           "mode": "markers",
           "name": "Sri Lanka",
           "orientation": "v",
           "showlegend": true,
           "type": "scatter",
           "x": [
            17564068
           ],
           "xaxis": "x",
           "y": [
            117416
           ],
           "yaxis": "y"
          }
         ],
         "name": "1995"
        },
        {
         "data": [
          {
           "hovertemplate": "Country=Afghanistan<br>Year=1996<br>Total Population=%{x}<br>Net Migration=%{y}<extra></extra>",
           "legendgroup": "Afghanistan",
           "marker": {
            "color": "#636efa",
            "symbol": "circle"
           },
           "mode": "markers",
           "name": "Afghanistan",
           "orientation": "v",
           "showlegend": true,
           "type": "scatter",
           "x": [
            17763266
           ],
           "xaxis": "x",
           "y": [
            4072
           ],
           "yaxis": "y"
          },
          {
           "hovertemplate": "Country=Bangladesh<br>Year=1996<br>Total Population=%{x}<br>Net Migration=%{y}<extra></extra>",
           "legendgroup": "Bangladesh",
           "marker": {
            "color": "#EF553B",
            "symbol": "circle"
           },
           "mode": "markers",
           "name": "Bangladesh",
           "orientation": "v",
           "showlegend": true,
           "type": "scatter",
           "x": [
            124862179
           ],
           "xaxis": "x",
           "y": [
            -254239
           ],
           "yaxis": "y"
          },
          {
           "hovertemplate": "Country=India<br>Year=1996<br>Total Population=%{x}<br>Net Migration=%{y}<extra></extra>",
           "legendgroup": "India",
           "marker": {
            "color": "#00cc96",
            "symbol": "circle"
           },
           "mode": "markers",
           "name": "India",
           "orientation": "v",
           "showlegend": true,
           "type": "scatter",
           "x": [
            979678458
           ],
           "xaxis": "x",
           "y": [
            -26388
           ],
           "yaxis": "y"
          },
          {
           "hovertemplate": "Country=Pakistan<br>Year=1996<br>Total Population=%{x}<br>Net Migration=%{y}<extra></extra>",
           "legendgroup": "Pakistan",
           "marker": {
            "color": "#ab63fa",
            "symbol": "circle"
           },
           "mode": "markers",
           "name": "Pakistan",
           "orientation": "v",
           "showlegend": true,
           "type": "scatter",
           "x": [
            138557092
           ],
           "xaxis": "x",
           "y": [
            -60855
           ],
           "yaxis": "y"
          },
          {
           "hovertemplate": "Country=Sri Lanka<br>Year=1996<br>Total Population=%{x}<br>Net Migration=%{y}<extra></extra>",
           "legendgroup": "Sri Lanka",
           "marker": {
            "color": "#FFA15A",
            "symbol": "circle"
           },
           "mode": "markers",
           "name": "Sri Lanka",
           "orientation": "v",
           "showlegend": true,
           "type": "scatter",
           "x": [
            17905018
           ],
           "xaxis": "x",
           "y": [
            127236
           ],
           "yaxis": "y"
          }
         ],
         "name": "1996"
        },
        {
         "data": [
          {
           "hovertemplate": "Country=Afghanistan<br>Year=1997<br>Total Population=%{x}<br>Net Migration=%{y}<extra></extra>",
           "legendgroup": "Afghanistan",
           "marker": {
            "color": "#636efa",
            "symbol": "circle"
           },
           "mode": "markers",
           "name": "Afghanistan",
           "orientation": "v",
           "showlegend": true,
           "type": "scatter",
           "x": [
            18452091
           ],
           "xaxis": "x",
           "y": [
            -21215
           ],
           "yaxis": "y"
          },
          {
           "hovertemplate": "Country=Bangladesh<br>Year=1997<br>Total Population=%{x}<br>Net Migration=%{y}<extra></extra>",
           "legendgroup": "Bangladesh",
           "marker": {
            "color": "#EF553B",
            "symbol": "circle"
           },
           "mode": "markers",
           "name": "Bangladesh",
           "orientation": "v",
           "showlegend": true,
           "type": "scatter",
           "x": [
            127198069
           ],
           "xaxis": "x",
           "y": [
            -273442
           ],
           "yaxis": "y"
          },
          {
           "hovertemplate": "Country=India<br>Year=1997<br>Total Population=%{x}<br>Net Migration=%{y}<extra></extra>",
           "legendgroup": "India",
           "marker": {
            "color": "#00cc96",
            "symbol": "circle"
           },
           "mode": "markers",
           "name": "India",
           "orientation": "v",
           "showlegend": true,
           "type": "scatter",
           "x": [
            999133762
           ],
           "xaxis": "x",
           "y": [
            880
           ],
           "yaxis": "y"
          },
          {
           "hovertemplate": "Country=Pakistan<br>Year=1997<br>Total Population=%{x}<br>Net Migration=%{y}<extra></extra>",
           "legendgroup": "Pakistan",
           "marker": {
            "color": "#ab63fa",
            "symbol": "circle"
           },
           "mode": "markers",
           "name": "Pakistan",
           "orientation": "v",
           "showlegend": true,
           "type": "scatter",
           "x": [
            142531804
           ],
           "xaxis": "x",
           "y": [
            -55539
           ],
           "yaxis": "y"
          },
          {
           "hovertemplate": "Country=Sri Lanka<br>Year=1997<br>Total Population=%{x}<br>Net Migration=%{y}<extra></extra>",
           "legendgroup": "Sri Lanka",
           "marker": {
            "color": "#FFA15A",
            "symbol": "circle"
           },
           "mode": "markers",
           "name": "Sri Lanka",
           "orientation": "v",
           "showlegend": true,
           "type": "scatter",
           "x": [
            18248200
           ],
           "xaxis": "x",
           "y": [
            135636
           ],
           "yaxis": "y"
          }
         ],
         "name": "1997"
        },
        {
         "data": [
          {
           "hovertemplate": "Country=Afghanistan<br>Year=1998<br>Total Population=%{x}<br>Net Migration=%{y}<extra></extra>",
           "legendgroup": "Afghanistan",
           "marker": {
            "color": "#636efa",
            "symbol": "circle"
           },
           "mode": "markers",
           "name": "Afghanistan",
           "orientation": "v",
           "showlegend": true,
           "type": "scatter",
           "x": [
            19159996
           ],
           "xaxis": "x",
           "y": [
            7380
           ],
           "yaxis": "y"
          },
          {
           "hovertemplate": "Country=Bangladesh<br>Year=1998<br>Total Population=%{x}<br>Net Migration=%{y}<extra></extra>",
           "legendgroup": "Bangladesh",
           "marker": {
            "color": "#EF553B",
            "symbol": "circle"
           },
           "mode": "markers",
           "name": "Bangladesh",
           "orientation": "v",
           "showlegend": true,
           "type": "scatter",
           "x": [
            129622332
           ],
           "xaxis": "x",
           "y": [
            -286966
           ],
           "yaxis": "y"
          },
          {
           "hovertemplate": "Country=India<br>Year=1998<br>Total Population=%{x}<br>Net Migration=%{y}<extra></extra>",
           "legendgroup": "India",
           "marker": {
            "color": "#00cc96",
            "symbol": "circle"
           },
           "mode": "markers",
           "name": "India",
           "orientation": "v",
           "showlegend": true,
           "type": "scatter",
           "x": [
            1018665080
           ],
           "xaxis": "x",
           "y": [
            -1049
           ],
           "yaxis": "y"
          },
          {
           "hovertemplate": "Country=Pakistan<br>Year=1998<br>Total Population=%{x}<br>Net Migration=%{y}<extra></extra>",
           "legendgroup": "Pakistan",
           "marker": {
            "color": "#ab63fa",
            "symbol": "circle"
           },
           "mode": "markers",
           "name": "Pakistan",
           "orientation": "v",
           "showlegend": true,
           "type": "scatter",
           "x": [
            146522356
           ],
           "xaxis": "x",
           "y": [
            -112191
           ],
           "yaxis": "y"
          },
          {
           "hovertemplate": "Country=Sri Lanka<br>Year=1998<br>Total Population=%{x}<br>Net Migration=%{y}<extra></extra>",
           "legendgroup": "Sri Lanka",
           "marker": {
            "color": "#FFA15A",
            "symbol": "circle"
           },
           "mode": "markers",
           "name": "Sri Lanka",
           "orientation": "v",
           "showlegend": true,
           "type": "scatter",
           "x": [
            18596003
           ],
           "xaxis": "x",
           "y": [
            150724
           ],
           "yaxis": "y"
          }
         ],
         "name": "1998"
        },
        {
         "data": [
          {
           "hovertemplate": "Country=Afghanistan<br>Year=1999<br>Total Population=%{x}<br>Net Migration=%{y}<extra></extra>",
           "legendgroup": "Afghanistan",
           "marker": {
            "color": "#636efa",
            "symbol": "circle"
           },
           "mode": "markers",
           "name": "Afghanistan",
           "orientation": "v",
           "showlegend": true,
           "type": "scatter",
           "x": [
            19887785
           ],
           "xaxis": "x",
           "y": [
            -32400
           ],
           "yaxis": "y"
          },
          {
           "hovertemplate": "Country=Bangladesh<br>Year=1999<br>Total Population=%{x}<br>Net Migration=%{y}<extra></extra>",
           "legendgroup": "Bangladesh",
           "marker": {
            "color": "#EF553B",
            "symbol": "circle"
           },
           "mode": "markers",
           "name": "Bangladesh",
           "orientation": "v",
           "showlegend": true,
           "type": "scatter",
           "x": [
            132108065
           ],
           "xaxis": "x",
           "y": [
            -286256
           ],
           "yaxis": "y"
          },
          {
           "hovertemplate": "Country=India<br>Year=1999<br>Total Population=%{x}<br>Net Migration=%{y}<extra></extra>",
           "legendgroup": "India",
           "marker": {
            "color": "#00cc96",
            "symbol": "circle"
           },
           "mode": "markers",
           "name": "India",
           "orientation": "v",
           "showlegend": true,
           "type": "scatter",
           "x": [
            1038225823
           ],
           "xaxis": "x",
           "y": [
            -95320
           ],
           "yaxis": "y"
          },
          {
           "hovertemplate": "Country=Pakistan<br>Year=1999<br>Total Population=%{x}<br>Net Migration=%{y}<extra></extra>",
           "legendgroup": "Pakistan",
           "marker": {
            "color": "#ab63fa",
            "symbol": "circle"
           },
           "mode": "markers",
           "name": "Pakistan",
           "orientation": "v",
           "showlegend": true,
           "type": "scatter",
           "x": [
            150565377
           ],
           "xaxis": "x",
           "y": [
            -134510
           ],
           "yaxis": "y"
          },
          {
           "hovertemplate": "Country=Sri Lanka<br>Year=1999<br>Total Population=%{x}<br>Net Migration=%{y}<extra></extra>",
           "legendgroup": "Sri Lanka",
           "marker": {
            "color": "#FFA15A",
            "symbol": "circle"
           },
           "mode": "markers",
           "name": "Sri Lanka",
           "orientation": "v",
           "showlegend": true,
           "type": "scatter",
           "x": [
            18944731
           ],
           "xaxis": "x",
           "y": [
            138799
           ],
           "yaxis": "y"
          }
         ],
         "name": "1999"
        },
        {
         "data": [
          {
           "hovertemplate": "Country=Afghanistan<br>Year=2000<br>Total Population=%{x}<br>Net Migration=%{y}<extra></extra>",
           "legendgroup": "Afghanistan",
           "marker": {
            "color": "#636efa",
            "symbol": "circle"
           },
           "mode": "markers",
           "name": "Afghanistan",
           "orientation": "v",
           "showlegend": true,
           "type": "scatter",
           "x": [
            20130327
           ],
           "xaxis": "x",
           "y": [
            -1025973
           ],
           "yaxis": "y"
          },
          {
           "hovertemplate": "Country=Bangladesh<br>Year=2000<br>Total Population=%{x}<br>Net Migration=%{y}<extra></extra>",
           "legendgroup": "Bangladesh",
           "marker": {
            "color": "#EF553B",
            "symbol": "circle"
           },
           "mode": "markers",
           "name": "Bangladesh",
           "orientation": "v",
           "showlegend": true,
           "type": "scatter",
           "x": [
            134544304
           ],
           "xaxis": "x",
           "y": [
            -512422
           ],
           "yaxis": "y"
          },
          {
           "hovertemplate": "Country=India<br>Year=2000<br>Total Population=%{x}<br>Net Migration=%{y}<extra></extra>",
           "legendgroup": "India",
           "marker": {
            "color": "#00cc96",
            "symbol": "circle"
           },
           "mode": "markers",
           "name": "India",
           "orientation": "v",
           "showlegend": true,
           "type": "scatter",
           "x": [
            1057922733
           ],
           "xaxis": "x",
           "y": [
            -143960
           ],
           "yaxis": "y"
          },
          {
           "hovertemplate": "Country=Pakistan<br>Year=2000<br>Total Population=%{x}<br>Net Migration=%{y}<extra></extra>",
           "legendgroup": "Pakistan",
           "marker": {
            "color": "#ab63fa",
            "symbol": "circle"
           },
           "mode": "markers",
           "name": "Pakistan",
           "orientation": "v",
           "showlegend": true,
           "type": "scatter",
           "x": [
            154879127
           ],
           "xaxis": "x",
           "y": [
            252869
           ],
           "yaxis": "y"
          },
          {
           "hovertemplate": "Country=Sri Lanka<br>Year=2000<br>Total Population=%{x}<br>Net Migration=%{y}<extra></extra>",
           "legendgroup": "Sri Lanka",
           "marker": {
            "color": "#FFA15A",
            "symbol": "circle"
           },
           "mode": "markers",
           "name": "Sri Lanka",
           "orientation": "v",
           "showlegend": true,
           "type": "scatter",
           "x": [
            19293054
           ],
           "xaxis": "x",
           "y": [
            123894
           ],
           "yaxis": "y"
          }
         ],
         "name": "2000"
        },
        {
         "data": [
          {
           "hovertemplate": "Country=Afghanistan<br>Year=2001<br>Total Population=%{x}<br>Net Migration=%{y}<extra></extra>",
           "legendgroup": "Afghanistan",
           "marker": {
            "color": "#636efa",
            "symbol": "circle"
           },
           "mode": "markers",
           "name": "Afghanistan",
           "orientation": "v",
           "showlegend": true,
           "type": "scatter",
           "x": [
            20284307
           ],
           "xaxis": "x",
           "y": [
            -212872
           ],
           "yaxis": "y"
          },
          {
           "hovertemplate": "Country=Bangladesh<br>Year=2001<br>Total Population=%{x}<br>Net Migration=%{y}<extra></extra>",
           "legendgroup": "Bangladesh",
           "marker": {
            "color": "#EF553B",
            "symbol": "circle"
           },
           "mode": "markers",
           "name": "Bangladesh",
           "orientation": "v",
           "showlegend": true,
           "type": "scatter",
           "x": [
            136805810
           ],
           "xaxis": "x",
           "y": [
            -737740
           ],
           "yaxis": "y"
          },
          {
           "hovertemplate": "Country=India<br>Year=2001<br>Total Population=%{x}<br>Net Migration=%{y}<extra></extra>",
           "legendgroup": "India",
           "marker": {
            "color": "#00cc96",
            "symbol": "circle"
           },
           "mode": "markers",
           "name": "India",
           "orientation": "v",
           "showlegend": true,
           "type": "scatter",
           "x": [
            1077898575
           ],
           "xaxis": "x",
           "y": [
            -70346
           ],
           "yaxis": "y"
          },
          {
           "hovertemplate": "Country=Pakistan<br>Year=2001<br>Total Population=%{x}<br>Net Migration=%{y}<extra></extra>",
           "legendgroup": "Pakistan",
           "marker": {
            "color": "#ab63fa",
            "symbol": "circle"
           },
           "mode": "markers",
           "name": "Pakistan",
           "orientation": "v",
           "showlegend": true,
           "type": "scatter",
           "x": [
            159270907
           ],
           "xaxis": "x",
           "y": [
            -54727
           ],
           "yaxis": "y"
          },
          {
           "hovertemplate": "Country=Sri Lanka<br>Year=2001<br>Total Population=%{x}<br>Net Migration=%{y}<extra></extra>",
           "legendgroup": "Sri Lanka",
           "marker": {
            "color": "#FFA15A",
            "symbol": "circle"
           },
           "mode": "markers",
           "name": "Sri Lanka",
           "orientation": "v",
           "showlegend": true,
           "type": "scatter",
           "x": [
            19600362
           ],
           "xaxis": "x",
           "y": [
            19273
           ],
           "yaxis": "y"
          }
         ],
         "name": "2001"
        },
        {
         "data": [
          {
           "hovertemplate": "Country=Afghanistan<br>Year=2002<br>Total Population=%{x}<br>Net Migration=%{y}<extra></extra>",
           "legendgroup": "Afghanistan",
           "marker": {
            "color": "#636efa",
            "symbol": "circle"
           },
           "mode": "markers",
           "name": "Afghanistan",
           "orientation": "v",
           "showlegend": true,
           "type": "scatter",
           "x": [
            21378117
           ],
           "xaxis": "x",
           "y": [
            860349
           ],
           "yaxis": "y"
          },
          {
           "hovertemplate": "Country=Bangladesh<br>Year=2002<br>Total Population=%{x}<br>Net Migration=%{y}<extra></extra>",
           "legendgroup": "Bangladesh",
           "marker": {
            "color": "#EF553B",
            "symbol": "circle"
           },
           "mode": "markers",
           "name": "Bangladesh",
           "orientation": "v",
           "showlegend": true,
           "type": "scatter",
           "x": [
            138933658
           ],
           "xaxis": "x",
           "y": [
            -819909
           ],
           "yaxis": "y"
          },
          {
           "hovertemplate": "Country=India<br>Year=2002<br>Total Population=%{x}<br>Net Migration=%{y}<extra></extra>",
           "legendgroup": "India",
           "marker": {
            "color": "#00cc96",
            "symbol": "circle"
           },
           "mode": "markers",
           "name": "India",
           "orientation": "v",
           "showlegend": true,
           "type": "scatter",
           "x": [
            1097600380
           ],
           "xaxis": "x",
           "y": [
            -732419
           ],
           "yaxis": "y"
          },
          {
           "hovertemplate": "Country=Pakistan<br>Year=2002<br>Total Population=%{x}<br>Net Migration=%{y}<extra></extra>",
           "legendgroup": "Pakistan",
           "marker": {
            "color": "#ab63fa",
            "symbol": "circle"
           },
           "mode": "markers",
           "name": "Pakistan",
           "orientation": "v",
           "showlegend": true,
           "type": "scatter",
           "x": [
            163222549
           ],
           "xaxis": "x",
           "y": [
            -653758
           ],
           "yaxis": "y"
          },
          {
           "hovertemplate": "Country=Sri Lanka<br>Year=2002<br>Total Population=%{x}<br>Net Migration=%{y}<extra></extra>",
           "legendgroup": "Sri Lanka",
           "marker": {
            "color": "#FFA15A",
            "symbol": "circle"
           },
           "mode": "markers",
           "name": "Sri Lanka",
           "orientation": "v",
           "showlegend": true,
           "type": "scatter",
           "x": [
            19805752
           ],
           "xaxis": "x",
           "y": [
            -105718
           ],
           "yaxis": "y"
          }
         ],
         "name": "2002"
        },
        {
         "data": [
          {
           "hovertemplate": "Country=Afghanistan<br>Year=2003<br>Total Population=%{x}<br>Net Migration=%{y}<extra></extra>",
           "legendgroup": "Afghanistan",
           "marker": {
            "color": "#636efa",
            "symbol": "circle"
           },
           "mode": "markers",
           "name": "Afghanistan",
           "orientation": "v",
           "showlegend": true,
           "type": "scatter",
           "x": [
            22733049
           ],
           "xaxis": "x",
           "y": [
            247317
           ],
           "yaxis": "y"
          },
          {
           "hovertemplate": "Country=Bangladesh<br>Year=2003<br>Total Population=%{x}<br>Net Migration=%{y}<extra></extra>",
           "legendgroup": "Bangladesh",
           "marker": {
            "color": "#EF553B",
            "symbol": "circle"
           },
           "mode": "markers",
           "name": "Bangladesh",
           "orientation": "v",
           "showlegend": true,
           "type": "scatter",
           "x": [
            140970351
           ],
           "xaxis": "x",
           "y": [
            -896335
           ],
           "yaxis": "y"
          },
          {
           "hovertemplate": "Country=India<br>Year=2003<br>Total Population=%{x}<br>Net Migration=%{y}<extra></extra>",
           "legendgroup": "India",
           "marker": {
            "color": "#00cc96",
            "symbol": "circle"
           },
           "mode": "markers",
           "name": "India",
           "orientation": "v",
           "showlegend": true,
           "type": "scatter",
           "x": [
            1116803006
           ],
           "xaxis": "x",
           "y": [
            -606970
           ],
           "yaxis": "y"
          },
          {
           "hovertemplate": "Country=Pakistan<br>Year=2003<br>Total Population=%{x}<br>Net Migration=%{y}<extra></extra>",
           "legendgroup": "Pakistan",
           "marker": {
            "color": "#ab63fa",
            "symbol": "circle"
           },
           "mode": "markers",
           "name": "Pakistan",
           "orientation": "v",
           "showlegend": true,
           "type": "scatter",
           "x": [
            167110248
           ],
           "xaxis": "x",
           "y": [
            -219118
           ],
           "yaxis": "y"
          },
          {
           "hovertemplate": "Country=Sri Lanka<br>Year=2003<br>Total Population=%{x}<br>Net Migration=%{y}<extra></extra>",
           "legendgroup": "Sri Lanka",
           "marker": {
            "color": "#FFA15A",
            "symbol": "circle"
           },
           "mode": "markers",
           "name": "Sri Lanka",
           "orientation": "v",
           "showlegend": true,
           "type": "scatter",
           "x": [
            19951521
           ],
           "xaxis": "x",
           "y": [
            -107573
           ],
           "yaxis": "y"
          }
         ],
         "name": "2003"
        },
        {
         "data": [
          {
           "hovertemplate": "Country=Afghanistan<br>Year=2004<br>Total Population=%{x}<br>Net Migration=%{y}<extra></extra>",
           "legendgroup": "Afghanistan",
           "marker": {
            "color": "#636efa",
            "symbol": "circle"
           },
           "mode": "markers",
           "name": "Afghanistan",
           "orientation": "v",
           "showlegend": true,
           "type": "scatter",
           "x": [
            23560654
           ],
           "xaxis": "x",
           "y": [
            -269194
           ],
           "yaxis": "y"
          },
          {
           "hovertemplate": "Country=Bangladesh<br>Year=2004<br>Total Population=%{x}<br>Net Migration=%{y}<extra></extra>",
           "legendgroup": "Bangladesh",
           "marker": {
            "color": "#EF553B",
            "symbol": "circle"
           },
           "mode": "markers",
           "name": "Bangladesh",
           "orientation": "v",
           "showlegend": true,
           "type": "scatter",
           "x": [
            142902856
           ],
           "xaxis": "x",
           "y": [
            -970264
           ],
           "yaxis": "y"
          },
          {
           "hovertemplate": "Country=India<br>Year=2004<br>Total Population=%{x}<br>Net Migration=%{y}<extra></extra>",
           "legendgroup": "India",
           "marker": {
            "color": "#00cc96",
            "symbol": "circle"
           },
           "mode": "markers",
           "name": "India",
           "orientation": "v",
           "showlegend": true,
           "type": "scatter",
           "x": [
            1135991513
           ],
           "xaxis": "x",
           "y": [
            -206660
           ],
           "yaxis": "y"
          },
          {
           "hovertemplate": "Country=Pakistan<br>Year=2004<br>Total Population=%{x}<br>Net Migration=%{y}<extra></extra>",
           "legendgroup": "Pakistan",
           "marker": {
            "color": "#ab63fa",
            "symbol": "circle"
           },
           "mode": "markers",
           "name": "Pakistan",
           "orientation": "v",
           "showlegend": true,
           "type": "scatter",
           "x": [
            171286000
           ],
           "xaxis": "x",
           "y": [
            -64669
           ],
           "yaxis": "y"
          },
          {
           "hovertemplate": "Country=Sri Lanka<br>Year=2004<br>Total Population=%{x}<br>Net Migration=%{y}<extra></extra>",
           "legendgroup": "Sri Lanka",
           "marker": {
            "color": "#FFA15A",
            "symbol": "circle"
           },
           "mode": "markers",
           "name": "Sri Lanka",
           "orientation": "v",
           "showlegend": true,
           "type": "scatter",
           "x": [
            20087605
           ],
           "xaxis": "x",
           "y": [
            -84795
           ],
           "yaxis": "y"
          }
         ],
         "name": "2004"
        },
        {
         "data": [
          {
           "hovertemplate": "Country=Afghanistan<br>Year=2005<br>Total Population=%{x}<br>Net Migration=%{y}<extra></extra>",
           "legendgroup": "Afghanistan",
           "marker": {
            "color": "#636efa",
            "symbol": "circle"
           },
           "mode": "markers",
           "name": "Afghanistan",
           "orientation": "v",
           "showlegend": true,
           "type": "scatter",
           "x": [
            24404567
           ],
           "xaxis": "x",
           "y": [
            250971
           ],
           "yaxis": "y"
          },
          {
           "hovertemplate": "Country=Bangladesh<br>Year=2005<br>Total Population=%{x}<br>Net Migration=%{y}<extra></extra>",
           "legendgroup": "Bangladesh",
           "marker": {
            "color": "#EF553B",
            "symbol": "circle"
           },
           "mode": "markers",
           "name": "Bangladesh",
           "orientation": "v",
           "showlegend": true,
           "type": "scatter",
           "x": [
            144715786
           ],
           "xaxis": "x",
           "y": [
            -1036635
           ],
           "yaxis": "y"
          },
          {
           "hovertemplate": "Country=India<br>Year=2005<br>Total Population=%{x}<br>Net Migration=%{y}<extra></extra>",
           "legendgroup": "India",
           "marker": {
            "color": "#00cc96",
            "symbol": "circle"
           },
           "mode": "markers",
           "name": "India",
           "orientation": "v",
           "showlegend": true,
           "type": "scatter",
           "x": [
            1154676322
           ],
           "xaxis": "x",
           "y": [
            -929454
           ],
           "yaxis": "y"
          },
          {
           "hovertemplate": "Country=Pakistan<br>Year=2005<br>Total Population=%{x}<br>Net Migration=%{y}<extra></extra>",
           "legendgroup": "Pakistan",
           "marker": {
            "color": "#ab63fa",
            "symbol": "circle"
           },
           "mode": "markers",
           "name": "Pakistan",
           "orientation": "v",
           "showlegend": true,
           "type": "scatter",
           "x": [
            175453212
           ],
           "xaxis": "x",
           "y": [
            -189899
           ],
           "yaxis": "y"
          },
          {
           "hovertemplate": "Country=Sri Lanka<br>Year=2005<br>Total Population=%{x}<br>Net Migration=%{y}<extra></extra>",
           "legendgroup": "Sri Lanka",
           "marker": {
            "color": "#FFA15A",
            "symbol": "circle"
           },
           "mode": "markers",
           "name": "Sri Lanka",
           "orientation": "v",
           "showlegend": true,
           "type": "scatter",
           "x": [
            20216524
           ],
           "xaxis": "x",
           "y": [
            -118594
           ],
           "yaxis": "y"
          }
         ],
         "name": "2005"
        },
        {
         "data": [
          {
           "hovertemplate": "Country=Afghanistan<br>Year=2006<br>Total Population=%{x}<br>Net Migration=%{y}<extra></extra>",
           "legendgroup": "Afghanistan",
           "marker": {
            "color": "#636efa",
            "symbol": "circle"
           },
           "mode": "markers",
           "name": "Afghanistan",
           "orientation": "v",
           "showlegend": true,
           "type": "scatter",
           "x": [
            25424094
           ],
           "xaxis": "x",
           "y": [
            57673
           ],
           "yaxis": "y"
          },
          {
           "hovertemplate": "Country=Bangladesh<br>Year=2006<br>Total Population=%{x}<br>Net Migration=%{y}<extra></extra>",
           "legendgroup": "Bangladesh",
           "marker": {
            "color": "#EF553B",
            "symbol": "circle"
           },
           "mode": "markers",
           "name": "Bangladesh",
           "orientation": "v",
           "showlegend": true,
           "type": "scatter",
           "x": [
            146405973
           ],
           "xaxis": "x",
           "y": [
            -1091865
           ],
           "yaxis": "y"
          },
          {
           "hovertemplate": "Country=India<br>Year=2006<br>Total Population=%{x}<br>Net Migration=%{y}<extra></extra>",
           "legendgroup": "India",
           "marker": {
            "color": "#00cc96",
            "symbol": "circle"
           },
           "mode": "markers",
           "name": "India",
           "orientation": "v",
           "showlegend": true,
           "type": "scatter",
           "x": [
            1172878890
           ],
           "xaxis": "x",
           "y": [
            -342177
           ],
           "yaxis": "y"
          },
          {
           "hovertemplate": "Country=Pakistan<br>Year=2006<br>Total Population=%{x}<br>Net Migration=%{y}<extra></extra>",
           "legendgroup": "Pakistan",
           "marker": {
            "color": "#ab63fa",
            "symbol": "circle"
           },
           "mode": "markers",
           "name": "Pakistan",
           "orientation": "v",
           "showlegend": true,
           "type": "scatter",
           "x": [
            179682690
           ],
           "xaxis": "x",
           "y": [
            -183933
           ],
           "yaxis": "y"
          },
          {
           "hovertemplate": "Country=Sri Lanka<br>Year=2006<br>Total Population=%{x}<br>Net Migration=%{y}<extra></extra>",
           "legendgroup": "Sri Lanka",
           "marker": {
            "color": "#FFA15A",
            "symbol": "circle"
           },
           "mode": "markers",
           "name": "Sri Lanka",
           "orientation": "v",
           "showlegend": true,
           "type": "scatter",
           "x": [
            20352411
           ],
           "xaxis": "x",
           "y": [
            -107045
           ],
           "yaxis": "y"
          }
         ],
         "name": "2006"
        },
        {
         "data": [
          {
           "hovertemplate": "Country=Afghanistan<br>Year=2007<br>Total Population=%{x}<br>Net Migration=%{y}<extra></extra>",
           "legendgroup": "Afghanistan",
           "marker": {
            "color": "#636efa",
            "symbol": "circle"
           },
           "mode": "markers",
           "name": "Afghanistan",
           "orientation": "v",
           "showlegend": true,
           "type": "scatter",
           "x": [
            25909852
           ],
           "xaxis": "x",
           "y": [
            -851298
           ],
           "yaxis": "y"
          },
          {
           "hovertemplate": "Country=Bangladesh<br>Year=2007<br>Total Population=%{x}<br>Net Migration=%{y}<extra></extra>",
           "legendgroup": "Bangladesh",
           "marker": {
            "color": "#EF553B",
            "symbol": "circle"
           },
           "mode": "markers",
           "name": "Bangladesh",
           "orientation": "v",
           "showlegend": true,
           "type": "scatter",
           "x": [
            147989278
           ],
           "xaxis": "x",
           "y": [
            -1133553
           ],
           "yaxis": "y"
          },
          {
           "hovertemplate": "Country=India<br>Year=2007<br>Total Population=%{x}<br>Net Migration=%{y}<extra></extra>",
           "legendgroup": "India",
           "marker": {
            "color": "#00cc96",
            "symbol": "circle"
           },
           "mode": "markers",
           "name": "India",
           "orientation": "v",
           "showlegend": true,
           "type": "scatter",
           "x": [
            1190676021
           ],
           "xaxis": "x",
           "y": [
            -1037200
           ],
           "yaxis": "y"
          },
          {
           "hovertemplate": "Country=Pakistan<br>Year=2007<br>Total Population=%{x}<br>Net Migration=%{y}<extra></extra>",
           "legendgroup": "Pakistan",
           "marker": {
            "color": "#ab63fa",
            "symbol": "circle"
           },
           "mode": "markers",
           "name": "Pakistan",
           "orientation": "v",
           "showlegend": true,
           "type": "scatter",
           "x": [
            184493231
           ],
           "xaxis": "x",
           "y": [
            576349
           ],
           "yaxis": "y"
          },
          {
           "hovertemplate": "Country=Sri Lanka<br>Year=2007<br>Total Population=%{x}<br>Net Migration=%{y}<extra></extra>",
           "legendgroup": "Sri Lanka",
           "marker": {
            "color": "#FFA15A",
            "symbol": "circle"
           },
           "mode": "markers",
           "name": "Sri Lanka",
           "orientation": "v",
           "showlegend": true,
           "type": "scatter",
           "x": [
            20492545
           ],
           "xaxis": "x",
           "y": [
            -109695
           ],
           "yaxis": "y"
          }
         ],
         "name": "2007"
        },
        {
         "data": [
          {
           "hovertemplate": "Country=Afghanistan<br>Year=2008<br>Total Population=%{x}<br>Net Migration=%{y}<extra></extra>",
           "legendgroup": "Afghanistan",
           "marker": {
            "color": "#636efa",
            "symbol": "circle"
           },
           "mode": "markers",
           "name": "Afghanistan",
           "orientation": "v",
           "showlegend": true,
           "type": "scatter",
           "x": [
            26482622
           ],
           "xaxis": "x",
           "y": [
            215753
           ],
           "yaxis": "y"
          },
          {
           "hovertemplate": "Country=Bangladesh<br>Year=2008<br>Total Population=%{x}<br>Net Migration=%{y}<extra></extra>",
           "legendgroup": "Bangladesh",
           "marker": {
            "color": "#EF553B",
            "symbol": "circle"
           },
           "mode": "markers",
           "name": "Bangladesh",
           "orientation": "v",
           "showlegend": true,
           "type": "scatter",
           "x": [
            149474264
           ],
           "xaxis": "x",
           "y": [
            -1158420
           ],
           "yaxis": "y"
          },
          {
           "hovertemplate": "Country=India<br>Year=2008<br>Total Population=%{x}<br>Net Migration=%{y}<extra></extra>",
           "legendgroup": "India",
           "marker": {
            "color": "#00cc96",
            "symbol": "circle"
           },
           "mode": "markers",
           "name": "India",
           "orientation": "v",
           "showlegend": true,
           "type": "scatter",
           "x": [
            1207930964
           ],
           "xaxis": "x",
           "y": [
            -1020047
           ],
           "yaxis": "y"
          },
          {
           "hovertemplate": "Country=Pakistan<br>Year=2008<br>Total Population=%{x}<br>Net Migration=%{y}<extra></extra>",
           "legendgroup": "Pakistan",
           "marker": {
            "color": "#ab63fa",
            "symbol": "circle"
           },
           "mode": "markers",
           "name": "Pakistan",
           "orientation": "v",
           "showlegend": true,
           "type": "scatter",
           "x": [
            189499113
           ],
           "xaxis": "x",
           "y": [
            -140746
           ],
           "yaxis": "y"
          },
          {
           "hovertemplate": "Country=Sri Lanka<br>Year=2008<br>Total Population=%{x}<br>Net Migration=%{y}<extra></extra>",
           "legendgroup": "Sri Lanka",
           "marker": {
            "color": "#FFA15A",
            "symbol": "circle"
           },
           "mode": "markers",
           "name": "Sri Lanka",
           "orientation": "v",
           "showlegend": true,
           "type": "scatter",
           "x": [
            20629378
           ],
           "xaxis": "x",
           "y": [
            -97144
           ],
           "yaxis": "y"
          }
         ],
         "name": "2008"
        },
        {
         "data": [
          {
           "hovertemplate": "Country=Afghanistan<br>Year=2009<br>Total Population=%{x}<br>Net Migration=%{y}<extra></extra>",
           "legendgroup": "Afghanistan",
           "marker": {
            "color": "#636efa",
            "symbol": "circle"
           },
           "mode": "markers",
           "name": "Afghanistan",
           "orientation": "v",
           "showlegend": true,
           "type": "scatter",
           "x": [
            27466101
           ],
           "xaxis": "x",
           "y": [
            -60602
           ],
           "yaxis": "y"
          },
          {
           "hovertemplate": "Country=Bangladesh<br>Year=2009<br>Total Population=%{x}<br>Net Migration=%{y}<extra></extra>",
           "legendgroup": "Bangladesh",
           "marker": {
            "color": "#EF553B",
            "symbol": "circle"
           },
           "mode": "markers",
           "name": "Bangladesh",
           "orientation": "v",
           "showlegend": true,
           "type": "scatter",
           "x": [
            150873714
           ],
           "xaxis": "x",
           "y": [
            -1150194
           ],
           "yaxis": "y"
          },
          {
           "hovertemplate": "Country=India<br>Year=2009<br>Total Population=%{x}<br>Net Migration=%{y}<extra></extra>",
           "legendgroup": "India",
           "marker": {
            "color": "#00cc96",
            "symbol": "circle"
           },
           "mode": "markers",
           "name": "India",
           "orientation": "v",
           "showlegend": true,
           "type": "scatter",
           "x": [
            1225524753
           ],
           "xaxis": "x",
           "y": [
            -312905
           ],
           "yaxis": "y"
          },
          {
           "hovertemplate": "Country=Pakistan<br>Year=2009<br>Total Population=%{x}<br>Net Migration=%{y}<extra></extra>",
           "legendgroup": "Pakistan",
           "marker": {
            "color": "#ab63fa",
            "symbol": "circle"
           },
           "mode": "markers",
           "name": "Pakistan",
           "orientation": "v",
           "showlegend": true,
           "type": "scatter",
           "x": [
            194376534
           ],
           "xaxis": "x",
           "y": [
            -18298
           ],
           "yaxis": "y"
          },
          {
           "hovertemplate": "Country=Sri Lanka<br>Year=2009<br>Total Population=%{x}<br>Net Migration=%{y}<extra></extra>",
           "legendgroup": "Sri Lanka",
           "marker": {
            "color": "#FFA15A",
            "symbol": "circle"
           },
           "mode": "markers",
           "name": "Sri Lanka",
           "orientation": "v",
           "showlegend": true,
           "type": "scatter",
           "x": [
            20756435
           ],
           "xaxis": "x",
           "y": [
            -81130
           ],
           "yaxis": "y"
          }
         ],
         "name": "2009"
        },
        {
         "data": [
          {
           "hovertemplate": "Country=Afghanistan<br>Year=2010<br>Total Population=%{x}<br>Net Migration=%{y}<extra></extra>",
           "legendgroup": "Afghanistan",
           "marker": {
            "color": "#636efa",
            "symbol": "circle"
           },
           "mode": "markers",
           "name": "Afghanistan",
           "orientation": "v",
           "showlegend": true,
           "type": "scatter",
           "x": [
            28284089
           ],
           "xaxis": "x",
           "y": [
            -167460
           ],
           "yaxis": "y"
          },
          {
           "hovertemplate": "Country=Bangladesh<br>Year=2010<br>Total Population=%{x}<br>Net Migration=%{y}<extra></extra>",
           "legendgroup": "Bangladesh",
           "marker": {
            "color": "#EF553B",
            "symbol": "circle"
           },
           "mode": "markers",
           "name": "Bangladesh",
           "orientation": "v",
           "showlegend": true,
           "type": "scatter",
           "x": [
            152201981
           ],
           "xaxis": "x",
           "y": [
            -1113727
           ],
           "yaxis": "y"
          },
          {
           "hovertemplate": "Country=India<br>Year=2010<br>Total Population=%{x}<br>Net Migration=%{y}<extra></extra>",
           "legendgroup": "India",
           "marker": {
            "color": "#00cc96",
            "symbol": "circle"
           },
           "mode": "markers",
           "name": "India",
           "orientation": "v",
           "showlegend": true,
           "type": "scatter",
           "x": [
            1243481564
           ],
           "xaxis": "x",
           "y": [
            -50905
           ],
           "yaxis": "y"
          },
          {
           "hovertemplate": "Country=Pakistan<br>Year=2010<br>Total Population=%{x}<br>Net Migration=%{y}<extra></extra>",
           "legendgroup": "Pakistan",
           "marker": {
            "color": "#ab63fa",
            "symbol": "circle"
           },
           "mode": "markers",
           "name": "Pakistan",
           "orientation": "v",
           "showlegend": true,
           "type": "scatter",
           "x": [
            199239047
           ],
           "xaxis": "x",
           "y": [
            -431902
           ],
           "yaxis": "y"
          },
          {
           "hovertemplate": "Country=Sri Lanka<br>Year=2010<br>Total Population=%{x}<br>Net Migration=%{y}<extra></extra>",
           "legendgroup": "Sri Lanka",
           "marker": {
            "color": "#FFA15A",
            "symbol": "circle"
           },
           "mode": "markers",
           "name": "Sri Lanka",
           "orientation": "v",
           "showlegend": true,
           "type": "scatter",
           "x": [
            20879089
           ],
           "xaxis": "x",
           "y": [
            -98060
           ],
           "yaxis": "y"
          }
         ],
         "name": "2010"
        },
        {
         "data": [
          {
           "hovertemplate": "Country=Afghanistan<br>Year=2011<br>Total Population=%{x}<br>Net Migration=%{y}<extra></extra>",
           "legendgroup": "Afghanistan",
           "marker": {
            "color": "#636efa",
            "symbol": "circle"
           },
           "mode": "markers",
           "name": "Afghanistan",
           "orientation": "v",
           "showlegend": true,
           "type": "scatter",
           "x": [
            29347708
           ],
           "xaxis": "x",
           "y": [
            384486
           ],
           "yaxis": "y"
          },
          {
           "hovertemplate": "Country=Bangladesh<br>Year=2011<br>Total Population=%{x}<br>Net Migration=%{y}<extra></extra>",
           "legendgroup": "Bangladesh",
           "marker": {
            "color": "#EF553B",
            "symbol": "circle"
           },
           "mode": "markers",
           "name": "Bangladesh",
           "orientation": "v",
           "showlegend": true,
           "type": "scatter",
           "x": [
            153591076
           ],
           "xaxis": "x",
           "y": [
            -848910
           ],
           "yaxis": "y"
          },
          {
           "hovertemplate": "Country=India<br>Year=2011<br>Total Population=%{x}<br>Net Migration=%{y}<extra></extra>",
           "legendgroup": "India",
           "marker": {
            "color": "#00cc96",
            "symbol": "circle"
           },
           "mode": "markers",
           "name": "India",
           "orientation": "v",
           "showlegend": true,
           "type": "scatter",
           "x": [
            1261224954
           ],
           "xaxis": "x",
           "y": [
            -247017
           ],
           "yaxis": "y"
          },
          {
           "hovertemplate": "Country=Pakistan<br>Year=2011<br>Total Population=%{x}<br>Net Migration=%{y}<extra></extra>",
           "legendgroup": "Pakistan",
           "marker": {
            "color": "#ab63fa",
            "symbol": "circle"
           },
           "mode": "markers",
           "name": "Pakistan",
           "orientation": "v",
           "showlegend": true,
           "type": "scatter",
           "x": [
            203746065
           ],
           "xaxis": "x",
           "y": [
            -890633
           ],
           "yaxis": "y"
          },
          {
           "hovertemplate": "Country=Sri Lanka<br>Year=2011<br>Total Population=%{x}<br>Net Migration=%{y}<extra></extra>",
           "legendgroup": "Sri Lanka",
           "marker": {
            "color": "#FFA15A",
            "symbol": "circle"
           },
           "mode": "markers",
           "name": "Sri Lanka",
           "orientation": "v",
           "showlegend": true,
           "type": "scatter",
           "x": [
            21009048
           ],
           "xaxis": "x",
           "y": [
            -90839
           ],
           "yaxis": "y"
          }
         ],
         "name": "2011"
        },
        {
         "data": [
          {
           "hovertemplate": "Country=Afghanistan<br>Year=2012<br>Total Population=%{x}<br>Net Migration=%{y}<extra></extra>",
           "legendgroup": "Afghanistan",
           "marker": {
            "color": "#636efa",
            "symbol": "circle"
           },
           "mode": "markers",
           "name": "Afghanistan",
           "orientation": "v",
           "showlegend": true,
           "type": "scatter",
           "x": [
            30560034
           ],
           "xaxis": "x",
           "y": [
            68628
           ],
           "yaxis": "y"
          },
          {
           "hovertemplate": "Country=Bangladesh<br>Year=2012<br>Total Population=%{x}<br>Net Migration=%{y}<extra></extra>",
           "legendgroup": "Bangladesh",
           "marker": {
            "color": "#EF553B",
            "symbol": "circle"
           },
           "mode": "markers",
           "name": "Bangladesh",
           "orientation": "v",
           "showlegend": true,
           "type": "scatter",
           "x": [
            155070101
           ],
           "xaxis": "x",
           "y": [
            -829875
           ],
           "yaxis": "y"
          },
          {
           "hovertemplate": "Country=India<br>Year=2012<br>Total Population=%{x}<br>Net Migration=%{y}<extra></extra>",
           "legendgroup": "India",
           "marker": {
            "color": "#00cc96",
            "symbol": "circle"
           },
           "mode": "markers",
           "name": "India",
           "orientation": "v",
           "showlegend": true,
           "type": "scatter",
           "x": [
            1278674502
           ],
           "xaxis": "x",
           "y": [
            -198935
           ],
           "yaxis": "y"
          },
          {
           "hovertemplate": "Country=Pakistan<br>Year=2012<br>Total Population=%{x}<br>Net Migration=%{y}<extra></extra>",
           "legendgroup": "Pakistan",
           "marker": {
            "color": "#ab63fa",
            "symbol": "circle"
           },
           "mode": "markers",
           "name": "Pakistan",
           "orientation": "v",
           "showlegend": true,
           "type": "scatter",
           "x": [
            207667125
           ],
           "xaxis": "x",
           "y": [
            -1647989
           ],
           "yaxis": "y"
          },
          {
           "hovertemplate": "Country=Sri Lanka<br>Year=2012<br>Total Population=%{x}<br>Net Migration=%{y}<extra></extra>",
           "legendgroup": "Sri Lanka",
           "marker": {
            "color": "#FFA15A",
            "symbol": "circle"
           },
           "mode": "markers",
           "name": "Sri Lanka",
           "orientation": "v",
           "showlegend": true,
           "type": "scatter",
           "x": [
            21169458
           ],
           "xaxis": "x",
           "y": [
            -41955
           ],
           "yaxis": "y"
          }
         ],
         "name": "2012"
        },
        {
         "data": [
          {
           "hovertemplate": "Country=Afghanistan<br>Year=2013<br>Total Population=%{x}<br>Net Migration=%{y}<extra></extra>",
           "legendgroup": "Afghanistan",
           "marker": {
            "color": "#636efa",
            "symbol": "circle"
           },
           "mode": "markers",
           "name": "Afghanistan",
           "orientation": "v",
           "showlegend": true,
           "type": "scatter",
           "x": [
            31622704
           ],
           "xaxis": "x",
           "y": [
            18119
           ],
           "yaxis": "y"
          },
          {
           "hovertemplate": "Country=Bangladesh<br>Year=2013<br>Total Population=%{x}<br>Net Migration=%{y}<extra></extra>",
           "legendgroup": "Bangladesh",
           "marker": {
            "color": "#EF553B",
            "symbol": "circle"
           },
           "mode": "markers",
           "name": "Bangladesh",
           "orientation": "v",
           "showlegend": true,
           "type": "scatter",
           "x": [
            156532141
           ],
           "xaxis": "x",
           "y": [
            -862944
           ],
           "yaxis": "y"
          },
          {
           "hovertemplate": "Country=India<br>Year=2013<br>Total Population=%{x}<br>Net Migration=%{y}<extra></extra>",
           "legendgroup": "India",
           "marker": {
            "color": "#00cc96",
            "symbol": "circle"
           },
           "mode": "markers",
           "name": "India",
           "orientation": "v",
           "showlegend": true,
           "type": "scatter",
           "x": [
            1295829511
           ],
           "xaxis": "x",
           "y": [
            -151372
           ],
           "yaxis": "y"
          },
          {
           "hovertemplate": "Country=Pakistan<br>Year=2013<br>Total Population=%{x}<br>Net Migration=%{y}<extra></extra>",
           "legendgroup": "Pakistan",
           "marker": {
            "color": "#ab63fa",
            "symbol": "circle"
           },
           "mode": "markers",
           "name": "Pakistan",
           "orientation": "v",
           "showlegend": true,
           "type": "scatter",
           "x": [
            211073978
           ],
           "xaxis": "x",
           "y": [
            -1906319
           ],
           "yaxis": "y"
          },
          {
           "hovertemplate": "Country=Sri Lanka<br>Year=2013<br>Total Population=%{x}<br>Net Migration=%{y}<extra></extra>",
           "legendgroup": "Sri Lanka",
           "marker": {
            "color": "#FFA15A",
            "symbol": "circle"
           },
           "mode": "markers",
           "name": "Sri Lanka",
           "orientation": "v",
           "showlegend": true,
           "type": "scatter",
           "x": [
            20585000
           ],
           "xaxis": "x",
           "y": [
            -37754
           ],
           "yaxis": "y"
          }
         ],
         "name": "2013"
        },
        {
         "data": [
          {
           "hovertemplate": "Country=Afghanistan<br>Year=2014<br>Total Population=%{x}<br>Net Migration=%{y}<extra></extra>",
           "legendgroup": "Afghanistan",
           "marker": {
            "color": "#636efa",
            "symbol": "circle"
           },
           "mode": "markers",
           "name": "Afghanistan",
           "orientation": "v",
           "showlegend": true,
           "type": "scatter",
           "x": [
            32792523
           ],
           "xaxis": "x",
           "y": [
            233913
           ],
           "yaxis": "y"
          },
          {
           "hovertemplate": "Country=Bangladesh<br>Year=2014<br>Total Population=%{x}<br>Net Migration=%{y}<extra></extra>",
           "legendgroup": "Bangladesh",
           "marker": {
            "color": "#EF553B",
            "symbol": "circle"
           },
           "mode": "markers",
           "name": "Bangladesh",
           "orientation": "v",
           "showlegend": true,
           "type": "scatter",
           "x": [
            157964929
           ],
           "xaxis": "x",
           "y": [
            -889222
           ],
           "yaxis": "y"
          },
          {
           "hovertemplate": "Country=India<br>Year=2014<br>Total Population=%{x}<br>Net Migration=%{y}<extra></extra>",
           "legendgroup": "India",
           "marker": {
            "color": "#00cc96",
            "symbol": "circle"
           },
           "mode": "markers",
           "name": "India",
           "orientation": "v",
           "showlegend": true,
           "type": "scatter",
           "x": [
            1312277191
           ],
           "xaxis": "x",
           "y": [
            -227263
           ],
           "yaxis": "y"
          },
          {
           "hovertemplate": "Country=Pakistan<br>Year=2014<br>Total Population=%{x}<br>Net Migration=%{y}<extra></extra>",
           "legendgroup": "Pakistan",
           "marker": {
            "color": "#ab63fa",
            "symbol": "circle"
           },
           "mode": "markers",
           "name": "Pakistan",
           "orientation": "v",
           "showlegend": true,
           "type": "scatter",
           "x": [
            214264647
           ],
           "xaxis": "x",
           "y": [
            -2037920
           ],
           "yaxis": "y"
          },
          {
           "hovertemplate": "Country=Sri Lanka<br>Year=2014<br>Total Population=%{x}<br>Net Migration=%{y}<extra></extra>",
           "legendgroup": "Sri Lanka",
           "marker": {
            "color": "#FFA15A",
            "symbol": "circle"
           },
           "mode": "markers",
           "name": "Sri Lanka",
           "orientation": "v",
           "showlegend": true,
           "type": "scatter",
           "x": [
            20778000
           ],
           "xaxis": "x",
           "y": [
            -33672
           ],
           "yaxis": "y"
          }
         ],
         "name": "2014"
        },
        {
         "data": [
          {
           "hovertemplate": "Country=Afghanistan<br>Year=2015<br>Total Population=%{x}<br>Net Migration=%{y}<extra></extra>",
           "legendgroup": "Afghanistan",
           "marker": {
            "color": "#636efa",
            "symbol": "circle"
           },
           "mode": "markers",
           "name": "Afghanistan",
           "orientation": "v",
           "showlegend": true,
           "type": "scatter",
           "x": [
            33831764
           ],
           "xaxis": "x",
           "y": [
            -286314
           ],
           "yaxis": "y"
          },
          {
           "hovertemplate": "Country=Bangladesh<br>Year=2015<br>Total Population=%{x}<br>Net Migration=%{y}<extra></extra>",
           "legendgroup": "Bangladesh",
           "marker": {
            "color": "#EF553B",
            "symbol": "circle"
           },
           "mode": "markers",
           "name": "Bangladesh",
           "orientation": "v",
           "showlegend": true,
           "type": "scatter",
           "x": [
            159383179
           ],
           "xaxis": "x",
           "y": [
            -909223
           ],
           "yaxis": "y"
          },
          {
           "hovertemplate": "Country=India<br>Year=2015<br>Total Population=%{x}<br>Net Migration=%{y}<extra></extra>",
           "legendgroup": "India",
           "marker": {
            "color": "#00cc96",
            "symbol": "circle"
           },
           "mode": "markers",
           "name": "India",
           "orientation": "v",
           "showlegend": true,
           "type": "scatter",
           "x": [
            1328024498
           ],
           "xaxis": "x",
           "y": [
            -655085
           ],
           "yaxis": "y"
          },
          {
           "hovertemplate": "Country=Pakistan<br>Year=2015<br>Total Population=%{x}<br>Net Migration=%{y}<extra></extra>",
           "legendgroup": "Pakistan",
           "marker": {
            "color": "#ab63fa",
            "symbol": "circle"
           },
           "mode": "markers",
           "name": "Pakistan",
           "orientation": "v",
           "showlegend": true,
           "type": "scatter",
           "x": [
            217290883
           ],
           "xaxis": "x",
           "y": [
            -2172162
           ],
           "yaxis": "y"
          },
          {
           "hovertemplate": "Country=Sri Lanka<br>Year=2015<br>Total Population=%{x}<br>Net Migration=%{y}<extra></extra>",
           "legendgroup": "Sri Lanka",
           "marker": {
            "color": "#FFA15A",
            "symbol": "circle"
           },
           "mode": "markers",
           "name": "Sri Lanka",
           "orientation": "v",
           "showlegend": true,
           "type": "scatter",
           "x": [
            20970000
           ],
           "xaxis": "x",
           "y": [
            -29797
           ],
           "yaxis": "y"
          }
         ],
         "name": "2015"
        },
        {
         "data": [
          {
           "hovertemplate": "Country=Afghanistan<br>Year=2016<br>Total Population=%{x}<br>Net Migration=%{y}<extra></extra>",
           "legendgroup": "Afghanistan",
           "marker": {
            "color": "#636efa",
            "symbol": "circle"
           },
           "mode": "markers",
           "name": "Afghanistan",
           "orientation": "v",
           "showlegend": true,
           "type": "scatter",
           "x": [
            34700612
           ],
           "xaxis": "x",
           "y": [
            -143049
           ],
           "yaxis": "y"
          },
          {
           "hovertemplate": "Country=Bangladesh<br>Year=2016<br>Total Population=%{x}<br>Net Migration=%{y}<extra></extra>",
           "legendgroup": "Bangladesh",
           "marker": {
            "color": "#EF553B",
            "symbol": "circle"
           },
           "mode": "markers",
           "name": "Bangladesh",
           "orientation": "v",
           "showlegend": true,
           "type": "scatter",
           "x": [
            160811932
           ],
           "xaxis": "x",
           "y": [
            -918770
           ],
           "yaxis": "y"
          },
          {
           "hovertemplate": "Country=India<br>Year=2016<br>Total Population=%{x}<br>Net Migration=%{y}<extra></extra>",
           "legendgroup": "India",
           "marker": {
            "color": "#00cc96",
            "symbol": "circle"
           },
           "mode": "markers",
           "name": "India",
           "orientation": "v",
           "showlegend": true,
           "type": "scatter",
           "x": [
            1343944296
           ],
           "xaxis": "x",
           "y": [
            81248
           ],
           "yaxis": "y"
          },
          {
           "hovertemplate": "Country=Pakistan<br>Year=2016<br>Total Population=%{x}<br>Net Migration=%{y}<extra></extra>",
           "legendgroup": "Pakistan",
           "marker": {
            "color": "#ab63fa",
            "symbol": "circle"
           },
           "mode": "markers",
           "name": "Pakistan",
           "orientation": "v",
           "showlegend": true,
           "type": "scatter",
           "x": [
            220138869
           ],
           "xaxis": "x",
           "y": [
            -2290411
           ],
           "yaxis": "y"
          },
          {
           "hovertemplate": "Country=Sri Lanka<br>Year=2016<br>Total Population=%{x}<br>Net Migration=%{y}<extra></extra>",
           "legendgroup": "Sri Lanka",
           "marker": {
            "color": "#FFA15A",
            "symbol": "circle"
           },
           "mode": "markers",
           "name": "Sri Lanka",
           "orientation": "v",
           "showlegend": true,
           "type": "scatter",
           "x": [
            21209000
           ],
           "xaxis": "x",
           "y": [
            -18388
           ],
           "yaxis": "y"
          }
         ],
         "name": "2016"
        },
        {
         "data": [
          {
           "hovertemplate": "Country=Afghanistan<br>Year=2017<br>Total Population=%{x}<br>Net Migration=%{y}<extra></extra>",
           "legendgroup": "Afghanistan",
           "marker": {
            "color": "#636efa",
            "symbol": "circle"
           },
           "mode": "markers",
           "name": "Afghanistan",
           "orientation": "v",
           "showlegend": true,
           "type": "scatter",
           "x": [
            35688935
           ],
           "xaxis": "x",
           "y": [
            -71491
           ],
           "yaxis": "y"
          },
          {
           "hovertemplate": "Country=Bangladesh<br>Year=2017<br>Total Population=%{x}<br>Net Migration=%{y}<extra></extra>",
           "legendgroup": "Bangladesh",
           "marker": {
            "color": "#EF553B",
            "symbol": "circle"
           },
           "mode": "markers",
           "name": "Bangladesh",
           "orientation": "v",
           "showlegend": true,
           "type": "scatter",
           "x": [
            162186147
           ],
           "xaxis": "x",
           "y": [
            -1037176
           ],
           "yaxis": "y"
          },
          {
           "hovertemplate": "Country=India<br>Year=2017<br>Total Population=%{x}<br>Net Migration=%{y}<extra></extra>",
           "legendgroup": "India",
           "marker": {
            "color": "#00cc96",
            "symbol": "circle"
           },
           "mode": "markers",
           "name": "India",
           "orientation": "v",
           "showlegend": true,
           "type": "scatter",
           "x": [
            1359657400
           ],
           "xaxis": "x",
           "y": [
            -251642
           ],
           "yaxis": "y"
          },
          {
           "hovertemplate": "Country=Pakistan<br>Year=2017<br>Total Population=%{x}<br>Net Migration=%{y}<extra></extra>",
           "legendgroup": "Pakistan",
           "marker": {
            "color": "#ab63fa",
            "symbol": "circle"
           },
           "mode": "markers",
           "name": "Pakistan",
           "orientation": "v",
           "showlegend": true,
           "type": "scatter",
           "x": [
            223273967
           ],
           "xaxis": "x",
           "y": [
            -1574585
           ],
           "yaxis": "y"
          },
          {
           "hovertemplate": "Country=Sri Lanka<br>Year=2017<br>Total Population=%{x}<br>Net Migration=%{y}<extra></extra>",
           "legendgroup": "Sri Lanka",
           "marker": {
            "color": "#FFA15A",
            "symbol": "circle"
           },
           "mode": "markers",
           "name": "Sri Lanka",
           "orientation": "v",
           "showlegend": true,
           "type": "scatter",
           "x": [
            21444000
           ],
           "xaxis": "x",
           "y": [
            -22324
           ],
           "yaxis": "y"
          }
         ],
         "name": "2017"
        },
        {
         "data": [
          {
           "hovertemplate": "Country=Afghanistan<br>Year=2018<br>Total Population=%{x}<br>Net Migration=%{y}<extra></extra>",
           "legendgroup": "Afghanistan",
           "marker": {
            "color": "#636efa",
            "symbol": "circle"
           },
           "mode": "markers",
           "name": "Afghanistan",
           "orientation": "v",
           "showlegend": true,
           "type": "scatter",
           "x": [
            36743039
           ],
           "xaxis": "x",
           "y": [
            -36753
           ],
           "yaxis": "y"
          },
          {
           "hovertemplate": "Country=Bangladesh<br>Year=2018<br>Total Population=%{x}<br>Net Migration=%{y}<extra></extra>",
           "legendgroup": "Bangladesh",
           "marker": {
            "color": "#EF553B",
            "symbol": "circle"
           },
           "mode": "markers",
           "name": "Bangladesh",
           "orientation": "v",
           "showlegend": true,
           "type": "scatter",
           "x": [
            163523103
           ],
           "xaxis": "x",
           "y": [
            -1029069
           ],
           "yaxis": "y"
          },
          {
           "hovertemplate": "Country=India<br>Year=2018<br>Total Population=%{x}<br>Net Migration=%{y}<extra></extra>",
           "legendgroup": "India",
           "marker": {
            "color": "#00cc96",
            "symbol": "circle"
           },
           "mode": "markers",
           "name": "India",
           "orientation": "v",
           "showlegend": true,
           "type": "scatter",
           "x": [
            1374659064
           ],
           "xaxis": "x",
           "y": [
            -589794
           ],
           "yaxis": "y"
          },
          {
           "hovertemplate": "Country=Pakistan<br>Year=2018<br>Total Population=%{x}<br>Net Migration=%{y}<extra></extra>",
           "legendgroup": "Pakistan",
           "marker": {
            "color": "#ab63fa",
            "symbol": "circle"
           },
           "mode": "markers",
           "name": "Pakistan",
           "orientation": "v",
           "showlegend": true,
           "type": "scatter",
           "x": [
            226928892
           ],
           "xaxis": "x",
           "y": [
            -1309611
           ],
           "yaxis": "y"
          },
          {
           "hovertemplate": "Country=Sri Lanka<br>Year=2018<br>Total Population=%{x}<br>Net Migration=%{y}<extra></extra>",
           "legendgroup": "Sri Lanka",
           "marker": {
            "color": "#FFA15A",
            "symbol": "circle"
           },
           "mode": "markers",
           "name": "Sri Lanka",
           "orientation": "v",
           "showlegend": true,
           "type": "scatter",
           "x": [
            21670000
           ],
           "xaxis": "x",
           "y": [
            -28607
           ],
           "yaxis": "y"
          }
         ],
         "name": "2018"
        },
        {
         "data": [
          {
           "hovertemplate": "Country=Afghanistan<br>Year=2019<br>Total Population=%{x}<br>Net Migration=%{y}<extra></extra>",
           "legendgroup": "Afghanistan",
           "marker": {
            "color": "#636efa",
            "symbol": "circle"
           },
           "mode": "markers",
           "name": "Afghanistan",
           "orientation": "v",
           "showlegend": true,
           "type": "scatter",
           "x": [
            37856121
           ],
           "xaxis": "x",
           "y": [
            9159
           ],
           "yaxis": "y"
          },
          {
           "hovertemplate": "Country=Bangladesh<br>Year=2019<br>Total Population=%{x}<br>Net Migration=%{y}<extra></extra>",
           "legendgroup": "Bangladesh",
           "marker": {
            "color": "#EF553B",
            "symbol": "circle"
           },
           "mode": "markers",
           "name": "Bangladesh",
           "orientation": "v",
           "showlegend": true,
           "type": "scatter",
           "x": [
            164913055
           ],
           "xaxis": "x",
           "y": [
            -1016796
           ],
           "yaxis": "y"
          },
          {
           "hovertemplate": "Country=India<br>Year=2019<br>Total Population=%{x}<br>Net Migration=%{y}<extra></extra>",
           "legendgroup": "India",
           "marker": {
            "color": "#00cc96",
            "symbol": "circle"
           },
           "mode": "markers",
           "name": "India",
           "orientation": "v",
           "showlegend": true,
           "type": "scatter",
           "x": [
            1389030312
           ],
           "xaxis": "x",
           "y": [
            -978969
           ],
           "yaxis": "y"
          },
          {
           "hovertemplate": "Country=Pakistan<br>Year=2019<br>Total Population=%{x}<br>Net Migration=%{y}<extra></extra>",
           "legendgroup": "Pakistan",
           "marker": {
            "color": "#ab63fa",
            "symbol": "circle"
           },
           "mode": "markers",
           "name": "Pakistan",
           "orientation": "v",
           "showlegend": true,
           "type": "scatter",
           "x": [
            230800899
           ],
           "xaxis": "x",
           "y": [
            -1177220
           ],
           "yaxis": "y"
          },
          {
           "hovertemplate": "Country=Sri Lanka<br>Year=2019<br>Total Population=%{x}<br>Net Migration=%{y}<extra></extra>",
           "legendgroup": "Sri Lanka",
           "marker": {
            "color": "#FFA15A",
            "symbol": "circle"
           },
           "mode": "markers",
           "name": "Sri Lanka",
           "orientation": "v",
           "showlegend": true,
           "type": "scatter",
           "x": [
            21803000
           ],
           "xaxis": "x",
           "y": [
            -28426
           ],
           "yaxis": "y"
          }
         ],
         "name": "2019"
        },
        {
         "data": [
          {
           "hovertemplate": "Country=Afghanistan<br>Year=2020<br>Total Population=%{x}<br>Net Migration=%{y}<extra></extra>",
           "legendgroup": "Afghanistan",
           "marker": {
            "color": "#636efa",
            "symbol": "circle"
           },
           "mode": "markers",
           "name": "Afghanistan",
           "orientation": "v",
           "showlegend": true,
           "type": "scatter",
           "x": [
            39068979
           ],
           "xaxis": "x",
           "y": [
            143634
           ],
           "yaxis": "y"
          },
          {
           "hovertemplate": "Country=Bangladesh<br>Year=2020<br>Total Population=%{x}<br>Net Migration=%{y}<extra></extra>",
           "legendgroup": "Bangladesh",
           "marker": {
            "color": "#EF553B",
            "symbol": "circle"
           },
           "mode": "markers",
           "name": "Bangladesh",
           "orientation": "v",
           "showlegend": true,
           "type": "scatter",
           "x": [
            166298024
           ],
           "xaxis": "x",
           "y": [
            -1002522
           ],
           "yaxis": "y"
          },
          {
           "hovertemplate": "Country=India<br>Year=2020<br>Total Population=%{x}<br>Net Migration=%{y}<extra></extra>",
           "legendgroup": "India",
           "marker": {
            "color": "#00cc96",
            "symbol": "circle"
           },
           "mode": "markers",
           "name": "India",
           "orientation": "v",
           "showlegend": true,
           "type": "scatter",
           "x": [
            1402617695
           ],
           "xaxis": "x",
           "y": [
            -73806
           ],
           "yaxis": "y"
          },
          {
           "hovertemplate": "Country=Pakistan<br>Year=2020<br>Total Population=%{x}<br>Net Migration=%{y}<extra></extra>",
           "legendgroup": "Pakistan",
           "marker": {
            "color": "#ab63fa",
            "symbol": "circle"
           },
           "mode": "markers",
           "name": "Pakistan",
           "orientation": "v",
           "showlegend": true,
           "type": "scatter",
           "x": [
            235001746
           ],
           "xaxis": "x",
           "y": [
            -559291
           ],
           "yaxis": "y"
          },
          {
           "hovertemplate": "Country=Sri Lanka<br>Year=2020<br>Total Population=%{x}<br>Net Migration=%{y}<extra></extra>",
           "legendgroup": "Sri Lanka",
           "marker": {
            "color": "#FFA15A",
            "symbol": "circle"
           },
           "mode": "markers",
           "name": "Sri Lanka",
           "orientation": "v",
           "showlegend": true,
           "type": "scatter",
           "x": [
            21919000
           ],
           "xaxis": "x",
           "y": [
            -29875
           ],
           "yaxis": "y"
          }
         ],
         "name": "2020"
        },
        {
         "data": [
          {
           "hovertemplate": "Country=Afghanistan<br>Year=2021<br>Total Population=%{x}<br>Net Migration=%{y}<extra></extra>",
           "legendgroup": "Afghanistan",
           "marker": {
            "color": "#636efa",
            "symbol": "circle"
           },
           "mode": "markers",
           "name": "Afghanistan",
           "orientation": "v",
           "showlegend": true,
           "type": "scatter",
           "x": [
            40000412
           ],
           "xaxis": "x",
           "y": [
            -548784
           ],
           "yaxis": "y"
          },
          {
           "hovertemplate": "Country=Bangladesh<br>Year=2021<br>Total Population=%{x}<br>Net Migration=%{y}<extra></extra>",
           "legendgroup": "Bangladesh",
           "marker": {
            "color": "#EF553B",
            "symbol": "circle"
           },
           "mode": "markers",
           "name": "Bangladesh",
           "orientation": "v",
           "showlegend": true,
           "type": "scatter",
           "x": [
            167658854
           ],
           "xaxis": "x",
           "y": [
            -994722
           ],
           "yaxis": "y"
          },
          {
           "hovertemplate": "Country=India<br>Year=2021<br>Total Population=%{x}<br>Net Migration=%{y}<extra></extra>",
           "legendgroup": "India",
           "marker": {
            "color": "#00cc96",
            "symbol": "circle"
           },
           "mode": "markers",
           "name": "India",
           "orientation": "v",
           "showlegend": true,
           "type": "scatter",
           "x": [
            1414203896
           ],
           "xaxis": "x",
           "y": [
            -348916
           ],
           "yaxis": "y"
          },
          {
           "hovertemplate": "Country=Pakistan<br>Year=2021<br>Total Population=%{x}<br>Net Migration=%{y}<extra></extra>",
           "legendgroup": "Pakistan",
           "marker": {
            "color": "#ab63fa",
            "symbol": "circle"
           },
           "mode": "markers",
           "name": "Pakistan",
           "orientation": "v",
           "showlegend": true,
           "type": "scatter",
           "x": [
            239477801
           ],
           "xaxis": "x",
           "y": [
            -565673
           ],
           "yaxis": "y"
          },
          {
           "hovertemplate": "Country=Sri Lanka<br>Year=2021<br>Total Population=%{x}<br>Net Migration=%{y}<extra></extra>",
           "legendgroup": "Sri Lanka",
           "marker": {
            "color": "#FFA15A",
            "symbol": "circle"
           },
           "mode": "markers",
           "name": "Sri Lanka",
           "orientation": "v",
           "showlegend": true,
           "type": "scatter",
           "x": [
            22156000
           ],
           "xaxis": "x",
           "y": [
            -29586
           ],
           "yaxis": "y"
          }
         ],
         "name": "2021"
        },
        {
         "data": [
          {
           "hovertemplate": "Country=Afghanistan<br>Year=2022<br>Total Population=%{x}<br>Net Migration=%{y}<extra></extra>",
           "legendgroup": "Afghanistan",
           "marker": {
            "color": "#636efa",
            "symbol": "circle"
           },
           "mode": "markers",
           "name": "Afghanistan",
           "orientation": "v",
           "showlegend": true,
           "type": "scatter",
           "x": [
            40578842
           ],
           "xaxis": "x",
           "y": [
            -647402
           ],
           "yaxis": "y"
          },
          {
           "hovertemplate": "Country=Bangladesh<br>Year=2022<br>Total Population=%{x}<br>Net Migration=%{y}<extra></extra>",
           "legendgroup": "Bangladesh",
           "marker": {
            "color": "#EF553B",
            "symbol": "circle"
           },
           "mode": "markers",
           "name": "Bangladesh",
           "orientation": "v",
           "showlegend": true,
           "type": "scatter",
           "x": [
            169384897
           ],
           "xaxis": "x",
           "y": [
            -549990
           ],
           "yaxis": "y"
          },
          {
           "hovertemplate": "Country=India<br>Year=2022<br>Total Population=%{x}<br>Net Migration=%{y}<extra></extra>",
           "legendgroup": "India",
           "marker": {
            "color": "#00cc96",
            "symbol": "circle"
           },
           "mode": "markers",
           "name": "India",
           "orientation": "v",
           "showlegend": true,
           "type": "scatter",
           "x": [
            1425423212
           ],
           "xaxis": "x",
           "y": [
            -1353478
           ],
           "yaxis": "y"
          },
          {
           "hovertemplate": "Country=Pakistan<br>Year=2022<br>Total Population=%{x}<br>Net Migration=%{y}<extra></extra>",
           "legendgroup": "Pakistan",
           "marker": {
            "color": "#ab63fa",
            "symbol": "circle"
           },
           "mode": "markers",
           "name": "Pakistan",
           "orientation": "v",
           "showlegend": true,
           "type": "scatter",
           "x": [
            243700667
           ],
           "xaxis": "x",
           "y": [
            -1322625
           ],
           "yaxis": "y"
          },
          {
           "hovertemplate": "Country=Sri Lanka<br>Year=2022<br>Total Population=%{x}<br>Net Migration=%{y}<extra></extra>",
           "legendgroup": "Sri Lanka",
           "marker": {
            "color": "#FFA15A",
            "symbol": "circle"
           },
           "mode": "markers",
           "name": "Sri Lanka",
           "orientation": "v",
           "showlegend": true,
           "type": "scatter",
           "x": [
            22181000
           ],
           "xaxis": "x",
           "y": [
            -27435
           ],
           "yaxis": "y"
          }
         ],
         "name": "2022"
        },
        {
         "data": [
          {
           "hovertemplate": "Country=Afghanistan<br>Year=2023<br>Total Population=%{x}<br>Net Migration=%{y}<extra></extra>",
           "legendgroup": "Afghanistan",
           "marker": {
            "color": "#636efa",
            "symbol": "circle"
           },
           "mode": "markers",
           "name": "Afghanistan",
           "orientation": "v",
           "showlegend": true,
           "type": "scatter",
           "x": [
            41454761
           ],
           "xaxis": "x",
           "y": [
            -48958
           ],
           "yaxis": "y"
          },
          {
           "hovertemplate": "Country=Bangladesh<br>Year=2023<br>Total Population=%{x}<br>Net Migration=%{y}<extra></extra>",
           "legendgroup": "Bangladesh",
           "marker": {
            "color": "#EF553B",
            "symbol": "circle"
           },
           "mode": "markers",
           "name": "Bangladesh",
           "orientation": "v",
           "showlegend": true,
           "type": "scatter",
           "x": [
            171466990
           ],
           "xaxis": "x",
           "y": [
            -549918
           ],
           "yaxis": "y"
          },
          {
           "hovertemplate": "Country=India<br>Year=2023<br>Total Population=%{x}<br>Net Migration=%{y}<extra></extra>",
           "legendgroup": "India",
           "marker": {
            "color": "#00cc96",
            "symbol": "circle"
           },
           "mode": "markers",
           "name": "India",
           "orientation": "v",
           "showlegend": true,
           "type": "scatter",
           "x": [
            1438069596
           ],
           "xaxis": "x",
           "y": [
            -979179
           ],
           "yaxis": "y"
          },
          {
           "hovertemplate": "Country=Pakistan<br>Year=2023<br>Total Population=%{x}<br>Net Migration=%{y}<extra></extra>",
           "legendgroup": "Pakistan",
           "marker": {
            "color": "#ab63fa",
            "symbol": "circle"
           },
           "mode": "markers",
           "name": "Pakistan",
           "orientation": "v",
           "showlegend": true,
           "type": "scatter",
           "x": [
            247504495
           ],
           "xaxis": "x",
           "y": [
            -1619557
           ],
           "yaxis": "y"
          },
          {
           "hovertemplate": "Country=Sri Lanka<br>Year=2023<br>Total Population=%{x}<br>Net Migration=%{y}<extra></extra>",
           "legendgroup": "Sri Lanka",
           "marker": {
            "color": "#FFA15A",
            "symbol": "circle"
           },
           "mode": "markers",
           "name": "Sri Lanka",
           "orientation": "v",
           "showlegend": true,
           "type": "scatter",
           "x": [
            22037000
           ],
           "xaxis": "x",
           "y": [
            -28011
           ],
           "yaxis": "y"
          }
         ],
         "name": "2023"
        },
        {
         "data": [
          {
           "hovertemplate": "Country=Afghanistan<br>Year=2024<br>Total Population=%{x}<br>Net Migration=%{y}<extra></extra>",
           "legendgroup": "Afghanistan",
           "marker": {
            "color": "#636efa",
            "symbol": "circle"
           },
           "mode": "markers",
           "name": "Afghanistan",
           "orientation": "v",
           "showlegend": true,
           "type": "scatter",
           "x": [
            null
           ],
           "xaxis": "x",
           "y": [
            -44089
           ],
           "yaxis": "y"
          },
          {
           "hovertemplate": "Country=Bangladesh<br>Year=2024<br>Total Population=%{x}<br>Net Migration=%{y}<extra></extra>",
           "legendgroup": "Bangladesh",
           "marker": {
            "color": "#EF553B",
            "symbol": "circle"
           },
           "mode": "markers",
           "name": "Bangladesh",
           "orientation": "v",
           "showlegend": true,
           "type": "scatter",
           "x": [
            null
           ],
           "xaxis": "x",
           "y": [
            -473362
           ],
           "yaxis": "y"
          },
          {
           "hovertemplate": "Country=India<br>Year=2024<br>Total Population=%{x}<br>Net Migration=%{y}<extra></extra>",
           "legendgroup": "India",
           "marker": {
            "color": "#00cc96",
            "symbol": "circle"
           },
           "mode": "markers",
           "name": "India",
           "orientation": "v",
           "showlegend": true,
           "type": "scatter",
           "x": [
            null
           ],
           "xaxis": "x",
           "y": [
            -630830
           ],
           "yaxis": "y"
          },
          {
           "hovertemplate": "Country=Pakistan<br>Year=2024<br>Total Population=%{x}<br>Net Migration=%{y}<extra></extra>",
           "legendgroup": "Pakistan",
           "marker": {
            "color": "#ab63fa",
            "symbol": "circle"
           },
           "mode": "markers",
           "name": "Pakistan",
           "orientation": "v",
           "showlegend": true,
           "type": "scatter",
           "x": [
            null
           ],
           "xaxis": "x",
           "y": [
            -1401173
           ],
           "yaxis": "y"
          },
          {
           "hovertemplate": "Country=Sri Lanka<br>Year=2024<br>Total Population=%{x}<br>Net Migration=%{y}<extra></extra>",
           "legendgroup": "Sri Lanka",
           "marker": {
            "color": "#FFA15A",
            "symbol": "circle"
           },
           "mode": "markers",
           "name": "Sri Lanka",
           "orientation": "v",
           "showlegend": true,
           "type": "scatter",
           "x": [
            null
           ],
           "xaxis": "x",
           "y": [
            -27245
           ],
           "yaxis": "y"
          }
         ],
         "name": "2024"
        }
       ],
       "layout": {
        "legend": {
         "title": {
          "text": "Country"
         },
         "tracegroupgap": 0
        },
        "sliders": [
         {
          "active": 0,
          "currentvalue": {
           "prefix": "Year="
          },
          "len": 0.9,
          "pad": {
           "b": 10,
           "t": 60
          },
          "steps": [
           {
            "args": [
             [
              "1960"
             ],
             {
              "frame": {
               "duration": 0,
               "redraw": false
              },
              "fromcurrent": true,
              "mode": "immediate",
              "transition": {
               "duration": 0,
               "easing": "linear"
              }
             }
            ],
            "label": "1960",
            "method": "animate"
           },
           {
            "args": [
             [
              "1961"
             ],
             {
              "frame": {
               "duration": 0,
               "redraw": false
              },
              "fromcurrent": true,
              "mode": "immediate",
              "transition": {
               "duration": 0,
               "easing": "linear"
              }
             }
            ],
            "label": "1961",
            "method": "animate"
           },
           {
            "args": [
             [
              "1962"
             ],
             {
              "frame": {
               "duration": 0,
               "redraw": false
              },
              "fromcurrent": true,
              "mode": "immediate",
              "transition": {
               "duration": 0,
               "easing": "linear"
              }
             }
            ],
            "label": "1962",
            "method": "animate"
           },
           {
            "args": [
             [
              "1963"
             ],
             {
              "frame": {
               "duration": 0,
               "redraw": false
              },
              "fromcurrent": true,
              "mode": "immediate",
              "transition": {
               "duration": 0,
               "easing": "linear"
              }
             }
            ],
            "label": "1963",
            "method": "animate"
           },
           {
            "args": [
             [
              "1964"
             ],
             {
              "frame": {
               "duration": 0,
               "redraw": false
              },
              "fromcurrent": true,
              "mode": "immediate",
              "transition": {
               "duration": 0,
               "easing": "linear"
              }
             }
            ],
            "label": "1964",
            "method": "animate"
           },
           {
            "args": [
             [
              "1965"
             ],
             {
              "frame": {
               "duration": 0,
               "redraw": false
              },
              "fromcurrent": true,
              "mode": "immediate",
              "transition": {
               "duration": 0,
               "easing": "linear"
              }
             }
            ],
            "label": "1965",
            "method": "animate"
           },
           {
            "args": [
             [
              "1966"
             ],
             {
              "frame": {
               "duration": 0,
               "redraw": false
              },
              "fromcurrent": true,
              "mode": "immediate",
              "transition": {
               "duration": 0,
               "easing": "linear"
              }
             }
            ],
            "label": "1966",
            "method": "animate"
           },
           {
            "args": [
             [
              "1967"
             ],
             {
              "frame": {
               "duration": 0,
               "redraw": false
              },
              "fromcurrent": true,
              "mode": "immediate",
              "transition": {
               "duration": 0,
               "easing": "linear"
              }
             }
            ],
            "label": "1967",
            "method": "animate"
           },
           {
            "args": [
             [
              "1968"
             ],
             {
              "frame": {
               "duration": 0,
               "redraw": false
              },
              "fromcurrent": true,
              "mode": "immediate",
              "transition": {
               "duration": 0,
               "easing": "linear"
              }
             }
            ],
            "label": "1968",
            "method": "animate"
           },
           {
            "args": [
             [
              "1969"
             ],
             {
              "frame": {
               "duration": 0,
               "redraw": false
              },
              "fromcurrent": true,
              "mode": "immediate",
              "transition": {
               "duration": 0,
               "easing": "linear"
              }
             }
            ],
            "label": "1969",
            "method": "animate"
           },
           {
            "args": [
             [
              "1970"
             ],
             {
              "frame": {
               "duration": 0,
               "redraw": false
              },
              "fromcurrent": true,
              "mode": "immediate",
              "transition": {
               "duration": 0,
               "easing": "linear"
              }
             }
            ],
            "label": "1970",
            "method": "animate"
           },
           {
            "args": [
             [
              "1971"
             ],
             {
              "frame": {
               "duration": 0,
               "redraw": false
              },
              "fromcurrent": true,
              "mode": "immediate",
              "transition": {
               "duration": 0,
               "easing": "linear"
              }
             }
            ],
            "label": "1971",
            "method": "animate"
           },
           {
            "args": [
             [
              "1972"
             ],
             {
              "frame": {
               "duration": 0,
               "redraw": false
              },
              "fromcurrent": true,
              "mode": "immediate",
              "transition": {
               "duration": 0,
               "easing": "linear"
              }
             }
            ],
            "label": "1972",
            "method": "animate"
           },
           {
            "args": [
             [
              "1973"
             ],
             {
              "frame": {
               "duration": 0,
               "redraw": false
              },
              "fromcurrent": true,
              "mode": "immediate",
              "transition": {
               "duration": 0,
               "easing": "linear"
              }
             }
            ],
            "label": "1973",
            "method": "animate"
           },
           {
            "args": [
             [
              "1974"
             ],
             {
              "frame": {
               "duration": 0,
               "redraw": false
              },
              "fromcurrent": true,
              "mode": "immediate",
              "transition": {
               "duration": 0,
               "easing": "linear"
              }
             }
            ],
            "label": "1974",
            "method": "animate"
           },
           {
            "args": [
             [
              "1975"
             ],
             {
              "frame": {
               "duration": 0,
               "redraw": false
              },
              "fromcurrent": true,
              "mode": "immediate",
              "transition": {
               "duration": 0,
               "easing": "linear"
              }
             }
            ],
            "label": "1975",
            "method": "animate"
           },
           {
            "args": [
             [
              "1976"
             ],
             {
              "frame": {
               "duration": 0,
               "redraw": false
              },
              "fromcurrent": true,
              "mode": "immediate",
              "transition": {
               "duration": 0,
               "easing": "linear"
              }
             }
            ],
            "label": "1976",
            "method": "animate"
           },
           {
            "args": [
             [
              "1977"
             ],
             {
              "frame": {
               "duration": 0,
               "redraw": false
              },
              "fromcurrent": true,
              "mode": "immediate",
              "transition": {
               "duration": 0,
               "easing": "linear"
              }
             }
            ],
            "label": "1977",
            "method": "animate"
           },
           {
            "args": [
             [
              "1978"
             ],
             {
              "frame": {
               "duration": 0,
               "redraw": false
              },
              "fromcurrent": true,
              "mode": "immediate",
              "transition": {
               "duration": 0,
               "easing": "linear"
              }
             }
            ],
            "label": "1978",
            "method": "animate"
           },
           {
            "args": [
             [
              "1979"
             ],
             {
              "frame": {
               "duration": 0,
               "redraw": false
              },
              "fromcurrent": true,
              "mode": "immediate",
              "transition": {
               "duration": 0,
               "easing": "linear"
              }
             }
            ],
            "label": "1979",
            "method": "animate"
           },
           {
            "args": [
             [
              "1980"
             ],
             {
              "frame": {
               "duration": 0,
               "redraw": false
              },
              "fromcurrent": true,
              "mode": "immediate",
              "transition": {
               "duration": 0,
               "easing": "linear"
              }
             }
            ],
            "label": "1980",
            "method": "animate"
           },
           {
            "args": [
             [
              "1981"
             ],
             {
              "frame": {
               "duration": 0,
               "redraw": false
              },
              "fromcurrent": true,
              "mode": "immediate",
              "transition": {
               "duration": 0,
               "easing": "linear"
              }
             }
            ],
            "label": "1981",
            "method": "animate"
           },
           {
            "args": [
             [
              "1982"
             ],
             {
              "frame": {
               "duration": 0,
               "redraw": false
              },
              "fromcurrent": true,
              "mode": "immediate",
              "transition": {
               "duration": 0,
               "easing": "linear"
              }
             }
            ],
            "label": "1982",
            "method": "animate"
           },
           {
            "args": [
             [
              "1983"
             ],
             {
              "frame": {
               "duration": 0,
               "redraw": false
              },
              "fromcurrent": true,
              "mode": "immediate",
              "transition": {
               "duration": 0,
               "easing": "linear"
              }
             }
            ],
            "label": "1983",
            "method": "animate"
           },
           {
            "args": [
             [
              "1984"
             ],
             {
              "frame": {
               "duration": 0,
               "redraw": false
              },
              "fromcurrent": true,
              "mode": "immediate",
              "transition": {
               "duration": 0,
               "easing": "linear"
              }
             }
            ],
            "label": "1984",
            "method": "animate"
           },
           {
            "args": [
             [
              "1985"
             ],
             {
              "frame": {
               "duration": 0,
               "redraw": false
              },
              "fromcurrent": true,
              "mode": "immediate",
              "transition": {
               "duration": 0,
               "easing": "linear"
              }
             }
            ],
            "label": "1985",
            "method": "animate"
           },
           {
            "args": [
             [
              "1986"
             ],
             {
              "frame": {
               "duration": 0,
               "redraw": false
              },
              "fromcurrent": true,
              "mode": "immediate",
              "transition": {
               "duration": 0,
               "easing": "linear"
              }
             }
            ],
            "label": "1986",
            "method": "animate"
           },
           {
            "args": [
             [
              "1987"
             ],
             {
              "frame": {
               "duration": 0,
               "redraw": false
              },
              "fromcurrent": true,
              "mode": "immediate",
              "transition": {
               "duration": 0,
               "easing": "linear"
              }
             }
            ],
            "label": "1987",
            "method": "animate"
           },
           {
            "args": [
             [
              "1988"
             ],
             {
              "frame": {
               "duration": 0,
               "redraw": false
              },
              "fromcurrent": true,
              "mode": "immediate",
              "transition": {
               "duration": 0,
               "easing": "linear"
              }
             }
            ],
            "label": "1988",
            "method": "animate"
           },
           {
            "args": [
             [
              "1989"
             ],
             {
              "frame": {
               "duration": 0,
               "redraw": false
              },
              "fromcurrent": true,
              "mode": "immediate",
              "transition": {
               "duration": 0,
               "easing": "linear"
              }
             }
            ],
            "label": "1989",
            "method": "animate"
           },
           {
            "args": [
             [
              "1990"
             ],
             {
              "frame": {
               "duration": 0,
               "redraw": false
              },
              "fromcurrent": true,
              "mode": "immediate",
              "transition": {
               "duration": 0,
               "easing": "linear"
              }
             }
            ],
            "label": "1990",
            "method": "animate"
           },
           {
            "args": [
             [
              "1991"
             ],
             {
              "frame": {
               "duration": 0,
               "redraw": false
              },
              "fromcurrent": true,
              "mode": "immediate",
              "transition": {
               "duration": 0,
               "easing": "linear"
              }
             }
            ],
            "label": "1991",
            "method": "animate"
           },
           {
            "args": [
             [
              "1992"
             ],
             {
              "frame": {
               "duration": 0,
               "redraw": false
              },
              "fromcurrent": true,
              "mode": "immediate",
              "transition": {
               "duration": 0,
               "easing": "linear"
              }
             }
            ],
            "label": "1992",
            "method": "animate"
           },
           {
            "args": [
             [
              "1993"
             ],
             {
              "frame": {
               "duration": 0,
               "redraw": false
              },
              "fromcurrent": true,
              "mode": "immediate",
              "transition": {
               "duration": 0,
               "easing": "linear"
              }
             }
            ],
            "label": "1993",
            "method": "animate"
           },
           {
            "args": [
             [
              "1994"
             ],
             {
              "frame": {
               "duration": 0,
               "redraw": false
              },
              "fromcurrent": true,
              "mode": "immediate",
              "transition": {
               "duration": 0,
               "easing": "linear"
              }
             }
            ],
            "label": "1994",
            "method": "animate"
           },
           {
            "args": [
             [
              "1995"
             ],
             {
              "frame": {
               "duration": 0,
               "redraw": false
              },
              "fromcurrent": true,
              "mode": "immediate",
              "transition": {
               "duration": 0,
               "easing": "linear"
              }
             }
            ],
            "label": "1995",
            "method": "animate"
           },
           {
            "args": [
             [
              "1996"
             ],
             {
              "frame": {
               "duration": 0,
               "redraw": false
              },
              "fromcurrent": true,
              "mode": "immediate",
              "transition": {
               "duration": 0,
               "easing": "linear"
              }
             }
            ],
            "label": "1996",
            "method": "animate"
           },
           {
            "args": [
             [
              "1997"
             ],
             {
              "frame": {
               "duration": 0,
               "redraw": false
              },
              "fromcurrent": true,
              "mode": "immediate",
              "transition": {
               "duration": 0,
               "easing": "linear"
              }
             }
            ],
            "label": "1997",
            "method": "animate"
           },
           {
            "args": [
             [
              "1998"
             ],
             {
              "frame": {
               "duration": 0,
               "redraw": false
              },
              "fromcurrent": true,
              "mode": "immediate",
              "transition": {
               "duration": 0,
               "easing": "linear"
              }
             }
            ],
            "label": "1998",
            "method": "animate"
           },
           {
            "args": [
             [
              "1999"
             ],
             {
              "frame": {
               "duration": 0,
               "redraw": false
              },
              "fromcurrent": true,
              "mode": "immediate",
              "transition": {
               "duration": 0,
               "easing": "linear"
              }
             }
            ],
            "label": "1999",
            "method": "animate"
           },
           {
            "args": [
             [
              "2000"
             ],
             {
              "frame": {
               "duration": 0,
               "redraw": false
              },
              "fromcurrent": true,
              "mode": "immediate",
              "transition": {
               "duration": 0,
               "easing": "linear"
              }
             }
            ],
            "label": "2000",
            "method": "animate"
           },
           {
            "args": [
             [
              "2001"
             ],
             {
              "frame": {
               "duration": 0,
               "redraw": false
              },
              "fromcurrent": true,
              "mode": "immediate",
              "transition": {
               "duration": 0,
               "easing": "linear"
              }
             }
            ],
            "label": "2001",
            "method": "animate"
           },
           {
            "args": [
             [
              "2002"
             ],
             {
              "frame": {
               "duration": 0,
               "redraw": false
              },
              "fromcurrent": true,
              "mode": "immediate",
              "transition": {
               "duration": 0,
               "easing": "linear"
              }
             }
            ],
            "label": "2002",
            "method": "animate"
           },
           {
            "args": [
             [
              "2003"
             ],
             {
              "frame": {
               "duration": 0,
               "redraw": false
              },
              "fromcurrent": true,
              "mode": "immediate",
              "transition": {
               "duration": 0,
               "easing": "linear"
              }
             }
            ],
            "label": "2003",
            "method": "animate"
           },
           {
            "args": [
             [
              "2004"
             ],
             {
              "frame": {
               "duration": 0,
               "redraw": false
              },
              "fromcurrent": true,
              "mode": "immediate",
              "transition": {
               "duration": 0,
               "easing": "linear"
              }
             }
            ],
            "label": "2004",
            "method": "animate"
           },
           {
            "args": [
             [
              "2005"
             ],
             {
              "frame": {
               "duration": 0,
               "redraw": false
              },
              "fromcurrent": true,
              "mode": "immediate",
              "transition": {
               "duration": 0,
               "easing": "linear"
              }
             }
            ],
            "label": "2005",
            "method": "animate"
           },
           {
            "args": [
             [
              "2006"
             ],
             {
              "frame": {
               "duration": 0,
               "redraw": false
              },
              "fromcurrent": true,
              "mode": "immediate",
              "transition": {
               "duration": 0,
               "easing": "linear"
              }
             }
            ],
            "label": "2006",
            "method": "animate"
           },
           {
            "args": [
             [
              "2007"
             ],
             {
              "frame": {
               "duration": 0,
               "redraw": false
              },
              "fromcurrent": true,
              "mode": "immediate",
              "transition": {
               "duration": 0,
               "easing": "linear"
              }
             }
            ],
            "label": "2007",
            "method": "animate"
           },
           {
            "args": [
             [
              "2008"
             ],
             {
              "frame": {
               "duration": 0,
               "redraw": false
              },
              "fromcurrent": true,
              "mode": "immediate",
              "transition": {
               "duration": 0,
               "easing": "linear"
              }
             }
            ],
            "label": "2008",
            "method": "animate"
           },
           {
            "args": [
             [
              "2009"
             ],
             {
              "frame": {
               "duration": 0,
               "redraw": false
              },
              "fromcurrent": true,
              "mode": "immediate",
              "transition": {
               "duration": 0,
               "easing": "linear"
              }
             }
            ],
            "label": "2009",
            "method": "animate"
           },
           {
            "args": [
             [
              "2010"
             ],
             {
              "frame": {
               "duration": 0,
               "redraw": false
              },
              "fromcurrent": true,
              "mode": "immediate",
              "transition": {
               "duration": 0,
               "easing": "linear"
              }
             }
            ],
            "label": "2010",
            "method": "animate"
           },
           {
            "args": [
             [
              "2011"
             ],
             {
              "frame": {
               "duration": 0,
               "redraw": false
              },
              "fromcurrent": true,
              "mode": "immediate",
              "transition": {
               "duration": 0,
               "easing": "linear"
              }
             }
            ],
            "label": "2011",
            "method": "animate"
           },
           {
            "args": [
             [
              "2012"
             ],
             {
              "frame": {
               "duration": 0,
               "redraw": false
              },
              "fromcurrent": true,
              "mode": "immediate",
              "transition": {
               "duration": 0,
               "easing": "linear"
              }
             }
            ],
            "label": "2012",
            "method": "animate"
           },
           {
            "args": [
             [
              "2013"
             ],
             {
              "frame": {
               "duration": 0,
               "redraw": false
              },
              "fromcurrent": true,
              "mode": "immediate",
              "transition": {
               "duration": 0,
               "easing": "linear"
              }
             }
            ],
            "label": "2013",
            "method": "animate"
           },
           {
            "args": [
             [
              "2014"
             ],
             {
              "frame": {
               "duration": 0,
               "redraw": false
              },
              "fromcurrent": true,
              "mode": "immediate",
              "transition": {
               "duration": 0,
               "easing": "linear"
              }
             }
            ],
            "label": "2014",
            "method": "animate"
           },
           {
            "args": [
             [
              "2015"
             ],
             {
              "frame": {
               "duration": 0,
               "redraw": false
              },
              "fromcurrent": true,
              "mode": "immediate",
              "transition": {
               "duration": 0,
               "easing": "linear"
              }
             }
            ],
            "label": "2015",
            "method": "animate"
           },
           {
            "args": [
             [
              "2016"
             ],
             {
              "frame": {
               "duration": 0,
               "redraw": false
              },
              "fromcurrent": true,
              "mode": "immediate",
              "transition": {
               "duration": 0,
               "easing": "linear"
              }
             }
            ],
            "label": "2016",
            "method": "animate"
           },
           {
            "args": [
             [
              "2017"
             ],
             {
              "frame": {
               "duration": 0,
               "redraw": false
              },
              "fromcurrent": true,
              "mode": "immediate",
              "transition": {
               "duration": 0,
               "easing": "linear"
              }
             }
            ],
            "label": "2017",
            "method": "animate"
           },
           {
            "args": [
             [
              "2018"
             ],
             {
              "frame": {
               "duration": 0,
               "redraw": false
              },
              "fromcurrent": true,
              "mode": "immediate",
              "transition": {
               "duration": 0,
               "easing": "linear"
              }
             }
            ],
            "label": "2018",
            "method": "animate"
           },
           {
            "args": [
             [
              "2019"
             ],
             {
              "frame": {
               "duration": 0,
               "redraw": false
              },
              "fromcurrent": true,
              "mode": "immediate",
              "transition": {
               "duration": 0,
               "easing": "linear"
              }
             }
            ],
            "label": "2019",
            "method": "animate"
           },
           {
            "args": [
             [
              "2020"
             ],
             {
              "frame": {
               "duration": 0,
               "redraw": false
              },
              "fromcurrent": true,
              "mode": "immediate",
              "transition": {
               "duration": 0,
               "easing": "linear"
              }
             }
            ],
            "label": "2020",
            "method": "animate"
           },
           {
            "args": [
             [
              "2021"
             ],
             {
              "frame": {
               "duration": 0,
               "redraw": false
              },
              "fromcurrent": true,
              "mode": "immediate",
              "transition": {
               "duration": 0,
               "easing": "linear"
              }
             }
            ],
            "label": "2021",
            "method": "animate"
           },
           {
            "args": [
             [
              "2022"
             ],
             {
              "frame": {
               "duration": 0,
               "redraw": false
              },
              "fromcurrent": true,
              "mode": "immediate",
              "transition": {
               "duration": 0,
               "easing": "linear"
              }
             }
            ],
            "label": "2022",
            "method": "animate"
           },
           {
            "args": [
             [
              "2023"
             ],
             {
              "frame": {
               "duration": 0,
               "redraw": false
              },
              "fromcurrent": true,
              "mode": "immediate",
              "transition": {
               "duration": 0,
               "easing": "linear"
              }
             }
            ],
            "label": "2023",
            "method": "animate"
           },
           {
            "args": [
             [
              "2024"
             ],
             {
              "frame": {
               "duration": 0,
               "redraw": false
              },
              "fromcurrent": true,
              "mode": "immediate",
              "transition": {
               "duration": 0,
               "easing": "linear"
              }
             }
            ],
            "label": "2024",
            "method": "animate"
           }
          ],
          "x": 0.1,
          "xanchor": "left",
          "y": 0,
          "yanchor": "top"
         }
        ],
        "template": {
         "data": {
          "bar": [
           {
            "error_x": {
             "color": "#2a3f5f"
            },
            "error_y": {
             "color": "#2a3f5f"
            },
            "marker": {
             "line": {
              "color": "#E5ECF6",
              "width": 0.5
             },
             "pattern": {
              "fillmode": "overlay",
              "size": 10,
              "solidity": 0.2
             }
            },
            "type": "bar"
           }
          ],
          "barpolar": [
           {
            "marker": {
             "line": {
              "color": "#E5ECF6",
              "width": 0.5
             },
             "pattern": {
              "fillmode": "overlay",
              "size": 10,
              "solidity": 0.2
             }
            },
            "type": "barpolar"
           }
          ],
          "carpet": [
           {
            "aaxis": {
             "endlinecolor": "#2a3f5f",
             "gridcolor": "white",
             "linecolor": "white",
             "minorgridcolor": "white",
             "startlinecolor": "#2a3f5f"
            },
            "baxis": {
             "endlinecolor": "#2a3f5f",
             "gridcolor": "white",
             "linecolor": "white",
             "minorgridcolor": "white",
             "startlinecolor": "#2a3f5f"
            },
            "type": "carpet"
           }
          ],
          "choropleth": [
           {
            "colorbar": {
             "outlinewidth": 0,
             "ticks": ""
            },
            "type": "choropleth"
           }
          ],
          "contour": [
           {
            "colorbar": {
             "outlinewidth": 0,
             "ticks": ""
            },
            "colorscale": [
             [
              0,
              "#0d0887"
             ],
             [
              0.1111111111111111,
              "#46039f"
             ],
             [
              0.2222222222222222,
              "#7201a8"
             ],
             [
              0.3333333333333333,
              "#9c179e"
             ],
             [
              0.4444444444444444,
              "#bd3786"
             ],
             [
              0.5555555555555556,
              "#d8576b"
             ],
             [
              0.6666666666666666,
              "#ed7953"
             ],
             [
              0.7777777777777778,
              "#fb9f3a"
             ],
             [
              0.8888888888888888,
              "#fdca26"
             ],
             [
              1,
              "#f0f921"
             ]
            ],
            "type": "contour"
           }
          ],
          "contourcarpet": [
           {
            "colorbar": {
             "outlinewidth": 0,
             "ticks": ""
            },
            "type": "contourcarpet"
           }
          ],
          "heatmap": [
           {
            "colorbar": {
             "outlinewidth": 0,
             "ticks": ""
            },
            "colorscale": [
             [
              0,
              "#0d0887"
             ],
             [
              0.1111111111111111,
              "#46039f"
             ],
             [
              0.2222222222222222,
              "#7201a8"
             ],
             [
              0.3333333333333333,
              "#9c179e"
             ],
             [
              0.4444444444444444,
              "#bd3786"
             ],
             [
              0.5555555555555556,
              "#d8576b"
             ],
             [
              0.6666666666666666,
              "#ed7953"
             ],
             [
              0.7777777777777778,
              "#fb9f3a"
             ],
             [
              0.8888888888888888,
              "#fdca26"
             ],
             [
              1,
              "#f0f921"
             ]
            ],
            "type": "heatmap"
           }
          ],
          "heatmapgl": [
           {
            "colorbar": {
             "outlinewidth": 0,
             "ticks": ""
            },
            "colorscale": [
             [
              0,
              "#0d0887"
             ],
             [
              0.1111111111111111,
              "#46039f"
             ],
             [
              0.2222222222222222,
              "#7201a8"
             ],
             [
              0.3333333333333333,
              "#9c179e"
             ],
             [
              0.4444444444444444,
              "#bd3786"
             ],
             [
              0.5555555555555556,
              "#d8576b"
             ],
             [
              0.6666666666666666,
              "#ed7953"
             ],
             [
              0.7777777777777778,
              "#fb9f3a"
             ],
             [
              0.8888888888888888,
              "#fdca26"
             ],
             [
              1,
              "#f0f921"
             ]
            ],
            "type": "heatmapgl"
           }
          ],
          "histogram": [
           {
            "marker": {
             "pattern": {
              "fillmode": "overlay",
              "size": 10,
              "solidity": 0.2
             }
            },
            "type": "histogram"
           }
          ],
          "histogram2d": [
           {
            "colorbar": {
             "outlinewidth": 0,
             "ticks": ""
            },
            "colorscale": [
             [
              0,
              "#0d0887"
             ],
             [
              0.1111111111111111,
              "#46039f"
             ],
             [
              0.2222222222222222,
              "#7201a8"
             ],
             [
              0.3333333333333333,
              "#9c179e"
             ],
             [
              0.4444444444444444,
              "#bd3786"
             ],
             [
              0.5555555555555556,
              "#d8576b"
             ],
             [
              0.6666666666666666,
              "#ed7953"
             ],
             [
              0.7777777777777778,
              "#fb9f3a"
             ],
             [
              0.8888888888888888,
              "#fdca26"
             ],
             [
              1,
              "#f0f921"
             ]
            ],
            "type": "histogram2d"
           }
          ],
          "histogram2dcontour": [
           {
            "colorbar": {
             "outlinewidth": 0,
             "ticks": ""
            },
            "colorscale": [
             [
              0,
              "#0d0887"
             ],
             [
              0.1111111111111111,
              "#46039f"
             ],
             [
              0.2222222222222222,
              "#7201a8"
             ],
             [
              0.3333333333333333,
              "#9c179e"
             ],
             [
              0.4444444444444444,
              "#bd3786"
             ],
             [
              0.5555555555555556,
              "#d8576b"
             ],
             [
              0.6666666666666666,
              "#ed7953"
             ],
             [
              0.7777777777777778,
              "#fb9f3a"
             ],
             [
              0.8888888888888888,
              "#fdca26"
             ],
             [
              1,
              "#f0f921"
             ]
            ],
            "type": "histogram2dcontour"
           }
          ],
          "mesh3d": [
           {
            "colorbar": {
             "outlinewidth": 0,
             "ticks": ""
            },
            "type": "mesh3d"
           }
          ],
          "parcoords": [
           {
            "line": {
             "colorbar": {
              "outlinewidth": 0,
              "ticks": ""
             }
            },
            "type": "parcoords"
           }
          ],
          "pie": [
           {
            "automargin": true,
            "type": "pie"
           }
          ],
          "scatter": [
           {
            "fillpattern": {
             "fillmode": "overlay",
             "size": 10,
             "solidity": 0.2
            },
            "type": "scatter"
           }
          ],
          "scatter3d": [
           {
            "line": {
             "colorbar": {
              "outlinewidth": 0,
              "ticks": ""
             }
            },
            "marker": {
             "colorbar": {
              "outlinewidth": 0,
              "ticks": ""
             }
            },
            "type": "scatter3d"
           }
          ],
          "scattercarpet": [
           {
            "marker": {
             "colorbar": {
              "outlinewidth": 0,
              "ticks": ""
             }
            },
            "type": "scattercarpet"
           }
          ],
          "scattergeo": [
           {
            "marker": {
             "colorbar": {
              "outlinewidth": 0,
              "ticks": ""
             }
            },
            "type": "scattergeo"
           }
          ],
          "scattergl": [
           {
            "marker": {
             "colorbar": {
              "outlinewidth": 0,
              "ticks": ""
             }
            },
            "type": "scattergl"
           }
          ],
          "scattermapbox": [
           {
            "marker": {
             "colorbar": {
              "outlinewidth": 0,
              "ticks": ""
             }
            },
            "type": "scattermapbox"
           }
          ],
          "scatterpolar": [
           {
            "marker": {
             "colorbar": {
              "outlinewidth": 0,
              "ticks": ""
             }
            },
            "type": "scatterpolar"
           }
          ],
          "scatterpolargl": [
           {
            "marker": {
             "colorbar": {
              "outlinewidth": 0,
              "ticks": ""
             }
            },
            "type": "scatterpolargl"
           }
          ],
          "scatterternary": [
           {
            "marker": {
             "colorbar": {
              "outlinewidth": 0,
              "ticks": ""
             }
            },
            "type": "scatterternary"
           }
          ],
          "surface": [
           {
            "colorbar": {
             "outlinewidth": 0,
             "ticks": ""
            },
            "colorscale": [
             [
              0,
              "#0d0887"
             ],
             [
              0.1111111111111111,
              "#46039f"
             ],
             [
              0.2222222222222222,
              "#7201a8"
             ],
             [
              0.3333333333333333,
              "#9c179e"
             ],
             [
              0.4444444444444444,
              "#bd3786"
             ],
             [
              0.5555555555555556,
              "#d8576b"
             ],
             [
              0.6666666666666666,
              "#ed7953"
             ],
             [
              0.7777777777777778,
              "#fb9f3a"
             ],
             [
              0.8888888888888888,
              "#fdca26"
             ],
             [
              1,
              "#f0f921"
             ]
            ],
            "type": "surface"
           }
          ],
          "table": [
           {
            "cells": {
             "fill": {
              "color": "#EBF0F8"
             },
             "line": {
              "color": "white"
             }
            },
            "header": {
             "fill": {
              "color": "#C8D4E3"
             },
             "line": {
              "color": "white"
             }
            },
            "type": "table"
           }
          ]
         },
         "layout": {
          "annotationdefaults": {
           "arrowcolor": "#2a3f5f",
           "arrowhead": 0,
           "arrowwidth": 1
          },
          "autotypenumbers": "strict",
          "coloraxis": {
           "colorbar": {
            "outlinewidth": 0,
            "ticks": ""
           }
          },
          "colorscale": {
           "diverging": [
            [
             0,
             "#8e0152"
            ],
            [
             0.1,
             "#c51b7d"
            ],
            [
             0.2,
             "#de77ae"
            ],
            [
             0.3,
             "#f1b6da"
            ],
            [
             0.4,
             "#fde0ef"
            ],
            [
             0.5,
             "#f7f7f7"
            ],
            [
             0.6,
             "#e6f5d0"
            ],
            [
             0.7,
             "#b8e186"
            ],
            [
             0.8,
             "#7fbc41"
            ],
            [
             0.9,
             "#4d9221"
            ],
            [
             1,
             "#276419"
            ]
           ],
           "sequential": [
            [
             0,
             "#0d0887"
            ],
            [
             0.1111111111111111,
             "#46039f"
            ],
            [
             0.2222222222222222,
             "#7201a8"
            ],
            [
             0.3333333333333333,
             "#9c179e"
            ],
            [
             0.4444444444444444,
             "#bd3786"
            ],
            [
             0.5555555555555556,
             "#d8576b"
            ],
            [
             0.6666666666666666,
             "#ed7953"
            ],
            [
             0.7777777777777778,
             "#fb9f3a"
            ],
            [
             0.8888888888888888,
             "#fdca26"
            ],
            [
             1,
             "#f0f921"
            ]
           ],
           "sequentialminus": [
            [
             0,
             "#0d0887"
            ],
            [
             0.1111111111111111,
             "#46039f"
            ],
            [
             0.2222222222222222,
             "#7201a8"
            ],
            [
             0.3333333333333333,
             "#9c179e"
            ],
            [
             0.4444444444444444,
             "#bd3786"
            ],
            [
             0.5555555555555556,
             "#d8576b"
            ],
            [
             0.6666666666666666,
             "#ed7953"
            ],
            [
             0.7777777777777778,
             "#fb9f3a"
            ],
            [
             0.8888888888888888,
             "#fdca26"
            ],
            [
             1,
             "#f0f921"
            ]
           ]
          },
          "colorway": [
           "#636efa",
           "#EF553B",
           "#00cc96",
           "#ab63fa",
           "#FFA15A",
           "#19d3f3",
           "#FF6692",
           "#B6E880",
           "#FF97FF",
           "#FECB52"
          ],
          "font": {
           "color": "#2a3f5f"
          },
          "geo": {
           "bgcolor": "white",
           "lakecolor": "white",
           "landcolor": "#E5ECF6",
           "showlakes": true,
           "showland": true,
           "subunitcolor": "white"
          },
          "hoverlabel": {
           "align": "left"
          },
          "hovermode": "closest",
          "mapbox": {
           "style": "light"
          },
          "paper_bgcolor": "white",
          "plot_bgcolor": "#E5ECF6",
          "polar": {
           "angularaxis": {
            "gridcolor": "white",
            "linecolor": "white",
            "ticks": ""
           },
           "bgcolor": "#E5ECF6",
           "radialaxis": {
            "gridcolor": "white",
            "linecolor": "white",
            "ticks": ""
           }
          },
          "scene": {
           "xaxis": {
            "backgroundcolor": "#E5ECF6",
            "gridcolor": "white",
            "gridwidth": 2,
            "linecolor": "white",
            "showbackground": true,
            "ticks": "",
            "zerolinecolor": "white"
           },
           "yaxis": {
            "backgroundcolor": "#E5ECF6",
            "gridcolor": "white",
            "gridwidth": 2,
            "linecolor": "white",
            "showbackground": true,
            "ticks": "",
            "zerolinecolor": "white"
           },
           "zaxis": {
            "backgroundcolor": "#E5ECF6",
            "gridcolor": "white",
            "gridwidth": 2,
            "linecolor": "white",
            "showbackground": true,
            "ticks": "",
            "zerolinecolor": "white"
           }
          },
          "shapedefaults": {
           "line": {
            "color": "#2a3f5f"
           }
          },
          "ternary": {
           "aaxis": {
            "gridcolor": "white",
            "linecolor": "white",
            "ticks": ""
           },
           "baxis": {
            "gridcolor": "white",
            "linecolor": "white",
            "ticks": ""
           },
           "bgcolor": "#E5ECF6",
           "caxis": {
            "gridcolor": "white",
            "linecolor": "white",
            "ticks": ""
           }
          },
          "title": {
           "x": 0.05
          },
          "xaxis": {
           "automargin": true,
           "gridcolor": "white",
           "linecolor": "white",
           "ticks": "",
           "title": {
            "standoff": 15
           },
           "zerolinecolor": "white",
           "zerolinewidth": 2
          },
          "yaxis": {
           "automargin": true,
           "gridcolor": "white",
           "linecolor": "white",
           "ticks": "",
           "title": {
            "standoff": 15
           },
           "zerolinecolor": "white",
           "zerolinewidth": 2
          }
         }
        },
        "title": {
         "text": "Total Population vs Net Migration in South Asia",
         "x": 0.5
        },
        "updatemenus": [
         {
          "buttons": [
           {
            "args": [
             null,
             {
              "frame": {
               "duration": 500,
               "redraw": false
              },
              "fromcurrent": true,
              "mode": "immediate",
              "transition": {
               "duration": 500,
               "easing": "linear"
              }
             }
            ],
            "label": "&#9654;",
            "method": "animate"
           },
           {
            "args": [
             [
              null
             ],
             {
              "frame": {
               "duration": 0,
               "redraw": false
              },
              "fromcurrent": true,
              "mode": "immediate",
              "transition": {
               "duration": 0,
               "easing": "linear"
              }
             }
            ],
            "label": "&#9724;",
            "method": "animate"
           }
          ],
          "direction": "left",
          "pad": {
           "r": 10,
           "t": 70
          },
          "showactive": false,
          "type": "buttons",
          "x": 0.1,
          "xanchor": "right",
          "y": 0,
          "yanchor": "top"
         }
        ],
        "xaxis": {
         "anchor": "y",
         "domain": [
          0,
          1
         ],
         "title": {
          "text": "Total Population"
         }
        },
        "yaxis": {
         "anchor": "x",
         "domain": [
          0,
          1
         ],
         "title": {
          "text": "Net Migration"
         }
        }
       }
      }
     },
     "metadata": {},
     "output_type": "display_data"
    }
   ],
   "source": [
    "# scatter plot using plotly express\n",
    "fig = px.scatter(df, x='total_population', y='net_migration', color='Country',\n",
    "                 animation_frame='Year',\n",
    "                 title='Total Population vs Net Migration in South Asia',\n",
    "                 labels={'total_population': 'Total Population', 'net_migration': 'Net Migration'})\n",
    "fig.update_traces(marker=dict(size=10, line=dict(width=2, color='DarkSlateGrey')))\n",
    "fig.update_layout(title_x=0.5, xaxis_title='Total Population', yaxis_title='Net Migration')\n",
    "fig.show()"
   ]
  },
  {
   "cell_type": "code",
   "execution_count": 36,
   "id": "cbfee8bc",
   "metadata": {},
   "outputs": [
    {
     "data": {
      "application/vnd.plotly.v1+json": {
       "config": {
        "plotlyServerURL": "https://plot.ly"
       },
       "data": [
        {
         "hovertemplate": "Country=Afghanistan<br>Year=%{x}<br>Net Migration=%{y}<extra></extra>",
         "legendgroup": "Afghanistan",
         "line": {
          "color": "#636efa",
          "dash": "solid"
         },
         "marker": {
          "symbol": "circle"
         },
         "mode": "lines+markers",
         "name": "Afghanistan",
         "orientation": "v",
         "showlegend": true,
         "type": "scatter",
         "x": [
          1960,
          1961,
          1962,
          1963,
          1964,
          1965,
          1966,
          1967,
          1968,
          1969,
          1970,
          1971,
          1972,
          1973,
          1974,
          1975,
          1976,
          1977,
          1978,
          1979,
          1980,
          1981,
          1982,
          1983,
          1984,
          1985,
          1986,
          1987,
          1988,
          1989,
          1990,
          1991,
          1992,
          1993,
          1994,
          1995,
          1996,
          1997,
          1998,
          1999,
          2000,
          2001,
          2002,
          2003,
          2004,
          2005,
          2006,
          2007,
          2008,
          2009,
          2010,
          2011,
          2012,
          2013,
          2014,
          2015,
          2016,
          2017,
          2018,
          2019,
          2020,
          2021,
          2022,
          2023,
          2024
         ],
         "xaxis": "x",
         "y": [
          2606,
          6109,
          7016,
          6681,
          7079,
          10695,
          3563,
          6824,
          3333,
          2029,
          4458,
          -12801,
          -4050,
          -3030,
          -20009,
          -44418,
          -85430,
          -83115,
          -117186,
          -525413,
          -1174239,
          -1998086,
          -500998,
          -172797,
          248224,
          -208685,
          -343397,
          -345535,
          -56263,
          18296,
          -458737,
          32782,
          1197329,
          1149684,
          315206,
          52505,
          4072,
          -21215,
          7380,
          -32400,
          -1025973,
          -212872,
          860349,
          247317,
          -269194,
          250971,
          57673,
          -851298,
          215753,
          -60602,
          -167460,
          384486,
          68628,
          18119,
          233913,
          -286314,
          -143049,
          -71491,
          -36753,
          9159,
          143634,
          -548784,
          -647402,
          -48958,
          -44089
         ],
         "yaxis": "y"
        },
        {
         "hovertemplate": "Country=Bangladesh<br>Year=%{x}<br>Net Migration=%{y}<extra></extra>",
         "legendgroup": "Bangladesh",
         "line": {
          "color": "#EF553B",
          "dash": "solid"
         },
         "marker": {
          "symbol": "circle"
         },
         "mode": "lines+markers",
         "name": "Bangladesh",
         "orientation": "v",
         "showlegend": true,
         "type": "scatter",
         "x": [
          1960,
          1961,
          1962,
          1963,
          1964,
          1965,
          1966,
          1967,
          1968,
          1969,
          1970,
          1971,
          1972,
          1973,
          1974,
          1975,
          1976,
          1977,
          1978,
          1979,
          1980,
          1981,
          1982,
          1983,
          1984,
          1985,
          1986,
          1987,
          1988,
          1989,
          1990,
          1991,
          1992,
          1993,
          1994,
          1995,
          1996,
          1997,
          1998,
          1999,
          2000,
          2001,
          2002,
          2003,
          2004,
          2005,
          2006,
          2007,
          2008,
          2009,
          2010,
          2011,
          2012,
          2013,
          2014,
          2015,
          2016,
          2017,
          2018,
          2019,
          2020,
          2021,
          2022,
          2023,
          2024
         ],
         "xaxis": "x",
         "y": [
          13580,
          26503,
          26533,
          23215,
          25426,
          47610,
          3758,
          23164,
          -7970,
          -125010,
          -73719,
          224369,
          -269033,
          -77324,
          -277545,
          -390212,
          -424970,
          -458491,
          -486721,
          -507354,
          -515918,
          -184884,
          -156729,
          -201909,
          -245693,
          -287872,
          -331992,
          -367475,
          -395408,
          -406910,
          -404105,
          -230852,
          -246914,
          -271677,
          -206958,
          -231304,
          -254239,
          -273442,
          -286966,
          -286256,
          -512422,
          -737740,
          -819909,
          -896335,
          -970264,
          -1036635,
          -1091865,
          -1133553,
          -1158420,
          -1150194,
          -1113727,
          -848910,
          -829875,
          -862944,
          -889222,
          -909223,
          -918770,
          -1037176,
          -1029069,
          -1016796,
          -1002522,
          -994722,
          -549990,
          -549918,
          -473362
         ],
         "yaxis": "y"
        },
        {
         "hovertemplate": "Country=India<br>Year=%{x}<br>Net Migration=%{y}<extra></extra>",
         "legendgroup": "India",
         "line": {
          "color": "#00cc96",
          "dash": "solid"
         },
         "marker": {
          "symbol": "circle"
         },
         "mode": "lines+markers",
         "name": "India",
         "orientation": "v",
         "showlegend": true,
         "type": "scatter",
         "x": [
          1960,
          1961,
          1962,
          1963,
          1964,
          1965,
          1966,
          1967,
          1968,
          1969,
          1970,
          1971,
          1972,
          1973,
          1974,
          1975,
          1976,
          1977,
          1978,
          1979,
          1980,
          1981,
          1982,
          1983,
          1984,
          1985,
          1986,
          1987,
          1988,
          1989,
          1990,
          1991,
          1992,
          1993,
          1994,
          1995,
          1996,
          1997,
          1998,
          1999,
          2000,
          2001,
          2002,
          2003,
          2004,
          2005,
          2006,
          2007,
          2008,
          2009,
          2010,
          2011,
          2012,
          2013,
          2014,
          2015,
          2016,
          2017,
          2018,
          2019,
          2020,
          2021,
          2022,
          2023,
          2024
         ],
         "xaxis": "x",
         "y": [
          146955,
          295177,
          -70514,
          21640,
          -141916,
          -248299,
          -566982,
          -70314,
          -995416,
          -851844,
          233782,
          -974574,
          -82816,
          -404743,
          347869,
          434205,
          275984,
          590626,
          -210444,
          774094,
          210914,
          33243,
          -10687,
          119694,
          -32313,
          -89991,
          -249545,
          -219150,
          -155676,
          -2907,
          125514,
          -157911,
          35155,
          2364,
          -375253,
          -57297,
          -26388,
          880,
          -1049,
          -95320,
          -143960,
          -70346,
          -732419,
          -606970,
          -206660,
          -929454,
          -342177,
          -1037200,
          -1020047,
          -312905,
          -50905,
          -247017,
          -198935,
          -151372,
          -227263,
          -655085,
          81248,
          -251642,
          -589794,
          -978969,
          -73806,
          -348916,
          -1353478,
          -979179,
          -630830
         ],
         "yaxis": "y"
        },
        {
         "hovertemplate": "Country=Pakistan<br>Year=%{x}<br>Net Migration=%{y}<extra></extra>",
         "legendgroup": "Pakistan",
         "line": {
          "color": "#ab63fa",
          "dash": "solid"
         },
         "marker": {
          "symbol": "circle"
         },
         "mode": "lines+markers",
         "name": "Pakistan",
         "orientation": "v",
         "showlegend": true,
         "type": "scatter",
         "x": [
          1960,
          1961,
          1962,
          1963,
          1964,
          1965,
          1966,
          1967,
          1968,
          1969,
          1970,
          1971,
          1972,
          1973,
          1974,
          1975,
          1976,
          1977,
          1978,
          1979,
          1980,
          1981,
          1982,
          1983,
          1984,
          1985,
          1986,
          1987,
          1988,
          1989,
          1990,
          1991,
          1992,
          1993,
          1994,
          1995,
          1996,
          1997,
          1998,
          1999,
          2000,
          2001,
          2002,
          2003,
          2004,
          2005,
          2006,
          2007,
          2008,
          2009,
          2010,
          2011,
          2012,
          2013,
          2014,
          2015,
          2016,
          2017,
          2018,
          2019,
          2020,
          2021,
          2022,
          2023,
          2024
         ],
         "xaxis": "x",
         "y": [
          0,
          -66991,
          -65780,
          -64552,
          -63298,
          -62070,
          -61025,
          -59932,
          -58721,
          -57406,
          -58281,
          -68357,
          -69209,
          -58012,
          -34785,
          -1710,
          48238,
          85250,
          111386,
          450003,
          1078229,
          555032,
          294252,
          -4753,
          -319242,
          68860,
          111045,
          146364,
          38139,
          -17164,
          275242,
          -19668,
          -718387,
          -139493,
          -277100,
          11534,
          -60855,
          -55539,
          -112191,
          -134510,
          252869,
          -54727,
          -653758,
          -219118,
          -64669,
          -189899,
          -183933,
          576349,
          -140746,
          -18298,
          -431902,
          -890633,
          -1647989,
          -1906319,
          -2037920,
          -2172162,
          -2290411,
          -1574585,
          -1309611,
          -1177220,
          -559291,
          -565673,
          -1322625,
          -1619557,
          -1401173
         ],
         "yaxis": "y"
        },
        {
         "hovertemplate": "Country=Sri Lanka<br>Year=%{x}<br>Net Migration=%{y}<extra></extra>",
         "legendgroup": "Sri Lanka",
         "line": {
          "color": "#FFA15A",
          "dash": "solid"
         },
         "marker": {
          "symbol": "circle"
         },
         "mode": "lines+markers",
         "name": "Sri Lanka",
         "orientation": "v",
         "showlegend": true,
         "type": "scatter",
         "x": [
          1960,
          1961,
          1962,
          1963,
          1964,
          1965,
          1966,
          1967,
          1968,
          1969,
          1970,
          1971,
          1972,
          1973,
          1974,
          1975,
          1976,
          1977,
          1978,
          1979,
          1980,
          1981,
          1982,
          1983,
          1984,
          1985,
          1986,
          1987,
          1988,
          1989,
          1990,
          1991,
          1992,
          1993,
          1994,
          1995,
          1996,
          1997,
          1998,
          1999,
          2000,
          2001,
          2002,
          2003,
          2004,
          2005,
          2006,
          2007,
          2008,
          2009,
          2010,
          2011,
          2012,
          2013,
          2014,
          2015,
          2016,
          2017,
          2018,
          2019,
          2020,
          2021,
          2022,
          2023,
          2024
         ],
         "xaxis": "x",
         "y": [
          -12610,
          -10144,
          -8909,
          -8118,
          -7614,
          -7249,
          -6794,
          -6696,
          -7163,
          -10152,
          -16299,
          -22021,
          -27071,
          -30582,
          -33979,
          -37475,
          -41258,
          -45383,
          -50189,
          -57683,
          -63541,
          -89824,
          -163987,
          -209362,
          -225450,
          -80950,
          -26460,
          -63105,
          -58415,
          -33305,
          -195736,
          -1047,
          88542,
          36232,
          8323,
          117416,
          127236,
          135636,
          150724,
          138799,
          123894,
          19273,
          -105718,
          -107573,
          -84795,
          -118594,
          -107045,
          -109695,
          -97144,
          -81130,
          -98060,
          -90839,
          -41955,
          -37754,
          -33672,
          -29797,
          -18388,
          -22324,
          -28607,
          -28426,
          -29875,
          -29586,
          -27435,
          -28011,
          -27245
         ],
         "yaxis": "y"
        }
       ],
       "layout": {
        "legend": {
         "title": {
          "text": "Country"
         },
         "tracegroupgap": 0
        },
        "template": {
         "data": {
          "bar": [
           {
            "error_x": {
             "color": "#2a3f5f"
            },
            "error_y": {
             "color": "#2a3f5f"
            },
            "marker": {
             "line": {
              "color": "#E5ECF6",
              "width": 0.5
             },
             "pattern": {
              "fillmode": "overlay",
              "size": 10,
              "solidity": 0.2
             }
            },
            "type": "bar"
           }
          ],
          "barpolar": [
           {
            "marker": {
             "line": {
              "color": "#E5ECF6",
              "width": 0.5
             },
             "pattern": {
              "fillmode": "overlay",
              "size": 10,
              "solidity": 0.2
             }
            },
            "type": "barpolar"
           }
          ],
          "carpet": [
           {
            "aaxis": {
             "endlinecolor": "#2a3f5f",
             "gridcolor": "white",
             "linecolor": "white",
             "minorgridcolor": "white",
             "startlinecolor": "#2a3f5f"
            },
            "baxis": {
             "endlinecolor": "#2a3f5f",
             "gridcolor": "white",
             "linecolor": "white",
             "minorgridcolor": "white",
             "startlinecolor": "#2a3f5f"
            },
            "type": "carpet"
           }
          ],
          "choropleth": [
           {
            "colorbar": {
             "outlinewidth": 0,
             "ticks": ""
            },
            "type": "choropleth"
           }
          ],
          "contour": [
           {
            "colorbar": {
             "outlinewidth": 0,
             "ticks": ""
            },
            "colorscale": [
             [
              0,
              "#0d0887"
             ],
             [
              0.1111111111111111,
              "#46039f"
             ],
             [
              0.2222222222222222,
              "#7201a8"
             ],
             [
              0.3333333333333333,
              "#9c179e"
             ],
             [
              0.4444444444444444,
              "#bd3786"
             ],
             [
              0.5555555555555556,
              "#d8576b"
             ],
             [
              0.6666666666666666,
              "#ed7953"
             ],
             [
              0.7777777777777778,
              "#fb9f3a"
             ],
             [
              0.8888888888888888,
              "#fdca26"
             ],
             [
              1,
              "#f0f921"
             ]
            ],
            "type": "contour"
           }
          ],
          "contourcarpet": [
           {
            "colorbar": {
             "outlinewidth": 0,
             "ticks": ""
            },
            "type": "contourcarpet"
           }
          ],
          "heatmap": [
           {
            "colorbar": {
             "outlinewidth": 0,
             "ticks": ""
            },
            "colorscale": [
             [
              0,
              "#0d0887"
             ],
             [
              0.1111111111111111,
              "#46039f"
             ],
             [
              0.2222222222222222,
              "#7201a8"
             ],
             [
              0.3333333333333333,
              "#9c179e"
             ],
             [
              0.4444444444444444,
              "#bd3786"
             ],
             [
              0.5555555555555556,
              "#d8576b"
             ],
             [
              0.6666666666666666,
              "#ed7953"
             ],
             [
              0.7777777777777778,
              "#fb9f3a"
             ],
             [
              0.8888888888888888,
              "#fdca26"
             ],
             [
              1,
              "#f0f921"
             ]
            ],
            "type": "heatmap"
           }
          ],
          "heatmapgl": [
           {
            "colorbar": {
             "outlinewidth": 0,
             "ticks": ""
            },
            "colorscale": [
             [
              0,
              "#0d0887"
             ],
             [
              0.1111111111111111,
              "#46039f"
             ],
             [
              0.2222222222222222,
              "#7201a8"
             ],
             [
              0.3333333333333333,
              "#9c179e"
             ],
             [
              0.4444444444444444,
              "#bd3786"
             ],
             [
              0.5555555555555556,
              "#d8576b"
             ],
             [
              0.6666666666666666,
              "#ed7953"
             ],
             [
              0.7777777777777778,
              "#fb9f3a"
             ],
             [
              0.8888888888888888,
              "#fdca26"
             ],
             [
              1,
              "#f0f921"
             ]
            ],
            "type": "heatmapgl"
           }
          ],
          "histogram": [
           {
            "marker": {
             "pattern": {
              "fillmode": "overlay",
              "size": 10,
              "solidity": 0.2
             }
            },
            "type": "histogram"
           }
          ],
          "histogram2d": [
           {
            "colorbar": {
             "outlinewidth": 0,
             "ticks": ""
            },
            "colorscale": [
             [
              0,
              "#0d0887"
             ],
             [
              0.1111111111111111,
              "#46039f"
             ],
             [
              0.2222222222222222,
              "#7201a8"
             ],
             [
              0.3333333333333333,
              "#9c179e"
             ],
             [
              0.4444444444444444,
              "#bd3786"
             ],
             [
              0.5555555555555556,
              "#d8576b"
             ],
             [
              0.6666666666666666,
              "#ed7953"
             ],
             [
              0.7777777777777778,
              "#fb9f3a"
             ],
             [
              0.8888888888888888,
              "#fdca26"
             ],
             [
              1,
              "#f0f921"
             ]
            ],
            "type": "histogram2d"
           }
          ],
          "histogram2dcontour": [
           {
            "colorbar": {
             "outlinewidth": 0,
             "ticks": ""
            },
            "colorscale": [
             [
              0,
              "#0d0887"
             ],
             [
              0.1111111111111111,
              "#46039f"
             ],
             [
              0.2222222222222222,
              "#7201a8"
             ],
             [
              0.3333333333333333,
              "#9c179e"
             ],
             [
              0.4444444444444444,
              "#bd3786"
             ],
             [
              0.5555555555555556,
              "#d8576b"
             ],
             [
              0.6666666666666666,
              "#ed7953"
             ],
             [
              0.7777777777777778,
              "#fb9f3a"
             ],
             [
              0.8888888888888888,
              "#fdca26"
             ],
             [
              1,
              "#f0f921"
             ]
            ],
            "type": "histogram2dcontour"
           }
          ],
          "mesh3d": [
           {
            "colorbar": {
             "outlinewidth": 0,
             "ticks": ""
            },
            "type": "mesh3d"
           }
          ],
          "parcoords": [
           {
            "line": {
             "colorbar": {
              "outlinewidth": 0,
              "ticks": ""
             }
            },
            "type": "parcoords"
           }
          ],
          "pie": [
           {
            "automargin": true,
            "type": "pie"
           }
          ],
          "scatter": [
           {
            "fillpattern": {
             "fillmode": "overlay",
             "size": 10,
             "solidity": 0.2
            },
            "type": "scatter"
           }
          ],
          "scatter3d": [
           {
            "line": {
             "colorbar": {
              "outlinewidth": 0,
              "ticks": ""
             }
            },
            "marker": {
             "colorbar": {
              "outlinewidth": 0,
              "ticks": ""
             }
            },
            "type": "scatter3d"
           }
          ],
          "scattercarpet": [
           {
            "marker": {
             "colorbar": {
              "outlinewidth": 0,
              "ticks": ""
             }
            },
            "type": "scattercarpet"
           }
          ],
          "scattergeo": [
           {
            "marker": {
             "colorbar": {
              "outlinewidth": 0,
              "ticks": ""
             }
            },
            "type": "scattergeo"
           }
          ],
          "scattergl": [
           {
            "marker": {
             "colorbar": {
              "outlinewidth": 0,
              "ticks": ""
             }
            },
            "type": "scattergl"
           }
          ],
          "scattermapbox": [
           {
            "marker": {
             "colorbar": {
              "outlinewidth": 0,
              "ticks": ""
             }
            },
            "type": "scattermapbox"
           }
          ],
          "scatterpolar": [
           {
            "marker": {
             "colorbar": {
              "outlinewidth": 0,
              "ticks": ""
             }
            },
            "type": "scatterpolar"
           }
          ],
          "scatterpolargl": [
           {
            "marker": {
             "colorbar": {
              "outlinewidth": 0,
              "ticks": ""
             }
            },
            "type": "scatterpolargl"
           }
          ],
          "scatterternary": [
           {
            "marker": {
             "colorbar": {
              "outlinewidth": 0,
              "ticks": ""
             }
            },
            "type": "scatterternary"
           }
          ],
          "surface": [
           {
            "colorbar": {
             "outlinewidth": 0,
             "ticks": ""
            },
            "colorscale": [
             [
              0,
              "#0d0887"
             ],
             [
              0.1111111111111111,
              "#46039f"
             ],
             [
              0.2222222222222222,
              "#7201a8"
             ],
             [
              0.3333333333333333,
              "#9c179e"
             ],
             [
              0.4444444444444444,
              "#bd3786"
             ],
             [
              0.5555555555555556,
              "#d8576b"
             ],
             [
              0.6666666666666666,
              "#ed7953"
             ],
             [
              0.7777777777777778,
              "#fb9f3a"
             ],
             [
              0.8888888888888888,
              "#fdca26"
             ],
             [
              1,
              "#f0f921"
             ]
            ],
            "type": "surface"
           }
          ],
          "table": [
           {
            "cells": {
             "fill": {
              "color": "#EBF0F8"
             },
             "line": {
              "color": "white"
             }
            },
            "header": {
             "fill": {
              "color": "#C8D4E3"
             },
             "line": {
              "color": "white"
             }
            },
            "type": "table"
           }
          ]
         },
         "layout": {
          "annotationdefaults": {
           "arrowcolor": "#2a3f5f",
           "arrowhead": 0,
           "arrowwidth": 1
          },
          "autotypenumbers": "strict",
          "coloraxis": {
           "colorbar": {
            "outlinewidth": 0,
            "ticks": ""
           }
          },
          "colorscale": {
           "diverging": [
            [
             0,
             "#8e0152"
            ],
            [
             0.1,
             "#c51b7d"
            ],
            [
             0.2,
             "#de77ae"
            ],
            [
             0.3,
             "#f1b6da"
            ],
            [
             0.4,
             "#fde0ef"
            ],
            [
             0.5,
             "#f7f7f7"
            ],
            [
             0.6,
             "#e6f5d0"
            ],
            [
             0.7,
             "#b8e186"
            ],
            [
             0.8,
             "#7fbc41"
            ],
            [
             0.9,
             "#4d9221"
            ],
            [
             1,
             "#276419"
            ]
           ],
           "sequential": [
            [
             0,
             "#0d0887"
            ],
            [
             0.1111111111111111,
             "#46039f"
            ],
            [
             0.2222222222222222,
             "#7201a8"
            ],
            [
             0.3333333333333333,
             "#9c179e"
            ],
            [
             0.4444444444444444,
             "#bd3786"
            ],
            [
             0.5555555555555556,
             "#d8576b"
            ],
            [
             0.6666666666666666,
             "#ed7953"
            ],
            [
             0.7777777777777778,
             "#fb9f3a"
            ],
            [
             0.8888888888888888,
             "#fdca26"
            ],
            [
             1,
             "#f0f921"
            ]
           ],
           "sequentialminus": [
            [
             0,
             "#0d0887"
            ],
            [
             0.1111111111111111,
             "#46039f"
            ],
            [
             0.2222222222222222,
             "#7201a8"
            ],
            [
             0.3333333333333333,
             "#9c179e"
            ],
            [
             0.4444444444444444,
             "#bd3786"
            ],
            [
             0.5555555555555556,
             "#d8576b"
            ],
            [
             0.6666666666666666,
             "#ed7953"
            ],
            [
             0.7777777777777778,
             "#fb9f3a"
            ],
            [
             0.8888888888888888,
             "#fdca26"
            ],
            [
             1,
             "#f0f921"
            ]
           ]
          },
          "colorway": [
           "#636efa",
           "#EF553B",
           "#00cc96",
           "#ab63fa",
           "#FFA15A",
           "#19d3f3",
           "#FF6692",
           "#B6E880",
           "#FF97FF",
           "#FECB52"
          ],
          "font": {
           "color": "#2a3f5f"
          },
          "geo": {
           "bgcolor": "white",
           "lakecolor": "white",
           "landcolor": "#E5ECF6",
           "showlakes": true,
           "showland": true,
           "subunitcolor": "white"
          },
          "hoverlabel": {
           "align": "left"
          },
          "hovermode": "closest",
          "mapbox": {
           "style": "light"
          },
          "paper_bgcolor": "white",
          "plot_bgcolor": "#E5ECF6",
          "polar": {
           "angularaxis": {
            "gridcolor": "white",
            "linecolor": "white",
            "ticks": ""
           },
           "bgcolor": "#E5ECF6",
           "radialaxis": {
            "gridcolor": "white",
            "linecolor": "white",
            "ticks": ""
           }
          },
          "scene": {
           "xaxis": {
            "backgroundcolor": "#E5ECF6",
            "gridcolor": "white",
            "gridwidth": 2,
            "linecolor": "white",
            "showbackground": true,
            "ticks": "",
            "zerolinecolor": "white"
           },
           "yaxis": {
            "backgroundcolor": "#E5ECF6",
            "gridcolor": "white",
            "gridwidth": 2,
            "linecolor": "white",
            "showbackground": true,
            "ticks": "",
            "zerolinecolor": "white"
           },
           "zaxis": {
            "backgroundcolor": "#E5ECF6",
            "gridcolor": "white",
            "gridwidth": 2,
            "linecolor": "white",
            "showbackground": true,
            "ticks": "",
            "zerolinecolor": "white"
           }
          },
          "shapedefaults": {
           "line": {
            "color": "#2a3f5f"
           }
          },
          "ternary": {
           "aaxis": {
            "gridcolor": "white",
            "linecolor": "white",
            "ticks": ""
           },
           "baxis": {
            "gridcolor": "white",
            "linecolor": "white",
            "ticks": ""
           },
           "bgcolor": "#E5ECF6",
           "caxis": {
            "gridcolor": "white",
            "linecolor": "white",
            "ticks": ""
           }
          },
          "title": {
           "x": 0.05
          },
          "xaxis": {
           "automargin": true,
           "gridcolor": "white",
           "linecolor": "white",
           "ticks": "",
           "title": {
            "standoff": 15
           },
           "zerolinecolor": "white",
           "zerolinewidth": 2
          },
          "yaxis": {
           "automargin": true,
           "gridcolor": "white",
           "linecolor": "white",
           "ticks": "",
           "title": {
            "standoff": 15
           },
           "zerolinecolor": "white",
           "zerolinewidth": 2
          }
         }
        },
        "title": {
         "text": "Net Migration Over Years in South Asia",
         "x": 0.5
        },
        "xaxis": {
         "anchor": "y",
         "domain": [
          0,
          1
         ],
         "title": {
          "text": "Year"
         }
        },
        "yaxis": {
         "anchor": "x",
         "domain": [
          0,
          1
         ],
         "title": {
          "text": "Net Migration"
         }
        }
       }
      }
     },
     "metadata": {},
     "output_type": "display_data"
    }
   ],
   "source": [
    "# Line plot of Net Migration Over Years\n",
    "fig = px.line(df, x='Year', y='net_migration', color='Country',\n",
    "                 title='Net Migration Over Years in South Asia',\n",
    "                 labels={'net_migration': 'Net Migration', 'Year': 'Year'})\n",
    "fig.update_traces(mode='lines+markers')\n",
    "fig.update_layout(title_x=0.5, xaxis_title='Year', yaxis_title='Net Migration')\n",
    "fig.show()"
   ]
  },
  {
   "cell_type": "code",
   "execution_count": 39,
   "id": "b1774946",
   "metadata": {},
   "outputs": [],
   "source": [
    "# Sort by country and year for correct difference calculation\n",
    "df = df.sort_values(by=['Country', 'Year'])\n",
    "\n",
    "# Calculate population change by year\n",
    "df['population_change'] = df.groupby('Country')['total_population'].diff()\n",
    "\n",
    "# Calculate emigrants ≈ population change - net migration\n",
    "df['emigrants'] = df['population_change'] - df['net_migration']\n",
    "\n",
    "# Optional: Drop NA from first year where diff() returns NaN\n",
    "df = df.dropna(subset=['emigrants'])\n",
    "\n",
    "# Round for readability\n",
    "df['emigrants'] = df['emigrants'].round(0)\n",
    "\n",
    "\n"
   ]
  },
  {
   "cell_type": "code",
   "execution_count": 40,
   "id": "27b9e874",
   "metadata": {},
   "outputs": [
    {
     "data": {
      "application/vnd.plotly.v1+json": {
       "config": {
        "plotlyServerURL": "https://plot.ly"
       },
       "data": [
        {
         "hovertemplate": "Country=Afghanistan<br>Year=%{x}<br>Estimated Emigrants=%{y}<extra></extra>",
         "legendgroup": "Afghanistan",
         "line": {
          "color": "#636efa",
          "dash": "solid"
         },
         "marker": {
          "symbol": "circle"
         },
         "mode": "lines",
         "name": "Afghanistan",
         "orientation": "v",
         "showlegend": true,
         "type": "scatter",
         "x": [
          1963,
          1964,
          1965,
          1966,
          1967,
          1968,
          1969,
          1970,
          1971,
          1972,
          1973,
          1974,
          1975,
          1976,
          1977,
          1978,
          1979,
          1980,
          1981,
          1982,
          1983,
          1984,
          1985,
          1986,
          1987,
          1988,
          1989,
          1990,
          1991,
          1992,
          1993,
          1994,
          1995,
          1996,
          1997,
          1998,
          1999,
          2000,
          2001,
          2002,
          2003,
          2004,
          2005,
          2006,
          2007,
          2008,
          2009,
          2010,
          2011,
          2012,
          2013,
          2014,
          2015,
          2016,
          2017,
          2018,
          2019,
          2020,
          2021,
          2022,
          2023
         ],
         "xaxis": "x5",
         "y": [
          193400,
          202752,
          210995,
          226824,
          232740,
          247630,
          258458,
          268261,
          290340,
          290079,
          307333,
          331137,
          349245,
          371327,
          364020,
          387871,
          569539,
          687983,
          766356,
          -445205,
          99401,
          24015,
          445316,
          336619,
          313279,
          191743,
          332494,
          630309,
          160437,
          -157234,
          514514,
          992416,
          762537,
          693358,
          710040,
          700525,
          760189,
          1268515,
          366852,
          233461,
          1107615,
          1096799,
          592942,
          961854,
          1337056,
          357017,
          1044081,
          985448,
          679133,
          1143698,
          1044551,
          935906,
          1325555,
          1011897,
          1059814,
          1090857,
          1103923,
          1069224,
          1480217,
          1225832,
          924877
         ],
         "yaxis": "y5"
        },
        {
         "hovertemplate": "Country=Bangladesh<br>Year=%{x}<br>Estimated Emigrants=%{y}<extra></extra>",
         "legendgroup": "Bangladesh",
         "line": {
          "color": "#EF553B",
          "dash": "solid"
         },
         "marker": {
          "symbol": "circle"
         },
         "mode": "lines",
         "name": "Bangladesh",
         "orientation": "v",
         "showlegend": true,
         "type": "scatter",
         "x": [
          1963,
          1964,
          1965,
          1966,
          1967,
          1968,
          1969,
          1970,
          1971,
          1972,
          1973,
          1974,
          1975,
          1976,
          1977,
          1978,
          1979,
          1980,
          1981,
          1982,
          1983,
          1984,
          1985,
          1986,
          1987,
          1988,
          1989,
          1990,
          1991,
          1992,
          1993,
          1994,
          1995,
          1996,
          1997,
          1998,
          1999,
          2000,
          2001,
          2002,
          2003,
          2004,
          2005,
          2006,
          2007,
          2008,
          2009,
          2010,
          2011,
          2012,
          2013,
          2014,
          2015,
          2016,
          2017,
          2018,
          2019,
          2020,
          2021,
          2022,
          2023
         ],
         "xaxis": "x6",
         "y": [
          1600041,
          1648546,
          1676535,
          1763529,
          1817959,
          1905317,
          2010867,
          1838480,
          993495,
          1633794,
          2158099,
          2394599,
          2405215,
          2425937,
          2470437,
          2509112,
          2552771,
          2597278,
          2471557,
          2668131,
          2722557,
          2725504,
          2726731,
          2713739,
          2691194,
          2652125,
          2624701,
          2604023,
          2384244,
          2411997,
          2451845,
          2417777,
          2488495,
          2516048,
          2609332,
          2711229,
          2771989,
          2948661,
          2999246,
          2947757,
          2933028,
          2902769,
          2849565,
          2782052,
          2716858,
          2643406,
          2549644,
          2441994,
          2238005,
          2308900,
          2324984,
          2322010,
          2327473,
          2347523,
          2411391,
          2366025,
          2406748,
          2387491,
          2355552,
          2276033,
          2632011
         ],
         "yaxis": "y6"
        },
        {
         "hovertemplate": "Country=India<br>Year=%{x}<br>Estimated Emigrants=%{y}<extra></extra>",
         "legendgroup": "India",
         "line": {
          "color": "#00cc96",
          "dash": "solid"
         },
         "marker": {
          "symbol": "circle"
         },
         "mode": "lines",
         "name": "India",
         "orientation": "v",
         "showlegend": true,
         "type": "scatter",
         "x": [
          1963,
          1964,
          1965,
          1966,
          1967,
          1968,
          1969,
          1970,
          1971,
          1972,
          1973,
          1974,
          1975,
          1976,
          1977,
          1978,
          1979,
          1980,
          1981,
          1982,
          1983,
          1984,
          1985,
          1986,
          1987,
          1988,
          1989,
          1990,
          1991,
          1992,
          1993,
          1994,
          1995,
          1996,
          1997,
          1998,
          1999,
          2000,
          2001,
          2002,
          2003,
          2004,
          2005,
          2006,
          2007,
          2008,
          2009,
          2010,
          2011,
          2012,
          2013,
          2014,
          2015,
          2016,
          2017,
          2018,
          2019,
          2020,
          2021,
          2022,
          2023
         ],
         "xaxis": "x3",
         "y": [
          10833845,
          11232939,
          11158847,
          11167083,
          10936439,
          12105933,
          12015499,
          11749942,
          13206693,
          12468571,
          13388199,
          13227924,
          13833939,
          14276364,
          14348594,
          15137570,
          14653424,
          15987364,
          16308982,
          16627910,
          16939514,
          17535081,
          17862335,
          18291730,
          18460442,
          18567396,
          18699446,
          18807178,
          19113290,
          18994315,
          19158953,
          19420633,
          19194574,
          19403802,
          19454424,
          19532367,
          19656063,
          19840870,
          20046188,
          20434224,
          19809596,
          19395167,
          19614263,
          18544745,
          18834331,
          18274990,
          17906694,
          18007716,
          17990407,
          17648483,
          17306381,
          16674943,
          16402392,
          15838550,
          15964746,
          15591458,
          15350217,
          13661189,
          11935117,
          12572794,
          13625563
         ],
         "yaxis": "y3"
        },
        {
         "hovertemplate": "Country=Pakistan<br>Year=%{x}<br>Estimated Emigrants=%{y}<extra></extra>",
         "legendgroup": "Pakistan",
         "line": {
          "color": "#ab63fa",
          "dash": "solid"
         },
         "marker": {
          "symbol": "circle"
         },
         "mode": "lines",
         "name": "Pakistan",
         "orientation": "v",
         "showlegend": true,
         "type": "scatter",
         "x": [
          1963,
          1964,
          1965,
          1966,
          1967,
          1968,
          1969,
          1970,
          1971,
          1972,
          1973,
          1974,
          1975,
          1976,
          1977,
          1978,
          1979,
          1980,
          1981,
          1982,
          1983,
          1984,
          1985,
          1986,
          1987,
          1988,
          1989,
          1990,
          1991,
          1992,
          1993,
          1994,
          1995,
          1996,
          1997,
          1998,
          1999,
          2000,
          2001,
          2002,
          2003,
          2004,
          2005,
          2006,
          2007,
          2008,
          2009,
          2010,
          2011,
          2012,
          2013,
          2014,
          2015,
          2016,
          2017,
          2018,
          2019,
          2020,
          2021,
          2022,
          2023
         ],
         "xaxis": "x4",
         "y": [
          1356200,
          1415521,
          1471081,
          1530682,
          1596033,
          1654460,
          1707838,
          1764061,
          1749537,
          1804504,
          1936730,
          1988360,
          2047398,
          2110841,
          2196323,
          2294166,
          2239657,
          2215742,
          2956007,
          2992945,
          3143218,
          3256467,
          2995489,
          3266434,
          3377589,
          3555883,
          3629054,
          3543705,
          3924498,
          4204829,
          3612762,
          4005066,
          3822636,
          4035694,
          4030251,
          4102743,
          4177531,
          4060881,
          4446507,
          4605400,
          4106817,
          4240421,
          4357111,
          4413411,
          4234192,
          5146628,
          4895719,
          5294415,
          5397651,
          5569049,
          5313172,
          5228589,
          5198398,
          5138397,
          4709683,
          4964536,
          5049227,
          4760138,
          5041728,
          5545491,
          5423385
         ],
         "yaxis": "y4"
        },
        {
         "hovertemplate": "Country=Sri Lanka<br>Year=%{x}<br>Estimated Emigrants=%{y}<extra></extra>",
         "legendgroup": "Sri Lanka",
         "line": {
          "color": "#FFA15A",
          "dash": "solid"
         },
         "marker": {
          "symbol": "circle"
         },
         "mode": "lines",
         "name": "Sri Lanka",
         "orientation": "v",
         "showlegend": true,
         "type": "scatter",
         "x": [
          1963,
          1964,
          1965,
          1966,
          1967,
          1968,
          1969,
          1970,
          1971,
          1972,
          1973,
          1974,
          1975,
          1976,
          1977,
          1978,
          1979,
          1980,
          1981,
          1982,
          1983,
          1984,
          1985,
          1986,
          1987,
          1988,
          1989,
          1990,
          1991,
          1992,
          1993,
          1994,
          1995,
          1996,
          1997,
          1998,
          1999,
          2000,
          2001,
          2002,
          2003,
          2004,
          2005,
          2006,
          2007,
          2008,
          2009,
          2010,
          2011,
          2012,
          2013,
          2014,
          2015,
          2016,
          2017,
          2018,
          2019,
          2020,
          2021,
          2022,
          2023
         ],
         "xaxis": "x",
         "y": [
          259404,
          265971,
          270817,
          273757,
          280096,
          285923,
          287922,
          289551,
          286821,
          284366,
          282293,
          278756,
          280766,
          289044,
          297984,
          310946,
          327169,
          331901,
          341264,
          351140,
          311589,
          278516,
          183244,
          213562,
          248425,
          220460,
          203241,
          299637,
          123943,
          175388,
          250402,
          241532,
          170879,
          213714,
          207546,
          197079,
          209929,
          224429,
          288035,
          311108,
          253342,
          220879,
          247513,
          242932,
          249829,
          233977,
          208187,
          220714,
          220798,
          202365,
          -546704,
          226672,
          221797,
          257388,
          257324,
          254607,
          161426,
          145875,
          266586,
          52435,
          -115989
         ],
         "yaxis": "y"
        }
       ],
       "layout": {
        "annotations": [
         {
          "font": {},
          "showarrow": false,
          "text": "Country=Sri Lanka",
          "x": 0.245,
          "xanchor": "center",
          "xref": "paper",
          "y": 0.2866666666666666,
          "yanchor": "bottom",
          "yref": "paper"
         },
         {
          "font": {},
          "showarrow": false,
          "text": "Country=India",
          "x": 0.245,
          "xanchor": "center",
          "xref": "paper",
          "y": 0.6433333333333333,
          "yanchor": "bottom",
          "yref": "paper"
         },
         {
          "font": {},
          "showarrow": false,
          "text": "Country=Pakistan",
          "x": 0.755,
          "xanchor": "center",
          "xref": "paper",
          "y": 0.6433333333333333,
          "yanchor": "bottom",
          "yref": "paper"
         },
         {
          "font": {},
          "showarrow": false,
          "text": "Country=Afghanistan",
          "x": 0.245,
          "xanchor": "center",
          "xref": "paper",
          "y": 0.9999999999999999,
          "yanchor": "bottom",
          "yref": "paper"
         },
         {
          "font": {},
          "showarrow": false,
          "text": "Country=Bangladesh",
          "x": 0.755,
          "xanchor": "center",
          "xref": "paper",
          "y": 0.9999999999999999,
          "yanchor": "bottom",
          "yref": "paper"
         }
        ],
        "legend": {
         "title": {
          "text": "Country"
         },
         "tracegroupgap": 0
        },
        "template": {
         "data": {
          "bar": [
           {
            "error_x": {
             "color": "#2a3f5f"
            },
            "error_y": {
             "color": "#2a3f5f"
            },
            "marker": {
             "line": {
              "color": "#E5ECF6",
              "width": 0.5
             },
             "pattern": {
              "fillmode": "overlay",
              "size": 10,
              "solidity": 0.2
             }
            },
            "type": "bar"
           }
          ],
          "barpolar": [
           {
            "marker": {
             "line": {
              "color": "#E5ECF6",
              "width": 0.5
             },
             "pattern": {
              "fillmode": "overlay",
              "size": 10,
              "solidity": 0.2
             }
            },
            "type": "barpolar"
           }
          ],
          "carpet": [
           {
            "aaxis": {
             "endlinecolor": "#2a3f5f",
             "gridcolor": "white",
             "linecolor": "white",
             "minorgridcolor": "white",
             "startlinecolor": "#2a3f5f"
            },
            "baxis": {
             "endlinecolor": "#2a3f5f",
             "gridcolor": "white",
             "linecolor": "white",
             "minorgridcolor": "white",
             "startlinecolor": "#2a3f5f"
            },
            "type": "carpet"
           }
          ],
          "choropleth": [
           {
            "colorbar": {
             "outlinewidth": 0,
             "ticks": ""
            },
            "type": "choropleth"
           }
          ],
          "contour": [
           {
            "colorbar": {
             "outlinewidth": 0,
             "ticks": ""
            },
            "colorscale": [
             [
              0,
              "#0d0887"
             ],
             [
              0.1111111111111111,
              "#46039f"
             ],
             [
              0.2222222222222222,
              "#7201a8"
             ],
             [
              0.3333333333333333,
              "#9c179e"
             ],
             [
              0.4444444444444444,
              "#bd3786"
             ],
             [
              0.5555555555555556,
              "#d8576b"
             ],
             [
              0.6666666666666666,
              "#ed7953"
             ],
             [
              0.7777777777777778,
              "#fb9f3a"
             ],
             [
              0.8888888888888888,
              "#fdca26"
             ],
             [
              1,
              "#f0f921"
             ]
            ],
            "type": "contour"
           }
          ],
          "contourcarpet": [
           {
            "colorbar": {
             "outlinewidth": 0,
             "ticks": ""
            },
            "type": "contourcarpet"
           }
          ],
          "heatmap": [
           {
            "colorbar": {
             "outlinewidth": 0,
             "ticks": ""
            },
            "colorscale": [
             [
              0,
              "#0d0887"
             ],
             [
              0.1111111111111111,
              "#46039f"
             ],
             [
              0.2222222222222222,
              "#7201a8"
             ],
             [
              0.3333333333333333,
              "#9c179e"
             ],
             [
              0.4444444444444444,
              "#bd3786"
             ],
             [
              0.5555555555555556,
              "#d8576b"
             ],
             [
              0.6666666666666666,
              "#ed7953"
             ],
             [
              0.7777777777777778,
              "#fb9f3a"
             ],
             [
              0.8888888888888888,
              "#fdca26"
             ],
             [
              1,
              "#f0f921"
             ]
            ],
            "type": "heatmap"
           }
          ],
          "heatmapgl": [
           {
            "colorbar": {
             "outlinewidth": 0,
             "ticks": ""
            },
            "colorscale": [
             [
              0,
              "#0d0887"
             ],
             [
              0.1111111111111111,
              "#46039f"
             ],
             [
              0.2222222222222222,
              "#7201a8"
             ],
             [
              0.3333333333333333,
              "#9c179e"
             ],
             [
              0.4444444444444444,
              "#bd3786"
             ],
             [
              0.5555555555555556,
              "#d8576b"
             ],
             [
              0.6666666666666666,
              "#ed7953"
             ],
             [
              0.7777777777777778,
              "#fb9f3a"
             ],
             [
              0.8888888888888888,
              "#fdca26"
             ],
             [
              1,
              "#f0f921"
             ]
            ],
            "type": "heatmapgl"
           }
          ],
          "histogram": [
           {
            "marker": {
             "pattern": {
              "fillmode": "overlay",
              "size": 10,
              "solidity": 0.2
             }
            },
            "type": "histogram"
           }
          ],
          "histogram2d": [
           {
            "colorbar": {
             "outlinewidth": 0,
             "ticks": ""
            },
            "colorscale": [
             [
              0,
              "#0d0887"
             ],
             [
              0.1111111111111111,
              "#46039f"
             ],
             [
              0.2222222222222222,
              "#7201a8"
             ],
             [
              0.3333333333333333,
              "#9c179e"
             ],
             [
              0.4444444444444444,
              "#bd3786"
             ],
             [
              0.5555555555555556,
              "#d8576b"
             ],
             [
              0.6666666666666666,
              "#ed7953"
             ],
             [
              0.7777777777777778,
              "#fb9f3a"
             ],
             [
              0.8888888888888888,
              "#fdca26"
             ],
             [
              1,
              "#f0f921"
             ]
            ],
            "type": "histogram2d"
           }
          ],
          "histogram2dcontour": [
           {
            "colorbar": {
             "outlinewidth": 0,
             "ticks": ""
            },
            "colorscale": [
             [
              0,
              "#0d0887"
             ],
             [
              0.1111111111111111,
              "#46039f"
             ],
             [
              0.2222222222222222,
              "#7201a8"
             ],
             [
              0.3333333333333333,
              "#9c179e"
             ],
             [
              0.4444444444444444,
              "#bd3786"
             ],
             [
              0.5555555555555556,
              "#d8576b"
             ],
             [
              0.6666666666666666,
              "#ed7953"
             ],
             [
              0.7777777777777778,
              "#fb9f3a"
             ],
             [
              0.8888888888888888,
              "#fdca26"
             ],
             [
              1,
              "#f0f921"
             ]
            ],
            "type": "histogram2dcontour"
           }
          ],
          "mesh3d": [
           {
            "colorbar": {
             "outlinewidth": 0,
             "ticks": ""
            },
            "type": "mesh3d"
           }
          ],
          "parcoords": [
           {
            "line": {
             "colorbar": {
              "outlinewidth": 0,
              "ticks": ""
             }
            },
            "type": "parcoords"
           }
          ],
          "pie": [
           {
            "automargin": true,
            "type": "pie"
           }
          ],
          "scatter": [
           {
            "fillpattern": {
             "fillmode": "overlay",
             "size": 10,
             "solidity": 0.2
            },
            "type": "scatter"
           }
          ],
          "scatter3d": [
           {
            "line": {
             "colorbar": {
              "outlinewidth": 0,
              "ticks": ""
             }
            },
            "marker": {
             "colorbar": {
              "outlinewidth": 0,
              "ticks": ""
             }
            },
            "type": "scatter3d"
           }
          ],
          "scattercarpet": [
           {
            "marker": {
             "colorbar": {
              "outlinewidth": 0,
              "ticks": ""
             }
            },
            "type": "scattercarpet"
           }
          ],
          "scattergeo": [
           {
            "marker": {
             "colorbar": {
              "outlinewidth": 0,
              "ticks": ""
             }
            },
            "type": "scattergeo"
           }
          ],
          "scattergl": [
           {
            "marker": {
             "colorbar": {
              "outlinewidth": 0,
              "ticks": ""
             }
            },
            "type": "scattergl"
           }
          ],
          "scattermapbox": [
           {
            "marker": {
             "colorbar": {
              "outlinewidth": 0,
              "ticks": ""
             }
            },
            "type": "scattermapbox"
           }
          ],
          "scatterpolar": [
           {
            "marker": {
             "colorbar": {
              "outlinewidth": 0,
              "ticks": ""
             }
            },
            "type": "scatterpolar"
           }
          ],
          "scatterpolargl": [
           {
            "marker": {
             "colorbar": {
              "outlinewidth": 0,
              "ticks": ""
             }
            },
            "type": "scatterpolargl"
           }
          ],
          "scatterternary": [
           {
            "marker": {
             "colorbar": {
              "outlinewidth": 0,
              "ticks": ""
             }
            },
            "type": "scatterternary"
           }
          ],
          "surface": [
           {
            "colorbar": {
             "outlinewidth": 0,
             "ticks": ""
            },
            "colorscale": [
             [
              0,
              "#0d0887"
             ],
             [
              0.1111111111111111,
              "#46039f"
             ],
             [
              0.2222222222222222,
              "#7201a8"
             ],
             [
              0.3333333333333333,
              "#9c179e"
             ],
             [
              0.4444444444444444,
              "#bd3786"
             ],
             [
              0.5555555555555556,
              "#d8576b"
             ],
             [
              0.6666666666666666,
              "#ed7953"
             ],
             [
              0.7777777777777778,
              "#fb9f3a"
             ],
             [
              0.8888888888888888,
              "#fdca26"
             ],
             [
              1,
              "#f0f921"
             ]
            ],
            "type": "surface"
           }
          ],
          "table": [
           {
            "cells": {
             "fill": {
              "color": "#EBF0F8"
             },
             "line": {
              "color": "white"
             }
            },
            "header": {
             "fill": {
              "color": "#C8D4E3"
             },
             "line": {
              "color": "white"
             }
            },
            "type": "table"
           }
          ]
         },
         "layout": {
          "annotationdefaults": {
           "arrowcolor": "#2a3f5f",
           "arrowhead": 0,
           "arrowwidth": 1
          },
          "autotypenumbers": "strict",
          "coloraxis": {
           "colorbar": {
            "outlinewidth": 0,
            "ticks": ""
           }
          },
          "colorscale": {
           "diverging": [
            [
             0,
             "#8e0152"
            ],
            [
             0.1,
             "#c51b7d"
            ],
            [
             0.2,
             "#de77ae"
            ],
            [
             0.3,
             "#f1b6da"
            ],
            [
             0.4,
             "#fde0ef"
            ],
            [
             0.5,
             "#f7f7f7"
            ],
            [
             0.6,
             "#e6f5d0"
            ],
            [
             0.7,
             "#b8e186"
            ],
            [
             0.8,
             "#7fbc41"
            ],
            [
             0.9,
             "#4d9221"
            ],
            [
             1,
             "#276419"
            ]
           ],
           "sequential": [
            [
             0,
             "#0d0887"
            ],
            [
             0.1111111111111111,
             "#46039f"
            ],
            [
             0.2222222222222222,
             "#7201a8"
            ],
            [
             0.3333333333333333,
             "#9c179e"
            ],
            [
             0.4444444444444444,
             "#bd3786"
            ],
            [
             0.5555555555555556,
             "#d8576b"
            ],
            [
             0.6666666666666666,
             "#ed7953"
            ],
            [
             0.7777777777777778,
             "#fb9f3a"
            ],
            [
             0.8888888888888888,
             "#fdca26"
            ],
            [
             1,
             "#f0f921"
            ]
           ],
           "sequentialminus": [
            [
             0,
             "#0d0887"
            ],
            [
             0.1111111111111111,
             "#46039f"
            ],
            [
             0.2222222222222222,
             "#7201a8"
            ],
            [
             0.3333333333333333,
             "#9c179e"
            ],
            [
             0.4444444444444444,
             "#bd3786"
            ],
            [
             0.5555555555555556,
             "#d8576b"
            ],
            [
             0.6666666666666666,
             "#ed7953"
            ],
            [
             0.7777777777777778,
             "#fb9f3a"
            ],
            [
             0.8888888888888888,
             "#fdca26"
            ],
            [
             1,
             "#f0f921"
            ]
           ]
          },
          "colorway": [
           "#636efa",
           "#EF553B",
           "#00cc96",
           "#ab63fa",
           "#FFA15A",
           "#19d3f3",
           "#FF6692",
           "#B6E880",
           "#FF97FF",
           "#FECB52"
          ],
          "font": {
           "color": "#2a3f5f"
          },
          "geo": {
           "bgcolor": "white",
           "lakecolor": "white",
           "landcolor": "#E5ECF6",
           "showlakes": true,
           "showland": true,
           "subunitcolor": "white"
          },
          "hoverlabel": {
           "align": "left"
          },
          "hovermode": "closest",
          "mapbox": {
           "style": "light"
          },
          "paper_bgcolor": "white",
          "plot_bgcolor": "#E5ECF6",
          "polar": {
           "angularaxis": {
            "gridcolor": "white",
            "linecolor": "white",
            "ticks": ""
           },
           "bgcolor": "#E5ECF6",
           "radialaxis": {
            "gridcolor": "white",
            "linecolor": "white",
            "ticks": ""
           }
          },
          "scene": {
           "xaxis": {
            "backgroundcolor": "#E5ECF6",
            "gridcolor": "white",
            "gridwidth": 2,
            "linecolor": "white",
            "showbackground": true,
            "ticks": "",
            "zerolinecolor": "white"
           },
           "yaxis": {
            "backgroundcolor": "#E5ECF6",
            "gridcolor": "white",
            "gridwidth": 2,
            "linecolor": "white",
            "showbackground": true,
            "ticks": "",
            "zerolinecolor": "white"
           },
           "zaxis": {
            "backgroundcolor": "#E5ECF6",
            "gridcolor": "white",
            "gridwidth": 2,
            "linecolor": "white",
            "showbackground": true,
            "ticks": "",
            "zerolinecolor": "white"
           }
          },
          "shapedefaults": {
           "line": {
            "color": "#2a3f5f"
           }
          },
          "ternary": {
           "aaxis": {
            "gridcolor": "white",
            "linecolor": "white",
            "ticks": ""
           },
           "baxis": {
            "gridcolor": "white",
            "linecolor": "white",
            "ticks": ""
           },
           "bgcolor": "#E5ECF6",
           "caxis": {
            "gridcolor": "white",
            "linecolor": "white",
            "ticks": ""
           }
          },
          "title": {
           "x": 0.05
          },
          "xaxis": {
           "automargin": true,
           "gridcolor": "white",
           "linecolor": "white",
           "ticks": "",
           "title": {
            "standoff": 15
           },
           "zerolinecolor": "white",
           "zerolinewidth": 2
          },
          "yaxis": {
           "automargin": true,
           "gridcolor": "white",
           "linecolor": "white",
           "ticks": "",
           "title": {
            "standoff": 15
           },
           "zerolinecolor": "white",
           "zerolinewidth": 2
          }
         }
        },
        "title": {
         "text": "Estimated Emigrants Over Years in South Asia",
         "x": 0.5
        },
        "xaxis": {
         "anchor": "y",
         "domain": [
          0,
          0.49
         ],
         "title": {
          "text": "Year"
         }
        },
        "xaxis2": {
         "anchor": "y2",
         "domain": [
          0.51,
          1
         ],
         "matches": "x",
         "title": {
          "text": "Year"
         }
        },
        "xaxis3": {
         "anchor": "y3",
         "domain": [
          0,
          0.49
         ],
         "matches": "x",
         "showticklabels": false
        },
        "xaxis4": {
         "anchor": "y4",
         "domain": [
          0.51,
          1
         ],
         "matches": "x",
         "showticklabels": false
        },
        "xaxis5": {
         "anchor": "y5",
         "domain": [
          0,
          0.49
         ],
         "matches": "x",
         "showticklabels": false
        },
        "xaxis6": {
         "anchor": "y6",
         "domain": [
          0.51,
          1
         ],
         "matches": "x",
         "showticklabels": false
        },
        "yaxis": {
         "anchor": "x",
         "domain": [
          0,
          0.2866666666666666
         ],
         "title": {
          "text": "Estimated Emigrants"
         }
        },
        "yaxis2": {
         "anchor": "x2",
         "domain": [
          0,
          0.2866666666666666
         ],
         "matches": "y",
         "showticklabels": false
        },
        "yaxis3": {
         "anchor": "x3",
         "domain": [
          0.35666666666666663,
          0.6433333333333333
         ],
         "matches": "y",
         "title": {
          "text": "Estimated Emigrants"
         }
        },
        "yaxis4": {
         "anchor": "x4",
         "domain": [
          0.35666666666666663,
          0.6433333333333333
         ],
         "matches": "y",
         "showticklabels": false
        },
        "yaxis5": {
         "anchor": "x5",
         "domain": [
          0.7133333333333333,
          0.9999999999999999
         ],
         "matches": "y",
         "title": {
          "text": "Estimated Emigrants"
         }
        },
        "yaxis6": {
         "anchor": "x6",
         "domain": [
          0.7133333333333333,
          0.9999999999999999
         ],
         "matches": "y",
         "showticklabels": false
        }
       }
      }
     },
     "metadata": {},
     "output_type": "display_data"
    }
   ],
   "source": [
    "import plotly.express as px\n",
    "\n",
    "fig = px.line(\n",
    "    df, \n",
    "    x='Year', \n",
    "    y='emigrants', \n",
    "    color='Country',\n",
    "    facet_col='Country',\n",
    "    facet_col_wrap=2,  # 2 columns → 3 rows for 5 countries\n",
    "    title='Estimated Emigrants Over Years in South Asia',\n",
    "    labels={'emigrants': 'Estimated Emigrants', 'Year': 'Year'}\n",
    ")\n",
    "\n",
    "fig.update_layout(\n",
    "    title_x=0.5,\n",
    "    xaxis_title='Year',\n",
    "    yaxis_title='Estimated Emigrants'\n",
    ")\n",
    "\n",
    "fig.show()\n"
   ]
  },
  {
   "cell_type": "code",
   "execution_count": 41,
   "id": "90bc3180",
   "metadata": {},
   "outputs": [
    {
     "data": {
      "application/vnd.plotly.v1+json": {
       "config": {
        "plotlyServerURL": "https://plot.ly"
       },
       "data": [
        {
         "hovertemplate": "Country=Afghanistan<br>Year=%{x}<br>Net Migration=%{y}<extra></extra>",
         "legendgroup": "Afghanistan",
         "line": {
          "color": "#636efa",
          "dash": "solid"
         },
         "marker": {
          "symbol": "circle"
         },
         "mode": "lines",
         "name": "Afghanistan",
         "orientation": "v",
         "showlegend": true,
         "type": "scatter",
         "x": [
          1963,
          1964,
          1965,
          1966,
          1967,
          1968,
          1969,
          1970,
          1971,
          1972,
          1973,
          1974,
          1975,
          1976,
          1977,
          1978,
          1979,
          1980,
          1981,
          1982,
          1983,
          1984,
          1985,
          1986,
          1987,
          1988,
          1989,
          1990,
          1991,
          1992,
          1993,
          1994,
          1995,
          1996,
          1997,
          1998,
          1999,
          2000,
          2001,
          2002,
          2003,
          2004,
          2005,
          2006,
          2007,
          2008,
          2009,
          2010,
          2011,
          2012,
          2013,
          2014,
          2015,
          2016,
          2017,
          2018,
          2019,
          2020,
          2021,
          2022,
          2023
         ],
         "xaxis": "x",
         "y": [
          6681,
          7079,
          10695,
          3563,
          6824,
          3333,
          2029,
          4458,
          -12801,
          -4050,
          -3030,
          -20009,
          -44418,
          -85430,
          -83115,
          -117186,
          -525413,
          -1174239,
          -1998086,
          -500998,
          -172797,
          248224,
          -208685,
          -343397,
          -345535,
          -56263,
          18296,
          -458737,
          32782,
          1197329,
          1149684,
          315206,
          52505,
          4072,
          -21215,
          7380,
          -32400,
          -1025973,
          -212872,
          860349,
          247317,
          -269194,
          250971,
          57673,
          -851298,
          215753,
          -60602,
          -167460,
          384486,
          68628,
          18119,
          233913,
          -286314,
          -143049,
          -71491,
          -36753,
          9159,
          143634,
          -548784,
          -647402,
          -48958
         ],
         "yaxis": "y"
        },
        {
         "hovertemplate": "Country=Bangladesh<br>Year=%{x}<br>Net Migration=%{y}<extra></extra>",
         "legendgroup": "Bangladesh",
         "line": {
          "color": "#EF553B",
          "dash": "solid"
         },
         "marker": {
          "symbol": "circle"
         },
         "mode": "lines",
         "name": "Bangladesh",
         "orientation": "v",
         "showlegend": true,
         "type": "scatter",
         "x": [
          1963,
          1964,
          1965,
          1966,
          1967,
          1968,
          1969,
          1970,
          1971,
          1972,
          1973,
          1974,
          1975,
          1976,
          1977,
          1978,
          1979,
          1980,
          1981,
          1982,
          1983,
          1984,
          1985,
          1986,
          1987,
          1988,
          1989,
          1990,
          1991,
          1992,
          1993,
          1994,
          1995,
          1996,
          1997,
          1998,
          1999,
          2000,
          2001,
          2002,
          2003,
          2004,
          2005,
          2006,
          2007,
          2008,
          2009,
          2010,
          2011,
          2012,
          2013,
          2014,
          2015,
          2016,
          2017,
          2018,
          2019,
          2020,
          2021,
          2022,
          2023
         ],
         "xaxis": "x",
         "y": [
          23215,
          25426,
          47610,
          3758,
          23164,
          -7970,
          -125010,
          -73719,
          224369,
          -269033,
          -77324,
          -277545,
          -390212,
          -424970,
          -458491,
          -486721,
          -507354,
          -515918,
          -184884,
          -156729,
          -201909,
          -245693,
          -287872,
          -331992,
          -367475,
          -395408,
          -406910,
          -404105,
          -230852,
          -246914,
          -271677,
          -206958,
          -231304,
          -254239,
          -273442,
          -286966,
          -286256,
          -512422,
          -737740,
          -819909,
          -896335,
          -970264,
          -1036635,
          -1091865,
          -1133553,
          -1158420,
          -1150194,
          -1113727,
          -848910,
          -829875,
          -862944,
          -889222,
          -909223,
          -918770,
          -1037176,
          -1029069,
          -1016796,
          -1002522,
          -994722,
          -549990,
          -549918
         ],
         "yaxis": "y"
        },
        {
         "hovertemplate": "Country=India<br>Year=%{x}<br>Net Migration=%{y}<extra></extra>",
         "legendgroup": "India",
         "line": {
          "color": "#00cc96",
          "dash": "solid"
         },
         "marker": {
          "symbol": "circle"
         },
         "mode": "lines",
         "name": "India",
         "orientation": "v",
         "showlegend": true,
         "type": "scatter",
         "x": [
          1963,
          1964,
          1965,
          1966,
          1967,
          1968,
          1969,
          1970,
          1971,
          1972,
          1973,
          1974,
          1975,
          1976,
          1977,
          1978,
          1979,
          1980,
          1981,
          1982,
          1983,
          1984,
          1985,
          1986,
          1987,
          1988,
          1989,
          1990,
          1991,
          1992,
          1993,
          1994,
          1995,
          1996,
          1997,
          1998,
          1999,
          2000,
          2001,
          2002,
          2003,
          2004,
          2005,
          2006,
          2007,
          2008,
          2009,
          2010,
          2011,
          2012,
          2013,
          2014,
          2015,
          2016,
          2017,
          2018,
          2019,
          2020,
          2021,
          2022,
          2023
         ],
         "xaxis": "x",
         "y": [
          21640,
          -141916,
          -248299,
          -566982,
          -70314,
          -995416,
          -851844,
          233782,
          -974574,
          -82816,
          -404743,
          347869,
          434205,
          275984,
          590626,
          -210444,
          774094,
          210914,
          33243,
          -10687,
          119694,
          -32313,
          -89991,
          -249545,
          -219150,
          -155676,
          -2907,
          125514,
          -157911,
          35155,
          2364,
          -375253,
          -57297,
          -26388,
          880,
          -1049,
          -95320,
          -143960,
          -70346,
          -732419,
          -606970,
          -206660,
          -929454,
          -342177,
          -1037200,
          -1020047,
          -312905,
          -50905,
          -247017,
          -198935,
          -151372,
          -227263,
          -655085,
          81248,
          -251642,
          -589794,
          -978969,
          -73806,
          -348916,
          -1353478,
          -979179
         ],
         "yaxis": "y"
        },
        {
         "hovertemplate": "Country=Pakistan<br>Year=%{x}<br>Net Migration=%{y}<extra></extra>",
         "legendgroup": "Pakistan",
         "line": {
          "color": "#ab63fa",
          "dash": "solid"
         },
         "marker": {
          "symbol": "circle"
         },
         "mode": "lines",
         "name": "Pakistan",
         "orientation": "v",
         "showlegend": true,
         "type": "scatter",
         "x": [
          1963,
          1964,
          1965,
          1966,
          1967,
          1968,
          1969,
          1970,
          1971,
          1972,
          1973,
          1974,
          1975,
          1976,
          1977,
          1978,
          1979,
          1980,
          1981,
          1982,
          1983,
          1984,
          1985,
          1986,
          1987,
          1988,
          1989,
          1990,
          1991,
          1992,
          1993,
          1994,
          1995,
          1996,
          1997,
          1998,
          1999,
          2000,
          2001,
          2002,
          2003,
          2004,
          2005,
          2006,
          2007,
          2008,
          2009,
          2010,
          2011,
          2012,
          2013,
          2014,
          2015,
          2016,
          2017,
          2018,
          2019,
          2020,
          2021,
          2022,
          2023
         ],
         "xaxis": "x",
         "y": [
          -64552,
          -63298,
          -62070,
          -61025,
          -59932,
          -58721,
          -57406,
          -58281,
          -68357,
          -69209,
          -58012,
          -34785,
          -1710,
          48238,
          85250,
          111386,
          450003,
          1078229,
          555032,
          294252,
          -4753,
          -319242,
          68860,
          111045,
          146364,
          38139,
          -17164,
          275242,
          -19668,
          -718387,
          -139493,
          -277100,
          11534,
          -60855,
          -55539,
          -112191,
          -134510,
          252869,
          -54727,
          -653758,
          -219118,
          -64669,
          -189899,
          -183933,
          576349,
          -140746,
          -18298,
          -431902,
          -890633,
          -1647989,
          -1906319,
          -2037920,
          -2172162,
          -2290411,
          -1574585,
          -1309611,
          -1177220,
          -559291,
          -565673,
          -1322625,
          -1619557
         ],
         "yaxis": "y"
        },
        {
         "hovertemplate": "Country=Sri Lanka<br>Year=%{x}<br>Net Migration=%{y}<extra></extra>",
         "legendgroup": "Sri Lanka",
         "line": {
          "color": "#FFA15A",
          "dash": "solid"
         },
         "marker": {
          "symbol": "circle"
         },
         "mode": "lines",
         "name": "Sri Lanka",
         "orientation": "v",
         "showlegend": true,
         "type": "scatter",
         "x": [
          1963,
          1964,
          1965,
          1966,
          1967,
          1968,
          1969,
          1970,
          1971,
          1972,
          1973,
          1974,
          1975,
          1976,
          1977,
          1978,
          1979,
          1980,
          1981,
          1982,
          1983,
          1984,
          1985,
          1986,
          1987,
          1988,
          1989,
          1990,
          1991,
          1992,
          1993,
          1994,
          1995,
          1996,
          1997,
          1998,
          1999,
          2000,
          2001,
          2002,
          2003,
          2004,
          2005,
          2006,
          2007,
          2008,
          2009,
          2010,
          2011,
          2012,
          2013,
          2014,
          2015,
          2016,
          2017,
          2018,
          2019,
          2020,
          2021,
          2022,
          2023
         ],
         "xaxis": "x",
         "y": [
          -8118,
          -7614,
          -7249,
          -6794,
          -6696,
          -7163,
          -10152,
          -16299,
          -22021,
          -27071,
          -30582,
          -33979,
          -37475,
          -41258,
          -45383,
          -50189,
          -57683,
          -63541,
          -89824,
          -163987,
          -209362,
          -225450,
          -80950,
          -26460,
          -63105,
          -58415,
          -33305,
          -195736,
          -1047,
          88542,
          36232,
          8323,
          117416,
          127236,
          135636,
          150724,
          138799,
          123894,
          19273,
          -105718,
          -107573,
          -84795,
          -118594,
          -107045,
          -109695,
          -97144,
          -81130,
          -98060,
          -90839,
          -41955,
          -37754,
          -33672,
          -29797,
          -18388,
          -22324,
          -28607,
          -28426,
          -29875,
          -29586,
          -27435,
          -28011
         ],
         "yaxis": "y"
        }
       ],
       "layout": {
        "legend": {
         "title": {
          "text": "Country"
         },
         "tracegroupgap": 0
        },
        "template": {
         "data": {
          "bar": [
           {
            "error_x": {
             "color": "#2a3f5f"
            },
            "error_y": {
             "color": "#2a3f5f"
            },
            "marker": {
             "line": {
              "color": "#E5ECF6",
              "width": 0.5
             },
             "pattern": {
              "fillmode": "overlay",
              "size": 10,
              "solidity": 0.2
             }
            },
            "type": "bar"
           }
          ],
          "barpolar": [
           {
            "marker": {
             "line": {
              "color": "#E5ECF6",
              "width": 0.5
             },
             "pattern": {
              "fillmode": "overlay",
              "size": 10,
              "solidity": 0.2
             }
            },
            "type": "barpolar"
           }
          ],
          "carpet": [
           {
            "aaxis": {
             "endlinecolor": "#2a3f5f",
             "gridcolor": "white",
             "linecolor": "white",
             "minorgridcolor": "white",
             "startlinecolor": "#2a3f5f"
            },
            "baxis": {
             "endlinecolor": "#2a3f5f",
             "gridcolor": "white",
             "linecolor": "white",
             "minorgridcolor": "white",
             "startlinecolor": "#2a3f5f"
            },
            "type": "carpet"
           }
          ],
          "choropleth": [
           {
            "colorbar": {
             "outlinewidth": 0,
             "ticks": ""
            },
            "type": "choropleth"
           }
          ],
          "contour": [
           {
            "colorbar": {
             "outlinewidth": 0,
             "ticks": ""
            },
            "colorscale": [
             [
              0,
              "#0d0887"
             ],
             [
              0.1111111111111111,
              "#46039f"
             ],
             [
              0.2222222222222222,
              "#7201a8"
             ],
             [
              0.3333333333333333,
              "#9c179e"
             ],
             [
              0.4444444444444444,
              "#bd3786"
             ],
             [
              0.5555555555555556,
              "#d8576b"
             ],
             [
              0.6666666666666666,
              "#ed7953"
             ],
             [
              0.7777777777777778,
              "#fb9f3a"
             ],
             [
              0.8888888888888888,
              "#fdca26"
             ],
             [
              1,
              "#f0f921"
             ]
            ],
            "type": "contour"
           }
          ],
          "contourcarpet": [
           {
            "colorbar": {
             "outlinewidth": 0,
             "ticks": ""
            },
            "type": "contourcarpet"
           }
          ],
          "heatmap": [
           {
            "colorbar": {
             "outlinewidth": 0,
             "ticks": ""
            },
            "colorscale": [
             [
              0,
              "#0d0887"
             ],
             [
              0.1111111111111111,
              "#46039f"
             ],
             [
              0.2222222222222222,
              "#7201a8"
             ],
             [
              0.3333333333333333,
              "#9c179e"
             ],
             [
              0.4444444444444444,
              "#bd3786"
             ],
             [
              0.5555555555555556,
              "#d8576b"
             ],
             [
              0.6666666666666666,
              "#ed7953"
             ],
             [
              0.7777777777777778,
              "#fb9f3a"
             ],
             [
              0.8888888888888888,
              "#fdca26"
             ],
             [
              1,
              "#f0f921"
             ]
            ],
            "type": "heatmap"
           }
          ],
          "heatmapgl": [
           {
            "colorbar": {
             "outlinewidth": 0,
             "ticks": ""
            },
            "colorscale": [
             [
              0,
              "#0d0887"
             ],
             [
              0.1111111111111111,
              "#46039f"
             ],
             [
              0.2222222222222222,
              "#7201a8"
             ],
             [
              0.3333333333333333,
              "#9c179e"
             ],
             [
              0.4444444444444444,
              "#bd3786"
             ],
             [
              0.5555555555555556,
              "#d8576b"
             ],
             [
              0.6666666666666666,
              "#ed7953"
             ],
             [
              0.7777777777777778,
              "#fb9f3a"
             ],
             [
              0.8888888888888888,
              "#fdca26"
             ],
             [
              1,
              "#f0f921"
             ]
            ],
            "type": "heatmapgl"
           }
          ],
          "histogram": [
           {
            "marker": {
             "pattern": {
              "fillmode": "overlay",
              "size": 10,
              "solidity": 0.2
             }
            },
            "type": "histogram"
           }
          ],
          "histogram2d": [
           {
            "colorbar": {
             "outlinewidth": 0,
             "ticks": ""
            },
            "colorscale": [
             [
              0,
              "#0d0887"
             ],
             [
              0.1111111111111111,
              "#46039f"
             ],
             [
              0.2222222222222222,
              "#7201a8"
             ],
             [
              0.3333333333333333,
              "#9c179e"
             ],
             [
              0.4444444444444444,
              "#bd3786"
             ],
             [
              0.5555555555555556,
              "#d8576b"
             ],
             [
              0.6666666666666666,
              "#ed7953"
             ],
             [
              0.7777777777777778,
              "#fb9f3a"
             ],
             [
              0.8888888888888888,
              "#fdca26"
             ],
             [
              1,
              "#f0f921"
             ]
            ],
            "type": "histogram2d"
           }
          ],
          "histogram2dcontour": [
           {
            "colorbar": {
             "outlinewidth": 0,
             "ticks": ""
            },
            "colorscale": [
             [
              0,
              "#0d0887"
             ],
             [
              0.1111111111111111,
              "#46039f"
             ],
             [
              0.2222222222222222,
              "#7201a8"
             ],
             [
              0.3333333333333333,
              "#9c179e"
             ],
             [
              0.4444444444444444,
              "#bd3786"
             ],
             [
              0.5555555555555556,
              "#d8576b"
             ],
             [
              0.6666666666666666,
              "#ed7953"
             ],
             [
              0.7777777777777778,
              "#fb9f3a"
             ],
             [
              0.8888888888888888,
              "#fdca26"
             ],
             [
              1,
              "#f0f921"
             ]
            ],
            "type": "histogram2dcontour"
           }
          ],
          "mesh3d": [
           {
            "colorbar": {
             "outlinewidth": 0,
             "ticks": ""
            },
            "type": "mesh3d"
           }
          ],
          "parcoords": [
           {
            "line": {
             "colorbar": {
              "outlinewidth": 0,
              "ticks": ""
             }
            },
            "type": "parcoords"
           }
          ],
          "pie": [
           {
            "automargin": true,
            "type": "pie"
           }
          ],
          "scatter": [
           {
            "fillpattern": {
             "fillmode": "overlay",
             "size": 10,
             "solidity": 0.2
            },
            "type": "scatter"
           }
          ],
          "scatter3d": [
           {
            "line": {
             "colorbar": {
              "outlinewidth": 0,
              "ticks": ""
             }
            },
            "marker": {
             "colorbar": {
              "outlinewidth": 0,
              "ticks": ""
             }
            },
            "type": "scatter3d"
           }
          ],
          "scattercarpet": [
           {
            "marker": {
             "colorbar": {
              "outlinewidth": 0,
              "ticks": ""
             }
            },
            "type": "scattercarpet"
           }
          ],
          "scattergeo": [
           {
            "marker": {
             "colorbar": {
              "outlinewidth": 0,
              "ticks": ""
             }
            },
            "type": "scattergeo"
           }
          ],
          "scattergl": [
           {
            "marker": {
             "colorbar": {
              "outlinewidth": 0,
              "ticks": ""
             }
            },
            "type": "scattergl"
           }
          ],
          "scattermapbox": [
           {
            "marker": {
             "colorbar": {
              "outlinewidth": 0,
              "ticks": ""
             }
            },
            "type": "scattermapbox"
           }
          ],
          "scatterpolar": [
           {
            "marker": {
             "colorbar": {
              "outlinewidth": 0,
              "ticks": ""
             }
            },
            "type": "scatterpolar"
           }
          ],
          "scatterpolargl": [
           {
            "marker": {
             "colorbar": {
              "outlinewidth": 0,
              "ticks": ""
             }
            },
            "type": "scatterpolargl"
           }
          ],
          "scatterternary": [
           {
            "marker": {
             "colorbar": {
              "outlinewidth": 0,
              "ticks": ""
             }
            },
            "type": "scatterternary"
           }
          ],
          "surface": [
           {
            "colorbar": {
             "outlinewidth": 0,
             "ticks": ""
            },
            "colorscale": [
             [
              0,
              "#0d0887"
             ],
             [
              0.1111111111111111,
              "#46039f"
             ],
             [
              0.2222222222222222,
              "#7201a8"
             ],
             [
              0.3333333333333333,
              "#9c179e"
             ],
             [
              0.4444444444444444,
              "#bd3786"
             ],
             [
              0.5555555555555556,
              "#d8576b"
             ],
             [
              0.6666666666666666,
              "#ed7953"
             ],
             [
              0.7777777777777778,
              "#fb9f3a"
             ],
             [
              0.8888888888888888,
              "#fdca26"
             ],
             [
              1,
              "#f0f921"
             ]
            ],
            "type": "surface"
           }
          ],
          "table": [
           {
            "cells": {
             "fill": {
              "color": "#EBF0F8"
             },
             "line": {
              "color": "white"
             }
            },
            "header": {
             "fill": {
              "color": "#C8D4E3"
             },
             "line": {
              "color": "white"
             }
            },
            "type": "table"
           }
          ]
         },
         "layout": {
          "annotationdefaults": {
           "arrowcolor": "#2a3f5f",
           "arrowhead": 0,
           "arrowwidth": 1
          },
          "autotypenumbers": "strict",
          "coloraxis": {
           "colorbar": {
            "outlinewidth": 0,
            "ticks": ""
           }
          },
          "colorscale": {
           "diverging": [
            [
             0,
             "#8e0152"
            ],
            [
             0.1,
             "#c51b7d"
            ],
            [
             0.2,
             "#de77ae"
            ],
            [
             0.3,
             "#f1b6da"
            ],
            [
             0.4,
             "#fde0ef"
            ],
            [
             0.5,
             "#f7f7f7"
            ],
            [
             0.6,
             "#e6f5d0"
            ],
            [
             0.7,
             "#b8e186"
            ],
            [
             0.8,
             "#7fbc41"
            ],
            [
             0.9,
             "#4d9221"
            ],
            [
             1,
             "#276419"
            ]
           ],
           "sequential": [
            [
             0,
             "#0d0887"
            ],
            [
             0.1111111111111111,
             "#46039f"
            ],
            [
             0.2222222222222222,
             "#7201a8"
            ],
            [
             0.3333333333333333,
             "#9c179e"
            ],
            [
             0.4444444444444444,
             "#bd3786"
            ],
            [
             0.5555555555555556,
             "#d8576b"
            ],
            [
             0.6666666666666666,
             "#ed7953"
            ],
            [
             0.7777777777777778,
             "#fb9f3a"
            ],
            [
             0.8888888888888888,
             "#fdca26"
            ],
            [
             1,
             "#f0f921"
            ]
           ],
           "sequentialminus": [
            [
             0,
             "#0d0887"
            ],
            [
             0.1111111111111111,
             "#46039f"
            ],
            [
             0.2222222222222222,
             "#7201a8"
            ],
            [
             0.3333333333333333,
             "#9c179e"
            ],
            [
             0.4444444444444444,
             "#bd3786"
            ],
            [
             0.5555555555555556,
             "#d8576b"
            ],
            [
             0.6666666666666666,
             "#ed7953"
            ],
            [
             0.7777777777777778,
             "#fb9f3a"
            ],
            [
             0.8888888888888888,
             "#fdca26"
            ],
            [
             1,
             "#f0f921"
            ]
           ]
          },
          "colorway": [
           "#636efa",
           "#EF553B",
           "#00cc96",
           "#ab63fa",
           "#FFA15A",
           "#19d3f3",
           "#FF6692",
           "#B6E880",
           "#FF97FF",
           "#FECB52"
          ],
          "font": {
           "color": "#2a3f5f"
          },
          "geo": {
           "bgcolor": "white",
           "lakecolor": "white",
           "landcolor": "#E5ECF6",
           "showlakes": true,
           "showland": true,
           "subunitcolor": "white"
          },
          "hoverlabel": {
           "align": "left"
          },
          "hovermode": "closest",
          "mapbox": {
           "style": "light"
          },
          "paper_bgcolor": "white",
          "plot_bgcolor": "#E5ECF6",
          "polar": {
           "angularaxis": {
            "gridcolor": "white",
            "linecolor": "white",
            "ticks": ""
           },
           "bgcolor": "#E5ECF6",
           "radialaxis": {
            "gridcolor": "white",
            "linecolor": "white",
            "ticks": ""
           }
          },
          "scene": {
           "xaxis": {
            "backgroundcolor": "#E5ECF6",
            "gridcolor": "white",
            "gridwidth": 2,
            "linecolor": "white",
            "showbackground": true,
            "ticks": "",
            "zerolinecolor": "white"
           },
           "yaxis": {
            "backgroundcolor": "#E5ECF6",
            "gridcolor": "white",
            "gridwidth": 2,
            "linecolor": "white",
            "showbackground": true,
            "ticks": "",
            "zerolinecolor": "white"
           },
           "zaxis": {
            "backgroundcolor": "#E5ECF6",
            "gridcolor": "white",
            "gridwidth": 2,
            "linecolor": "white",
            "showbackground": true,
            "ticks": "",
            "zerolinecolor": "white"
           }
          },
          "shapedefaults": {
           "line": {
            "color": "#2a3f5f"
           }
          },
          "ternary": {
           "aaxis": {
            "gridcolor": "white",
            "linecolor": "white",
            "ticks": ""
           },
           "baxis": {
            "gridcolor": "white",
            "linecolor": "white",
            "ticks": ""
           },
           "bgcolor": "#E5ECF6",
           "caxis": {
            "gridcolor": "white",
            "linecolor": "white",
            "ticks": ""
           }
          },
          "title": {
           "x": 0.05
          },
          "xaxis": {
           "automargin": true,
           "gridcolor": "white",
           "linecolor": "white",
           "ticks": "",
           "title": {
            "standoff": 15
           },
           "zerolinecolor": "white",
           "zerolinewidth": 2
          },
          "yaxis": {
           "automargin": true,
           "gridcolor": "white",
           "linecolor": "white",
           "ticks": "",
           "title": {
            "standoff": 15
           },
           "zerolinecolor": "white",
           "zerolinewidth": 2
          }
         }
        },
        "title": {
         "text": "Net Migration Over Years by Country (Total)",
         "x": 0.5
        },
        "xaxis": {
         "anchor": "y",
         "domain": [
          0,
          1
         ],
         "title": {
          "text": "Year"
         }
        },
        "yaxis": {
         "anchor": "x",
         "domain": [
          0,
          1
         ],
         "title": {
          "text": "Net Migration"
         }
        }
       }
      }
     },
     "metadata": {},
     "output_type": "display_data"
    }
   ],
   "source": [
    "# Group by Country and Year, then sum net migration\n",
    "net_mig_by_country = df.groupby(['Country', 'Year'], as_index=False)['net_migration'].sum()\n",
    "\n",
    "# Sort values by Year for correct plotting\n",
    "net_mig_by_country = net_mig_by_country.sort_values(by=['Country', 'Year'])\n",
    "\n",
    "# Plot line chart\n",
    "import plotly.express as px\n",
    "\n",
    "fig = px.line(\n",
    "    net_mig_by_country,\n",
    "    x='Year',\n",
    "    y='net_migration',\n",
    "    color='Country',\n",
    "    title='Net Migration Over Years by Country (Total)',\n",
    "    labels={'net_migration': 'Net Migration', 'Year': 'Year'}\n",
    ")\n",
    "\n",
    "fig.update_layout(title_x=0.5, xaxis_title='Year', yaxis_title='Net Migration')\n",
    "fig.show()\n"
   ]
  },
  {
   "cell_type": "code",
   "execution_count": 42,
   "id": "05bde3d3",
   "metadata": {},
   "outputs": [
    {
     "data": {
      "application/vnd.plotly.v1+json": {
       "config": {
        "plotlyServerURL": "https://plot.ly"
       },
       "data": [
        {
         "alignmentgroup": "True",
         "hovertemplate": "Country=Afghanistan<br>Year=%{x}<br>Net Migration=%{y}<extra></extra>",
         "legendgroup": "Afghanistan",
         "marker": {
          "color": "#636efa",
          "pattern": {
           "shape": ""
          }
         },
         "name": "Afghanistan",
         "offsetgroup": "Afghanistan",
         "orientation": "v",
         "showlegend": true,
         "textposition": "auto",
         "type": "bar",
         "x": [
          1963,
          1964,
          1965,
          1966,
          1967,
          1968,
          1969,
          1970,
          1971,
          1972,
          1973,
          1974,
          1975,
          1976,
          1977,
          1978,
          1979,
          1980,
          1981,
          1982,
          1983,
          1984,
          1985,
          1986,
          1987,
          1988,
          1989,
          1990,
          1991,
          1992,
          1993,
          1994,
          1995,
          1996,
          1997,
          1998,
          1999,
          2000,
          2001,
          2002,
          2003,
          2004,
          2005,
          2006,
          2007,
          2008,
          2009,
          2010,
          2011,
          2012,
          2013,
          2014,
          2015,
          2016,
          2017,
          2018,
          2019,
          2020,
          2021,
          2022,
          2023
         ],
         "xaxis": "x",
         "y": [
          6681,
          7079,
          10695,
          3563,
          6824,
          3333,
          2029,
          4458,
          -12801,
          -4050,
          -3030,
          -20009,
          -44418,
          -85430,
          -83115,
          -117186,
          -525413,
          -1174239,
          -1998086,
          -500998,
          -172797,
          248224,
          -208685,
          -343397,
          -345535,
          -56263,
          18296,
          -458737,
          32782,
          1197329,
          1149684,
          315206,
          52505,
          4072,
          -21215,
          7380,
          -32400,
          -1025973,
          -212872,
          860349,
          247317,
          -269194,
          250971,
          57673,
          -851298,
          215753,
          -60602,
          -167460,
          384486,
          68628,
          18119,
          233913,
          -286314,
          -143049,
          -71491,
          -36753,
          9159,
          143634,
          -548784,
          -647402,
          -48958
         ],
         "yaxis": "y"
        },
        {
         "alignmentgroup": "True",
         "hovertemplate": "Country=Bangladesh<br>Year=%{x}<br>Net Migration=%{y}<extra></extra>",
         "legendgroup": "Bangladesh",
         "marker": {
          "color": "#EF553B",
          "pattern": {
           "shape": ""
          }
         },
         "name": "Bangladesh",
         "offsetgroup": "Bangladesh",
         "orientation": "v",
         "showlegend": true,
         "textposition": "auto",
         "type": "bar",
         "x": [
          1963,
          1964,
          1965,
          1966,
          1967,
          1968,
          1969,
          1970,
          1971,
          1972,
          1973,
          1974,
          1975,
          1976,
          1977,
          1978,
          1979,
          1980,
          1981,
          1982,
          1983,
          1984,
          1985,
          1986,
          1987,
          1988,
          1989,
          1990,
          1991,
          1992,
          1993,
          1994,
          1995,
          1996,
          1997,
          1998,
          1999,
          2000,
          2001,
          2002,
          2003,
          2004,
          2005,
          2006,
          2007,
          2008,
          2009,
          2010,
          2011,
          2012,
          2013,
          2014,
          2015,
          2016,
          2017,
          2018,
          2019,
          2020,
          2021,
          2022,
          2023
         ],
         "xaxis": "x",
         "y": [
          23215,
          25426,
          47610,
          3758,
          23164,
          -7970,
          -125010,
          -73719,
          224369,
          -269033,
          -77324,
          -277545,
          -390212,
          -424970,
          -458491,
          -486721,
          -507354,
          -515918,
          -184884,
          -156729,
          -201909,
          -245693,
          -287872,
          -331992,
          -367475,
          -395408,
          -406910,
          -404105,
          -230852,
          -246914,
          -271677,
          -206958,
          -231304,
          -254239,
          -273442,
          -286966,
          -286256,
          -512422,
          -737740,
          -819909,
          -896335,
          -970264,
          -1036635,
          -1091865,
          -1133553,
          -1158420,
          -1150194,
          -1113727,
          -848910,
          -829875,
          -862944,
          -889222,
          -909223,
          -918770,
          -1037176,
          -1029069,
          -1016796,
          -1002522,
          -994722,
          -549990,
          -549918
         ],
         "yaxis": "y"
        },
        {
         "alignmentgroup": "True",
         "hovertemplate": "Country=India<br>Year=%{x}<br>Net Migration=%{y}<extra></extra>",
         "legendgroup": "India",
         "marker": {
          "color": "#00cc96",
          "pattern": {
           "shape": ""
          }
         },
         "name": "India",
         "offsetgroup": "India",
         "orientation": "v",
         "showlegend": true,
         "textposition": "auto",
         "type": "bar",
         "x": [
          1963,
          1964,
          1965,
          1966,
          1967,
          1968,
          1969,
          1970,
          1971,
          1972,
          1973,
          1974,
          1975,
          1976,
          1977,
          1978,
          1979,
          1980,
          1981,
          1982,
          1983,
          1984,
          1985,
          1986,
          1987,
          1988,
          1989,
          1990,
          1991,
          1992,
          1993,
          1994,
          1995,
          1996,
          1997,
          1998,
          1999,
          2000,
          2001,
          2002,
          2003,
          2004,
          2005,
          2006,
          2007,
          2008,
          2009,
          2010,
          2011,
          2012,
          2013,
          2014,
          2015,
          2016,
          2017,
          2018,
          2019,
          2020,
          2021,
          2022,
          2023
         ],
         "xaxis": "x",
         "y": [
          21640,
          -141916,
          -248299,
          -566982,
          -70314,
          -995416,
          -851844,
          233782,
          -974574,
          -82816,
          -404743,
          347869,
          434205,
          275984,
          590626,
          -210444,
          774094,
          210914,
          33243,
          -10687,
          119694,
          -32313,
          -89991,
          -249545,
          -219150,
          -155676,
          -2907,
          125514,
          -157911,
          35155,
          2364,
          -375253,
          -57297,
          -26388,
          880,
          -1049,
          -95320,
          -143960,
          -70346,
          -732419,
          -606970,
          -206660,
          -929454,
          -342177,
          -1037200,
          -1020047,
          -312905,
          -50905,
          -247017,
          -198935,
          -151372,
          -227263,
          -655085,
          81248,
          -251642,
          -589794,
          -978969,
          -73806,
          -348916,
          -1353478,
          -979179
         ],
         "yaxis": "y"
        },
        {
         "alignmentgroup": "True",
         "hovertemplate": "Country=Pakistan<br>Year=%{x}<br>Net Migration=%{y}<extra></extra>",
         "legendgroup": "Pakistan",
         "marker": {
          "color": "#ab63fa",
          "pattern": {
           "shape": ""
          }
         },
         "name": "Pakistan",
         "offsetgroup": "Pakistan",
         "orientation": "v",
         "showlegend": true,
         "textposition": "auto",
         "type": "bar",
         "x": [
          1963,
          1964,
          1965,
          1966,
          1967,
          1968,
          1969,
          1970,
          1971,
          1972,
          1973,
          1974,
          1975,
          1976,
          1977,
          1978,
          1979,
          1980,
          1981,
          1982,
          1983,
          1984,
          1985,
          1986,
          1987,
          1988,
          1989,
          1990,
          1991,
          1992,
          1993,
          1994,
          1995,
          1996,
          1997,
          1998,
          1999,
          2000,
          2001,
          2002,
          2003,
          2004,
          2005,
          2006,
          2007,
          2008,
          2009,
          2010,
          2011,
          2012,
          2013,
          2014,
          2015,
          2016,
          2017,
          2018,
          2019,
          2020,
          2021,
          2022,
          2023
         ],
         "xaxis": "x",
         "y": [
          -64552,
          -63298,
          -62070,
          -61025,
          -59932,
          -58721,
          -57406,
          -58281,
          -68357,
          -69209,
          -58012,
          -34785,
          -1710,
          48238,
          85250,
          111386,
          450003,
          1078229,
          555032,
          294252,
          -4753,
          -319242,
          68860,
          111045,
          146364,
          38139,
          -17164,
          275242,
          -19668,
          -718387,
          -139493,
          -277100,
          11534,
          -60855,
          -55539,
          -112191,
          -134510,
          252869,
          -54727,
          -653758,
          -219118,
          -64669,
          -189899,
          -183933,
          576349,
          -140746,
          -18298,
          -431902,
          -890633,
          -1647989,
          -1906319,
          -2037920,
          -2172162,
          -2290411,
          -1574585,
          -1309611,
          -1177220,
          -559291,
          -565673,
          -1322625,
          -1619557
         ],
         "yaxis": "y"
        },
        {
         "alignmentgroup": "True",
         "hovertemplate": "Country=Sri Lanka<br>Year=%{x}<br>Net Migration=%{y}<extra></extra>",
         "legendgroup": "Sri Lanka",
         "marker": {
          "color": "#FFA15A",
          "pattern": {
           "shape": ""
          }
         },
         "name": "Sri Lanka",
         "offsetgroup": "Sri Lanka",
         "orientation": "v",
         "showlegend": true,
         "textposition": "auto",
         "type": "bar",
         "x": [
          1963,
          1964,
          1965,
          1966,
          1967,
          1968,
          1969,
          1970,
          1971,
          1972,
          1973,
          1974,
          1975,
          1976,
          1977,
          1978,
          1979,
          1980,
          1981,
          1982,
          1983,
          1984,
          1985,
          1986,
          1987,
          1988,
          1989,
          1990,
          1991,
          1992,
          1993,
          1994,
          1995,
          1996,
          1997,
          1998,
          1999,
          2000,
          2001,
          2002,
          2003,
          2004,
          2005,
          2006,
          2007,
          2008,
          2009,
          2010,
          2011,
          2012,
          2013,
          2014,
          2015,
          2016,
          2017,
          2018,
          2019,
          2020,
          2021,
          2022,
          2023
         ],
         "xaxis": "x",
         "y": [
          -8118,
          -7614,
          -7249,
          -6794,
          -6696,
          -7163,
          -10152,
          -16299,
          -22021,
          -27071,
          -30582,
          -33979,
          -37475,
          -41258,
          -45383,
          -50189,
          -57683,
          -63541,
          -89824,
          -163987,
          -209362,
          -225450,
          -80950,
          -26460,
          -63105,
          -58415,
          -33305,
          -195736,
          -1047,
          88542,
          36232,
          8323,
          117416,
          127236,
          135636,
          150724,
          138799,
          123894,
          19273,
          -105718,
          -107573,
          -84795,
          -118594,
          -107045,
          -109695,
          -97144,
          -81130,
          -98060,
          -90839,
          -41955,
          -37754,
          -33672,
          -29797,
          -18388,
          -22324,
          -28607,
          -28426,
          -29875,
          -29586,
          -27435,
          -28011
         ],
         "yaxis": "y"
        }
       ],
       "layout": {
        "barmode": "group",
        "legend": {
         "title": {
          "text": "Country"
         },
         "tracegroupgap": 0
        },
        "template": {
         "data": {
          "bar": [
           {
            "error_x": {
             "color": "#2a3f5f"
            },
            "error_y": {
             "color": "#2a3f5f"
            },
            "marker": {
             "line": {
              "color": "#E5ECF6",
              "width": 0.5
             },
             "pattern": {
              "fillmode": "overlay",
              "size": 10,
              "solidity": 0.2
             }
            },
            "type": "bar"
           }
          ],
          "barpolar": [
           {
            "marker": {
             "line": {
              "color": "#E5ECF6",
              "width": 0.5
             },
             "pattern": {
              "fillmode": "overlay",
              "size": 10,
              "solidity": 0.2
             }
            },
            "type": "barpolar"
           }
          ],
          "carpet": [
           {
            "aaxis": {
             "endlinecolor": "#2a3f5f",
             "gridcolor": "white",
             "linecolor": "white",
             "minorgridcolor": "white",
             "startlinecolor": "#2a3f5f"
            },
            "baxis": {
             "endlinecolor": "#2a3f5f",
             "gridcolor": "white",
             "linecolor": "white",
             "minorgridcolor": "white",
             "startlinecolor": "#2a3f5f"
            },
            "type": "carpet"
           }
          ],
          "choropleth": [
           {
            "colorbar": {
             "outlinewidth": 0,
             "ticks": ""
            },
            "type": "choropleth"
           }
          ],
          "contour": [
           {
            "colorbar": {
             "outlinewidth": 0,
             "ticks": ""
            },
            "colorscale": [
             [
              0,
              "#0d0887"
             ],
             [
              0.1111111111111111,
              "#46039f"
             ],
             [
              0.2222222222222222,
              "#7201a8"
             ],
             [
              0.3333333333333333,
              "#9c179e"
             ],
             [
              0.4444444444444444,
              "#bd3786"
             ],
             [
              0.5555555555555556,
              "#d8576b"
             ],
             [
              0.6666666666666666,
              "#ed7953"
             ],
             [
              0.7777777777777778,
              "#fb9f3a"
             ],
             [
              0.8888888888888888,
              "#fdca26"
             ],
             [
              1,
              "#f0f921"
             ]
            ],
            "type": "contour"
           }
          ],
          "contourcarpet": [
           {
            "colorbar": {
             "outlinewidth": 0,
             "ticks": ""
            },
            "type": "contourcarpet"
           }
          ],
          "heatmap": [
           {
            "colorbar": {
             "outlinewidth": 0,
             "ticks": ""
            },
            "colorscale": [
             [
              0,
              "#0d0887"
             ],
             [
              0.1111111111111111,
              "#46039f"
             ],
             [
              0.2222222222222222,
              "#7201a8"
             ],
             [
              0.3333333333333333,
              "#9c179e"
             ],
             [
              0.4444444444444444,
              "#bd3786"
             ],
             [
              0.5555555555555556,
              "#d8576b"
             ],
             [
              0.6666666666666666,
              "#ed7953"
             ],
             [
              0.7777777777777778,
              "#fb9f3a"
             ],
             [
              0.8888888888888888,
              "#fdca26"
             ],
             [
              1,
              "#f0f921"
             ]
            ],
            "type": "heatmap"
           }
          ],
          "heatmapgl": [
           {
            "colorbar": {
             "outlinewidth": 0,
             "ticks": ""
            },
            "colorscale": [
             [
              0,
              "#0d0887"
             ],
             [
              0.1111111111111111,
              "#46039f"
             ],
             [
              0.2222222222222222,
              "#7201a8"
             ],
             [
              0.3333333333333333,
              "#9c179e"
             ],
             [
              0.4444444444444444,
              "#bd3786"
             ],
             [
              0.5555555555555556,
              "#d8576b"
             ],
             [
              0.6666666666666666,
              "#ed7953"
             ],
             [
              0.7777777777777778,
              "#fb9f3a"
             ],
             [
              0.8888888888888888,
              "#fdca26"
             ],
             [
              1,
              "#f0f921"
             ]
            ],
            "type": "heatmapgl"
           }
          ],
          "histogram": [
           {
            "marker": {
             "pattern": {
              "fillmode": "overlay",
              "size": 10,
              "solidity": 0.2
             }
            },
            "type": "histogram"
           }
          ],
          "histogram2d": [
           {
            "colorbar": {
             "outlinewidth": 0,
             "ticks": ""
            },
            "colorscale": [
             [
              0,
              "#0d0887"
             ],
             [
              0.1111111111111111,
              "#46039f"
             ],
             [
              0.2222222222222222,
              "#7201a8"
             ],
             [
              0.3333333333333333,
              "#9c179e"
             ],
             [
              0.4444444444444444,
              "#bd3786"
             ],
             [
              0.5555555555555556,
              "#d8576b"
             ],
             [
              0.6666666666666666,
              "#ed7953"
             ],
             [
              0.7777777777777778,
              "#fb9f3a"
             ],
             [
              0.8888888888888888,
              "#fdca26"
             ],
             [
              1,
              "#f0f921"
             ]
            ],
            "type": "histogram2d"
           }
          ],
          "histogram2dcontour": [
           {
            "colorbar": {
             "outlinewidth": 0,
             "ticks": ""
            },
            "colorscale": [
             [
              0,
              "#0d0887"
             ],
             [
              0.1111111111111111,
              "#46039f"
             ],
             [
              0.2222222222222222,
              "#7201a8"
             ],
             [
              0.3333333333333333,
              "#9c179e"
             ],
             [
              0.4444444444444444,
              "#bd3786"
             ],
             [
              0.5555555555555556,
              "#d8576b"
             ],
             [
              0.6666666666666666,
              "#ed7953"
             ],
             [
              0.7777777777777778,
              "#fb9f3a"
             ],
             [
              0.8888888888888888,
              "#fdca26"
             ],
             [
              1,
              "#f0f921"
             ]
            ],
            "type": "histogram2dcontour"
           }
          ],
          "mesh3d": [
           {
            "colorbar": {
             "outlinewidth": 0,
             "ticks": ""
            },
            "type": "mesh3d"
           }
          ],
          "parcoords": [
           {
            "line": {
             "colorbar": {
              "outlinewidth": 0,
              "ticks": ""
             }
            },
            "type": "parcoords"
           }
          ],
          "pie": [
           {
            "automargin": true,
            "type": "pie"
           }
          ],
          "scatter": [
           {
            "fillpattern": {
             "fillmode": "overlay",
             "size": 10,
             "solidity": 0.2
            },
            "type": "scatter"
           }
          ],
          "scatter3d": [
           {
            "line": {
             "colorbar": {
              "outlinewidth": 0,
              "ticks": ""
             }
            },
            "marker": {
             "colorbar": {
              "outlinewidth": 0,
              "ticks": ""
             }
            },
            "type": "scatter3d"
           }
          ],
          "scattercarpet": [
           {
            "marker": {
             "colorbar": {
              "outlinewidth": 0,
              "ticks": ""
             }
            },
            "type": "scattercarpet"
           }
          ],
          "scattergeo": [
           {
            "marker": {
             "colorbar": {
              "outlinewidth": 0,
              "ticks": ""
             }
            },
            "type": "scattergeo"
           }
          ],
          "scattergl": [
           {
            "marker": {
             "colorbar": {
              "outlinewidth": 0,
              "ticks": ""
             }
            },
            "type": "scattergl"
           }
          ],
          "scattermapbox": [
           {
            "marker": {
             "colorbar": {
              "outlinewidth": 0,
              "ticks": ""
             }
            },
            "type": "scattermapbox"
           }
          ],
          "scatterpolar": [
           {
            "marker": {
             "colorbar": {
              "outlinewidth": 0,
              "ticks": ""
             }
            },
            "type": "scatterpolar"
           }
          ],
          "scatterpolargl": [
           {
            "marker": {
             "colorbar": {
              "outlinewidth": 0,
              "ticks": ""
             }
            },
            "type": "scatterpolargl"
           }
          ],
          "scatterternary": [
           {
            "marker": {
             "colorbar": {
              "outlinewidth": 0,
              "ticks": ""
             }
            },
            "type": "scatterternary"
           }
          ],
          "surface": [
           {
            "colorbar": {
             "outlinewidth": 0,
             "ticks": ""
            },
            "colorscale": [
             [
              0,
              "#0d0887"
             ],
             [
              0.1111111111111111,
              "#46039f"
             ],
             [
              0.2222222222222222,
              "#7201a8"
             ],
             [
              0.3333333333333333,
              "#9c179e"
             ],
             [
              0.4444444444444444,
              "#bd3786"
             ],
             [
              0.5555555555555556,
              "#d8576b"
             ],
             [
              0.6666666666666666,
              "#ed7953"
             ],
             [
              0.7777777777777778,
              "#fb9f3a"
             ],
             [
              0.8888888888888888,
              "#fdca26"
             ],
             [
              1,
              "#f0f921"
             ]
            ],
            "type": "surface"
           }
          ],
          "table": [
           {
            "cells": {
             "fill": {
              "color": "#EBF0F8"
             },
             "line": {
              "color": "white"
             }
            },
            "header": {
             "fill": {
              "color": "#C8D4E3"
             },
             "line": {
              "color": "white"
             }
            },
            "type": "table"
           }
          ]
         },
         "layout": {
          "annotationdefaults": {
           "arrowcolor": "#2a3f5f",
           "arrowhead": 0,
           "arrowwidth": 1
          },
          "autotypenumbers": "strict",
          "coloraxis": {
           "colorbar": {
            "outlinewidth": 0,
            "ticks": ""
           }
          },
          "colorscale": {
           "diverging": [
            [
             0,
             "#8e0152"
            ],
            [
             0.1,
             "#c51b7d"
            ],
            [
             0.2,
             "#de77ae"
            ],
            [
             0.3,
             "#f1b6da"
            ],
            [
             0.4,
             "#fde0ef"
            ],
            [
             0.5,
             "#f7f7f7"
            ],
            [
             0.6,
             "#e6f5d0"
            ],
            [
             0.7,
             "#b8e186"
            ],
            [
             0.8,
             "#7fbc41"
            ],
            [
             0.9,
             "#4d9221"
            ],
            [
             1,
             "#276419"
            ]
           ],
           "sequential": [
            [
             0,
             "#0d0887"
            ],
            [
             0.1111111111111111,
             "#46039f"
            ],
            [
             0.2222222222222222,
             "#7201a8"
            ],
            [
             0.3333333333333333,
             "#9c179e"
            ],
            [
             0.4444444444444444,
             "#bd3786"
            ],
            [
             0.5555555555555556,
             "#d8576b"
            ],
            [
             0.6666666666666666,
             "#ed7953"
            ],
            [
             0.7777777777777778,
             "#fb9f3a"
            ],
            [
             0.8888888888888888,
             "#fdca26"
            ],
            [
             1,
             "#f0f921"
            ]
           ],
           "sequentialminus": [
            [
             0,
             "#0d0887"
            ],
            [
             0.1111111111111111,
             "#46039f"
            ],
            [
             0.2222222222222222,
             "#7201a8"
            ],
            [
             0.3333333333333333,
             "#9c179e"
            ],
            [
             0.4444444444444444,
             "#bd3786"
            ],
            [
             0.5555555555555556,
             "#d8576b"
            ],
            [
             0.6666666666666666,
             "#ed7953"
            ],
            [
             0.7777777777777778,
             "#fb9f3a"
            ],
            [
             0.8888888888888888,
             "#fdca26"
            ],
            [
             1,
             "#f0f921"
            ]
           ]
          },
          "colorway": [
           "#636efa",
           "#EF553B",
           "#00cc96",
           "#ab63fa",
           "#FFA15A",
           "#19d3f3",
           "#FF6692",
           "#B6E880",
           "#FF97FF",
           "#FECB52"
          ],
          "font": {
           "color": "#2a3f5f"
          },
          "geo": {
           "bgcolor": "white",
           "lakecolor": "white",
           "landcolor": "#E5ECF6",
           "showlakes": true,
           "showland": true,
           "subunitcolor": "white"
          },
          "hoverlabel": {
           "align": "left"
          },
          "hovermode": "closest",
          "mapbox": {
           "style": "light"
          },
          "paper_bgcolor": "white",
          "plot_bgcolor": "#E5ECF6",
          "polar": {
           "angularaxis": {
            "gridcolor": "white",
            "linecolor": "white",
            "ticks": ""
           },
           "bgcolor": "#E5ECF6",
           "radialaxis": {
            "gridcolor": "white",
            "linecolor": "white",
            "ticks": ""
           }
          },
          "scene": {
           "xaxis": {
            "backgroundcolor": "#E5ECF6",
            "gridcolor": "white",
            "gridwidth": 2,
            "linecolor": "white",
            "showbackground": true,
            "ticks": "",
            "zerolinecolor": "white"
           },
           "yaxis": {
            "backgroundcolor": "#E5ECF6",
            "gridcolor": "white",
            "gridwidth": 2,
            "linecolor": "white",
            "showbackground": true,
            "ticks": "",
            "zerolinecolor": "white"
           },
           "zaxis": {
            "backgroundcolor": "#E5ECF6",
            "gridcolor": "white",
            "gridwidth": 2,
            "linecolor": "white",
            "showbackground": true,
            "ticks": "",
            "zerolinecolor": "white"
           }
          },
          "shapedefaults": {
           "line": {
            "color": "#2a3f5f"
           }
          },
          "ternary": {
           "aaxis": {
            "gridcolor": "white",
            "linecolor": "white",
            "ticks": ""
           },
           "baxis": {
            "gridcolor": "white",
            "linecolor": "white",
            "ticks": ""
           },
           "bgcolor": "#E5ECF6",
           "caxis": {
            "gridcolor": "white",
            "linecolor": "white",
            "ticks": ""
           }
          },
          "title": {
           "x": 0.05
          },
          "xaxis": {
           "automargin": true,
           "gridcolor": "white",
           "linecolor": "white",
           "ticks": "",
           "title": {
            "standoff": 15
           },
           "zerolinecolor": "white",
           "zerolinewidth": 2
          },
          "yaxis": {
           "automargin": true,
           "gridcolor": "white",
           "linecolor": "white",
           "ticks": "",
           "title": {
            "standoff": 15
           },
           "zerolinecolor": "white",
           "zerolinewidth": 2
          }
         }
        },
        "title": {
         "text": "Net Migration Over Years by Country (Bar Plot)",
         "x": 0.5
        },
        "xaxis": {
         "anchor": "y",
         "domain": [
          0,
          1
         ],
         "title": {
          "text": "Year"
         }
        },
        "yaxis": {
         "anchor": "x",
         "domain": [
          0,
          1
         ],
         "title": {
          "text": "Net Migration"
         }
        }
       }
      }
     },
     "metadata": {},
     "output_type": "display_data"
    }
   ],
   "source": [
    "import plotly.express as px\n",
    "\n",
    "fig = px.bar(\n",
    "    net_mig_by_country,\n",
    "    x='Year',\n",
    "    y='net_migration',\n",
    "    color='Country',\n",
    "    barmode='group',\n",
    "    title='Net Migration Over Years by Country (Bar Plot)',\n",
    "    labels={'net_migration': 'Net Migration', 'Year': 'Year'}\n",
    ")\n",
    "\n",
    "fig.update_layout(title_x=0.5, xaxis_title='Year', yaxis_title='Net Migration')\n",
    "fig.show()\n"
   ]
  }
 ],
 "metadata": {
  "kernelspec": {
   "display_name": "Python 3",
   "language": "python",
   "name": "python3"
  },
  "language_info": {
   "codemirror_mode": {
    "name": "ipython",
    "version": 3
   },
   "file_extension": ".py",
   "mimetype": "text/x-python",
   "name": "python",
   "nbconvert_exporter": "python",
   "pygments_lexer": "ipython3",
   "version": "3.13.3"
  }
 },
 "nbformat": 4,
 "nbformat_minor": 5
}
